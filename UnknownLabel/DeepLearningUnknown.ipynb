{
 "cells": [
  {
   "cell_type": "code",
   "execution_count": 1,
   "metadata": {
    "id": "BCd1SMmmZWX0"
   },
   "outputs": [],
   "source": [
    "import numpy as np\n",
    "import tensorflow as tf\n",
    "from tensorflow.keras.models import Sequential, load_model\n",
    "from tensorflow.keras.layers import Dense,Dropout,LSTM,Embedding,SimpleRNN, GRU,Activation,Flatten\n",
    "from tensorflow.keras.layers import Conv1D,MaxPool1D, Flatten\n",
    "from tensorflow.keras.utils import plot_model\n",
    "from tensorflow.keras.preprocessing import sequence\n",
    "from sklearn.metrics import (precision_score, recall_score,confusion_matrix,f1_score, accuracy_score,mean_squared_error,mean_absolute_error)\n",
    "import pandas as pd\n",
    "from tensorflow.keras import callbacks\n",
    "from tensorflow.keras.callbacks import ModelCheckpoint, EarlyStopping, ReduceLROnPlateau, CSVLogger\n",
    "import matplotlib.pyplot as plt"
   ]
  },
  {
   "cell_type": "code",
   "execution_count": 2,
   "metadata": {},
   "outputs": [
    {
     "data": {
      "text/plain": [
       "[PhysicalDevice(name='/physical_device:GPU:0', device_type='GPU')]"
      ]
     },
     "execution_count": 2,
     "metadata": {},
     "output_type": "execute_result"
    }
   ],
   "source": [
    "import tensorflow as tf\n",
    "tf.config.list_physical_devices('GPU')"
   ]
  },
  {
   "cell_type": "code",
   "execution_count": 3,
   "metadata": {
    "colab": {
     "base_uri": "https://localhost:8080/"
    },
    "id": "wKzNjRzMZeuB",
    "outputId": "4a974ee9-a307-462b-a9e9-8c2a3d9d55a5"
   },
   "outputs": [
    {
     "name": "stdout",
     "output_type": "stream",
     "text": [
      "keras: 2.6.0\n"
     ]
    }
   ],
   "source": [
    "import tensorflow.keras\n",
    "print('keras: %s' % tensorflow.keras.__version__)"
   ]
  },
  {
   "cell_type": "code",
   "execution_count": 4,
   "metadata": {
    "colab": {
     "base_uri": "https://localhost:8080/"
    },
    "id": "R_dbGuebZf4l",
    "outputId": "92f09acb-c062-4fea-8b7f-065a16400987"
   },
   "outputs": [],
   "source": [
    "#from google.colab import drive\n",
    "#drive.mount('/content/drive')"
   ]
  },
  {
   "cell_type": "code",
   "execution_count": 5,
   "metadata": {
    "id": "zXAuaqopaEBg"
   },
   "outputs": [],
   "source": [
    "import pandas as pd\n",
    "df = pd.read_csv(r'C:\\Users\\Admin\\Downloads\\unknown_labelled_data.csv')"
   ]
  },
  {
   "cell_type": "code",
   "execution_count": 6,
   "metadata": {
    "colab": {
     "base_uri": "https://localhost:8080/",
     "height": 334
    },
    "id": "0P5Ksz4PaL9r",
    "outputId": "6e9d0b1a-e8b4-4e4c-b616-d82fc19a69c0"
   },
   "outputs": [
    {
     "data": {
      "text/html": [
       "<div>\n",
       "<style scoped>\n",
       "    .dataframe tbody tr th:only-of-type {\n",
       "        vertical-align: middle;\n",
       "    }\n",
       "\n",
       "    .dataframe tbody tr th {\n",
       "        vertical-align: top;\n",
       "    }\n",
       "\n",
       "    .dataframe thead th {\n",
       "        text-align: right;\n",
       "    }\n",
       "</style>\n",
       "<table border=\"1\" class=\"dataframe\">\n",
       "  <thead>\n",
       "    <tr style=\"text-align: right;\">\n",
       "      <th></th>\n",
       "      <th>Unnamed: 0</th>\n",
       "      <th>Flow ID</th>\n",
       "      <th>Source IP</th>\n",
       "      <th>Source Port</th>\n",
       "      <th>Destination IP</th>\n",
       "      <th>Destination Port</th>\n",
       "      <th>Protocol</th>\n",
       "      <th>Timestamp</th>\n",
       "      <th>Flow Duration</th>\n",
       "      <th>Total Fwd Packets</th>\n",
       "      <th>...</th>\n",
       "      <th>Active Min</th>\n",
       "      <th>Idle Mean</th>\n",
       "      <th>Idle Std</th>\n",
       "      <th>Idle Max</th>\n",
       "      <th>Idle Min</th>\n",
       "      <th>Label_BENIGN</th>\n",
       "      <th>Label_DDoS</th>\n",
       "      <th>Label_DoS Hulk</th>\n",
       "      <th>Label_PortScan</th>\n",
       "      <th>Label_Unknown</th>\n",
       "    </tr>\n",
       "  </thead>\n",
       "  <tbody>\n",
       "    <tr>\n",
       "      <th>0</th>\n",
       "      <td>0</td>\n",
       "      <td>-0.646799</td>\n",
       "      <td>0.324411</td>\n",
       "      <td>-1.948333</td>\n",
       "      <td>0.204423</td>\n",
       "      <td>2.428566</td>\n",
       "      <td>-0.662668</td>\n",
       "      <td>2.051947</td>\n",
       "      <td>-0.472445</td>\n",
       "      <td>-0.008076</td>\n",
       "      <td>...</td>\n",
       "      <td>-0.106173</td>\n",
       "      <td>-0.39466</td>\n",
       "      <td>-0.121018</td>\n",
       "      <td>-0.40072</td>\n",
       "      <td>-0.38032</td>\n",
       "      <td>1</td>\n",
       "      <td>0</td>\n",
       "      <td>0</td>\n",
       "      <td>0</td>\n",
       "      <td>0</td>\n",
       "    </tr>\n",
       "    <tr>\n",
       "      <th>1</th>\n",
       "      <td>1</td>\n",
       "      <td>1.783219</td>\n",
       "      <td>0.430907</td>\n",
       "      <td>0.508829</td>\n",
       "      <td>0.114303</td>\n",
       "      <td>-0.421518</td>\n",
       "      <td>1.505849</td>\n",
       "      <td>-0.394452</td>\n",
       "      <td>-0.469837</td>\n",
       "      <td>-0.009562</td>\n",
       "      <td>...</td>\n",
       "      <td>-0.106173</td>\n",
       "      <td>-0.39466</td>\n",
       "      <td>-0.121018</td>\n",
       "      <td>-0.40072</td>\n",
       "      <td>-0.38032</td>\n",
       "      <td>1</td>\n",
       "      <td>0</td>\n",
       "      <td>0</td>\n",
       "      <td>0</td>\n",
       "      <td>0</td>\n",
       "    </tr>\n",
       "    <tr>\n",
       "      <th>2</th>\n",
       "      <td>2</td>\n",
       "      <td>-0.302869</td>\n",
       "      <td>-0.414284</td>\n",
       "      <td>0.159378</td>\n",
       "      <td>-0.558287</td>\n",
       "      <td>-0.421518</td>\n",
       "      <td>1.505849</td>\n",
       "      <td>-0.416902</td>\n",
       "      <td>-0.472439</td>\n",
       "      <td>-0.009562</td>\n",
       "      <td>...</td>\n",
       "      <td>-0.106173</td>\n",
       "      <td>-0.39466</td>\n",
       "      <td>-0.121018</td>\n",
       "      <td>-0.40072</td>\n",
       "      <td>-0.38032</td>\n",
       "      <td>1</td>\n",
       "      <td>0</td>\n",
       "      <td>0</td>\n",
       "      <td>0</td>\n",
       "      <td>0</td>\n",
       "    </tr>\n",
       "    <tr>\n",
       "      <th>3</th>\n",
       "      <td>3</td>\n",
       "      <td>-0.126277</td>\n",
       "      <td>-1.034865</td>\n",
       "      <td>0.769223</td>\n",
       "      <td>-1.040696</td>\n",
       "      <td>-0.421518</td>\n",
       "      <td>1.505849</td>\n",
       "      <td>-0.407956</td>\n",
       "      <td>-0.470938</td>\n",
       "      <td>-0.006590</td>\n",
       "      <td>...</td>\n",
       "      <td>-0.106173</td>\n",
       "      <td>-0.39466</td>\n",
       "      <td>-0.121018</td>\n",
       "      <td>-0.40072</td>\n",
       "      <td>-0.38032</td>\n",
       "      <td>1</td>\n",
       "      <td>0</td>\n",
       "      <td>0</td>\n",
       "      <td>0</td>\n",
       "      <td>0</td>\n",
       "    </tr>\n",
       "    <tr>\n",
       "      <th>4</th>\n",
       "      <td>4</td>\n",
       "      <td>-0.708056</td>\n",
       "      <td>0.979845</td>\n",
       "      <td>-1.948333</td>\n",
       "      <td>-0.560275</td>\n",
       "      <td>2.462290</td>\n",
       "      <td>-0.662668</td>\n",
       "      <td>-0.401372</td>\n",
       "      <td>-0.472445</td>\n",
       "      <td>-0.011049</td>\n",
       "      <td>...</td>\n",
       "      <td>-0.106173</td>\n",
       "      <td>-0.39466</td>\n",
       "      <td>-0.121018</td>\n",
       "      <td>-0.40072</td>\n",
       "      <td>-0.38032</td>\n",
       "      <td>1</td>\n",
       "      <td>0</td>\n",
       "      <td>0</td>\n",
       "      <td>0</td>\n",
       "      <td>0</td>\n",
       "    </tr>\n",
       "  </tbody>\n",
       "</table>\n",
       "<p>5 rows × 89 columns</p>\n",
       "</div>"
      ],
      "text/plain": [
       "   Unnamed: 0   Flow ID  Source IP  Source Port  Destination IP  \\\n",
       "0           0 -0.646799   0.324411    -1.948333        0.204423   \n",
       "1           1  1.783219   0.430907     0.508829        0.114303   \n",
       "2           2 -0.302869  -0.414284     0.159378       -0.558287   \n",
       "3           3 -0.126277  -1.034865     0.769223       -1.040696   \n",
       "4           4 -0.708056   0.979845    -1.948333       -0.560275   \n",
       "\n",
       "   Destination Port  Protocol  Timestamp  Flow Duration  Total Fwd Packets  \\\n",
       "0          2.428566 -0.662668   2.051947      -0.472445          -0.008076   \n",
       "1         -0.421518  1.505849  -0.394452      -0.469837          -0.009562   \n",
       "2         -0.421518  1.505849  -0.416902      -0.472439          -0.009562   \n",
       "3         -0.421518  1.505849  -0.407956      -0.470938          -0.006590   \n",
       "4          2.462290 -0.662668  -0.401372      -0.472445          -0.011049   \n",
       "\n",
       "   ...  Active Min  Idle Mean  Idle Std  Idle Max  Idle Min  Label_BENIGN  \\\n",
       "0  ...   -0.106173   -0.39466 -0.121018  -0.40072  -0.38032             1   \n",
       "1  ...   -0.106173   -0.39466 -0.121018  -0.40072  -0.38032             1   \n",
       "2  ...   -0.106173   -0.39466 -0.121018  -0.40072  -0.38032             1   \n",
       "3  ...   -0.106173   -0.39466 -0.121018  -0.40072  -0.38032             1   \n",
       "4  ...   -0.106173   -0.39466 -0.121018  -0.40072  -0.38032             1   \n",
       "\n",
       "   Label_DDoS  Label_DoS Hulk  Label_PortScan  Label_Unknown  \n",
       "0           0               0               0              0  \n",
       "1           0               0               0              0  \n",
       "2           0               0               0              0  \n",
       "3           0               0               0              0  \n",
       "4           0               0               0              0  \n",
       "\n",
       "[5 rows x 89 columns]"
      ]
     },
     "execution_count": 6,
     "metadata": {},
     "output_type": "execute_result"
    }
   ],
   "source": [
    "df.head()"
   ]
  },
  {
   "cell_type": "code",
   "execution_count": 7,
   "metadata": {
    "id": "UX0tE-02aqmy"
   },
   "outputs": [],
   "source": [
    "df = df.sample(frac = 1)"
   ]
  },
  {
   "cell_type": "code",
   "execution_count": 8,
   "metadata": {
    "id": "SgXtik43av9m"
   },
   "outputs": [],
   "source": [
    "df.drop(df.columns[0] , inplace=True , axis=1)"
   ]
  },
  {
   "cell_type": "code",
   "execution_count": 9,
   "metadata": {
    "colab": {
     "base_uri": "https://localhost:8080/"
    },
    "id": "_ppe4t9JarrS",
    "outputId": "d005e595-f296-4cd6-c576-555050c4e269"
   },
   "outputs": [
    {
     "data": {
      "text/plain": [
       "Index(['Flow ID', 'Source IP', 'Source Port', 'Destination IP',\n",
       "       'Destination Port', 'Protocol', 'Timestamp', 'Flow Duration',\n",
       "       'Total Fwd Packets', 'Total Backward Packets',\n",
       "       'Total Length of Fwd Packets', 'Total Length of Bwd Packets',\n",
       "       'Fwd Packet Length Max', 'Fwd Packet Length Min',\n",
       "       'Fwd Packet Length Mean', 'Fwd Packet Length Std',\n",
       "       'Bwd Packet Length Max', 'Bwd Packet Length Min',\n",
       "       'Bwd Packet Length Mean', 'Bwd Packet Length Std', 'Flow Bytes/s',\n",
       "       'Flow Packets/s', 'Flow IAT Mean', 'Flow IAT Std', 'Flow IAT Max',\n",
       "       'Flow IAT Min', 'Fwd IAT Total', 'Fwd IAT Mean', 'Fwd IAT Std',\n",
       "       'Fwd IAT Max', 'Fwd IAT Min', 'Bwd IAT Total', 'Bwd IAT Mean',\n",
       "       'Bwd IAT Std', 'Bwd IAT Max', 'Bwd IAT Min', 'Fwd PSH Flags',\n",
       "       'Bwd PSH Flags', 'Fwd URG Flags', 'Bwd URG Flags', 'Fwd Header Length',\n",
       "       'Bwd Header Length', 'Fwd Packets/s', 'Bwd Packets/s',\n",
       "       'Min Packet Length', 'Max Packet Length', 'Packet Length Mean',\n",
       "       'Packet Length Std', 'Packet Length Variance', 'FIN Flag Count',\n",
       "       'SYN Flag Count', 'RST Flag Count', 'PSH Flag Count', 'ACK Flag Count',\n",
       "       'URG Flag Count', 'CWE Flag Count', 'ECE Flag Count', 'Down/Up Ratio',\n",
       "       'Average Packet Size', 'Avg Fwd Segment Size', 'Avg Bwd Segment Size',\n",
       "       'Fwd Avg Bytes/Bulk', 'Fwd Avg Packets/Bulk', 'Fwd Avg Bulk Rate',\n",
       "       'Bwd Avg Bytes/Bulk', 'Bwd Avg Packets/Bulk', 'Bwd Avg Bulk Rate',\n",
       "       'Subflow Fwd Packets', 'Subflow Fwd Bytes', 'Subflow Bwd Packets',\n",
       "       'Subflow Bwd Bytes', 'Init_Win_bytes_forward',\n",
       "       'Init_Win_bytes_backward', 'act_data_pkt_fwd', 'min_seg_size_forward',\n",
       "       'Active Mean', 'Active Std', 'Active Max', 'Active Min', 'Idle Mean',\n",
       "       'Idle Std', 'Idle Max', 'Idle Min', 'Label_BENIGN', 'Label_DDoS',\n",
       "       'Label_DoS Hulk', 'Label_PortScan', 'Label_Unknown'],\n",
       "      dtype='object')"
      ]
     },
     "execution_count": 9,
     "metadata": {},
     "output_type": "execute_result"
    }
   ],
   "source": [
    "df.columns"
   ]
  },
  {
   "cell_type": "code",
   "execution_count": 10,
   "metadata": {
    "id": "COjW_bGca8lO"
   },
   "outputs": [],
   "source": [
    "LabelColumns = ['Label_BENIGN', 'Label_DDoS','Label_DoS Hulk', 'Label_PortScan', 'Label_Unknown']"
   ]
  },
  {
   "cell_type": "code",
   "execution_count": 11,
   "metadata": {
    "id": "q34qymS9bMPn"
   },
   "outputs": [],
   "source": [
    "y = df[LabelColumns]"
   ]
  },
  {
   "cell_type": "code",
   "execution_count": 12,
   "metadata": {
    "colab": {
     "base_uri": "https://localhost:8080/",
     "height": 424
    },
    "id": "oJyXhaJCbd2v",
    "outputId": "43d3acde-4c5c-4b39-f14b-c1b36b595eec"
   },
   "outputs": [
    {
     "data": {
      "text/html": [
       "<div>\n",
       "<style scoped>\n",
       "    .dataframe tbody tr th:only-of-type {\n",
       "        vertical-align: middle;\n",
       "    }\n",
       "\n",
       "    .dataframe tbody tr th {\n",
       "        vertical-align: top;\n",
       "    }\n",
       "\n",
       "    .dataframe thead th {\n",
       "        text-align: right;\n",
       "    }\n",
       "</style>\n",
       "<table border=\"1\" class=\"dataframe\">\n",
       "  <thead>\n",
       "    <tr style=\"text-align: right;\">\n",
       "      <th></th>\n",
       "      <th>Label_BENIGN</th>\n",
       "      <th>Label_DDoS</th>\n",
       "      <th>Label_DoS Hulk</th>\n",
       "      <th>Label_PortScan</th>\n",
       "      <th>Label_Unknown</th>\n",
       "    </tr>\n",
       "  </thead>\n",
       "  <tbody>\n",
       "    <tr>\n",
       "      <th>1076769</th>\n",
       "      <td>1</td>\n",
       "      <td>0</td>\n",
       "      <td>0</td>\n",
       "      <td>0</td>\n",
       "      <td>0</td>\n",
       "    </tr>\n",
       "    <tr>\n",
       "      <th>803175</th>\n",
       "      <td>1</td>\n",
       "      <td>0</td>\n",
       "      <td>0</td>\n",
       "      <td>0</td>\n",
       "      <td>0</td>\n",
       "    </tr>\n",
       "    <tr>\n",
       "      <th>1020932</th>\n",
       "      <td>1</td>\n",
       "      <td>0</td>\n",
       "      <td>0</td>\n",
       "      <td>0</td>\n",
       "      <td>0</td>\n",
       "    </tr>\n",
       "    <tr>\n",
       "      <th>1827201</th>\n",
       "      <td>0</td>\n",
       "      <td>0</td>\n",
       "      <td>0</td>\n",
       "      <td>1</td>\n",
       "      <td>0</td>\n",
       "    </tr>\n",
       "    <tr>\n",
       "      <th>249850</th>\n",
       "      <td>1</td>\n",
       "      <td>0</td>\n",
       "      <td>0</td>\n",
       "      <td>0</td>\n",
       "      <td>0</td>\n",
       "    </tr>\n",
       "    <tr>\n",
       "      <th>...</th>\n",
       "      <td>...</td>\n",
       "      <td>...</td>\n",
       "      <td>...</td>\n",
       "      <td>...</td>\n",
       "      <td>...</td>\n",
       "    </tr>\n",
       "    <tr>\n",
       "      <th>1523187</th>\n",
       "      <td>0</td>\n",
       "      <td>0</td>\n",
       "      <td>1</td>\n",
       "      <td>0</td>\n",
       "      <td>0</td>\n",
       "    </tr>\n",
       "    <tr>\n",
       "      <th>707436</th>\n",
       "      <td>1</td>\n",
       "      <td>0</td>\n",
       "      <td>0</td>\n",
       "      <td>0</td>\n",
       "      <td>0</td>\n",
       "    </tr>\n",
       "    <tr>\n",
       "      <th>939174</th>\n",
       "      <td>1</td>\n",
       "      <td>0</td>\n",
       "      <td>0</td>\n",
       "      <td>0</td>\n",
       "      <td>0</td>\n",
       "    </tr>\n",
       "    <tr>\n",
       "      <th>1044940</th>\n",
       "      <td>1</td>\n",
       "      <td>0</td>\n",
       "      <td>0</td>\n",
       "      <td>0</td>\n",
       "      <td>0</td>\n",
       "    </tr>\n",
       "    <tr>\n",
       "      <th>1485353</th>\n",
       "      <td>0</td>\n",
       "      <td>0</td>\n",
       "      <td>1</td>\n",
       "      <td>0</td>\n",
       "      <td>0</td>\n",
       "    </tr>\n",
       "  </tbody>\n",
       "</table>\n",
       "<p>1851553 rows × 5 columns</p>\n",
       "</div>"
      ],
      "text/plain": [
       "         Label_BENIGN  Label_DDoS  Label_DoS Hulk  Label_PortScan  \\\n",
       "1076769             1           0               0               0   \n",
       "803175              1           0               0               0   \n",
       "1020932             1           0               0               0   \n",
       "1827201             0           0               0               1   \n",
       "249850              1           0               0               0   \n",
       "...               ...         ...             ...             ...   \n",
       "1523187             0           0               1               0   \n",
       "707436              1           0               0               0   \n",
       "939174              1           0               0               0   \n",
       "1044940             1           0               0               0   \n",
       "1485353             0           0               1               0   \n",
       "\n",
       "         Label_Unknown  \n",
       "1076769              0  \n",
       "803175               0  \n",
       "1020932              0  \n",
       "1827201              0  \n",
       "249850               0  \n",
       "...                ...  \n",
       "1523187              0  \n",
       "707436               0  \n",
       "939174               0  \n",
       "1044940              0  \n",
       "1485353              0  \n",
       "\n",
       "[1851553 rows x 5 columns]"
      ]
     },
     "execution_count": 12,
     "metadata": {},
     "output_type": "execute_result"
    }
   ],
   "source": [
    "y"
   ]
  },
  {
   "cell_type": "code",
   "execution_count": 13,
   "metadata": {
    "id": "1FvfkUmTbdwy"
   },
   "outputs": [],
   "source": [
    "X = df.drop(LabelColumns , axis=1)"
   ]
  },
  {
   "cell_type": "code",
   "execution_count": 14,
   "metadata": {
    "colab": {
     "base_uri": "https://localhost:8080/",
     "height": 522
    },
    "id": "9SPn_JZ3bubn",
    "outputId": "4b97899e-d754-4e99-f3cb-9f30ed82fbf0"
   },
   "outputs": [
    {
     "data": {
      "text/html": [
       "<div>\n",
       "<style scoped>\n",
       "    .dataframe tbody tr th:only-of-type {\n",
       "        vertical-align: middle;\n",
       "    }\n",
       "\n",
       "    .dataframe tbody tr th {\n",
       "        vertical-align: top;\n",
       "    }\n",
       "\n",
       "    .dataframe thead th {\n",
       "        text-align: right;\n",
       "    }\n",
       "</style>\n",
       "<table border=\"1\" class=\"dataframe\">\n",
       "  <thead>\n",
       "    <tr style=\"text-align: right;\">\n",
       "      <th></th>\n",
       "      <th>Flow ID</th>\n",
       "      <th>Source IP</th>\n",
       "      <th>Source Port</th>\n",
       "      <th>Destination IP</th>\n",
       "      <th>Destination Port</th>\n",
       "      <th>Protocol</th>\n",
       "      <th>Timestamp</th>\n",
       "      <th>Flow Duration</th>\n",
       "      <th>Total Fwd Packets</th>\n",
       "      <th>Total Backward Packets</th>\n",
       "      <th>...</th>\n",
       "      <th>act_data_pkt_fwd</th>\n",
       "      <th>min_seg_size_forward</th>\n",
       "      <th>Active Mean</th>\n",
       "      <th>Active Std</th>\n",
       "      <th>Active Max</th>\n",
       "      <th>Active Min</th>\n",
       "      <th>Idle Mean</th>\n",
       "      <th>Idle Std</th>\n",
       "      <th>Idle Max</th>\n",
       "      <th>Idle Min</th>\n",
       "    </tr>\n",
       "  </thead>\n",
       "  <tbody>\n",
       "    <tr>\n",
       "      <th>1076769</th>\n",
       "      <td>0.473919</td>\n",
       "      <td>0.362169</td>\n",
       "      <td>0.922166</td>\n",
       "      <td>0.081170</td>\n",
       "      <td>-0.421518</td>\n",
       "      <td>1.505849</td>\n",
       "      <td>-0.343474</td>\n",
       "      <td>-0.471067</td>\n",
       "      <td>-0.009562</td>\n",
       "      <td>-0.007983</td>\n",
       "      <td>...</td>\n",
       "      <td>-0.006451</td>\n",
       "      <td>0.002729</td>\n",
       "      <td>-0.128601</td>\n",
       "      <td>-0.097503</td>\n",
       "      <td>-0.146881</td>\n",
       "      <td>-0.106173</td>\n",
       "      <td>-0.394660</td>\n",
       "      <td>-0.121018</td>\n",
       "      <td>-0.400720</td>\n",
       "      <td>-0.380320</td>\n",
       "    </tr>\n",
       "    <tr>\n",
       "      <th>803175</th>\n",
       "      <td>1.591614</td>\n",
       "      <td>0.371850</td>\n",
       "      <td>1.006471</td>\n",
       "      <td>0.081170</td>\n",
       "      <td>-0.421518</td>\n",
       "      <td>1.505849</td>\n",
       "      <td>-0.403229</td>\n",
       "      <td>-0.470716</td>\n",
       "      <td>-0.009562</td>\n",
       "      <td>-0.007983</td>\n",
       "      <td>...</td>\n",
       "      <td>-0.006451</td>\n",
       "      <td>0.002719</td>\n",
       "      <td>-0.128601</td>\n",
       "      <td>-0.097503</td>\n",
       "      <td>-0.146881</td>\n",
       "      <td>-0.106173</td>\n",
       "      <td>-0.394660</td>\n",
       "      <td>-0.121018</td>\n",
       "      <td>-0.400720</td>\n",
       "      <td>-0.380320</td>\n",
       "    </tr>\n",
       "    <tr>\n",
       "      <th>1020932</th>\n",
       "      <td>-0.981367</td>\n",
       "      <td>-0.411380</td>\n",
       "      <td>0.881331</td>\n",
       "      <td>-0.564251</td>\n",
       "      <td>-0.421518</td>\n",
       "      <td>1.505849</td>\n",
       "      <td>-0.415720</td>\n",
       "      <td>-0.471556</td>\n",
       "      <td>-0.011049</td>\n",
       "      <td>-0.009102</td>\n",
       "      <td>...</td>\n",
       "      <td>-0.008194</td>\n",
       "      <td>0.002729</td>\n",
       "      <td>-0.128601</td>\n",
       "      <td>-0.097503</td>\n",
       "      <td>-0.146881</td>\n",
       "      <td>-0.106173</td>\n",
       "      <td>-0.394660</td>\n",
       "      <td>-0.121018</td>\n",
       "      <td>-0.400720</td>\n",
       "      <td>-0.380320</td>\n",
       "    </tr>\n",
       "    <tr>\n",
       "      <th>1827201</th>\n",
       "      <td>-0.892391</td>\n",
       "      <td>-0.964191</td>\n",
       "      <td>-0.293948</td>\n",
       "      <td>-0.680214</td>\n",
       "      <td>2.385755</td>\n",
       "      <td>-0.662668</td>\n",
       "      <td>-0.397490</td>\n",
       "      <td>-0.472447</td>\n",
       "      <td>-0.011049</td>\n",
       "      <td>-0.009102</td>\n",
       "      <td>...</td>\n",
       "      <td>-0.008194</td>\n",
       "      <td>0.002722</td>\n",
       "      <td>-0.128601</td>\n",
       "      <td>-0.097503</td>\n",
       "      <td>-0.146881</td>\n",
       "      <td>-0.106173</td>\n",
       "      <td>-0.394660</td>\n",
       "      <td>-0.121018</td>\n",
       "      <td>-0.400720</td>\n",
       "      <td>-0.380320</td>\n",
       "    </tr>\n",
       "    <tr>\n",
       "      <th>249850</th>\n",
       "      <td>0.066274</td>\n",
       "      <td>-0.407507</td>\n",
       "      <td>0.940796</td>\n",
       "      <td>-0.558287</td>\n",
       "      <td>-0.421518</td>\n",
       "      <td>1.505849</td>\n",
       "      <td>-0.406099</td>\n",
       "      <td>-0.472443</td>\n",
       "      <td>-0.009562</td>\n",
       "      <td>-0.007983</td>\n",
       "      <td>...</td>\n",
       "      <td>-0.006451</td>\n",
       "      <td>0.002729</td>\n",
       "      <td>-0.128601</td>\n",
       "      <td>-0.097503</td>\n",
       "      <td>-0.146881</td>\n",
       "      <td>-0.106173</td>\n",
       "      <td>-0.394660</td>\n",
       "      <td>-0.121018</td>\n",
       "      <td>-0.400720</td>\n",
       "      <td>-0.380320</td>\n",
       "    </tr>\n",
       "    <tr>\n",
       "      <th>...</th>\n",
       "      <td>...</td>\n",
       "      <td>...</td>\n",
       "      <td>...</td>\n",
       "      <td>...</td>\n",
       "      <td>...</td>\n",
       "      <td>...</td>\n",
       "      <td>...</td>\n",
       "      <td>...</td>\n",
       "      <td>...</td>\n",
       "      <td>...</td>\n",
       "      <td>...</td>\n",
       "      <td>...</td>\n",
       "      <td>...</td>\n",
       "      <td>...</td>\n",
       "      <td>...</td>\n",
       "      <td>...</td>\n",
       "      <td>...</td>\n",
       "      <td>...</td>\n",
       "      <td>...</td>\n",
       "      <td>...</td>\n",
       "      <td>...</td>\n",
       "    </tr>\n",
       "    <tr>\n",
       "      <th>1523187</th>\n",
       "      <td>-0.856425</td>\n",
       "      <td>-0.216782</td>\n",
       "      <td>0.192263</td>\n",
       "      <td>0.115628</td>\n",
       "      <td>-0.419975</td>\n",
       "      <td>-0.662668</td>\n",
       "      <td>-0.413188</td>\n",
       "      <td>1.956520</td>\n",
       "      <td>0.000841</td>\n",
       "      <td>-0.003509</td>\n",
       "      <td>...</td>\n",
       "      <td>-0.006451</td>\n",
       "      <td>0.002729</td>\n",
       "      <td>-0.127109</td>\n",
       "      <td>-0.097503</td>\n",
       "      <td>-0.145913</td>\n",
       "      <td>-0.104499</td>\n",
       "      <td>2.705004</td>\n",
       "      <td>-0.121018</td>\n",
       "      <td>2.610676</td>\n",
       "      <td>2.749007</td>\n",
       "    </tr>\n",
       "    <tr>\n",
       "      <th>707436</th>\n",
       "      <td>1.584085</td>\n",
       "      <td>0.484155</td>\n",
       "      <td>1.049188</td>\n",
       "      <td>0.208399</td>\n",
       "      <td>-0.421518</td>\n",
       "      <td>1.505849</td>\n",
       "      <td>2.113390</td>\n",
       "      <td>-0.471462</td>\n",
       "      <td>-0.009562</td>\n",
       "      <td>-0.007983</td>\n",
       "      <td>...</td>\n",
       "      <td>-0.006451</td>\n",
       "      <td>0.002719</td>\n",
       "      <td>-0.128601</td>\n",
       "      <td>-0.097503</td>\n",
       "      <td>-0.146881</td>\n",
       "      <td>-0.106173</td>\n",
       "      <td>-0.394660</td>\n",
       "      <td>-0.121018</td>\n",
       "      <td>-0.400720</td>\n",
       "      <td>-0.380320</td>\n",
       "    </tr>\n",
       "    <tr>\n",
       "      <th>939174</th>\n",
       "      <td>-0.709232</td>\n",
       "      <td>-0.413316</td>\n",
       "      <td>-0.033648</td>\n",
       "      <td>0.378700</td>\n",
       "      <td>-0.399227</td>\n",
       "      <td>-0.662668</td>\n",
       "      <td>-0.384661</td>\n",
       "      <td>-0.310810</td>\n",
       "      <td>0.000841</td>\n",
       "      <td>-0.003509</td>\n",
       "      <td>...</td>\n",
       "      <td>-0.002965</td>\n",
       "      <td>0.002729</td>\n",
       "      <td>0.331674</td>\n",
       "      <td>-0.097503</td>\n",
       "      <td>0.151851</td>\n",
       "      <td>0.410265</td>\n",
       "      <td>-0.197144</td>\n",
       "      <td>-0.121018</td>\n",
       "      <td>-0.208829</td>\n",
       "      <td>-0.180915</td>\n",
       "    </tr>\n",
       "    <tr>\n",
       "      <th>1044940</th>\n",
       "      <td>1.590316</td>\n",
       "      <td>0.429939</td>\n",
       "      <td>0.480319</td>\n",
       "      <td>0.114303</td>\n",
       "      <td>-0.421518</td>\n",
       "      <td>1.505849</td>\n",
       "      <td>-0.339761</td>\n",
       "      <td>-0.472442</td>\n",
       "      <td>-0.009562</td>\n",
       "      <td>-0.007983</td>\n",
       "      <td>...</td>\n",
       "      <td>-0.006451</td>\n",
       "      <td>0.002729</td>\n",
       "      <td>-0.128601</td>\n",
       "      <td>-0.097503</td>\n",
       "      <td>-0.146881</td>\n",
       "      <td>-0.106173</td>\n",
       "      <td>-0.394660</td>\n",
       "      <td>-0.121018</td>\n",
       "      <td>-0.400720</td>\n",
       "      <td>-0.380320</td>\n",
       "    </tr>\n",
       "    <tr>\n",
       "      <th>1485353</th>\n",
       "      <td>-0.846727</td>\n",
       "      <td>-0.216782</td>\n",
       "      <td>0.252010</td>\n",
       "      <td>0.115628</td>\n",
       "      <td>-0.419975</td>\n",
       "      <td>-0.662668</td>\n",
       "      <td>-0.413695</td>\n",
       "      <td>2.379201</td>\n",
       "      <td>-0.000645</td>\n",
       "      <td>-0.003509</td>\n",
       "      <td>...</td>\n",
       "      <td>-0.006451</td>\n",
       "      <td>0.002729</td>\n",
       "      <td>-0.125574</td>\n",
       "      <td>-0.097503</td>\n",
       "      <td>-0.144917</td>\n",
       "      <td>-0.102776</td>\n",
       "      <td>3.277928</td>\n",
       "      <td>-0.121018</td>\n",
       "      <td>3.167285</td>\n",
       "      <td>3.327413</td>\n",
       "    </tr>\n",
       "  </tbody>\n",
       "</table>\n",
       "<p>1851553 rows × 83 columns</p>\n",
       "</div>"
      ],
      "text/plain": [
       "          Flow ID  Source IP  Source Port  Destination IP  Destination Port  \\\n",
       "1076769  0.473919   0.362169     0.922166        0.081170         -0.421518   \n",
       "803175   1.591614   0.371850     1.006471        0.081170         -0.421518   \n",
       "1020932 -0.981367  -0.411380     0.881331       -0.564251         -0.421518   \n",
       "1827201 -0.892391  -0.964191    -0.293948       -0.680214          2.385755   \n",
       "249850   0.066274  -0.407507     0.940796       -0.558287         -0.421518   \n",
       "...           ...        ...          ...             ...               ...   \n",
       "1523187 -0.856425  -0.216782     0.192263        0.115628         -0.419975   \n",
       "707436   1.584085   0.484155     1.049188        0.208399         -0.421518   \n",
       "939174  -0.709232  -0.413316    -0.033648        0.378700         -0.399227   \n",
       "1044940  1.590316   0.429939     0.480319        0.114303         -0.421518   \n",
       "1485353 -0.846727  -0.216782     0.252010        0.115628         -0.419975   \n",
       "\n",
       "         Protocol  Timestamp  Flow Duration  Total Fwd Packets  \\\n",
       "1076769  1.505849  -0.343474      -0.471067          -0.009562   \n",
       "803175   1.505849  -0.403229      -0.470716          -0.009562   \n",
       "1020932  1.505849  -0.415720      -0.471556          -0.011049   \n",
       "1827201 -0.662668  -0.397490      -0.472447          -0.011049   \n",
       "249850   1.505849  -0.406099      -0.472443          -0.009562   \n",
       "...           ...        ...            ...                ...   \n",
       "1523187 -0.662668  -0.413188       1.956520           0.000841   \n",
       "707436   1.505849   2.113390      -0.471462          -0.009562   \n",
       "939174  -0.662668  -0.384661      -0.310810           0.000841   \n",
       "1044940  1.505849  -0.339761      -0.472442          -0.009562   \n",
       "1485353 -0.662668  -0.413695       2.379201          -0.000645   \n",
       "\n",
       "         Total Backward Packets  ...  act_data_pkt_fwd  min_seg_size_forward  \\\n",
       "1076769               -0.007983  ...         -0.006451              0.002729   \n",
       "803175                -0.007983  ...         -0.006451              0.002719   \n",
       "1020932               -0.009102  ...         -0.008194              0.002729   \n",
       "1827201               -0.009102  ...         -0.008194              0.002722   \n",
       "249850                -0.007983  ...         -0.006451              0.002729   \n",
       "...                         ...  ...               ...                   ...   \n",
       "1523187               -0.003509  ...         -0.006451              0.002729   \n",
       "707436                -0.007983  ...         -0.006451              0.002719   \n",
       "939174                -0.003509  ...         -0.002965              0.002729   \n",
       "1044940               -0.007983  ...         -0.006451              0.002729   \n",
       "1485353               -0.003509  ...         -0.006451              0.002729   \n",
       "\n",
       "         Active Mean  Active Std  Active Max  Active Min  Idle Mean  Idle Std  \\\n",
       "1076769    -0.128601   -0.097503   -0.146881   -0.106173  -0.394660 -0.121018   \n",
       "803175     -0.128601   -0.097503   -0.146881   -0.106173  -0.394660 -0.121018   \n",
       "1020932    -0.128601   -0.097503   -0.146881   -0.106173  -0.394660 -0.121018   \n",
       "1827201    -0.128601   -0.097503   -0.146881   -0.106173  -0.394660 -0.121018   \n",
       "249850     -0.128601   -0.097503   -0.146881   -0.106173  -0.394660 -0.121018   \n",
       "...              ...         ...         ...         ...        ...       ...   \n",
       "1523187    -0.127109   -0.097503   -0.145913   -0.104499   2.705004 -0.121018   \n",
       "707436     -0.128601   -0.097503   -0.146881   -0.106173  -0.394660 -0.121018   \n",
       "939174      0.331674   -0.097503    0.151851    0.410265  -0.197144 -0.121018   \n",
       "1044940    -0.128601   -0.097503   -0.146881   -0.106173  -0.394660 -0.121018   \n",
       "1485353    -0.125574   -0.097503   -0.144917   -0.102776   3.277928 -0.121018   \n",
       "\n",
       "         Idle Max  Idle Min  \n",
       "1076769 -0.400720 -0.380320  \n",
       "803175  -0.400720 -0.380320  \n",
       "1020932 -0.400720 -0.380320  \n",
       "1827201 -0.400720 -0.380320  \n",
       "249850  -0.400720 -0.380320  \n",
       "...           ...       ...  \n",
       "1523187  2.610676  2.749007  \n",
       "707436  -0.400720 -0.380320  \n",
       "939174  -0.208829 -0.180915  \n",
       "1044940 -0.400720 -0.380320  \n",
       "1485353  3.167285  3.327413  \n",
       "\n",
       "[1851553 rows x 83 columns]"
      ]
     },
     "execution_count": 14,
     "metadata": {},
     "output_type": "execute_result"
    }
   ],
   "source": [
    "X"
   ]
  },
  {
   "cell_type": "code",
   "execution_count": 15,
   "metadata": {
    "id": "YKtJ7ppHaM0J"
   },
   "outputs": [],
   "source": [
    "from sklearn.model_selection import train_test_split\n",
    "X_train, X_test, y_train, y_test = train_test_split(X, y, test_size=0.33, random_state=42)"
   ]
  },
  {
   "cell_type": "markdown",
   "metadata": {
    "id": "VZtAWfhHxBhX"
   },
   "source": [
    "#  Convolutional Neural Networks"
   ]
  },
  {
   "cell_type": "code",
   "execution_count": 16,
   "metadata": {
    "colab": {
     "base_uri": "https://localhost:8080/"
    },
    "id": "iVOdH6XFxb3H",
    "outputId": "88bb6d5a-955a-447c-e53d-67b6e2ba7fce"
   },
   "outputs": [
    {
     "data": {
      "text/plain": [
       "((1240540, 83), (1240540, 5))"
      ]
     },
     "execution_count": 16,
     "metadata": {},
     "output_type": "execute_result"
    }
   ],
   "source": [
    "X_train.shape , y_train.shape"
   ]
  },
  {
   "cell_type": "code",
   "execution_count": 17,
   "metadata": {},
   "outputs": [
    {
     "data": {
      "text/plain": [
       "((1240540, 83), (1240540, 5), (611013, 83))"
      ]
     },
     "execution_count": 17,
     "metadata": {},
     "output_type": "execute_result"
    }
   ],
   "source": [
    "X_train.shape , y_train.shape , X_test.shape"
   ]
  },
  {
   "cell_type": "code",
   "execution_count": 18,
   "metadata": {},
   "outputs": [],
   "source": [
    "X_train = X_train.to_numpy().reshape(1240540, 83,1)\n",
    "X_test = X_test.to_numpy().reshape(611013, 83,1)\n"
   ]
  },
  {
   "cell_type": "code",
   "execution_count": 19,
   "metadata": {
    "id": "UrsWlrkhcBPO"
   },
   "outputs": [],
   "source": [
    "\n",
    "model_cnn = Sequential()\n",
    "model_cnn.add(Conv1D(64, 3, padding=\"same\",activation=\"relu\",input_shape=(83, 1)))\n",
    "model_cnn.add(Conv1D(64, 3, padding=\"same\", activation=\"relu\"))\n",
    "model_cnn.add(MaxPool1D(pool_size=(2)))\n",
    "model_cnn.add(Conv1D(128, 3, padding=\"same\", activation=\"relu\"))\n",
    "model_cnn.add(Conv1D(128, 3, padding=\"same\", activation=\"relu\"))\n",
    "model_cnn.add(MaxPool1D(pool_size=(2)))\n",
    "model_cnn.add(Flatten())\n",
    "model_cnn.add(Dense(128, activation=\"relu\"))\n",
    "model_cnn.add(Dropout(0.5))\n",
    "model_cnn.add(Dense(5, activation=\"sigmoid\"))"
   ]
  },
  {
   "cell_type": "code",
   "execution_count": 20,
   "metadata": {
    "colab": {
     "base_uri": "https://localhost:8080/",
     "height": 436
    },
    "id": "FfTNVl1wx7O-",
    "outputId": "60b51863-8f4f-4a24-d757-bafc7e157ec1"
   },
   "outputs": [
    {
     "name": "stdout",
     "output_type": "stream",
     "text": [
      "Epoch 1/1000\n",
      "38767/38767 [==============================] - 459s 11ms/step - loss: 0.0040 - accuracy: 0.9977 - val_loss: 0.0032 - val_accuracy: 0.9995\n",
      "Epoch 2/1000\n",
      "38767/38767 [==============================] - 260s 7ms/step - loss: 0.0018 - accuracy: 0.9993 - val_loss: 0.0147 - val_accuracy: 0.9996\n",
      "Epoch 3/1000\n",
      "38767/38767 [==============================] - 261s 7ms/step - loss: 0.0044 - accuracy: 0.9994 - val_loss: 9.1998e-04 - val_accuracy: 0.9997\n",
      "Epoch 4/1000\n",
      "38767/38767 [==============================] - 260s 7ms/step - loss: 0.0019 - accuracy: 0.9993 - val_loss: 0.0010 - val_accuracy: 0.9997\n",
      "Epoch 5/1000\n",
      "38767/38767 [==============================] - 297s 8ms/step - loss: 0.0025 - accuracy: 0.9993 - val_loss: 0.0020 - val_accuracy: 0.9996\n",
      "Epoch 6/1000\n",
      "38767/38767 [==============================] - 259s 7ms/step - loss: 0.0027 - accuracy: 0.9992 - val_loss: 0.0059 - val_accuracy: 0.9996\n",
      "Epoch 7/1000\n",
      "38767/38767 [==============================] - 260s 7ms/step - loss: 0.0217 - accuracy: 0.9992 - val_loss: 0.0024 - val_accuracy: 0.9993\n",
      "Epoch 8/1000\n",
      "38767/38767 [==============================] - 259s 7ms/step - loss: 0.0032 - accuracy: 0.9989 - val_loss: 0.0024 - val_accuracy: 0.9995\n"
     ]
    }
   ],
   "source": [
    "model_cnn.compile(loss=\"binary_crossentropy\", optimizer=\"adam\",metrics=['accuracy'])\n",
    "es = EarlyStopping(monitor='val_accuracy', mode='max', min_delta=0.0001,patience=5) ## early stoppoing\n",
    "\n",
    "#FIT AND SAVE MODEL FOR FUTURE\n",
    "model_cnn.fit(X_train, y_train, epochs=1000,validation_data=(X_test, y_test),callbacks=[es])\n",
    "model_cnn.save(\"/content/drive/MyDrive/unknown_labelled_cnn.hdf5\")"
   ]
  },
  {
   "cell_type": "code",
   "execution_count": 22,
   "metadata": {},
   "outputs": [],
   "source": [
    "model_cnn.save(\"unknown_labelled_cnn.hdf5\")"
   ]
  },
  {
   "cell_type": "markdown",
   "metadata": {
    "id": "wq3FT6UOykYn"
   },
   "source": [
    "# Accuracies Measure && Model Power"
   ]
  },
  {
   "cell_type": "code",
   "execution_count": 21,
   "metadata": {
    "id": "UBqb-A1iyE5Q"
   },
   "outputs": [
    {
     "ename": "AttributeError",
     "evalue": "'Sequential' object has no attribute 'predict_classes'",
     "output_type": "error",
     "traceback": [
      "\u001b[1;31m---------------------------------------------------------------------------\u001b[0m",
      "\u001b[1;31mAttributeError\u001b[0m                            Traceback (most recent call last)",
      "\u001b[1;32m<ipython-input-21-2ca7edbffed6>\u001b[0m in \u001b[0;36m<module>\u001b[1;34m\u001b[0m\n\u001b[1;32m----> 1\u001b[1;33m \u001b[0my_pred_cnn\u001b[0m \u001b[1;33m=\u001b[0m \u001b[0mmodel_cnn\u001b[0m\u001b[1;33m.\u001b[0m\u001b[0mpredict_classes\u001b[0m\u001b[1;33m(\u001b[0m\u001b[0mX_test\u001b[0m\u001b[1;33m)\u001b[0m\u001b[1;33m\u001b[0m\u001b[1;33m\u001b[0m\u001b[0m\n\u001b[0m\u001b[0;32m      2\u001b[0m \u001b[0my_probs_cnn\u001b[0m\u001b[1;33m=\u001b[0m\u001b[0mmodel_cnn\u001b[0m\u001b[1;33m.\u001b[0m\u001b[0mpredict_proba\u001b[0m\u001b[1;33m(\u001b[0m\u001b[0mX_test\u001b[0m\u001b[1;33m)\u001b[0m\u001b[1;33m\u001b[0m\u001b[1;33m\u001b[0m\u001b[0m\n\u001b[0;32m      3\u001b[0m \u001b[0mnp\u001b[0m\u001b[1;33m.\u001b[0m\u001b[0msavetxt\u001b[0m\u001b[1;33m(\u001b[0m\u001b[1;34m'cnn_predictions.txt'\u001b[0m\u001b[1;33m,\u001b[0m \u001b[0mnp\u001b[0m\u001b[1;33m.\u001b[0m\u001b[0mtranspose\u001b[0m\u001b[1;33m(\u001b[0m\u001b[0mnp\u001b[0m\u001b[1;33m.\u001b[0m\u001b[0mconcatenate\u001b[0m\u001b[1;33m(\u001b[0m\u001b[1;33m(\u001b[0m\u001b[0my_test\u001b[0m\u001b[1;33m.\u001b[0m\u001b[0mreshape\u001b[0m\u001b[1;33m(\u001b[0m\u001b[1;33m(\u001b[0m\u001b[0my_test\u001b[0m\u001b[1;33m.\u001b[0m\u001b[0msize\u001b[0m\u001b[1;33m,\u001b[0m \u001b[1;36m1\u001b[0m\u001b[1;33m)\u001b[0m\u001b[1;33m)\u001b[0m\u001b[1;33m,\u001b[0m\u001b[0my_pred_cnn\u001b[0m\u001b[1;33m)\u001b[0m\u001b[1;33m,\u001b[0m \u001b[0maxis\u001b[0m\u001b[1;33m=\u001b[0m\u001b[1;36m1\u001b[0m\u001b[1;33m)\u001b[0m\u001b[1;33m)\u001b[0m\u001b[1;33m,\u001b[0m \u001b[0mfmt\u001b[0m\u001b[1;33m=\u001b[0m\u001b[1;34m'%01d'\u001b[0m\u001b[1;33m)\u001b[0m\u001b[1;33m\u001b[0m\u001b[1;33m\u001b[0m\u001b[0m\n\u001b[0;32m      4\u001b[0m \u001b[0mnp\u001b[0m\u001b[1;33m.\u001b[0m\u001b[0msavetxt\u001b[0m\u001b[1;33m(\u001b[0m\u001b[1;34m'cnn_prob_predictions.txt'\u001b[0m\u001b[1;33m,\u001b[0m \u001b[0mnp\u001b[0m\u001b[1;33m.\u001b[0m\u001b[0maround\u001b[0m\u001b[1;33m(\u001b[0m\u001b[0mnp\u001b[0m\u001b[1;33m.\u001b[0m\u001b[0mtranspose\u001b[0m\u001b[1;33m(\u001b[0m\u001b[0my_probs_cnn\u001b[0m\u001b[1;33m)\u001b[0m\u001b[1;33m,\u001b[0m\u001b[0mdecimals\u001b[0m\u001b[1;33m=\u001b[0m\u001b[1;36m5\u001b[0m\u001b[1;33m)\u001b[0m\u001b[1;33m,\u001b[0m \u001b[0mfmt\u001b[0m\u001b[1;33m=\u001b[0m\u001b[1;34m'%.5f'\u001b[0m\u001b[1;33m)\u001b[0m\u001b[1;33m\u001b[0m\u001b[1;33m\u001b[0m\u001b[0m\n",
      "\u001b[1;31mAttributeError\u001b[0m: 'Sequential' object has no attribute 'predict_classes'"
     ]
    }
   ],
   "source": [
    "y_pred_cnn = model_cnn.predict_classes(X_test)\n",
    "y_probs_cnn=model_cnn.predict_proba(X_test)\n",
    "np.savetxt('cnn_predictions.txt', np.transpose(np.concatenate((y_test.reshape((y_test.size, 1)),y_pred_cnn), axis=1)), fmt='%01d')\n",
    "np.savetxt('cnn_prob_predictions.txt', np.around(np.transpose(y_probs_cnn),decimals=5), fmt='%.5f')\n"
   ]
  },
  {
   "cell_type": "code",
   "execution_count": null,
   "metadata": {
    "id": "3ogjmKxKyvWI"
   },
   "outputs": [],
   "source": [
    "accuracy = accuracy_score(y_test, y_pred_cnn)\n",
    "print(\"accuracy:\",accuracy)\n",
    "f1score=f1_score(y_test, y_pred_cnn)\n",
    "print(\"f1-acore:\",f1score)\n",
    "cm=confusion_matrix(y_test, y_pred_cnn)\n",
    "print(\"confusion matrix:\\n\",cm)\n",
    "pr=precision_score(y_test,y_pred_cnn)\n",
    "print(\"Precision:\",pr)\n",
    "rs=recall_score(y_test,y_pred_cnn)\n",
    "print(\"Recall_score:\",rs)"
   ]
  },
  {
   "cell_type": "code",
   "execution_count": null,
   "metadata": {
    "id": "NX9UWe2IywYi"
   },
   "outputs": [],
   "source": [
    "import matplotlib.pyplot as plt\n",
    "from sklearn.metrics import confusion_matrix, ConfusionMatrixDisplay\n",
    "cm = confusion_matrix(y_test, y_pred_cnn, labels=model_cnn.classes_)\n",
    "disp = ConfusionMatrixDisplay(confusion_matrix=cm,display_labels=model_cnn.classes_)\n",
    "plt.title(\"CNN-Confusion Matrix\")\n",
    "plt.show()"
   ]
  },
  {
   "cell_type": "markdown",
   "metadata": {
    "id": "ZlOidmMEy1ZY"
   },
   "source": [
    "## ROC Curves"
   ]
  },
  {
   "cell_type": "code",
   "execution_count": null,
   "metadata": {
    "id": "XzYMfA6jy12v"
   },
   "outputs": [],
   "source": [
    "from sklearn.metrics import roc_curve, auc,roc_auc_score\n",
    "plt.figure()\n",
    "fpr, tpr, thresholds =  roc_curve(y_test, y_probs_cnn)\n",
    "auc =  roc_auc_score(y_test,y_pred_cnn)\n",
    "plt.plot(fpr, tpr, label='%s ROC (area = %0.2f)' % ('CNN', auc))\n",
    "plt.plot([0, 1], [0, 1],'r--')\n",
    "plt.xlim([0.0, 1.0])\n",
    "plt.ylim([0.0, 1.05])\n",
    "plt.xlabel('1-Specificity(False Positive Rate)')\n",
    "plt.ylabel('Sensitivity(True Positive Rate)')\n",
    "plt.title('ROC -- Deep Learning Algorithms')\n",
    "plt.legend(loc=\"lower right\")\n",
    "plt.rcParams['figure.figsize']=(16,8)\n",
    "plt.show()   # Display\n"
   ]
  }
 ],
 "metadata": {
  "accelerator": "GPU",
  "colab": {
   "provenance": []
  },
  "gpuClass": "standard",
  "kernelspec": {
   "display_name": "Python 3",
   "language": "python",
   "name": "python3"
  },
  "language_info": {
   "codemirror_mode": {
    "name": "ipython",
    "version": 3
   },
   "file_extension": ".py",
   "mimetype": "text/x-python",
   "name": "python",
   "nbconvert_exporter": "python",
   "pygments_lexer": "ipython3",
   "version": "3.8.8"
  }
 },
 "nbformat": 4,
 "nbformat_minor": 1
}
