{
  "nbformat": 4,
  "nbformat_minor": 0,
  "metadata": {
    "colab": {
      "provenance": []
    },
    "kernelspec": {
      "name": "python3",
      "display_name": "Python 3"
    },
    "language_info": {
      "name": "python"
    }
  },
  "cells": [
    {
      "cell_type": "markdown",
      "source": [
        "[Research Paper](https://openaccess.thecvf.com/content/WACV2023/papers/Osada_Out-of-Distribution_Detection_With_Reconstruction_Error_and_Typicality-Based_Penalty_WACV_2023_paper.pdf)\n",
        "\n",
        "\n",
        "[Generalization of all](https://arxiv.org/pdf/2108.13624.pdf)"
      ],
      "metadata": {
        "id": "NCOXBrJrD2v2"
      }
    },
    {
      "cell_type": "code",
      "execution_count": null,
      "metadata": {
        "id": "GGSpWL39DztA"
      },
      "outputs": [],
      "source": []
    }
  ]
}