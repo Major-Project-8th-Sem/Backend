{
  "nbformat": 4,
  "nbformat_minor": 0,
  "metadata": {
    "colab": {
      "provenance": []
    },
    "kernelspec": {
      "name": "python3",
      "display_name": "Python 3"
    },
    "language_info": {
      "name": "python"
    }
  },
  "cells": [
    {
      "cell_type": "markdown",
      "source": [
        "#  **Predicting Out-of-Distribution Error with the Projection Norm**\n",
        "\n",
        "*Yaodong Yu, Zitong Yang, Alexander Wei, Yi Ma, Jacob Steinhardt*\n",
        "\n",
        "We propose a metric -- Projection Norm -- to predict a model's performance on out-of-distribution (OOD) data without access to ground truth labels. Projection Norm first uses model predictions to pseudo-label test samples and then trains a new model on the pseudo-labels. The more the new model's parameters differ from an in-distribution model, the greater the predicted OOD error. Empirically, our approach outperforms existing methods on both image and text classification tasks and across different network architectures. Theoretically, we connect our approach to a bound on the test error for overparameterized linear models. Furthermore, we find that Projection Norm is the only approach that achieves non-trivial detection performance on adversarial examples. Our code is available at this https URL."
      ],
      "metadata": {
        "id": "F0j3fJ1886BA"
      }
    },
    {
      "cell_type": "markdown",
      "source": [
        "[PDF for ProjectNorm](https://proceedings.mlr.press/v162/yu22i/yu22i.pdf)\n",
        "\n",
        "[code is available at](https://github.com/yaodongyu/ProjNorm)"
      ],
      "metadata": {
        "id": "EZH1hDei9poP"
      }
    },
    {
      "cell_type": "code",
      "execution_count": null,
      "metadata": {
        "id": "3_-KeaaG7pk9"
      },
      "outputs": [],
      "source": []
    }
  ]
}