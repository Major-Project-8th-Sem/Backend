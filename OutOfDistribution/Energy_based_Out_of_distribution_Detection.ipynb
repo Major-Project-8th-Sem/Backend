{
  "nbformat": 4,
  "nbformat_minor": 0,
  "metadata": {
    "colab": {
      "provenance": []
    },
    "kernelspec": {
      "name": "python3",
      "display_name": "Python 3"
    },
    "language_info": {
      "name": "python"
    }
  },
  "cells": [
    {
      "cell_type": "markdown",
      "source": [
        "# [***OUT OF Distribution Article***](https://deepchecks.com/glossary/out-of-distribution/)\n",
        "\n",
        "# [***Research Paper Energy Based***](https://proceedings.neurips.cc/paper/2020/file/f5496252609c43eb8a3d147ab9b9c006-Paper.pdf)\n"
      ],
      "metadata": {
        "id": "zxTTM-IBA3QJ"
      }
    },
    {
      "cell_type": "code",
      "source": [],
      "metadata": {
        "id": "t4vK96v2BDJ7"
      },
      "execution_count": null,
      "outputs": []
    }
  ]
}