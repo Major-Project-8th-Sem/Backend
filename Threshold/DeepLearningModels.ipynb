{
 "cells": [
  {
   "cell_type": "code",
   "execution_count": 1,
   "metadata": {},
   "outputs": [
    {
     "data": {
      "text/plain": [
       "[PhysicalDevice(name='/physical_device:GPU:0', device_type='GPU')]"
      ]
     },
     "execution_count": 1,
     "metadata": {},
     "output_type": "execute_result"
    }
   ],
   "source": [
    "import tensorflow as tf\n",
    "tf.config.list_physical_devices('GPU')"
   ]
  },
  {
   "cell_type": "code",
   "execution_count": 2,
   "metadata": {
    "id": "BCd1SMmmZWX0"
   },
   "outputs": [],
   "source": [
    "import numpy as np\n",
    "import tensorflow as tf\n",
    "from tensorflow.keras.models import Sequential, load_model\n",
    "from tensorflow.keras.layers import Dense,Dropout,LSTM,Embedding,SimpleRNN, GRU,Activation,Flatten\n",
    "from tensorflow.keras.layers import Conv1D,MaxPool1D, Flatten\n",
    "from tensorflow.keras.utils import plot_model\n",
    "from tensorflow.keras.preprocessing import sequence\n",
    "from sklearn.metrics import (precision_score, recall_score,confusion_matrix,f1_score, accuracy_score,mean_squared_error,mean_absolute_error)\n",
    "import pandas as pd\n",
    "from tensorflow.keras import callbacks\n",
    "from tensorflow.keras.callbacks import ModelCheckpoint, EarlyStopping, ReduceLROnPlateau, CSVLogger\n",
    "import matplotlib.pyplot as plt"
   ]
  },
  {
   "cell_type": "code",
   "execution_count": 3,
   "metadata": {
    "colab": {
     "base_uri": "https://localhost:8080/"
    },
    "id": "wKzNjRzMZeuB",
    "outputId": "1aea2b50-e0dc-4b15-b353-708836ca1777"
   },
   "outputs": [
    {
     "name": "stdout",
     "output_type": "stream",
     "text": [
      "keras: 2.6.0\n"
     ]
    }
   ],
   "source": [
    "import tensorflow.keras\n",
    "print('keras: %s' % tensorflow.keras.__version__)"
   ]
  },
  {
   "cell_type": "code",
   "execution_count": 4,
   "metadata": {
    "colab": {
     "base_uri": "https://localhost:8080/"
    },
    "id": "R_dbGuebZf4l",
    "outputId": "7e95147c-1032-4067-9842-330fc5fba00c"
   },
   "outputs": [],
   "source": [
    "# from google.colab import drive\n",
    "# drive.mount('/content/drive')"
   ]
  },
  {
   "cell_type": "code",
   "execution_count": 5,
   "metadata": {
    "id": "zXAuaqopaEBg"
   },
   "outputs": [],
   "source": [
    "df = pd.read_csv(r'C:\\Users\\Admin\\Downloads\\clean_data.csv')"
   ]
  },
  {
   "cell_type": "code",
   "execution_count": 6,
   "metadata": {
    "colab": {
     "base_uri": "https://localhost:8080/",
     "height": 334
    },
    "id": "0P5Ksz4PaL9r",
    "outputId": "670dac7c-7a40-4d22-a77d-b46086f9469b"
   },
   "outputs": [
    {
     "data": {
      "text/html": [
       "<div>\n",
       "<style scoped>\n",
       "    .dataframe tbody tr th:only-of-type {\n",
       "        vertical-align: middle;\n",
       "    }\n",
       "\n",
       "    .dataframe tbody tr th {\n",
       "        vertical-align: top;\n",
       "    }\n",
       "\n",
       "    .dataframe thead th {\n",
       "        text-align: right;\n",
       "    }\n",
       "</style>\n",
       "<table border=\"1\" class=\"dataframe\">\n",
       "  <thead>\n",
       "    <tr style=\"text-align: right;\">\n",
       "      <th></th>\n",
       "      <th>Unnamed: 0</th>\n",
       "      <th>Flow ID</th>\n",
       "      <th>Source IP</th>\n",
       "      <th>Source Port</th>\n",
       "      <th>Destination IP</th>\n",
       "      <th>Destination Port</th>\n",
       "      <th>Protocol</th>\n",
       "      <th>Timestamp</th>\n",
       "      <th>Flow Duration</th>\n",
       "      <th>Total Fwd Packets</th>\n",
       "      <th>...</th>\n",
       "      <th>Label_DDoS</th>\n",
       "      <th>Label_DoS GoldenEye</th>\n",
       "      <th>Label_DoS Hulk</th>\n",
       "      <th>Label_DoS Slowhttptest</th>\n",
       "      <th>Label_DoS slowloris</th>\n",
       "      <th>Label_FTP-Patator</th>\n",
       "      <th>Label_Heartbleed</th>\n",
       "      <th>Label_Infiltration</th>\n",
       "      <th>Label_PortScan</th>\n",
       "      <th>Label_SSH-Patator</th>\n",
       "    </tr>\n",
       "  </thead>\n",
       "  <tbody>\n",
       "    <tr>\n",
       "      <th>0</th>\n",
       "      <td>0</td>\n",
       "      <td>-0.646799</td>\n",
       "      <td>0.324411</td>\n",
       "      <td>-1.948333</td>\n",
       "      <td>0.204423</td>\n",
       "      <td>2.428566</td>\n",
       "      <td>-0.662668</td>\n",
       "      <td>2.051947</td>\n",
       "      <td>-0.472445</td>\n",
       "      <td>-0.008076</td>\n",
       "      <td>...</td>\n",
       "      <td>0</td>\n",
       "      <td>0</td>\n",
       "      <td>0</td>\n",
       "      <td>0</td>\n",
       "      <td>0</td>\n",
       "      <td>0</td>\n",
       "      <td>0</td>\n",
       "      <td>0</td>\n",
       "      <td>0</td>\n",
       "      <td>0</td>\n",
       "    </tr>\n",
       "    <tr>\n",
       "      <th>1</th>\n",
       "      <td>1</td>\n",
       "      <td>1.783219</td>\n",
       "      <td>0.430907</td>\n",
       "      <td>0.508829</td>\n",
       "      <td>0.114303</td>\n",
       "      <td>-0.421518</td>\n",
       "      <td>1.505849</td>\n",
       "      <td>-0.394452</td>\n",
       "      <td>-0.469837</td>\n",
       "      <td>-0.009562</td>\n",
       "      <td>...</td>\n",
       "      <td>0</td>\n",
       "      <td>0</td>\n",
       "      <td>0</td>\n",
       "      <td>0</td>\n",
       "      <td>0</td>\n",
       "      <td>0</td>\n",
       "      <td>0</td>\n",
       "      <td>0</td>\n",
       "      <td>0</td>\n",
       "      <td>0</td>\n",
       "    </tr>\n",
       "    <tr>\n",
       "      <th>2</th>\n",
       "      <td>2</td>\n",
       "      <td>-0.302869</td>\n",
       "      <td>-0.414284</td>\n",
       "      <td>0.159378</td>\n",
       "      <td>-0.558287</td>\n",
       "      <td>-0.421518</td>\n",
       "      <td>1.505849</td>\n",
       "      <td>-0.416902</td>\n",
       "      <td>-0.472439</td>\n",
       "      <td>-0.009562</td>\n",
       "      <td>...</td>\n",
       "      <td>0</td>\n",
       "      <td>0</td>\n",
       "      <td>0</td>\n",
       "      <td>0</td>\n",
       "      <td>0</td>\n",
       "      <td>0</td>\n",
       "      <td>0</td>\n",
       "      <td>0</td>\n",
       "      <td>0</td>\n",
       "      <td>0</td>\n",
       "    </tr>\n",
       "    <tr>\n",
       "      <th>3</th>\n",
       "      <td>3</td>\n",
       "      <td>-0.126277</td>\n",
       "      <td>-1.034865</td>\n",
       "      <td>0.769223</td>\n",
       "      <td>-1.040696</td>\n",
       "      <td>-0.421518</td>\n",
       "      <td>1.505849</td>\n",
       "      <td>-0.407956</td>\n",
       "      <td>-0.470938</td>\n",
       "      <td>-0.006590</td>\n",
       "      <td>...</td>\n",
       "      <td>0</td>\n",
       "      <td>0</td>\n",
       "      <td>0</td>\n",
       "      <td>0</td>\n",
       "      <td>0</td>\n",
       "      <td>0</td>\n",
       "      <td>0</td>\n",
       "      <td>0</td>\n",
       "      <td>0</td>\n",
       "      <td>0</td>\n",
       "    </tr>\n",
       "    <tr>\n",
       "      <th>4</th>\n",
       "      <td>4</td>\n",
       "      <td>-0.708056</td>\n",
       "      <td>0.979845</td>\n",
       "      <td>-1.948333</td>\n",
       "      <td>-0.560275</td>\n",
       "      <td>2.462290</td>\n",
       "      <td>-0.662668</td>\n",
       "      <td>-0.401372</td>\n",
       "      <td>-0.472445</td>\n",
       "      <td>-0.011049</td>\n",
       "      <td>...</td>\n",
       "      <td>0</td>\n",
       "      <td>0</td>\n",
       "      <td>0</td>\n",
       "      <td>0</td>\n",
       "      <td>0</td>\n",
       "      <td>0</td>\n",
       "      <td>0</td>\n",
       "      <td>0</td>\n",
       "      <td>0</td>\n",
       "      <td>0</td>\n",
       "    </tr>\n",
       "  </tbody>\n",
       "</table>\n",
       "<p>5 rows × 96 columns</p>\n",
       "</div>"
      ],
      "text/plain": [
       "   Unnamed: 0   Flow ID  Source IP  Source Port  Destination IP  \\\n",
       "0           0 -0.646799   0.324411    -1.948333        0.204423   \n",
       "1           1  1.783219   0.430907     0.508829        0.114303   \n",
       "2           2 -0.302869  -0.414284     0.159378       -0.558287   \n",
       "3           3 -0.126277  -1.034865     0.769223       -1.040696   \n",
       "4           4 -0.708056   0.979845    -1.948333       -0.560275   \n",
       "\n",
       "   Destination Port  Protocol  Timestamp  Flow Duration  Total Fwd Packets  \\\n",
       "0          2.428566 -0.662668   2.051947      -0.472445          -0.008076   \n",
       "1         -0.421518  1.505849  -0.394452      -0.469837          -0.009562   \n",
       "2         -0.421518  1.505849  -0.416902      -0.472439          -0.009562   \n",
       "3         -0.421518  1.505849  -0.407956      -0.470938          -0.006590   \n",
       "4          2.462290 -0.662668  -0.401372      -0.472445          -0.011049   \n",
       "\n",
       "   ...  Label_DDoS  Label_DoS GoldenEye  Label_DoS Hulk  \\\n",
       "0  ...           0                    0               0   \n",
       "1  ...           0                    0               0   \n",
       "2  ...           0                    0               0   \n",
       "3  ...           0                    0               0   \n",
       "4  ...           0                    0               0   \n",
       "\n",
       "   Label_DoS Slowhttptest  Label_DoS slowloris  Label_FTP-Patator  \\\n",
       "0                       0                    0                  0   \n",
       "1                       0                    0                  0   \n",
       "2                       0                    0                  0   \n",
       "3                       0                    0                  0   \n",
       "4                       0                    0                  0   \n",
       "\n",
       "   Label_Heartbleed  Label_Infiltration  Label_PortScan  Label_SSH-Patator  \n",
       "0                 0                   0               0                  0  \n",
       "1                 0                   0               0                  0  \n",
       "2                 0                   0               0                  0  \n",
       "3                 0                   0               0                  0  \n",
       "4                 0                   0               0                  0  \n",
       "\n",
       "[5 rows x 96 columns]"
      ]
     },
     "execution_count": 6,
     "metadata": {},
     "output_type": "execute_result"
    }
   ],
   "source": [
    "df.head()"
   ]
  },
  {
   "cell_type": "code",
   "execution_count": 7,
   "metadata": {
    "id": "UX0tE-02aqmy"
   },
   "outputs": [],
   "source": [
    "df = df.sample(frac = 1)"
   ]
  },
  {
   "cell_type": "code",
   "execution_count": 8,
   "metadata": {
    "id": "SgXtik43av9m"
   },
   "outputs": [],
   "source": [
    "df.drop(df.columns[0] , inplace=True , axis=1)"
   ]
  },
  {
   "cell_type": "code",
   "execution_count": 9,
   "metadata": {
    "colab": {
     "base_uri": "https://localhost:8080/"
    },
    "id": "_ppe4t9JarrS",
    "outputId": "647d81cc-eab3-4cad-8f36-cdf63c682278"
   },
   "outputs": [
    {
     "data": {
      "text/plain": [
       "Index(['Flow ID', 'Source IP', 'Source Port', 'Destination IP',\n",
       "       'Destination Port', 'Protocol', 'Timestamp', 'Flow Duration',\n",
       "       'Total Fwd Packets', 'Total Backward Packets',\n",
       "       'Total Length of Fwd Packets', 'Total Length of Bwd Packets',\n",
       "       'Fwd Packet Length Max', 'Fwd Packet Length Min',\n",
       "       'Fwd Packet Length Mean', 'Fwd Packet Length Std',\n",
       "       'Bwd Packet Length Max', 'Bwd Packet Length Min',\n",
       "       'Bwd Packet Length Mean', 'Bwd Packet Length Std', 'Flow Bytes/s',\n",
       "       'Flow Packets/s', 'Flow IAT Mean', 'Flow IAT Std', 'Flow IAT Max',\n",
       "       'Flow IAT Min', 'Fwd IAT Total', 'Fwd IAT Mean', 'Fwd IAT Std',\n",
       "       'Fwd IAT Max', 'Fwd IAT Min', 'Bwd IAT Total', 'Bwd IAT Mean',\n",
       "       'Bwd IAT Std', 'Bwd IAT Max', 'Bwd IAT Min', 'Fwd PSH Flags',\n",
       "       'Bwd PSH Flags', 'Fwd URG Flags', 'Bwd URG Flags', 'Fwd Header Length',\n",
       "       'Bwd Header Length', 'Fwd Packets/s', 'Bwd Packets/s',\n",
       "       'Min Packet Length', 'Max Packet Length', 'Packet Length Mean',\n",
       "       'Packet Length Std', 'Packet Length Variance', 'FIN Flag Count',\n",
       "       'SYN Flag Count', 'RST Flag Count', 'PSH Flag Count', 'ACK Flag Count',\n",
       "       'URG Flag Count', 'CWE Flag Count', 'ECE Flag Count', 'Down/Up Ratio',\n",
       "       'Average Packet Size', 'Avg Fwd Segment Size', 'Avg Bwd Segment Size',\n",
       "       'Fwd Avg Bytes/Bulk', 'Fwd Avg Packets/Bulk', 'Fwd Avg Bulk Rate',\n",
       "       'Bwd Avg Bytes/Bulk', 'Bwd Avg Packets/Bulk', 'Bwd Avg Bulk Rate',\n",
       "       'Subflow Fwd Packets', 'Subflow Fwd Bytes', 'Subflow Bwd Packets',\n",
       "       'Subflow Bwd Bytes', 'Init_Win_bytes_forward',\n",
       "       'Init_Win_bytes_backward', 'act_data_pkt_fwd', 'min_seg_size_forward',\n",
       "       'Active Mean', 'Active Std', 'Active Max', 'Active Min', 'Idle Mean',\n",
       "       'Idle Std', 'Idle Max', 'Idle Min', 'Label_BENIGN', 'Label_Bot',\n",
       "       'Label_DDoS', 'Label_DoS GoldenEye', 'Label_DoS Hulk',\n",
       "       'Label_DoS Slowhttptest', 'Label_DoS slowloris', 'Label_FTP-Patator',\n",
       "       'Label_Heartbleed', 'Label_Infiltration', 'Label_PortScan',\n",
       "       'Label_SSH-Patator'],\n",
       "      dtype='object')"
      ]
     },
     "execution_count": 9,
     "metadata": {},
     "output_type": "execute_result"
    }
   ],
   "source": [
    "df.columns"
   ]
  },
  {
   "cell_type": "code",
   "execution_count": 10,
   "metadata": {
    "id": "COjW_bGca8lO"
   },
   "outputs": [],
   "source": [
    "LabelColumns = ['Label_BENIGN', 'Label_Bot','Label_DDoS', 'Label_DoS GoldenEye', 'Label_DoS Hulk','Label_DoS Slowhttptest', 'Label_DoS slowloris', 'Label_FTP-Patator','Label_Heartbleed', 'Label_Infiltration', 'Label_PortScan','Label_SSH-Patator']"
   ]
  },
  {
   "cell_type": "code",
   "execution_count": 11,
   "metadata": {
    "id": "q34qymS9bMPn"
   },
   "outputs": [],
   "source": [
    "y = df[LabelColumns]"
   ]
  },
  {
   "cell_type": "code",
   "execution_count": 12,
   "metadata": {
    "colab": {
     "base_uri": "https://localhost:8080/",
     "height": 505
    },
    "id": "oJyXhaJCbd2v",
    "outputId": "96d6cee7-6700-4e47-fceb-813c6ca6dc03"
   },
   "outputs": [
    {
     "data": {
      "text/html": [
       "<div>\n",
       "<style scoped>\n",
       "    .dataframe tbody tr th:only-of-type {\n",
       "        vertical-align: middle;\n",
       "    }\n",
       "\n",
       "    .dataframe tbody tr th {\n",
       "        vertical-align: top;\n",
       "    }\n",
       "\n",
       "    .dataframe thead th {\n",
       "        text-align: right;\n",
       "    }\n",
       "</style>\n",
       "<table border=\"1\" class=\"dataframe\">\n",
       "  <thead>\n",
       "    <tr style=\"text-align: right;\">\n",
       "      <th></th>\n",
       "      <th>Label_BENIGN</th>\n",
       "      <th>Label_Bot</th>\n",
       "      <th>Label_DDoS</th>\n",
       "      <th>Label_DoS GoldenEye</th>\n",
       "      <th>Label_DoS Hulk</th>\n",
       "      <th>Label_DoS Slowhttptest</th>\n",
       "      <th>Label_DoS slowloris</th>\n",
       "      <th>Label_FTP-Patator</th>\n",
       "      <th>Label_Heartbleed</th>\n",
       "      <th>Label_Infiltration</th>\n",
       "      <th>Label_PortScan</th>\n",
       "      <th>Label_SSH-Patator</th>\n",
       "    </tr>\n",
       "  </thead>\n",
       "  <tbody>\n",
       "    <tr>\n",
       "      <th>534283</th>\n",
       "      <td>1</td>\n",
       "      <td>0</td>\n",
       "      <td>0</td>\n",
       "      <td>0</td>\n",
       "      <td>0</td>\n",
       "      <td>0</td>\n",
       "      <td>0</td>\n",
       "      <td>0</td>\n",
       "      <td>0</td>\n",
       "      <td>0</td>\n",
       "      <td>0</td>\n",
       "      <td>0</td>\n",
       "    </tr>\n",
       "    <tr>\n",
       "      <th>348536</th>\n",
       "      <td>1</td>\n",
       "      <td>0</td>\n",
       "      <td>0</td>\n",
       "      <td>0</td>\n",
       "      <td>0</td>\n",
       "      <td>0</td>\n",
       "      <td>0</td>\n",
       "      <td>0</td>\n",
       "      <td>0</td>\n",
       "      <td>0</td>\n",
       "      <td>0</td>\n",
       "      <td>0</td>\n",
       "    </tr>\n",
       "    <tr>\n",
       "      <th>409088</th>\n",
       "      <td>1</td>\n",
       "      <td>0</td>\n",
       "      <td>0</td>\n",
       "      <td>0</td>\n",
       "      <td>0</td>\n",
       "      <td>0</td>\n",
       "      <td>0</td>\n",
       "      <td>0</td>\n",
       "      <td>0</td>\n",
       "      <td>0</td>\n",
       "      <td>0</td>\n",
       "      <td>0</td>\n",
       "    </tr>\n",
       "    <tr>\n",
       "      <th>1201071</th>\n",
       "      <td>1</td>\n",
       "      <td>0</td>\n",
       "      <td>0</td>\n",
       "      <td>0</td>\n",
       "      <td>0</td>\n",
       "      <td>0</td>\n",
       "      <td>0</td>\n",
       "      <td>0</td>\n",
       "      <td>0</td>\n",
       "      <td>0</td>\n",
       "      <td>0</td>\n",
       "      <td>0</td>\n",
       "    </tr>\n",
       "    <tr>\n",
       "      <th>539033</th>\n",
       "      <td>1</td>\n",
       "      <td>0</td>\n",
       "      <td>0</td>\n",
       "      <td>0</td>\n",
       "      <td>0</td>\n",
       "      <td>0</td>\n",
       "      <td>0</td>\n",
       "      <td>0</td>\n",
       "      <td>0</td>\n",
       "      <td>0</td>\n",
       "      <td>0</td>\n",
       "      <td>0</td>\n",
       "    </tr>\n",
       "    <tr>\n",
       "      <th>...</th>\n",
       "      <td>...</td>\n",
       "      <td>...</td>\n",
       "      <td>...</td>\n",
       "      <td>...</td>\n",
       "      <td>...</td>\n",
       "      <td>...</td>\n",
       "      <td>...</td>\n",
       "      <td>...</td>\n",
       "      <td>...</td>\n",
       "      <td>...</td>\n",
       "      <td>...</td>\n",
       "      <td>...</td>\n",
       "    </tr>\n",
       "    <tr>\n",
       "      <th>1005003</th>\n",
       "      <td>1</td>\n",
       "      <td>0</td>\n",
       "      <td>0</td>\n",
       "      <td>0</td>\n",
       "      <td>0</td>\n",
       "      <td>0</td>\n",
       "      <td>0</td>\n",
       "      <td>0</td>\n",
       "      <td>0</td>\n",
       "      <td>0</td>\n",
       "      <td>0</td>\n",
       "      <td>0</td>\n",
       "    </tr>\n",
       "    <tr>\n",
       "      <th>1283854</th>\n",
       "      <td>1</td>\n",
       "      <td>0</td>\n",
       "      <td>0</td>\n",
       "      <td>0</td>\n",
       "      <td>0</td>\n",
       "      <td>0</td>\n",
       "      <td>0</td>\n",
       "      <td>0</td>\n",
       "      <td>0</td>\n",
       "      <td>0</td>\n",
       "      <td>0</td>\n",
       "      <td>0</td>\n",
       "    </tr>\n",
       "    <tr>\n",
       "      <th>484687</th>\n",
       "      <td>1</td>\n",
       "      <td>0</td>\n",
       "      <td>0</td>\n",
       "      <td>0</td>\n",
       "      <td>0</td>\n",
       "      <td>0</td>\n",
       "      <td>0</td>\n",
       "      <td>0</td>\n",
       "      <td>0</td>\n",
       "      <td>0</td>\n",
       "      <td>0</td>\n",
       "      <td>0</td>\n",
       "    </tr>\n",
       "    <tr>\n",
       "      <th>1329171</th>\n",
       "      <td>0</td>\n",
       "      <td>0</td>\n",
       "      <td>1</td>\n",
       "      <td>0</td>\n",
       "      <td>0</td>\n",
       "      <td>0</td>\n",
       "      <td>0</td>\n",
       "      <td>0</td>\n",
       "      <td>0</td>\n",
       "      <td>0</td>\n",
       "      <td>0</td>\n",
       "      <td>0</td>\n",
       "    </tr>\n",
       "    <tr>\n",
       "      <th>1532709</th>\n",
       "      <td>0</td>\n",
       "      <td>0</td>\n",
       "      <td>0</td>\n",
       "      <td>0</td>\n",
       "      <td>1</td>\n",
       "      <td>0</td>\n",
       "      <td>0</td>\n",
       "      <td>0</td>\n",
       "      <td>0</td>\n",
       "      <td>0</td>\n",
       "      <td>0</td>\n",
       "      <td>0</td>\n",
       "    </tr>\n",
       "  </tbody>\n",
       "</table>\n",
       "<p>1851553 rows × 12 columns</p>\n",
       "</div>"
      ],
      "text/plain": [
       "         Label_BENIGN  Label_Bot  Label_DDoS  Label_DoS GoldenEye  \\\n",
       "534283              1          0           0                    0   \n",
       "348536              1          0           0                    0   \n",
       "409088              1          0           0                    0   \n",
       "1201071             1          0           0                    0   \n",
       "539033              1          0           0                    0   \n",
       "...               ...        ...         ...                  ...   \n",
       "1005003             1          0           0                    0   \n",
       "1283854             1          0           0                    0   \n",
       "484687              1          0           0                    0   \n",
       "1329171             0          0           1                    0   \n",
       "1532709             0          0           0                    0   \n",
       "\n",
       "         Label_DoS Hulk  Label_DoS Slowhttptest  Label_DoS slowloris  \\\n",
       "534283                0                       0                    0   \n",
       "348536                0                       0                    0   \n",
       "409088                0                       0                    0   \n",
       "1201071               0                       0                    0   \n",
       "539033                0                       0                    0   \n",
       "...                 ...                     ...                  ...   \n",
       "1005003               0                       0                    0   \n",
       "1283854               0                       0                    0   \n",
       "484687                0                       0                    0   \n",
       "1329171               0                       0                    0   \n",
       "1532709               1                       0                    0   \n",
       "\n",
       "         Label_FTP-Patator  Label_Heartbleed  Label_Infiltration  \\\n",
       "534283                   0                 0                   0   \n",
       "348536                   0                 0                   0   \n",
       "409088                   0                 0                   0   \n",
       "1201071                  0                 0                   0   \n",
       "539033                   0                 0                   0   \n",
       "...                    ...               ...                 ...   \n",
       "1005003                  0                 0                   0   \n",
       "1283854                  0                 0                   0   \n",
       "484687                   0                 0                   0   \n",
       "1329171                  0                 0                   0   \n",
       "1532709                  0                 0                   0   \n",
       "\n",
       "         Label_PortScan  Label_SSH-Patator  \n",
       "534283                0                  0  \n",
       "348536                0                  0  \n",
       "409088                0                  0  \n",
       "1201071               0                  0  \n",
       "539033                0                  0  \n",
       "...                 ...                ...  \n",
       "1005003               0                  0  \n",
       "1283854               0                  0  \n",
       "484687                0                  0  \n",
       "1329171               0                  0  \n",
       "1532709               0                  0  \n",
       "\n",
       "[1851553 rows x 12 columns]"
      ]
     },
     "execution_count": 12,
     "metadata": {},
     "output_type": "execute_result"
    }
   ],
   "source": [
    "y"
   ]
  },
  {
   "cell_type": "code",
   "execution_count": 13,
   "metadata": {
    "id": "1FvfkUmTbdwy"
   },
   "outputs": [],
   "source": [
    "X = df.drop(LabelColumns , axis=1)"
   ]
  },
  {
   "cell_type": "code",
   "execution_count": 14,
   "metadata": {
    "colab": {
     "base_uri": "https://localhost:8080/",
     "height": 522
    },
    "id": "9SPn_JZ3bubn",
    "outputId": "ff918be4-c2bf-480d-cbd8-338db8ffbaef"
   },
   "outputs": [
    {
     "data": {
      "text/html": [
       "<div>\n",
       "<style scoped>\n",
       "    .dataframe tbody tr th:only-of-type {\n",
       "        vertical-align: middle;\n",
       "    }\n",
       "\n",
       "    .dataframe tbody tr th {\n",
       "        vertical-align: top;\n",
       "    }\n",
       "\n",
       "    .dataframe thead th {\n",
       "        text-align: right;\n",
       "    }\n",
       "</style>\n",
       "<table border=\"1\" class=\"dataframe\">\n",
       "  <thead>\n",
       "    <tr style=\"text-align: right;\">\n",
       "      <th></th>\n",
       "      <th>Flow ID</th>\n",
       "      <th>Source IP</th>\n",
       "      <th>Source Port</th>\n",
       "      <th>Destination IP</th>\n",
       "      <th>Destination Port</th>\n",
       "      <th>Protocol</th>\n",
       "      <th>Timestamp</th>\n",
       "      <th>Flow Duration</th>\n",
       "      <th>Total Fwd Packets</th>\n",
       "      <th>Total Backward Packets</th>\n",
       "      <th>...</th>\n",
       "      <th>act_data_pkt_fwd</th>\n",
       "      <th>min_seg_size_forward</th>\n",
       "      <th>Active Mean</th>\n",
       "      <th>Active Std</th>\n",
       "      <th>Active Max</th>\n",
       "      <th>Active Min</th>\n",
       "      <th>Idle Mean</th>\n",
       "      <th>Idle Std</th>\n",
       "      <th>Idle Max</th>\n",
       "      <th>Idle Min</th>\n",
       "    </tr>\n",
       "  </thead>\n",
       "  <tbody>\n",
       "    <tr>\n",
       "      <th>534283</th>\n",
       "      <td>2.274937</td>\n",
       "      <td>0.484155</td>\n",
       "      <td>0.422595</td>\n",
       "      <td>4.281044</td>\n",
       "      <td>-0.399227</td>\n",
       "      <td>-0.662668</td>\n",
       "      <td>1.061774</td>\n",
       "      <td>-0.166888</td>\n",
       "      <td>0.002327</td>\n",
       "      <td>0.000966</td>\n",
       "      <td>...</td>\n",
       "      <td>0.007494</td>\n",
       "      <td>0.002719</td>\n",
       "      <td>1.077384</td>\n",
       "      <td>-0.097503</td>\n",
       "      <td>0.635839</td>\n",
       "      <td>1.246965</td>\n",
       "      <td>-0.029419</td>\n",
       "      <td>-0.121018</td>\n",
       "      <td>-0.04588</td>\n",
       "      <td>-0.011585</td>\n",
       "    </tr>\n",
       "    <tr>\n",
       "      <th>348536</th>\n",
       "      <td>1.486786</td>\n",
       "      <td>0.428971</td>\n",
       "      <td>-0.947027</td>\n",
       "      <td>0.114303</td>\n",
       "      <td>-0.421518</td>\n",
       "      <td>1.505849</td>\n",
       "      <td>-0.420615</td>\n",
       "      <td>-0.471090</td>\n",
       "      <td>-0.009562</td>\n",
       "      <td>-0.007983</td>\n",
       "      <td>...</td>\n",
       "      <td>-0.006451</td>\n",
       "      <td>0.002735</td>\n",
       "      <td>-0.128601</td>\n",
       "      <td>-0.097503</td>\n",
       "      <td>-0.146881</td>\n",
       "      <td>-0.106173</td>\n",
       "      <td>-0.394660</td>\n",
       "      <td>-0.121018</td>\n",
       "      <td>-0.40072</td>\n",
       "      <td>-0.380320</td>\n",
       "    </tr>\n",
       "    <tr>\n",
       "      <th>409088</th>\n",
       "      <td>-0.492718</td>\n",
       "      <td>0.424130</td>\n",
       "      <td>0.736433</td>\n",
       "      <td>-0.174612</td>\n",
       "      <td>-0.419975</td>\n",
       "      <td>-0.662668</td>\n",
       "      <td>-0.400022</td>\n",
       "      <td>-0.322957</td>\n",
       "      <td>-0.008076</td>\n",
       "      <td>-0.009102</td>\n",
       "      <td>...</td>\n",
       "      <td>-0.008194</td>\n",
       "      <td>0.002729</td>\n",
       "      <td>-0.128601</td>\n",
       "      <td>-0.097503</td>\n",
       "      <td>-0.146881</td>\n",
       "      <td>-0.106173</td>\n",
       "      <td>-0.394660</td>\n",
       "      <td>-0.121018</td>\n",
       "      <td>-0.40072</td>\n",
       "      <td>-0.380320</td>\n",
       "    </tr>\n",
       "    <tr>\n",
       "      <th>1201071</th>\n",
       "      <td>-0.125239</td>\n",
       "      <td>0.365073</td>\n",
       "      <td>0.116426</td>\n",
       "      <td>1.633759</td>\n",
       "      <td>-0.399227</td>\n",
       "      <td>-0.662668</td>\n",
       "      <td>-0.413864</td>\n",
       "      <td>-0.284767</td>\n",
       "      <td>-0.003618</td>\n",
       "      <td>-0.004627</td>\n",
       "      <td>...</td>\n",
       "      <td>-0.004708</td>\n",
       "      <td>0.002729</td>\n",
       "      <td>-0.128601</td>\n",
       "      <td>-0.097503</td>\n",
       "      <td>-0.146881</td>\n",
       "      <td>-0.106173</td>\n",
       "      <td>-0.394660</td>\n",
       "      <td>-0.121018</td>\n",
       "      <td>-0.40072</td>\n",
       "      <td>-0.380320</td>\n",
       "    </tr>\n",
       "    <tr>\n",
       "      <th>539033</th>\n",
       "      <td>-0.152393</td>\n",
       "      <td>-1.129743</td>\n",
       "      <td>-1.948333</td>\n",
       "      <td>0.079182</td>\n",
       "      <td>2.467663</td>\n",
       "      <td>-0.662668</td>\n",
       "      <td>-0.355966</td>\n",
       "      <td>-0.472445</td>\n",
       "      <td>-0.009562</td>\n",
       "      <td>-0.009102</td>\n",
       "      <td>...</td>\n",
       "      <td>-0.008194</td>\n",
       "      <td>0.002729</td>\n",
       "      <td>-0.128601</td>\n",
       "      <td>-0.097503</td>\n",
       "      <td>-0.146881</td>\n",
       "      <td>-0.106173</td>\n",
       "      <td>-0.394660</td>\n",
       "      <td>-0.121018</td>\n",
       "      <td>-0.40072</td>\n",
       "      <td>-0.380320</td>\n",
       "    </tr>\n",
       "    <tr>\n",
       "      <th>...</th>\n",
       "      <td>...</td>\n",
       "      <td>...</td>\n",
       "      <td>...</td>\n",
       "      <td>...</td>\n",
       "      <td>...</td>\n",
       "      <td>...</td>\n",
       "      <td>...</td>\n",
       "      <td>...</td>\n",
       "      <td>...</td>\n",
       "      <td>...</td>\n",
       "      <td>...</td>\n",
       "      <td>...</td>\n",
       "      <td>...</td>\n",
       "      <td>...</td>\n",
       "      <td>...</td>\n",
       "      <td>...</td>\n",
       "      <td>...</td>\n",
       "      <td>...</td>\n",
       "      <td>...</td>\n",
       "      <td>...</td>\n",
       "      <td>...</td>\n",
       "    </tr>\n",
       "    <tr>\n",
       "      <th>1005003</th>\n",
       "      <td>-0.703718</td>\n",
       "      <td>0.372818</td>\n",
       "      <td>-1.965411</td>\n",
       "      <td>-0.357504</td>\n",
       "      <td>1.960211</td>\n",
       "      <td>-0.662668</td>\n",
       "      <td>-0.399009</td>\n",
       "      <td>-0.472313</td>\n",
       "      <td>-0.009562</td>\n",
       "      <td>-0.010221</td>\n",
       "      <td>...</td>\n",
       "      <td>-0.008194</td>\n",
       "      <td>0.002729</td>\n",
       "      <td>-0.128601</td>\n",
       "      <td>-0.097503</td>\n",
       "      <td>-0.146881</td>\n",
       "      <td>-0.106173</td>\n",
       "      <td>-0.394660</td>\n",
       "      <td>-0.121018</td>\n",
       "      <td>-0.40072</td>\n",
       "      <td>-0.380320</td>\n",
       "    </tr>\n",
       "    <tr>\n",
       "      <th>1283854</th>\n",
       "      <td>1.823736</td>\n",
       "      <td>0.487059</td>\n",
       "      <td>0.678755</td>\n",
       "      <td>0.208399</td>\n",
       "      <td>-0.421518</td>\n",
       "      <td>1.505849</td>\n",
       "      <td>0.246308</td>\n",
       "      <td>-0.472443</td>\n",
       "      <td>-0.009562</td>\n",
       "      <td>-0.007983</td>\n",
       "      <td>...</td>\n",
       "      <td>-0.006451</td>\n",
       "      <td>0.002719</td>\n",
       "      <td>-0.128601</td>\n",
       "      <td>-0.097503</td>\n",
       "      <td>-0.146881</td>\n",
       "      <td>-0.106173</td>\n",
       "      <td>-0.394660</td>\n",
       "      <td>-0.121018</td>\n",
       "      <td>-0.40072</td>\n",
       "      <td>-0.380320</td>\n",
       "    </tr>\n",
       "    <tr>\n",
       "      <th>484687</th>\n",
       "      <td>0.269181</td>\n",
       "      <td>0.482219</td>\n",
       "      <td>0.656033</td>\n",
       "      <td>3.949719</td>\n",
       "      <td>-0.399227</td>\n",
       "      <td>-0.662668</td>\n",
       "      <td>3.762890</td>\n",
       "      <td>-0.470999</td>\n",
       "      <td>-0.006590</td>\n",
       "      <td>-0.009102</td>\n",
       "      <td>...</td>\n",
       "      <td>-0.002965</td>\n",
       "      <td>0.002719</td>\n",
       "      <td>-0.128601</td>\n",
       "      <td>-0.097503</td>\n",
       "      <td>-0.146881</td>\n",
       "      <td>-0.106173</td>\n",
       "      <td>-0.394660</td>\n",
       "      <td>-0.121018</td>\n",
       "      <td>-0.40072</td>\n",
       "      <td>-0.380320</td>\n",
       "    </tr>\n",
       "    <tr>\n",
       "      <th>1329171</th>\n",
       "      <td>-1.054933</td>\n",
       "      <td>-1.296264</td>\n",
       "      <td>-0.933007</td>\n",
       "      <td>-1.039370</td>\n",
       "      <td>-0.419975</td>\n",
       "      <td>-0.662668</td>\n",
       "      <td>-0.416227</td>\n",
       "      <td>-0.460942</td>\n",
       "      <td>-0.008076</td>\n",
       "      <td>-0.004627</td>\n",
       "      <td>...</td>\n",
       "      <td>-0.004708</td>\n",
       "      <td>0.002719</td>\n",
       "      <td>-0.128601</td>\n",
       "      <td>-0.097503</td>\n",
       "      <td>-0.146881</td>\n",
       "      <td>-0.106173</td>\n",
       "      <td>-0.394660</td>\n",
       "      <td>-0.121018</td>\n",
       "      <td>-0.40072</td>\n",
       "      <td>-0.380320</td>\n",
       "    </tr>\n",
       "    <tr>\n",
       "      <th>1532709</th>\n",
       "      <td>-0.745045</td>\n",
       "      <td>-0.216782</td>\n",
       "      <td>0.878273</td>\n",
       "      <td>0.115628</td>\n",
       "      <td>-0.419975</td>\n",
       "      <td>-0.662668</td>\n",
       "      <td>-0.413020</td>\n",
       "      <td>-0.472060</td>\n",
       "      <td>-0.009562</td>\n",
       "      <td>-0.007983</td>\n",
       "      <td>...</td>\n",
       "      <td>-0.006451</td>\n",
       "      <td>0.002719</td>\n",
       "      <td>-0.128601</td>\n",
       "      <td>-0.097503</td>\n",
       "      <td>-0.146881</td>\n",
       "      <td>-0.106173</td>\n",
       "      <td>-0.394660</td>\n",
       "      <td>-0.121018</td>\n",
       "      <td>-0.40072</td>\n",
       "      <td>-0.380320</td>\n",
       "    </tr>\n",
       "  </tbody>\n",
       "</table>\n",
       "<p>1851553 rows × 83 columns</p>\n",
       "</div>"
      ],
      "text/plain": [
       "          Flow ID  Source IP  Source Port  Destination IP  Destination Port  \\\n",
       "534283   2.274937   0.484155     0.422595        4.281044         -0.399227   \n",
       "348536   1.486786   0.428971    -0.947027        0.114303         -0.421518   \n",
       "409088  -0.492718   0.424130     0.736433       -0.174612         -0.419975   \n",
       "1201071 -0.125239   0.365073     0.116426        1.633759         -0.399227   \n",
       "539033  -0.152393  -1.129743    -1.948333        0.079182          2.467663   \n",
       "...           ...        ...          ...             ...               ...   \n",
       "1005003 -0.703718   0.372818    -1.965411       -0.357504          1.960211   \n",
       "1283854  1.823736   0.487059     0.678755        0.208399         -0.421518   \n",
       "484687   0.269181   0.482219     0.656033        3.949719         -0.399227   \n",
       "1329171 -1.054933  -1.296264    -0.933007       -1.039370         -0.419975   \n",
       "1532709 -0.745045  -0.216782     0.878273        0.115628         -0.419975   \n",
       "\n",
       "         Protocol  Timestamp  Flow Duration  Total Fwd Packets  \\\n",
       "534283  -0.662668   1.061774      -0.166888           0.002327   \n",
       "348536   1.505849  -0.420615      -0.471090          -0.009562   \n",
       "409088  -0.662668  -0.400022      -0.322957          -0.008076   \n",
       "1201071 -0.662668  -0.413864      -0.284767          -0.003618   \n",
       "539033  -0.662668  -0.355966      -0.472445          -0.009562   \n",
       "...           ...        ...            ...                ...   \n",
       "1005003 -0.662668  -0.399009      -0.472313          -0.009562   \n",
       "1283854  1.505849   0.246308      -0.472443          -0.009562   \n",
       "484687  -0.662668   3.762890      -0.470999          -0.006590   \n",
       "1329171 -0.662668  -0.416227      -0.460942          -0.008076   \n",
       "1532709 -0.662668  -0.413020      -0.472060          -0.009562   \n",
       "\n",
       "         Total Backward Packets  ...  act_data_pkt_fwd  min_seg_size_forward  \\\n",
       "534283                 0.000966  ...          0.007494              0.002719   \n",
       "348536                -0.007983  ...         -0.006451              0.002735   \n",
       "409088                -0.009102  ...         -0.008194              0.002729   \n",
       "1201071               -0.004627  ...         -0.004708              0.002729   \n",
       "539033                -0.009102  ...         -0.008194              0.002729   \n",
       "...                         ...  ...               ...                   ...   \n",
       "1005003               -0.010221  ...         -0.008194              0.002729   \n",
       "1283854               -0.007983  ...         -0.006451              0.002719   \n",
       "484687                -0.009102  ...         -0.002965              0.002719   \n",
       "1329171               -0.004627  ...         -0.004708              0.002719   \n",
       "1532709               -0.007983  ...         -0.006451              0.002719   \n",
       "\n",
       "         Active Mean  Active Std  Active Max  Active Min  Idle Mean  Idle Std  \\\n",
       "534283      1.077384   -0.097503    0.635839    1.246965  -0.029419 -0.121018   \n",
       "348536     -0.128601   -0.097503   -0.146881   -0.106173  -0.394660 -0.121018   \n",
       "409088     -0.128601   -0.097503   -0.146881   -0.106173  -0.394660 -0.121018   \n",
       "1201071    -0.128601   -0.097503   -0.146881   -0.106173  -0.394660 -0.121018   \n",
       "539033     -0.128601   -0.097503   -0.146881   -0.106173  -0.394660 -0.121018   \n",
       "...              ...         ...         ...         ...        ...       ...   \n",
       "1005003    -0.128601   -0.097503   -0.146881   -0.106173  -0.394660 -0.121018   \n",
       "1283854    -0.128601   -0.097503   -0.146881   -0.106173  -0.394660 -0.121018   \n",
       "484687     -0.128601   -0.097503   -0.146881   -0.106173  -0.394660 -0.121018   \n",
       "1329171    -0.128601   -0.097503   -0.146881   -0.106173  -0.394660 -0.121018   \n",
       "1532709    -0.128601   -0.097503   -0.146881   -0.106173  -0.394660 -0.121018   \n",
       "\n",
       "         Idle Max  Idle Min  \n",
       "534283   -0.04588 -0.011585  \n",
       "348536   -0.40072 -0.380320  \n",
       "409088   -0.40072 -0.380320  \n",
       "1201071  -0.40072 -0.380320  \n",
       "539033   -0.40072 -0.380320  \n",
       "...           ...       ...  \n",
       "1005003  -0.40072 -0.380320  \n",
       "1283854  -0.40072 -0.380320  \n",
       "484687   -0.40072 -0.380320  \n",
       "1329171  -0.40072 -0.380320  \n",
       "1532709  -0.40072 -0.380320  \n",
       "\n",
       "[1851553 rows x 83 columns]"
      ]
     },
     "execution_count": 14,
     "metadata": {},
     "output_type": "execute_result"
    }
   ],
   "source": [
    "X"
   ]
  },
  {
   "cell_type": "code",
   "execution_count": 15,
   "metadata": {
    "id": "YKtJ7ppHaM0J"
   },
   "outputs": [],
   "source": [
    "from sklearn.model_selection import train_test_split\n",
    "X_train, X_test, y_train, y_test = train_test_split(X, y, test_size=0.33, random_state=42)"
   ]
  },
  {
   "cell_type": "markdown",
   "metadata": {
    "id": "VZtAWfhHxBhX"
   },
   "source": [
    "#  Convolutional Neural Networks"
   ]
  },
  {
   "cell_type": "code",
   "execution_count": 16,
   "metadata": {
    "colab": {
     "base_uri": "https://localhost:8080/"
    },
    "id": "iVOdH6XFxb3H",
    "outputId": "5b41795b-2634-4a67-d5e4-c0cc68c859b1"
   },
   "outputs": [
    {
     "data": {
      "text/plain": [
       "((1240540, 83), (1240540, 12), (611013, 83))"
      ]
     },
     "execution_count": 16,
     "metadata": {},
     "output_type": "execute_result"
    }
   ],
   "source": [
    "X_train.shape , y_train.shape , X_test.shape"
   ]
  },
  {
   "cell_type": "code",
   "execution_count": 17,
   "metadata": {},
   "outputs": [
    {
     "data": {
      "text/plain": [
       "pandas.core.frame.DataFrame"
      ]
     },
     "execution_count": 17,
     "metadata": {},
     "output_type": "execute_result"
    }
   ],
   "source": [
    "type(X_train)"
   ]
  },
  {
   "cell_type": "code",
   "execution_count": 18,
   "metadata": {},
   "outputs": [],
   "source": [
    "X_train = X_train.to_numpy().reshape(1240540, 83,1)\n",
    "X_test = X_test.to_numpy().reshape(611013, 83,1)\n"
   ]
  },
  {
   "cell_type": "code",
   "execution_count": 19,
   "metadata": {
    "id": "UrsWlrkhcBPO"
   },
   "outputs": [],
   "source": [
    "model_cnn = Sequential()\n",
    "model_cnn.add(Conv1D(64, 3, padding=\"same\",activation=\"relu\",input_shape=(83, 1)))\n",
    "model_cnn.add(Conv1D(64, 3, padding=\"same\", activation=\"relu\"))\n",
    "model_cnn.add(MaxPool1D(pool_size=(2)))\n",
    "model_cnn.add(Conv1D(128, 3, padding=\"same\", activation=\"relu\"))\n",
    "model_cnn.add(Conv1D(128, 3, padding=\"same\", activation=\"relu\"))\n",
    "model_cnn.add(MaxPool1D(pool_size=(2)))\n",
    "model_cnn.add(Flatten())\n",
    "model_cnn.add(Dense(128, activation=\"relu\"))\n",
    "model_cnn.add(Dropout(0.5))\n",
    "model_cnn.add(Dense(12, activation=\"sigmoid\"))"
   ]
  },
  {
   "cell_type": "code",
   "execution_count": 20,
   "metadata": {
    "colab": {
     "base_uri": "https://localhost:8080/"
    },
    "id": "FfTNVl1wx7O-",
    "outputId": "a9be6bac-9250-48c2-ba69-6a6b9c421152"
   },
   "outputs": [
    {
     "name": "stdout",
     "output_type": "stream",
     "text": [
      "Epoch 1/1000\n",
      "38767/38767 [==============================] - 256s 7ms/step - loss: 0.0023 - accuracy: 0.9970 - val_loss: 4.2398e-04 - val_accuracy: 0.9995\n",
      "Epoch 2/1000\n",
      "38767/38767 [==============================] - 252s 6ms/step - loss: 0.0011 - accuracy: 0.9992 - val_loss: 2.8960e-04 - val_accuracy: 0.9998\n",
      "Epoch 3/1000\n",
      "38767/38767 [==============================] - 249s 6ms/step - loss: 0.0014 - accuracy: 0.9993 - val_loss: 0.0029 - val_accuracy: 0.9997\n",
      "Epoch 4/1000\n",
      "38767/38767 [==============================] - 256s 7ms/step - loss: 0.0030 - accuracy: 0.9993 - val_loss: 6.2305e-04 - val_accuracy: 0.9997\n",
      "Epoch 5/1000\n",
      "38767/38767 [==============================] - 252s 6ms/step - loss: 0.0059 - accuracy: 0.9993 - val_loss: 3.4982e-04 - val_accuracy: 0.9997\n",
      "Epoch 6/1000\n",
      "38767/38767 [==============================] - 269s 7ms/step - loss: 0.0020 - accuracy: 0.9990 - val_loss: 5.7575e-04 - val_accuracy: 0.9993\n",
      "Epoch 7/1000\n",
      "38767/38767 [==============================] - 363s 9ms/step - loss: 0.0016 - accuracy: 0.9988 - val_loss: 3.3796e-04 - val_accuracy: 0.9996\n"
     ]
    }
   ],
   "source": [
    "model_cnn.compile(loss=\"binary_crossentropy\", optimizer=\"adam\",metrics=['accuracy'])\n",
    "es = EarlyStopping(monitor='val_accuracy', mode='max', min_delta=0.0001,patience=5) ## early stoppoing\n",
    "\n",
    "#FIT AND SAVE MODEL FOR FUTURE\n",
    "model_cnn.fit(X_train, y_train, epochs=1000,validation_data=(X_test, y_test),callbacks=[es])\n",
    "model_cnn.save(\"model_cnn_model.hdf5\")"
   ]
  },
  {
   "cell_type": "markdown",
   "metadata": {
    "id": "wq3FT6UOykYn"
   },
   "source": [
    "# Accuracies Measure && Model Power"
   ]
  },
  {
   "cell_type": "code",
   "execution_count": 23,
   "metadata": {
    "id": "UBqb-A1iyE5Q"
   },
   "outputs": [
    {
     "data": {
      "text/plain": [
       "array([[1.0000000e+00, 0.0000000e+00, 0.0000000e+00, ..., 0.0000000e+00,\n",
       "        0.0000000e+00, 0.0000000e+00],\n",
       "       [1.0000000e+00, 0.0000000e+00, 0.0000000e+00, ..., 0.0000000e+00,\n",
       "        0.0000000e+00, 0.0000000e+00],\n",
       "       [1.0000000e+00, 0.0000000e+00, 0.0000000e+00, ..., 0.0000000e+00,\n",
       "        0.0000000e+00, 0.0000000e+00],\n",
       "       ...,\n",
       "       [0.0000000e+00, 0.0000000e+00, 0.0000000e+00, ..., 0.0000000e+00,\n",
       "        1.0000000e+00, 0.0000000e+00],\n",
       "       [1.0000000e+00, 0.0000000e+00, 0.0000000e+00, ..., 0.0000000e+00,\n",
       "        0.0000000e+00, 0.0000000e+00],\n",
       "       [1.4873673e-21, 0.0000000e+00, 0.0000000e+00, ..., 0.0000000e+00,\n",
       "        0.0000000e+00, 0.0000000e+00]], dtype=float32)"
      ]
     },
     "execution_count": 23,
     "metadata": {},
     "output_type": "execute_result"
    }
   ],
   "source": [
    "y_pred_cnn = model_cnn.predict(X_test)\n",
    "y_pred_cnn"
   ]
  },
  {
   "cell_type": "code",
   "execution_count": 24,
   "metadata": {},
   "outputs": [
    {
     "data": {
      "text/plain": [
       "array([[1.00000000e+00, 0.00000000e+00],\n",
       "       [1.00000000e+00, 0.00000000e+00],\n",
       "       [1.00000000e+00, 0.00000000e+00],\n",
       "       ...,\n",
       "       [0.00000000e+00, 1.00000000e+00],\n",
       "       [1.00000000e+00, 0.00000000e+00],\n",
       "       [1.48736727e-21, 1.00000000e+00]])"
      ]
     },
     "execution_count": 24,
     "metadata": {},
     "output_type": "execute_result"
    }
   ],
   "source": [
    "def predict_prob(number):\n",
    "  return [number[0],1-number[0]]\n",
    "y_probs_cnn = np.array(list(map(predict_prob,y_pred_cnn )))\n",
    "y_probs_cnn"
   ]
  },
  {
   "cell_type": "code",
   "execution_count": 26,
   "metadata": {},
   "outputs": [
    {
     "ename": "ValueError",
     "evalue": "all the input array dimensions for the concatenation axis must match exactly, but along dimension 0, the array at index 0 has size 7332156 and the array at index 1 has size 611013",
     "output_type": "error",
     "traceback": [
      "\u001b[1;31m---------------------------------------------------------------------------\u001b[0m",
      "\u001b[1;31mValueError\u001b[0m                                Traceback (most recent call last)",
      "\u001b[1;32m<ipython-input-26-b3d746e37169>\u001b[0m in \u001b[0;36m<module>\u001b[1;34m\u001b[0m\n\u001b[1;32m----> 1\u001b[1;33m \u001b[0mnp\u001b[0m\u001b[1;33m.\u001b[0m\u001b[0msavetxt\u001b[0m\u001b[1;33m(\u001b[0m\u001b[1;34m'cnn_predictions.txt'\u001b[0m\u001b[1;33m,\u001b[0m \u001b[0mnp\u001b[0m\u001b[1;33m.\u001b[0m\u001b[0mtranspose\u001b[0m\u001b[1;33m(\u001b[0m\u001b[0mnp\u001b[0m\u001b[1;33m.\u001b[0m\u001b[0mconcatenate\u001b[0m\u001b[1;33m(\u001b[0m\u001b[1;33m(\u001b[0m\u001b[0my_test\u001b[0m\u001b[1;33m.\u001b[0m\u001b[0mto_numpy\u001b[0m\u001b[1;33m(\u001b[0m\u001b[1;33m)\u001b[0m\u001b[1;33m.\u001b[0m\u001b[0mreshape\u001b[0m\u001b[1;33m(\u001b[0m\u001b[1;33m(\u001b[0m\u001b[0my_test\u001b[0m\u001b[1;33m.\u001b[0m\u001b[0msize\u001b[0m\u001b[1;33m,\u001b[0m \u001b[1;36m1\u001b[0m\u001b[1;33m)\u001b[0m\u001b[1;33m)\u001b[0m\u001b[1;33m,\u001b[0m\u001b[0my_pred_cnn\u001b[0m\u001b[1;33m)\u001b[0m\u001b[1;33m,\u001b[0m \u001b[0maxis\u001b[0m\u001b[1;33m=\u001b[0m\u001b[1;36m1\u001b[0m\u001b[1;33m)\u001b[0m\u001b[1;33m)\u001b[0m\u001b[1;33m,\u001b[0m \u001b[0mfmt\u001b[0m\u001b[1;33m=\u001b[0m\u001b[1;34m'%01d'\u001b[0m\u001b[1;33m)\u001b[0m\u001b[1;33m\u001b[0m\u001b[1;33m\u001b[0m\u001b[0m\n\u001b[0m\u001b[0;32m      2\u001b[0m \u001b[0mnp\u001b[0m\u001b[1;33m.\u001b[0m\u001b[0msavetxt\u001b[0m\u001b[1;33m(\u001b[0m\u001b[1;34m'cnn_prob_predictions.txt'\u001b[0m\u001b[1;33m,\u001b[0m \u001b[0mnp\u001b[0m\u001b[1;33m.\u001b[0m\u001b[0maround\u001b[0m\u001b[1;33m(\u001b[0m\u001b[0mnp\u001b[0m\u001b[1;33m.\u001b[0m\u001b[0mtranspose\u001b[0m\u001b[1;33m(\u001b[0m\u001b[0my_probs_cnn\u001b[0m\u001b[1;33m)\u001b[0m\u001b[1;33m,\u001b[0m\u001b[0mdecimals\u001b[0m\u001b[1;33m=\u001b[0m\u001b[1;36m5\u001b[0m\u001b[1;33m)\u001b[0m\u001b[1;33m,\u001b[0m \u001b[0mfmt\u001b[0m\u001b[1;33m=\u001b[0m\u001b[1;34m'%.5f'\u001b[0m\u001b[1;33m)\u001b[0m\u001b[1;33m\u001b[0m\u001b[1;33m\u001b[0m\u001b[0m\n",
      "\u001b[1;32m<__array_function__ internals>\u001b[0m in \u001b[0;36mconcatenate\u001b[1;34m(*args, **kwargs)\u001b[0m\n",
      "\u001b[1;31mValueError\u001b[0m: all the input array dimensions for the concatenation axis must match exactly, but along dimension 0, the array at index 0 has size 7332156 and the array at index 1 has size 611013"
     ]
    }
   ],
   "source": [
    "np.savetxt('cnn_predictions.txt', np.transpose(np.concatenate((y_test.to_numpy().reshape((y_test.size, 1)),y_pred_cnn), axis=1)), fmt='%01d')\n",
    "np.savetxt('cnn_prob_predictions.txt', np.around(np.transpose(y_probs_cnn),decimals=5), fmt='%.5f')\n"
   ]
  },
  {
   "cell_type": "code",
   "execution_count": 27,
   "metadata": {
    "id": "3ogjmKxKyvWI"
   },
   "outputs": [
    {
     "ename": "ValueError",
     "evalue": "Classification metrics can't handle a mix of multilabel-indicator and continuous-multioutput targets",
     "output_type": "error",
     "traceback": [
      "\u001b[1;31m---------------------------------------------------------------------------\u001b[0m",
      "\u001b[1;31mValueError\u001b[0m                                Traceback (most recent call last)",
      "\u001b[1;32m<ipython-input-27-f65276590c58>\u001b[0m in \u001b[0;36m<module>\u001b[1;34m\u001b[0m\n\u001b[1;32m----> 1\u001b[1;33m \u001b[0maccuracy\u001b[0m \u001b[1;33m=\u001b[0m \u001b[0maccuracy_score\u001b[0m\u001b[1;33m(\u001b[0m\u001b[0my_test\u001b[0m\u001b[1;33m,\u001b[0m \u001b[0my_pred_cnn\u001b[0m\u001b[1;33m)\u001b[0m\u001b[1;33m\u001b[0m\u001b[1;33m\u001b[0m\u001b[0m\n\u001b[0m\u001b[0;32m      2\u001b[0m \u001b[0mprint\u001b[0m\u001b[1;33m(\u001b[0m\u001b[1;34m\"accuracy:\"\u001b[0m\u001b[1;33m,\u001b[0m\u001b[0maccuracy\u001b[0m\u001b[1;33m)\u001b[0m\u001b[1;33m\u001b[0m\u001b[1;33m\u001b[0m\u001b[0m\n\u001b[0;32m      3\u001b[0m \u001b[0mf1score\u001b[0m\u001b[1;33m=\u001b[0m\u001b[0mf1_score\u001b[0m\u001b[1;33m(\u001b[0m\u001b[0my_test\u001b[0m\u001b[1;33m,\u001b[0m \u001b[0my_pred_cnn\u001b[0m\u001b[1;33m)\u001b[0m\u001b[1;33m\u001b[0m\u001b[1;33m\u001b[0m\u001b[0m\n\u001b[0;32m      4\u001b[0m \u001b[0mprint\u001b[0m\u001b[1;33m(\u001b[0m\u001b[1;34m\"f1-acore:\"\u001b[0m\u001b[1;33m,\u001b[0m\u001b[0mf1score\u001b[0m\u001b[1;33m)\u001b[0m\u001b[1;33m\u001b[0m\u001b[1;33m\u001b[0m\u001b[0m\n\u001b[0;32m      5\u001b[0m \u001b[0mcm\u001b[0m\u001b[1;33m=\u001b[0m\u001b[0mconfusion_matrix\u001b[0m\u001b[1;33m(\u001b[0m\u001b[0my_test\u001b[0m\u001b[1;33m,\u001b[0m \u001b[0my_pred_cnn\u001b[0m\u001b[1;33m)\u001b[0m\u001b[1;33m\u001b[0m\u001b[1;33m\u001b[0m\u001b[0m\n",
      "\u001b[1;32m~\\anaconda3\\lib\\site-packages\\sklearn\\utils\\validation.py\u001b[0m in \u001b[0;36minner_f\u001b[1;34m(*args, **kwargs)\u001b[0m\n\u001b[0;32m     61\u001b[0m             \u001b[0mextra_args\u001b[0m \u001b[1;33m=\u001b[0m \u001b[0mlen\u001b[0m\u001b[1;33m(\u001b[0m\u001b[0margs\u001b[0m\u001b[1;33m)\u001b[0m \u001b[1;33m-\u001b[0m \u001b[0mlen\u001b[0m\u001b[1;33m(\u001b[0m\u001b[0mall_args\u001b[0m\u001b[1;33m)\u001b[0m\u001b[1;33m\u001b[0m\u001b[1;33m\u001b[0m\u001b[0m\n\u001b[0;32m     62\u001b[0m             \u001b[1;32mif\u001b[0m \u001b[0mextra_args\u001b[0m \u001b[1;33m<=\u001b[0m \u001b[1;36m0\u001b[0m\u001b[1;33m:\u001b[0m\u001b[1;33m\u001b[0m\u001b[1;33m\u001b[0m\u001b[0m\n\u001b[1;32m---> 63\u001b[1;33m                 \u001b[1;32mreturn\u001b[0m \u001b[0mf\u001b[0m\u001b[1;33m(\u001b[0m\u001b[1;33m*\u001b[0m\u001b[0margs\u001b[0m\u001b[1;33m,\u001b[0m \u001b[1;33m**\u001b[0m\u001b[0mkwargs\u001b[0m\u001b[1;33m)\u001b[0m\u001b[1;33m\u001b[0m\u001b[1;33m\u001b[0m\u001b[0m\n\u001b[0m\u001b[0;32m     64\u001b[0m \u001b[1;33m\u001b[0m\u001b[0m\n\u001b[0;32m     65\u001b[0m             \u001b[1;31m# extra_args > 0\u001b[0m\u001b[1;33m\u001b[0m\u001b[1;33m\u001b[0m\u001b[1;33m\u001b[0m\u001b[0m\n",
      "\u001b[1;32m~\\anaconda3\\lib\\site-packages\\sklearn\\metrics\\_classification.py\u001b[0m in \u001b[0;36maccuracy_score\u001b[1;34m(y_true, y_pred, normalize, sample_weight)\u001b[0m\n\u001b[0;32m    200\u001b[0m \u001b[1;33m\u001b[0m\u001b[0m\n\u001b[0;32m    201\u001b[0m     \u001b[1;31m# Compute accuracy for each possible representation\u001b[0m\u001b[1;33m\u001b[0m\u001b[1;33m\u001b[0m\u001b[1;33m\u001b[0m\u001b[0m\n\u001b[1;32m--> 202\u001b[1;33m     \u001b[0my_type\u001b[0m\u001b[1;33m,\u001b[0m \u001b[0my_true\u001b[0m\u001b[1;33m,\u001b[0m \u001b[0my_pred\u001b[0m \u001b[1;33m=\u001b[0m \u001b[0m_check_targets\u001b[0m\u001b[1;33m(\u001b[0m\u001b[0my_true\u001b[0m\u001b[1;33m,\u001b[0m \u001b[0my_pred\u001b[0m\u001b[1;33m)\u001b[0m\u001b[1;33m\u001b[0m\u001b[1;33m\u001b[0m\u001b[0m\n\u001b[0m\u001b[0;32m    203\u001b[0m     \u001b[0mcheck_consistent_length\u001b[0m\u001b[1;33m(\u001b[0m\u001b[0my_true\u001b[0m\u001b[1;33m,\u001b[0m \u001b[0my_pred\u001b[0m\u001b[1;33m,\u001b[0m \u001b[0msample_weight\u001b[0m\u001b[1;33m)\u001b[0m\u001b[1;33m\u001b[0m\u001b[1;33m\u001b[0m\u001b[0m\n\u001b[0;32m    204\u001b[0m     \u001b[1;32mif\u001b[0m \u001b[0my_type\u001b[0m\u001b[1;33m.\u001b[0m\u001b[0mstartswith\u001b[0m\u001b[1;33m(\u001b[0m\u001b[1;34m'multilabel'\u001b[0m\u001b[1;33m)\u001b[0m\u001b[1;33m:\u001b[0m\u001b[1;33m\u001b[0m\u001b[1;33m\u001b[0m\u001b[0m\n",
      "\u001b[1;32m~\\anaconda3\\lib\\site-packages\\sklearn\\metrics\\_classification.py\u001b[0m in \u001b[0;36m_check_targets\u001b[1;34m(y_true, y_pred)\u001b[0m\n\u001b[0;32m     90\u001b[0m \u001b[1;33m\u001b[0m\u001b[0m\n\u001b[0;32m     91\u001b[0m     \u001b[1;32mif\u001b[0m \u001b[0mlen\u001b[0m\u001b[1;33m(\u001b[0m\u001b[0my_type\u001b[0m\u001b[1;33m)\u001b[0m \u001b[1;33m>\u001b[0m \u001b[1;36m1\u001b[0m\u001b[1;33m:\u001b[0m\u001b[1;33m\u001b[0m\u001b[1;33m\u001b[0m\u001b[0m\n\u001b[1;32m---> 92\u001b[1;33m         raise ValueError(\"Classification metrics can't handle a mix of {0} \"\n\u001b[0m\u001b[0;32m     93\u001b[0m                          \"and {1} targets\".format(type_true, type_pred))\n\u001b[0;32m     94\u001b[0m \u001b[1;33m\u001b[0m\u001b[0m\n",
      "\u001b[1;31mValueError\u001b[0m: Classification metrics can't handle a mix of multilabel-indicator and continuous-multioutput targets"
     ]
    }
   ],
   "source": [
    "accuracy = accuracy_score(y_test, y_pred_cnn)\n",
    "print(\"accuracy:\",accuracy)\n",
    "f1score=f1_score(y_test, y_pred_cnn)\n",
    "print(\"f1-acore:\",f1score)\n",
    "cm=confusion_matrix(y_test, y_pred_cnn)\n",
    "print(\"confusion matrix:\\n\",cm)\n",
    "pr=precision_score(y_test,y_pred_cnn)\n",
    "print(\"Precision:\",pr)\n",
    "rs=recall_score(y_test,y_pred_cnn)\n",
    "print(\"Recall_score:\",rs)"
   ]
  },
  {
   "cell_type": "code",
   "execution_count": 28,
   "metadata": {
    "id": "NX9UWe2IywYi"
   },
   "outputs": [
    {
     "ename": "AttributeError",
     "evalue": "'Sequential' object has no attribute 'classes_'",
     "output_type": "error",
     "traceback": [
      "\u001b[1;31m---------------------------------------------------------------------------\u001b[0m",
      "\u001b[1;31mAttributeError\u001b[0m                            Traceback (most recent call last)",
      "\u001b[1;32m<ipython-input-28-04c400698617>\u001b[0m in \u001b[0;36m<module>\u001b[1;34m\u001b[0m\n\u001b[0;32m      1\u001b[0m \u001b[1;32mimport\u001b[0m \u001b[0mmatplotlib\u001b[0m\u001b[1;33m.\u001b[0m\u001b[0mpyplot\u001b[0m \u001b[1;32mas\u001b[0m \u001b[0mplt\u001b[0m\u001b[1;33m\u001b[0m\u001b[1;33m\u001b[0m\u001b[0m\n\u001b[0;32m      2\u001b[0m \u001b[1;32mfrom\u001b[0m \u001b[0msklearn\u001b[0m\u001b[1;33m.\u001b[0m\u001b[0mmetrics\u001b[0m \u001b[1;32mimport\u001b[0m \u001b[0mconfusion_matrix\u001b[0m\u001b[1;33m,\u001b[0m \u001b[0mConfusionMatrixDisplay\u001b[0m\u001b[1;33m\u001b[0m\u001b[1;33m\u001b[0m\u001b[0m\n\u001b[1;32m----> 3\u001b[1;33m \u001b[0mcm\u001b[0m \u001b[1;33m=\u001b[0m \u001b[0mconfusion_matrix\u001b[0m\u001b[1;33m(\u001b[0m\u001b[0my_test\u001b[0m\u001b[1;33m,\u001b[0m \u001b[0my_pred_cnn\u001b[0m\u001b[1;33m,\u001b[0m \u001b[0mlabels\u001b[0m\u001b[1;33m=\u001b[0m\u001b[0mmodel_cnn\u001b[0m\u001b[1;33m.\u001b[0m\u001b[0mclasses_\u001b[0m\u001b[1;33m)\u001b[0m\u001b[1;33m\u001b[0m\u001b[1;33m\u001b[0m\u001b[0m\n\u001b[0m\u001b[0;32m      4\u001b[0m \u001b[0mdisp\u001b[0m \u001b[1;33m=\u001b[0m \u001b[0mConfusionMatrixDisplay\u001b[0m\u001b[1;33m(\u001b[0m\u001b[0mconfusion_matrix\u001b[0m\u001b[1;33m=\u001b[0m\u001b[0mcm\u001b[0m\u001b[1;33m,\u001b[0m\u001b[0mdisplay_labels\u001b[0m\u001b[1;33m=\u001b[0m\u001b[0mmodel_cnn\u001b[0m\u001b[1;33m.\u001b[0m\u001b[0mclasses_\u001b[0m\u001b[1;33m)\u001b[0m\u001b[1;33m\u001b[0m\u001b[1;33m\u001b[0m\u001b[0m\n\u001b[0;32m      5\u001b[0m \u001b[0mplt\u001b[0m\u001b[1;33m.\u001b[0m\u001b[0mtitle\u001b[0m\u001b[1;33m(\u001b[0m\u001b[1;34m\"CNN-Confusion Matrix\"\u001b[0m\u001b[1;33m)\u001b[0m\u001b[1;33m\u001b[0m\u001b[1;33m\u001b[0m\u001b[0m\n",
      "\u001b[1;31mAttributeError\u001b[0m: 'Sequential' object has no attribute 'classes_'"
     ]
    }
   ],
   "source": [
    "import matplotlib.pyplot as plt\n",
    "from sklearn.metrics import confusion_matrix, ConfusionMatrixDisplay\n",
    "cm = confusion_matrix(y_test, y_pred_cnn, labels=model_cnn.classes_)\n",
    "disp = ConfusionMatrixDisplay(confusion_matrix=cm,display_labels=model_cnn.classes_)\n",
    "plt.title(\"CNN-Confusion Matrix\")\n",
    "plt.show()"
   ]
  },
  {
   "cell_type": "markdown",
   "metadata": {
    "id": "ZlOidmMEy1ZY"
   },
   "source": [
    "## ROC Curves"
   ]
  },
  {
   "cell_type": "code",
   "execution_count": 29,
   "metadata": {
    "id": "XzYMfA6jy12v"
   },
   "outputs": [
    {
     "ename": "ValueError",
     "evalue": "multilabel-indicator format is not supported",
     "output_type": "error",
     "traceback": [
      "\u001b[1;31m---------------------------------------------------------------------------\u001b[0m",
      "\u001b[1;31mValueError\u001b[0m                                Traceback (most recent call last)",
      "\u001b[1;32m<ipython-input-29-abbacbb7c9d8>\u001b[0m in \u001b[0;36m<module>\u001b[1;34m\u001b[0m\n\u001b[0;32m      1\u001b[0m \u001b[1;32mfrom\u001b[0m \u001b[0msklearn\u001b[0m\u001b[1;33m.\u001b[0m\u001b[0mmetrics\u001b[0m \u001b[1;32mimport\u001b[0m \u001b[0mroc_curve\u001b[0m\u001b[1;33m,\u001b[0m \u001b[0mauc\u001b[0m\u001b[1;33m,\u001b[0m\u001b[0mroc_auc_score\u001b[0m\u001b[1;33m\u001b[0m\u001b[1;33m\u001b[0m\u001b[0m\n\u001b[0;32m      2\u001b[0m \u001b[0mplt\u001b[0m\u001b[1;33m.\u001b[0m\u001b[0mfigure\u001b[0m\u001b[1;33m(\u001b[0m\u001b[1;33m)\u001b[0m\u001b[1;33m\u001b[0m\u001b[1;33m\u001b[0m\u001b[0m\n\u001b[1;32m----> 3\u001b[1;33m \u001b[0mfpr\u001b[0m\u001b[1;33m,\u001b[0m \u001b[0mtpr\u001b[0m\u001b[1;33m,\u001b[0m \u001b[0mthresholds\u001b[0m \u001b[1;33m=\u001b[0m  \u001b[0mroc_curve\u001b[0m\u001b[1;33m(\u001b[0m\u001b[0my_test\u001b[0m\u001b[1;33m,\u001b[0m \u001b[0my_probs_cnn\u001b[0m\u001b[1;33m)\u001b[0m\u001b[1;33m\u001b[0m\u001b[1;33m\u001b[0m\u001b[0m\n\u001b[0m\u001b[0;32m      4\u001b[0m \u001b[0mauc\u001b[0m \u001b[1;33m=\u001b[0m  \u001b[0mroc_auc_score\u001b[0m\u001b[1;33m(\u001b[0m\u001b[0my_test\u001b[0m\u001b[1;33m,\u001b[0m\u001b[0my_pred_cnn\u001b[0m\u001b[1;33m)\u001b[0m\u001b[1;33m\u001b[0m\u001b[1;33m\u001b[0m\u001b[0m\n\u001b[0;32m      5\u001b[0m \u001b[0mplt\u001b[0m\u001b[1;33m.\u001b[0m\u001b[0mplot\u001b[0m\u001b[1;33m(\u001b[0m\u001b[0mfpr\u001b[0m\u001b[1;33m,\u001b[0m \u001b[0mtpr\u001b[0m\u001b[1;33m,\u001b[0m \u001b[0mlabel\u001b[0m\u001b[1;33m=\u001b[0m\u001b[1;34m'%s ROC (area = %0.2f)'\u001b[0m \u001b[1;33m%\u001b[0m \u001b[1;33m(\u001b[0m\u001b[1;34m'CNN'\u001b[0m\u001b[1;33m,\u001b[0m \u001b[0mauc\u001b[0m\u001b[1;33m)\u001b[0m\u001b[1;33m)\u001b[0m\u001b[1;33m\u001b[0m\u001b[1;33m\u001b[0m\u001b[0m\n",
      "\u001b[1;32m~\\anaconda3\\lib\\site-packages\\sklearn\\utils\\validation.py\u001b[0m in \u001b[0;36minner_f\u001b[1;34m(*args, **kwargs)\u001b[0m\n\u001b[0;32m     61\u001b[0m             \u001b[0mextra_args\u001b[0m \u001b[1;33m=\u001b[0m \u001b[0mlen\u001b[0m\u001b[1;33m(\u001b[0m\u001b[0margs\u001b[0m\u001b[1;33m)\u001b[0m \u001b[1;33m-\u001b[0m \u001b[0mlen\u001b[0m\u001b[1;33m(\u001b[0m\u001b[0mall_args\u001b[0m\u001b[1;33m)\u001b[0m\u001b[1;33m\u001b[0m\u001b[1;33m\u001b[0m\u001b[0m\n\u001b[0;32m     62\u001b[0m             \u001b[1;32mif\u001b[0m \u001b[0mextra_args\u001b[0m \u001b[1;33m<=\u001b[0m \u001b[1;36m0\u001b[0m\u001b[1;33m:\u001b[0m\u001b[1;33m\u001b[0m\u001b[1;33m\u001b[0m\u001b[0m\n\u001b[1;32m---> 63\u001b[1;33m                 \u001b[1;32mreturn\u001b[0m \u001b[0mf\u001b[0m\u001b[1;33m(\u001b[0m\u001b[1;33m*\u001b[0m\u001b[0margs\u001b[0m\u001b[1;33m,\u001b[0m \u001b[1;33m**\u001b[0m\u001b[0mkwargs\u001b[0m\u001b[1;33m)\u001b[0m\u001b[1;33m\u001b[0m\u001b[1;33m\u001b[0m\u001b[0m\n\u001b[0m\u001b[0;32m     64\u001b[0m \u001b[1;33m\u001b[0m\u001b[0m\n\u001b[0;32m     65\u001b[0m             \u001b[1;31m# extra_args > 0\u001b[0m\u001b[1;33m\u001b[0m\u001b[1;33m\u001b[0m\u001b[1;33m\u001b[0m\u001b[0m\n",
      "\u001b[1;32m~\\anaconda3\\lib\\site-packages\\sklearn\\metrics\\_ranking.py\u001b[0m in \u001b[0;36mroc_curve\u001b[1;34m(y_true, y_score, pos_label, sample_weight, drop_intermediate)\u001b[0m\n\u001b[0;32m    911\u001b[0m \u001b[1;33m\u001b[0m\u001b[0m\n\u001b[0;32m    912\u001b[0m     \"\"\"\n\u001b[1;32m--> 913\u001b[1;33m     fps, tps, thresholds = _binary_clf_curve(\n\u001b[0m\u001b[0;32m    914\u001b[0m         y_true, y_score, pos_label=pos_label, sample_weight=sample_weight)\n\u001b[0;32m    915\u001b[0m \u001b[1;33m\u001b[0m\u001b[0m\n",
      "\u001b[1;32m~\\anaconda3\\lib\\site-packages\\sklearn\\metrics\\_ranking.py\u001b[0m in \u001b[0;36m_binary_clf_curve\u001b[1;34m(y_true, y_score, pos_label, sample_weight)\u001b[0m\n\u001b[0;32m    689\u001b[0m     if not (y_type == \"binary\" or\n\u001b[0;32m    690\u001b[0m             (y_type == \"multiclass\" and pos_label is not None)):\n\u001b[1;32m--> 691\u001b[1;33m         \u001b[1;32mraise\u001b[0m \u001b[0mValueError\u001b[0m\u001b[1;33m(\u001b[0m\u001b[1;34m\"{0} format is not supported\"\u001b[0m\u001b[1;33m.\u001b[0m\u001b[0mformat\u001b[0m\u001b[1;33m(\u001b[0m\u001b[0my_type\u001b[0m\u001b[1;33m)\u001b[0m\u001b[1;33m)\u001b[0m\u001b[1;33m\u001b[0m\u001b[1;33m\u001b[0m\u001b[0m\n\u001b[0m\u001b[0;32m    692\u001b[0m \u001b[1;33m\u001b[0m\u001b[0m\n\u001b[0;32m    693\u001b[0m     \u001b[0mcheck_consistent_length\u001b[0m\u001b[1;33m(\u001b[0m\u001b[0my_true\u001b[0m\u001b[1;33m,\u001b[0m \u001b[0my_score\u001b[0m\u001b[1;33m,\u001b[0m \u001b[0msample_weight\u001b[0m\u001b[1;33m)\u001b[0m\u001b[1;33m\u001b[0m\u001b[1;33m\u001b[0m\u001b[0m\n",
      "\u001b[1;31mValueError\u001b[0m: multilabel-indicator format is not supported"
     ]
    },
    {
     "data": {
      "text/plain": [
       "<Figure size 432x288 with 0 Axes>"
      ]
     },
     "metadata": {},
     "output_type": "display_data"
    }
   ],
   "source": [
    "from sklearn.metrics import roc_curve, auc,roc_auc_score\n",
    "plt.figure()\n",
    "fpr, tpr, thresholds =  roc_curve(y_test, y_probs_cnn)\n",
    "auc =  roc_auc_score(y_test,y_pred_cnn)\n",
    "plt.plot(fpr, tpr, label='%s ROC (area = %0.2f)' % ('CNN', auc))\n",
    "plt.plot([0, 1], [0, 1],'r--')\n",
    "plt.xlim([0.0, 1.0])\n",
    "plt.ylim([0.0, 1.05])\n",
    "plt.xlabel('1-Specificity(False Positive Rate)')\n",
    "plt.ylabel('Sensitivity(True Positive Rate)')\n",
    "plt.title('ROC -- Deep Learning Algorithms')\n",
    "plt.legend(loc=\"lower right\")\n",
    "plt.rcParams['figure.figsize']=(16,8)\n",
    "plt.show()   # Display\n"
   ]
  },
  {
   "cell_type": "code",
   "execution_count": null,
   "metadata": {},
   "outputs": [],
   "source": []
  }
 ],
 "metadata": {
  "colab": {
   "provenance": []
  },
  "kernelspec": {
   "display_name": "Python 3",
   "language": "python",
   "name": "python3"
  },
  "language_info": {
   "codemirror_mode": {
    "name": "ipython",
    "version": 3
   },
   "file_extension": ".py",
   "mimetype": "text/x-python",
   "name": "python",
   "nbconvert_exporter": "python",
   "pygments_lexer": "ipython3",
   "version": "3.8.8"
  }
 },
 "nbformat": 4,
 "nbformat_minor": 1
}
