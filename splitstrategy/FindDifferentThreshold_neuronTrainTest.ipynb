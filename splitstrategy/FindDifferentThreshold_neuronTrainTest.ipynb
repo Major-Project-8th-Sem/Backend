{
  "cells": [
    {
      "cell_type": "code",
      "execution_count": 1,
      "metadata": {
        "id": "eQYWfQfvzYaN"
      },
      "outputs": [],
      "source": [
        "# All  import statements needed for the notebook\n",
        "import pandas as pd\n",
        "import numpy as np\n",
        "import matplotlib.pyplot as plt\n",
        "import seaborn as sns\n",
        "import sklearn\n",
        "from sklearn.metrics import *"
      ]
    },
    {
      "cell_type": "code",
      "execution_count": 2,
      "metadata": {
        "colab": {
          "base_uri": "https://localhost:8080/"
        },
        "id": "TtA_XtKo0MYw",
        "outputId": "2c9fc116-0973-443f-aa8c-9e51aedfd834"
      },
      "outputs": [
        {
          "output_type": "execute_result",
          "data": {
            "text/plain": [
              "[PhysicalDevice(name='/physical_device:GPU:0', device_type='GPU')]"
            ]
          },
          "metadata": {},
          "execution_count": 2
        }
      ],
      "source": [
        "import tensorflow as tf\n",
        "tf.config.list_physical_devices('GPU')"
      ]
    },
    {
      "cell_type": "code",
      "execution_count": 3,
      "metadata": {
        "colab": {
          "base_uri": "https://localhost:8080/"
        },
        "id": "2ovSjSe00Ri_",
        "outputId": "ec3bbbc8-cdc8-4a0d-c175-8c8d9f14221d"
      },
      "outputs": [
        {
          "output_type": "stream",
          "name": "stdout",
          "text": [
            "Drive already mounted at /content/drive; to attempt to forcibly remount, call drive.mount(\"/content/drive\", force_remount=True).\n"
          ]
        }
      ],
      "source": [
        "from google.colab import drive\n",
        "drive.mount('/content/drive')"
      ]
    },
    {
      "cell_type": "code",
      "execution_count": 4,
      "metadata": {
        "id": "Zk1jSDcr0WLx"
      },
      "outputs": [],
      "source": [
        "data = pd.read_csv('/content/drive/MyDrive/balancedhalf_data.csv')\n",
        "\n",
        "data.drop(data.columns[0] , inplace=True , axis=1)\n",
        "\n",
        "unknown = ['SSH-Patator','DoS slowloris','DoS Slowhttptest','Bot','Infiltration','Heartbleed']\n",
        "att = data.loc[(data['Label'].isin(unknown))]\n",
        "\n",
        "data.drop(att.index,axis=0 , inplace=True, errors='ignore')"
      ]
    },
    {
      "cell_type": "code",
      "execution_count": 5,
      "metadata": {
        "id": "N_ykXFnb0bKH"
      },
      "outputs": [],
      "source": [
        "## PreProcessing\n",
        "\n",
        "# importing required libraries for normalizing data\n",
        "from sklearn import preprocessing\n",
        "from sklearn.preprocessing import MinMaxScaler\n",
        "# selecting numeric attributes columns from data\n",
        "numeric_col = data.select_dtypes(include='number').columns\n",
        "\n",
        "# using standard scaler for normalizing\n",
        "std_scaler = MinMaxScaler()\n",
        "def normalization(df,att,col):\n",
        "  for i in col:\n",
        "    arr = df[i]\n",
        "    arr = np.array(arr)\n",
        "    x = np.array(att[i])\n",
        "    df[i] = std_scaler.fit_transform(arr.reshape(len(arr),1))\n",
        "    #To use the same scaler which was used in preprocessing the train data \n",
        "    att[i] = std_scaler.transform(x.reshape(len(x),1))\n",
        "  return df,att\n",
        "# calling the normalization() function\n",
        "data , att = normalization(data.copy(),att.copy(),numeric_col)\n",
        "\n",
        "data.shape , att.shape\n",
        "\n",
        "att.Label = 'unknown'\n",
        "\n",
        "X = att.drop('Label' , axis=1)\n",
        "X = X.to_numpy().reshape(-1, 83,1)\n",
        "\n",
        "y = att.Label\n",
        "\n",
        "X_train = data.drop('Label' , axis=1)\n",
        "X_train = X_train.to_numpy().reshape(-1, 83,1)\n",
        "\n",
        "y_train = data.Label"
      ]
    },
    {
      "cell_type": "code",
      "execution_count": 6,
      "metadata": {
        "id": "R7qTGG830eZC"
      },
      "outputs": [],
      "source": [
        "# **Load Model and Predict**\n",
        "MODEL = '/content/drive/MyDrive/models/model_split_softmax_cnn_model.hdf5'\n",
        "from tensorflow import keras\n",
        "model = keras.models.load_model(MODEL)"
      ]
    },
    {
      "cell_type": "code",
      "source": [
        "from sklearn.model_selection import train_test_split\n",
        "X_train_set, X_test_set, y_train_set, y_test_set = train_test_split(X_train, y_train, test_size=0.33, random_state=42)"
      ],
      "metadata": {
        "id": "FuQ-kGEcyhlu"
      },
      "execution_count": 7,
      "outputs": []
    },
    {
      "cell_type": "code",
      "execution_count": 8,
      "metadata": {
        "colab": {
          "base_uri": "https://localhost:8080/"
        },
        "id": "skNMMvsW1HKj",
        "outputId": "f7ebd078-0736-4cab-9c80-228786ce9b35"
      },
      "outputs": [
        {
          "output_type": "stream",
          "name": "stdout",
          "text": [
            "22859/22859 [==============================] - 57s 2ms/step\n"
          ]
        }
      ],
      "source": [
        "Y_train_predicted = model.predict(X_train_set)"
      ]
    },
    {
      "cell_type": "code",
      "execution_count": 9,
      "metadata": {
        "id": "DZj9D7or2dSQ"
      },
      "outputs": [],
      "source": [
        "LABELS = ['BENIGN','DDoS','DoS GoldenEye','DoS Hulk','FTP-Patator','PortScan']"
      ]
    },
    {
      "cell_type": "code",
      "execution_count": 10,
      "metadata": {
        "id": "V49DTHmm4EJC"
      },
      "outputs": [],
      "source": [
        "y_prediction_index = np.argmax(Y_train_predicted, axis = 1)"
      ]
    },
    {
      "cell_type": "code",
      "execution_count": 11,
      "metadata": {
        "id": "zEqNC1zJ3oRJ"
      },
      "outputs": [],
      "source": [
        "df = pd.DataFrame(data=Y_train_predicted,columns=LABELS)"
      ]
    },
    {
      "cell_type": "code",
      "execution_count": 12,
      "metadata": {
        "id": "H5yuypHk198w"
      },
      "outputs": [],
      "source": [
        "labeltoindex = {\n",
        "    'BENIGN':0,'DDoS':1,'DoS Hulk':3,'DoS GoldenEye':2,'PortScan':5,'FTP-Patator':4\n",
        "}"
      ]
    },
    {
      "cell_type": "code",
      "execution_count": 13,
      "metadata": {
        "colab": {
          "base_uri": "https://localhost:8080/"
        },
        "id": "oD27wmUu2gev",
        "outputId": "ad41ee25-ec85-43b2-8e32-61c24efa7560"
      },
      "outputs": [
        {
          "output_type": "execute_result",
          "data": {
            "text/plain": [
              "array([5, 0, 3, ..., 0, 1, 0])"
            ]
          },
          "metadata": {},
          "execution_count": 13
        }
      ],
      "source": [
        "np.vectorize(labeltoindex.get)(y_train_set)"
      ]
    },
    {
      "cell_type": "code",
      "execution_count": 14,
      "metadata": {
        "id": "FsHOeakN42ny"
      },
      "outputs": [],
      "source": [
        "TRUELY_PREDICTED = np.vectorize(labeltoindex.get)(y_train_set) == y_prediction_index"
      ]
    },
    {
      "cell_type": "code",
      "execution_count": 15,
      "metadata": {
        "colab": {
          "base_uri": "https://localhost:8080/"
        },
        "id": "8iqChSs84CaM",
        "outputId": "007fba90-091e-403a-9a68-d6fb555e5322"
      },
      "outputs": [
        {
          "output_type": "execute_result",
          "data": {
            "text/plain": [
              "True     731027\n",
              "False       430\n",
              "dtype: int64"
            ]
          },
          "metadata": {},
          "execution_count": 15
        }
      ],
      "source": [
        "pd.Series(TRUELY_PREDICTED).value_counts()"
      ]
    },
    {
      "cell_type": "code",
      "execution_count": 16,
      "metadata": {
        "colab": {
          "base_uri": "https://localhost:8080/",
          "height": 206
        },
        "id": "0VyZb9gh5zyd",
        "outputId": "2f0b8753-19cd-41ac-8108-39e90888b3db"
      },
      "outputs": [
        {
          "output_type": "execute_result",
          "data": {
            "text/plain": [
              "         BENIGN  DDoS  DoS GoldenEye  DoS Hulk  FTP-Patator  PortScan\n",
              "0  0.000000e+00   0.0   0.000000e+00       0.0          0.0       1.0\n",
              "1  1.000000e+00   0.0   0.000000e+00       0.0          0.0       0.0\n",
              "2  0.000000e+00   0.0   0.000000e+00       1.0          0.0       0.0\n",
              "3  2.404753e-26   0.0   4.052720e-36       1.0          0.0       0.0\n",
              "4  1.000000e+00   0.0   0.000000e+00       0.0          0.0       0.0"
            ],
            "text/html": [
              "\n",
              "  <div id=\"df-d7b3325c-a633-4623-80e2-c8302f47e270\">\n",
              "    <div class=\"colab-df-container\">\n",
              "      <div>\n",
              "<style scoped>\n",
              "    .dataframe tbody tr th:only-of-type {\n",
              "        vertical-align: middle;\n",
              "    }\n",
              "\n",
              "    .dataframe tbody tr th {\n",
              "        vertical-align: top;\n",
              "    }\n",
              "\n",
              "    .dataframe thead th {\n",
              "        text-align: right;\n",
              "    }\n",
              "</style>\n",
              "<table border=\"1\" class=\"dataframe\">\n",
              "  <thead>\n",
              "    <tr style=\"text-align: right;\">\n",
              "      <th></th>\n",
              "      <th>BENIGN</th>\n",
              "      <th>DDoS</th>\n",
              "      <th>DoS GoldenEye</th>\n",
              "      <th>DoS Hulk</th>\n",
              "      <th>FTP-Patator</th>\n",
              "      <th>PortScan</th>\n",
              "    </tr>\n",
              "  </thead>\n",
              "  <tbody>\n",
              "    <tr>\n",
              "      <th>0</th>\n",
              "      <td>0.000000e+00</td>\n",
              "      <td>0.0</td>\n",
              "      <td>0.000000e+00</td>\n",
              "      <td>0.0</td>\n",
              "      <td>0.0</td>\n",
              "      <td>1.0</td>\n",
              "    </tr>\n",
              "    <tr>\n",
              "      <th>1</th>\n",
              "      <td>1.000000e+00</td>\n",
              "      <td>0.0</td>\n",
              "      <td>0.000000e+00</td>\n",
              "      <td>0.0</td>\n",
              "      <td>0.0</td>\n",
              "      <td>0.0</td>\n",
              "    </tr>\n",
              "    <tr>\n",
              "      <th>2</th>\n",
              "      <td>0.000000e+00</td>\n",
              "      <td>0.0</td>\n",
              "      <td>0.000000e+00</td>\n",
              "      <td>1.0</td>\n",
              "      <td>0.0</td>\n",
              "      <td>0.0</td>\n",
              "    </tr>\n",
              "    <tr>\n",
              "      <th>3</th>\n",
              "      <td>2.404753e-26</td>\n",
              "      <td>0.0</td>\n",
              "      <td>4.052720e-36</td>\n",
              "      <td>1.0</td>\n",
              "      <td>0.0</td>\n",
              "      <td>0.0</td>\n",
              "    </tr>\n",
              "    <tr>\n",
              "      <th>4</th>\n",
              "      <td>1.000000e+00</td>\n",
              "      <td>0.0</td>\n",
              "      <td>0.000000e+00</td>\n",
              "      <td>0.0</td>\n",
              "      <td>0.0</td>\n",
              "      <td>0.0</td>\n",
              "    </tr>\n",
              "  </tbody>\n",
              "</table>\n",
              "</div>\n",
              "      <button class=\"colab-df-convert\" onclick=\"convertToInteractive('df-d7b3325c-a633-4623-80e2-c8302f47e270')\"\n",
              "              title=\"Convert this dataframe to an interactive table.\"\n",
              "              style=\"display:none;\">\n",
              "        \n",
              "  <svg xmlns=\"http://www.w3.org/2000/svg\" height=\"24px\"viewBox=\"0 0 24 24\"\n",
              "       width=\"24px\">\n",
              "    <path d=\"M0 0h24v24H0V0z\" fill=\"none\"/>\n",
              "    <path d=\"M18.56 5.44l.94 2.06.94-2.06 2.06-.94-2.06-.94-.94-2.06-.94 2.06-2.06.94zm-11 1L8.5 8.5l.94-2.06 2.06-.94-2.06-.94L8.5 2.5l-.94 2.06-2.06.94zm10 10l.94 2.06.94-2.06 2.06-.94-2.06-.94-.94-2.06-.94 2.06-2.06.94z\"/><path d=\"M17.41 7.96l-1.37-1.37c-.4-.4-.92-.59-1.43-.59-.52 0-1.04.2-1.43.59L10.3 9.45l-7.72 7.72c-.78.78-.78 2.05 0 2.83L4 21.41c.39.39.9.59 1.41.59.51 0 1.02-.2 1.41-.59l7.78-7.78 2.81-2.81c.8-.78.8-2.07 0-2.86zM5.41 20L4 18.59l7.72-7.72 1.47 1.35L5.41 20z\"/>\n",
              "  </svg>\n",
              "      </button>\n",
              "      \n",
              "  <style>\n",
              "    .colab-df-container {\n",
              "      display:flex;\n",
              "      flex-wrap:wrap;\n",
              "      gap: 12px;\n",
              "    }\n",
              "\n",
              "    .colab-df-convert {\n",
              "      background-color: #E8F0FE;\n",
              "      border: none;\n",
              "      border-radius: 50%;\n",
              "      cursor: pointer;\n",
              "      display: none;\n",
              "      fill: #1967D2;\n",
              "      height: 32px;\n",
              "      padding: 0 0 0 0;\n",
              "      width: 32px;\n",
              "    }\n",
              "\n",
              "    .colab-df-convert:hover {\n",
              "      background-color: #E2EBFA;\n",
              "      box-shadow: 0px 1px 2px rgba(60, 64, 67, 0.3), 0px 1px 3px 1px rgba(60, 64, 67, 0.15);\n",
              "      fill: #174EA6;\n",
              "    }\n",
              "\n",
              "    [theme=dark] .colab-df-convert {\n",
              "      background-color: #3B4455;\n",
              "      fill: #D2E3FC;\n",
              "    }\n",
              "\n",
              "    [theme=dark] .colab-df-convert:hover {\n",
              "      background-color: #434B5C;\n",
              "      box-shadow: 0px 1px 3px 1px rgba(0, 0, 0, 0.15);\n",
              "      filter: drop-shadow(0px 1px 2px rgba(0, 0, 0, 0.3));\n",
              "      fill: #FFFFFF;\n",
              "    }\n",
              "  </style>\n",
              "\n",
              "      <script>\n",
              "        const buttonEl =\n",
              "          document.querySelector('#df-d7b3325c-a633-4623-80e2-c8302f47e270 button.colab-df-convert');\n",
              "        buttonEl.style.display =\n",
              "          google.colab.kernel.accessAllowed ? 'block' : 'none';\n",
              "\n",
              "        async function convertToInteractive(key) {\n",
              "          const element = document.querySelector('#df-d7b3325c-a633-4623-80e2-c8302f47e270');\n",
              "          const dataTable =\n",
              "            await google.colab.kernel.invokeFunction('convertToInteractive',\n",
              "                                                     [key], {});\n",
              "          if (!dataTable) return;\n",
              "\n",
              "          const docLinkHtml = 'Like what you see? Visit the ' +\n",
              "            '<a target=\"_blank\" href=https://colab.research.google.com/notebooks/data_table.ipynb>data table notebook</a>'\n",
              "            + ' to learn more about interactive tables.';\n",
              "          element.innerHTML = '';\n",
              "          dataTable['output_type'] = 'display_data';\n",
              "          await google.colab.output.renderOutput(dataTable, element);\n",
              "          const docLink = document.createElement('div');\n",
              "          docLink.innerHTML = docLinkHtml;\n",
              "          element.appendChild(docLink);\n",
              "        }\n",
              "      </script>\n",
              "    </div>\n",
              "  </div>\n",
              "  "
            ]
          },
          "metadata": {},
          "execution_count": 16
        }
      ],
      "source": [
        "df.head()"
      ]
    },
    {
      "cell_type": "code",
      "execution_count": 17,
      "metadata": {
        "id": "a1TqTCBk3ito"
      },
      "outputs": [],
      "source": [
        "df['INDEX_WIN'] = np.where( TRUELY_PREDICTED == True , y_prediction_index, '')"
      ]
    },
    {
      "cell_type": "code",
      "execution_count": 18,
      "metadata": {
        "colab": {
          "base_uri": "https://localhost:8080/"
        },
        "id": "tmZnMXRJ6Dis",
        "outputId": "2de4366b-c588-495f-af5d-af7018901d84"
      },
      "outputs": [
        {
          "output_type": "execute_result",
          "data": {
            "text/plain": [
              "(731457, 7)"
            ]
          },
          "metadata": {},
          "execution_count": 18
        }
      ],
      "source": [
        "df.shape"
      ]
    },
    {
      "cell_type": "code",
      "execution_count": 19,
      "metadata": {
        "id": "WKryPw-Q4aML"
      },
      "outputs": [],
      "source": [
        "df = df[df['INDEX_WIN'] != '']"
      ]
    },
    {
      "cell_type": "code",
      "execution_count": 20,
      "metadata": {
        "colab": {
          "base_uri": "https://localhost:8080/"
        },
        "id": "33dfbqcRoOVO",
        "outputId": "824386f7-1415-493c-987a-4813d62d71fa"
      },
      "outputs": [
        {
          "output_type": "execute_result",
          "data": {
            "text/plain": [
              "(731027, 7)"
            ]
          },
          "metadata": {},
          "execution_count": 20
        }
      ],
      "source": [
        "df.shape"
      ]
    },
    {
      "cell_type": "code",
      "execution_count": 21,
      "metadata": {
        "colab": {
          "base_uri": "https://localhost:8080/"
        },
        "id": "kD-Ea3tp4zLI",
        "outputId": "8570a68c-ab71-495c-c9a7-2a3947586982"
      },
      "outputs": [
        {
          "output_type": "execute_result",
          "data": {
            "text/plain": [
              "0    371886\n",
              "3    154828\n",
              "5    106584\n",
              "1     85603\n",
              "2      6822\n",
              "4      5304\n",
              "Name: INDEX_WIN, dtype: int64"
            ]
          },
          "metadata": {},
          "execution_count": 21
        }
      ],
      "source": [
        "df['INDEX_WIN'].value_counts()"
      ]
    },
    {
      "cell_type": "code",
      "execution_count": 22,
      "metadata": {
        "colab": {
          "base_uri": "https://localhost:8080/"
        },
        "id": "2g5hb3_FsT0P",
        "outputId": "988898ae-973a-4be9-9192-2cf1857ad3d4"
      },
      "outputs": [
        {
          "output_type": "execute_result",
          "data": {
            "text/plain": [
              "BENIGN           float32\n",
              "DDoS             float32\n",
              "DoS GoldenEye    float32\n",
              "DoS Hulk         float32\n",
              "FTP-Patator      float32\n",
              "PortScan         float32\n",
              "INDEX_WIN         object\n",
              "dtype: object"
            ]
          },
          "metadata": {},
          "execution_count": 22
        }
      ],
      "source": [
        "df.dtypes"
      ]
    },
    {
      "cell_type": "code",
      "execution_count": 23,
      "metadata": {
        "id": "odZHtGQ5siUj"
      },
      "outputs": [],
      "source": [
        "df.INDEX_WIN = df.INDEX_WIN.astype('int')"
      ]
    },
    {
      "cell_type": "code",
      "execution_count": 24,
      "metadata": {
        "colab": {
          "base_uri": "https://localhost:8080/"
        },
        "id": "Zk-JYpM_sqsQ",
        "outputId": "9c76d22a-3860-4cb3-9167-65774a710e03"
      },
      "outputs": [
        {
          "output_type": "execute_result",
          "data": {
            "text/plain": [
              "BENIGN           float32\n",
              "DDoS             float32\n",
              "DoS GoldenEye    float32\n",
              "DoS Hulk         float32\n",
              "FTP-Patator      float32\n",
              "PortScan         float32\n",
              "INDEX_WIN          int64\n",
              "dtype: object"
            ]
          },
          "metadata": {},
          "execution_count": 24
        }
      ],
      "source": [
        "df.dtypes"
      ]
    },
    {
      "cell_type": "code",
      "execution_count": 25,
      "metadata": {
        "id": "Nkur5SU-spEL"
      },
      "outputs": [],
      "source": [
        "threshold_values = {}\n",
        "def to_do(df):\n",
        "  ind = df['INDEX_WIN'].to_numpy()[0]\n",
        "  LABELS = ['BENIGN','DDoS','DoS GoldenEye','DoS Hulk','FTP-Patator','PortScan']  \n",
        "  label = LABELS[ind] \n",
        "  import numpy as np\n",
        "  threshold =  np.amin(df[label])\n",
        "  threshold_values[label] = threshold\n",
        "  return threshold"
      ]
    },
    {
      "cell_type": "code",
      "execution_count": 26,
      "metadata": {
        "colab": {
          "base_uri": "https://localhost:8080/"
        },
        "id": "LjsWeu365Tgq",
        "outputId": "6d697ada-3a7e-4a4a-8989-2a7edb8b659b"
      },
      "outputs": [
        {
          "output_type": "execute_result",
          "data": {
            "text/plain": [
              "INDEX_WIN\n",
              "0    0.376277\n",
              "1    1.000000\n",
              "2    0.975764\n",
              "3    0.700373\n",
              "4    1.000000\n",
              "5    0.910532\n",
              "dtype: float32"
            ]
          },
          "metadata": {},
          "execution_count": 26
        }
      ],
      "source": [
        "df.groupby(['INDEX_WIN'], group_keys=True).apply(to_do)"
      ]
    },
    {
      "cell_type": "code",
      "execution_count": 27,
      "metadata": {
        "colab": {
          "base_uri": "https://localhost:8080/"
        },
        "id": "sz38IR2lw5Gz",
        "outputId": "2aa22431-8fc8-4780-dfad-c6dc3f26a988"
      },
      "outputs": [
        {
          "output_type": "execute_result",
          "data": {
            "text/plain": [
              "{'BENIGN': 0.37627712,\n",
              " 'DDoS': 1.0,\n",
              " 'DoS GoldenEye': 0.97576433,\n",
              " 'DoS Hulk': 0.7003728,\n",
              " 'FTP-Patator': 0.9999999,\n",
              " 'PortScan': 0.9105322}"
            ]
          },
          "metadata": {},
          "execution_count": 27
        }
      ],
      "source": [
        "threshold_values"
      ]
    },
    {
      "cell_type": "markdown",
      "source": [
        "## Hard Code to verify threshold values"
      ],
      "metadata": {
        "id": "5vsyCzhHzsf6"
      }
    },
    {
      "cell_type": "code",
      "execution_count": 28,
      "metadata": {
        "id": "HVu_5OLkszrQ"
      },
      "outputs": [],
      "source": [
        "Threshold = {'BENIGN': 1,\n",
        " 'DDoS': 1.0,\n",
        " 'DoS GoldenEye': 1,\n",
        " 'DoS Hulk': 1,\n",
        " 'FTP-Patator': 1,\n",
        " 'PortScan': 1}"
      ]
    },
    {
      "cell_type": "code",
      "source": [
        "LABELS = ['BENIGN','DDoS','DoS GoldenEye','DoS Hulk','FTP-Patator','PortScan']\n",
        "for i in range(len(df)):  \n",
        "  arr = df.iloc[i].to_numpy()\n",
        "  index = int(arr[-1]) \n",
        "  value = arr[index] \n",
        "  if Threshold[LABELS[index]] > value :\n",
        "    Threshold[LABELS[index]] = value"
      ],
      "metadata": {
        "id": "xb8qM6VDz6XD"
      },
      "execution_count": 29,
      "outputs": []
    },
    {
      "cell_type": "code",
      "source": [
        "arr = df.iloc[1].to_numpy()\n",
        "arr[-1]"
      ],
      "metadata": {
        "colab": {
          "base_uri": "https://localhost:8080/"
        },
        "id": "OSBsri-Y0C6I",
        "outputId": "abc895a7-6048-471e-af7f-0c352f5ce51e"
      },
      "execution_count": 30,
      "outputs": [
        {
          "output_type": "execute_result",
          "data": {
            "text/plain": [
              "0.0"
            ]
          },
          "metadata": {},
          "execution_count": 30
        }
      ]
    },
    {
      "cell_type": "code",
      "source": [
        "Threshold"
      ],
      "metadata": {
        "colab": {
          "base_uri": "https://localhost:8080/"
        },
        "id": "d_5Iv8BF0EDb",
        "outputId": "0d59af5a-dd5f-4121-85f9-88960fb0cb4b"
      },
      "execution_count": 31,
      "outputs": [
        {
          "output_type": "execute_result",
          "data": {
            "text/plain": [
              "{'BENIGN': 0.3762771189212799,\n",
              " 'DDoS': 1.0,\n",
              " 'DoS GoldenEye': 0.9757643342018127,\n",
              " 'DoS Hulk': 0.7003728151321411,\n",
              " 'FTP-Patator': 0.9999998807907104,\n",
              " 'PortScan': 0.9105321764945984}"
            ]
          },
          "metadata": {},
          "execution_count": 31
        }
      ]
    },
    {
      "cell_type": "markdown",
      "source": [
        "## Evaluation"
      ],
      "metadata": {
        "id": "iJPFvf2x1qoo"
      }
    },
    {
      "cell_type": "code",
      "source": [
        "y_test_set"
      ],
      "metadata": {
        "colab": {
          "base_uri": "https://localhost:8080/"
        },
        "id": "lVRgPGc83Xzj",
        "outputId": "bb2ab74b-ca22-457e-f963-f32de8300542"
      },
      "execution_count": 32,
      "outputs": [
        {
          "output_type": "execute_result",
          "data": {
            "text/plain": [
              "1002165    PortScan\n",
              "1084508    PortScan\n",
              "1062881    PortScan\n",
              "86053        BENIGN\n",
              "803511     DoS Hulk\n",
              "             ...   \n",
              "288561       BENIGN\n",
              "638651         DDoS\n",
              "654869         DDoS\n",
              "1065285    PortScan\n",
              "770726     DoS Hulk\n",
              "Name: Label, Length: 360270, dtype: object"
            ]
          },
          "metadata": {},
          "execution_count": 32
        }
      ]
    },
    {
      "cell_type": "code",
      "source": [
        "labeltoindex"
      ],
      "metadata": {
        "colab": {
          "base_uri": "https://localhost:8080/"
        },
        "id": "9qDPmuZJ3lRs",
        "outputId": "438474ad-dbd6-43b9-8982-a98bf040bfb7"
      },
      "execution_count": 33,
      "outputs": [
        {
          "output_type": "execute_result",
          "data": {
            "text/plain": [
              "{'BENIGN': 0,\n",
              " 'DDoS': 1,\n",
              " 'DoS Hulk': 3,\n",
              " 'DoS GoldenEye': 2,\n",
              " 'PortScan': 5,\n",
              " 'FTP-Patator': 4}"
            ]
          },
          "metadata": {},
          "execution_count": 33
        }
      ]
    },
    {
      "cell_type": "code",
      "source": [
        "## only X_test_set\n",
        "Y_test_predicted = model.predict(X_test_set)\n",
        "total = len(X_test_set) \n",
        "max_probability_test = np.amax(Y_test_predicted, axis = 1)\n",
        "y_test_prediction_index = np.argmax(Y_test_predicted, axis = 1)\n",
        "y_test_set_index = np.vectorize(labeltoindex.get)(y_test_set)\n",
        "RIGHT_BOOLEAN = y_test_prediction_index == y_test_set_index\n",
        "y_test_set = y_test_set.to_numpy()"
      ],
      "metadata": {
        "colab": {
          "base_uri": "https://localhost:8080/"
        },
        "id": "gGwDRuBI5_FP",
        "outputId": "a3e99a10-cc14-441b-edb7-2126cf59143a"
      },
      "execution_count": 34,
      "outputs": [
        {
          "output_type": "stream",
          "name": "stdout",
          "text": [
            "11259/11259 [==============================] - 31s 3ms/step\n"
          ]
        }
      ]
    },
    {
      "cell_type": "code",
      "source": [
        "TruelyPredicted_test = 0\n",
        "\n",
        "for i in range(len(RIGHT_BOOLEAN)):\n",
        "  if RIGHT_BOOLEAN[i] and max_probability_test[i] >= (threshold_values[y_test_set[i]]) :\n",
        "    TruelyPredicted_test += 1 \n",
        "\n",
        "## ACCURACY PREDICTION:\n",
        "Accuracy = TruelyPredicted_test/total\n",
        "print('Accuracy is ',Accuracy)"
      ],
      "metadata": {
        "colab": {
          "base_uri": "https://localhost:8080/"
        },
        "id": "cCSE6MAa8mJQ",
        "outputId": "3b0b6c6e-6599-432a-d565-ea3acfcae734"
      },
      "execution_count": 42,
      "outputs": [
        {
          "output_type": "stream",
          "name": "stdout",
          "text": [
            "Accuracy is  0.9993810197907125\n"
          ]
        }
      ]
    },
    {
      "cell_type": "code",
      "source": [
        "## unknown set\n",
        "X = att.drop('Label' , axis=1)\n",
        "X = X.to_numpy().reshape(-1, 83,1)\n",
        "predicted = model.predict(X)\n",
        "max_probability = np.amax(predicted, axis = 1)\n",
        "unknown_index = np.argmax(predicted, axis = 1)\n"
      ],
      "metadata": {
        "colab": {
          "base_uri": "https://localhost:8080/"
        },
        "id": "8FrOW5r96_iD",
        "outputId": "ac2e5d5d-1999-4168-f211-234a28a9643e"
      },
      "execution_count": 43,
      "outputs": [
        {
          "output_type": "stream",
          "name": "stdout",
          "text": [
            "601/601 [==============================] - 2s 3ms/step\n"
          ]
        }
      ]
    },
    {
      "cell_type": "code",
      "source": [
        "TOTAL = att.shape[0]\n",
        "## WITH UNKNOWN SET\n",
        "truepredicted = 0\n",
        "predictions = {'BENIGN': 0,\n",
        " 'DDoS': 0,\n",
        " 'DoS GoldenEye': 0,\n",
        " 'DoS Hulk': 0,\n",
        " 'FTP-Patator': 0,\n",
        " 'PortScan': 0}\n",
        "# 2.0 UNKNOWN SET:\n",
        "for i in range(len(unknown_index)):\n",
        "  threshold = threshold_values[LABELS[unknown_index[i]]]\n",
        "  prob = max_probability[i]\n",
        "  ## check if prob<threshold, then right prediction\n",
        "  if prob < threshold:\n",
        "    truepredicted += 1\n",
        "  else:\n",
        "    predictions[LABELS[unknown_index[i]]] += 1\n",
        "\n",
        "## ACCURACY PREDICTION:\n",
        "Accuracy = truepredicted/TOTAL\n",
        "print('Accuracy is ',Accuracy)"
      ],
      "metadata": {
        "colab": {
          "base_uri": "https://localhost:8080/"
        },
        "id": "5yYEMQ_86VXX",
        "outputId": "53bed2d7-1f2e-4d45-fd14-4226dbe40265"
      },
      "execution_count": 45,
      "outputs": [
        {
          "output_type": "stream",
          "name": "stdout",
          "text": [
            "Accuracy is  0.14136943504295757\n"
          ]
        }
      ]
    },
    {
      "cell_type": "code",
      "source": [
        "truepredicted"
      ],
      "metadata": {
        "colab": {
          "base_uri": "https://localhost:8080/"
        },
        "id": "pjXNETlY7u_i",
        "outputId": "43c02db1-6d3e-4544-c37e-4ab22a1d94f5"
      },
      "execution_count": 38,
      "outputs": [
        {
          "output_type": "execute_result",
          "data": {
            "text/plain": [
              "13009"
            ]
          },
          "metadata": {},
          "execution_count": 38
        }
      ]
    },
    {
      "cell_type": "code",
      "source": [
        "TOTAL"
      ],
      "metadata": {
        "colab": {
          "base_uri": "https://localhost:8080/"
        },
        "id": "_TdOpOtj7-O_",
        "outputId": "0e22f282-bbe1-42bb-ee13-864726e3597a"
      },
      "execution_count": 39,
      "outputs": [
        {
          "output_type": "execute_result",
          "data": {
            "text/plain": [
              "19205"
            ]
          },
          "metadata": {},
          "execution_count": 39
        }
      ]
    },
    {
      "cell_type": "code",
      "source": [
        "threshold_values"
      ],
      "metadata": {
        "colab": {
          "base_uri": "https://localhost:8080/"
        },
        "id": "KGO6H6q18DXz",
        "outputId": "7e522908-1264-4f1a-bb72-d1d6833ada57"
      },
      "execution_count": 40,
      "outputs": [
        {
          "output_type": "execute_result",
          "data": {
            "text/plain": [
              "{'BENIGN': 0.37627712,\n",
              " 'DDoS': 1.0,\n",
              " 'DoS GoldenEye': 0.97576433,\n",
              " 'DoS Hulk': 0.7003728,\n",
              " 'FTP-Patator': 0.9999999,\n",
              " 'PortScan': 0.9105322}"
            ]
          },
          "metadata": {},
          "execution_count": 40
        }
      ]
    },
    {
      "cell_type": "code",
      "source": [
        "predictions"
      ],
      "metadata": {
        "colab": {
          "base_uri": "https://localhost:8080/"
        },
        "id": "N8L6O-zo8UB9",
        "outputId": "29de314a-c29e-47e0-b22b-49920d405ac6"
      },
      "execution_count": 46,
      "outputs": [
        {
          "output_type": "execute_result",
          "data": {
            "text/plain": [
              "{'BENIGN': 6220,\n",
              " 'DDoS': 0,\n",
              " 'DoS GoldenEye': 3128,\n",
              " 'DoS Hulk': 7041,\n",
              " 'FTP-Patator': 101,\n",
              " 'PortScan': 0}"
            ]
          },
          "metadata": {},
          "execution_count": 46
        }
      ]
    },
    {
      "cell_type": "code",
      "source": [],
      "metadata": {
        "id": "jR3oQNia-x16"
      },
      "execution_count": null,
      "outputs": []
    }
  ],
  "metadata": {
    "accelerator": "GPU",
    "colab": {
      "provenance": []
    },
    "gpuClass": "standard",
    "kernelspec": {
      "display_name": "Python 3 (ipykernel)",
      "language": "python",
      "name": "python3"
    },
    "language_info": {
      "codemirror_mode": {
        "name": "ipython",
        "version": 3
      },
      "file_extension": ".py",
      "mimetype": "text/x-python",
      "name": "python",
      "nbconvert_exporter": "python",
      "pygments_lexer": "ipython3",
      "version": "3.10.10"
    }
  },
  "nbformat": 4,
  "nbformat_minor": 0
}