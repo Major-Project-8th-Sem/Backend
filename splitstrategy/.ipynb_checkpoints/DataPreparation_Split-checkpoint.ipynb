{
 "cells": [
  {
   "cell_type": "code",
   "execution_count": 1,
   "metadata": {
    "id": "BPzvJVP6heUO"
   },
   "outputs": [],
   "source": [
    "# importing required libraries\n",
    "import numpy as np\n",
    "import pandas as pd"
   ]
  },
  {
   "cell_type": "code",
   "execution_count": 2,
   "metadata": {
    "colab": {
     "base_uri": "https://localhost:8080/"
    },
    "id": "4_dSW38SiD8p",
    "outputId": "fb571558-7629-451d-a936-fc557d6f51a0"
   },
   "outputs": [
    {
     "data": {
      "text/plain": [
       "[PhysicalDevice(name='/physical_device:GPU:0', device_type='GPU')]"
      ]
     },
     "execution_count": 2,
     "metadata": {},
     "output_type": "execute_result"
    }
   ],
   "source": [
    "import tensorflow as tf\n",
    "tf.config.list_physical_devices('GPU')"
   ]
  },
  {
   "cell_type": "code",
   "execution_count": 3,
   "metadata": {
    "id": "At5PZ81frTMk"
   },
   "outputs": [],
   "source": [
    "#FOLDER = '/content/drive/MyDrive/'\n",
    "#FOLDER = 'C:\\Users\\Admin\\Downloads\\'"
   ]
  },
  {
   "cell_type": "code",
   "execution_count": 4,
   "metadata": {
    "colab": {
     "base_uri": "https://localhost:8080/"
    },
    "id": "Tr2Jb_rCiFkS",
    "outputId": "f4d05cdc-ecb2-410a-9f7f-53487d34580b"
   },
   "outputs": [],
   "source": [
    "#from google.colab import drive\n",
    "#drive.mount('/content/drive')"
   ]
  },
  {
   "cell_type": "code",
   "execution_count": 5,
   "metadata": {
    "id": "D836mZDFiGuC"
   },
   "outputs": [],
   "source": [
    "data = pd.read_csv(r\"C:\\Users\\Admin\\Downloads\\balanced_data.csv\")"
   ]
  },
  {
   "cell_type": "code",
   "execution_count": 6,
   "metadata": {
    "id": "Knng9RRPiILm"
   },
   "outputs": [],
   "source": [
    "data.drop(data.columns[0] , inplace=True , axis=1)"
   ]
  },
  {
   "cell_type": "markdown",
   "metadata": {
    "id": "tWXKQuhvicfO"
   },
   "source": [
    "# Removing Some layers for Unknown Label"
   ]
  },
  {
   "cell_type": "code",
   "execution_count": 7,
   "metadata": {
    "colab": {
     "base_uri": "https://localhost:8080/",
     "height": 334
    },
    "id": "Gb0WSsYdib2L",
    "outputId": "0c703017-89d7-426a-9fb6-ac482af73ff3"
   },
   "outputs": [
    {
     "data": {
      "text/html": [
       "<div>\n",
       "<style scoped>\n",
       "    .dataframe tbody tr th:only-of-type {\n",
       "        vertical-align: middle;\n",
       "    }\n",
       "\n",
       "    .dataframe tbody tr th {\n",
       "        vertical-align: top;\n",
       "    }\n",
       "\n",
       "    .dataframe thead th {\n",
       "        text-align: right;\n",
       "    }\n",
       "</style>\n",
       "<table border=\"1\" class=\"dataframe\">\n",
       "  <thead>\n",
       "    <tr style=\"text-align: right;\">\n",
       "      <th></th>\n",
       "      <th>Flow ID</th>\n",
       "      <th>Source IP</th>\n",
       "      <th>Source Port</th>\n",
       "      <th>Destination IP</th>\n",
       "      <th>Destination Port</th>\n",
       "      <th>Protocol</th>\n",
       "      <th>Timestamp</th>\n",
       "      <th>Flow Duration</th>\n",
       "      <th>Total Fwd Packets</th>\n",
       "      <th>Total Backward Packets</th>\n",
       "      <th>...</th>\n",
       "      <th>min_seg_size_forward</th>\n",
       "      <th>Active Mean</th>\n",
       "      <th>Active Std</th>\n",
       "      <th>Active Max</th>\n",
       "      <th>Active Min</th>\n",
       "      <th>Idle Mean</th>\n",
       "      <th>Idle Std</th>\n",
       "      <th>Idle Max</th>\n",
       "      <th>Idle Min</th>\n",
       "      <th>Label</th>\n",
       "    </tr>\n",
       "  </thead>\n",
       "  <tbody>\n",
       "    <tr>\n",
       "      <th>0</th>\n",
       "      <td>35929</td>\n",
       "      <td>2100</td>\n",
       "      <td>443</td>\n",
       "      <td>2744</td>\n",
       "      <td>49916</td>\n",
       "      <td>6</td>\n",
       "      <td>14653</td>\n",
       "      <td>65</td>\n",
       "      <td>3</td>\n",
       "      <td>1</td>\n",
       "      <td>...</td>\n",
       "      <td>20</td>\n",
       "      <td>0.0</td>\n",
       "      <td>0.0</td>\n",
       "      <td>0.0</td>\n",
       "      <td>0.0</td>\n",
       "      <td>0.0</td>\n",
       "      <td>0.0</td>\n",
       "      <td>0.0</td>\n",
       "      <td>0.0</td>\n",
       "      <td>BENIGN</td>\n",
       "    </tr>\n",
       "    <tr>\n",
       "      <th>1</th>\n",
       "      <td>195043</td>\n",
       "      <td>2210</td>\n",
       "      <td>52673</td>\n",
       "      <td>2608</td>\n",
       "      <td>53</td>\n",
       "      <td>17</td>\n",
       "      <td>160</td>\n",
       "      <td>91765</td>\n",
       "      <td>2</td>\n",
       "      <td>2</td>\n",
       "      <td>...</td>\n",
       "      <td>20</td>\n",
       "      <td>0.0</td>\n",
       "      <td>0.0</td>\n",
       "      <td>0.0</td>\n",
       "      <td>0.0</td>\n",
       "      <td>0.0</td>\n",
       "      <td>0.0</td>\n",
       "      <td>0.0</td>\n",
       "      <td>0.0</td>\n",
       "      <td>BENIGN</td>\n",
       "    </tr>\n",
       "    <tr>\n",
       "      <th>2</th>\n",
       "      <td>58449</td>\n",
       "      <td>1337</td>\n",
       "      <td>45245</td>\n",
       "      <td>1593</td>\n",
       "      <td>53</td>\n",
       "      <td>17</td>\n",
       "      <td>27</td>\n",
       "      <td>295</td>\n",
       "      <td>2</td>\n",
       "      <td>2</td>\n",
       "      <td>...</td>\n",
       "      <td>40</td>\n",
       "      <td>0.0</td>\n",
       "      <td>0.0</td>\n",
       "      <td>0.0</td>\n",
       "      <td>0.0</td>\n",
       "      <td>0.0</td>\n",
       "      <td>0.0</td>\n",
       "      <td>0.0</td>\n",
       "      <td>0.0</td>\n",
       "      <td>BENIGN</td>\n",
       "    </tr>\n",
       "    <tr>\n",
       "      <th>3</th>\n",
       "      <td>70012</td>\n",
       "      <td>696</td>\n",
       "      <td>58208</td>\n",
       "      <td>865</td>\n",
       "      <td>53</td>\n",
       "      <td>17</td>\n",
       "      <td>80</td>\n",
       "      <td>53034</td>\n",
       "      <td>4</td>\n",
       "      <td>2</td>\n",
       "      <td>...</td>\n",
       "      <td>32</td>\n",
       "      <td>0.0</td>\n",
       "      <td>0.0</td>\n",
       "      <td>0.0</td>\n",
       "      <td>0.0</td>\n",
       "      <td>0.0</td>\n",
       "      <td>0.0</td>\n",
       "      <td>0.0</td>\n",
       "      <td>0.0</td>\n",
       "      <td>BENIGN</td>\n",
       "    </tr>\n",
       "    <tr>\n",
       "      <th>4</th>\n",
       "      <td>31918</td>\n",
       "      <td>2777</td>\n",
       "      <td>443</td>\n",
       "      <td>1590</td>\n",
       "      <td>50506</td>\n",
       "      <td>6</td>\n",
       "      <td>119</td>\n",
       "      <td>71</td>\n",
       "      <td>1</td>\n",
       "      <td>1</td>\n",
       "      <td>...</td>\n",
       "      <td>32</td>\n",
       "      <td>0.0</td>\n",
       "      <td>0.0</td>\n",
       "      <td>0.0</td>\n",
       "      <td>0.0</td>\n",
       "      <td>0.0</td>\n",
       "      <td>0.0</td>\n",
       "      <td>0.0</td>\n",
       "      <td>0.0</td>\n",
       "      <td>BENIGN</td>\n",
       "    </tr>\n",
       "  </tbody>\n",
       "</table>\n",
       "<p>5 rows × 84 columns</p>\n",
       "</div>"
      ],
      "text/plain": [
       "   Flow ID  Source IP  Source Port  Destination IP  Destination Port  \\\n",
       "0    35929       2100          443            2744             49916   \n",
       "1   195043       2210        52673            2608                53   \n",
       "2    58449       1337        45245            1593                53   \n",
       "3    70012        696        58208             865                53   \n",
       "4    31918       2777          443            1590             50506   \n",
       "\n",
       "   Protocol  Timestamp  Flow Duration  Total Fwd Packets  \\\n",
       "0         6      14653             65                  3   \n",
       "1        17        160          91765                  2   \n",
       "2        17         27            295                  2   \n",
       "3        17         80          53034                  4   \n",
       "4         6        119             71                  1   \n",
       "\n",
       "   Total Backward Packets  ...  min_seg_size_forward  Active Mean  Active Std  \\\n",
       "0                       1  ...                    20          0.0         0.0   \n",
       "1                       2  ...                    20          0.0         0.0   \n",
       "2                       2  ...                    40          0.0         0.0   \n",
       "3                       2  ...                    32          0.0         0.0   \n",
       "4                       1  ...                    32          0.0         0.0   \n",
       "\n",
       "   Active Max  Active Min  Idle Mean  Idle Std  Idle Max  Idle Min   Label  \n",
       "0         0.0         0.0        0.0       0.0       0.0       0.0  BENIGN  \n",
       "1         0.0         0.0        0.0       0.0       0.0       0.0  BENIGN  \n",
       "2         0.0         0.0        0.0       0.0       0.0       0.0  BENIGN  \n",
       "3         0.0         0.0        0.0       0.0       0.0       0.0  BENIGN  \n",
       "4         0.0         0.0        0.0       0.0       0.0       0.0  BENIGN  \n",
       "\n",
       "[5 rows x 84 columns]"
      ]
     },
     "execution_count": 7,
     "metadata": {},
     "output_type": "execute_result"
    }
   ],
   "source": [
    "data.head()"
   ]
  },
  {
   "cell_type": "code",
   "execution_count": 8,
   "metadata": {
    "colab": {
     "base_uri": "https://localhost:8080/"
    },
    "id": "U6cbMptnikeh",
    "outputId": "ba827eda-8ca5-478d-a704-c36489f6b0ad"
   },
   "outputs": [
    {
     "data": {
      "text/plain": [
       "{'BENIGN': 1296087,\n",
       " 'DoS Hulk': 231073,\n",
       " 'PortScan': 158930,\n",
       " 'DDoS': 128027,\n",
       " 'DoS GoldenEye': 10293,\n",
       " 'FTP-Patator': 7938,\n",
       " 'SSH-Patator': 5897,\n",
       " 'DoS slowloris': 5796,\n",
       " 'DoS Slowhttptest': 5499,\n",
       " 'Bot': 1966,\n",
       " 'Infiltration': 36,\n",
       " 'Heartbleed': 11}"
      ]
     },
     "execution_count": 8,
     "metadata": {},
     "output_type": "execute_result"
    }
   ],
   "source": [
    "data.Label.value_counts().to_dict()"
   ]
  },
  {
   "cell_type": "code",
   "execution_count": 9,
   "metadata": {
    "colab": {
     "base_uri": "https://localhost:8080/"
    },
    "id": "BFLYt2AkioFw",
    "outputId": "c6cc0af6-3901-44da-8117-b00a1232027d"
   },
   "outputs": [
    {
     "data": {
      "text/plain": [
       "19205"
      ]
     },
     "execution_count": 9,
     "metadata": {},
     "output_type": "execute_result"
    }
   ],
   "source": [
    "5897+5796+5499+1966+36+11"
   ]
  },
  {
   "cell_type": "code",
   "execution_count": 10,
   "metadata": {
    "colab": {
     "base_uri": "https://localhost:8080/"
    },
    "id": "DAj0HmMvi3yk",
    "outputId": "172c6f30-17d2-4b2f-f406-bcb108ef5ba7"
   },
   "outputs": [
    {
     "data": {
      "text/plain": [
       "1851553"
      ]
     },
     "execution_count": 10,
     "metadata": {},
     "output_type": "execute_result"
    }
   ],
   "source": [
    "len(data)"
   ]
  },
  {
   "cell_type": "code",
   "execution_count": 11,
   "metadata": {
    "colab": {
     "base_uri": "https://localhost:8080/"
    },
    "id": "KG7dw4zXi9Ka",
    "outputId": "76f1bb35-62f0-4434-e977-15f0d9937934"
   },
   "outputs": [
    {
     "data": {
      "text/plain": [
       "1832348"
      ]
     },
     "execution_count": 11,
     "metadata": {},
     "output_type": "execute_result"
    }
   ],
   "source": [
    "1851553-19205"
   ]
  },
  {
   "cell_type": "code",
   "execution_count": 12,
   "metadata": {
    "colab": {
     "base_uri": "https://localhost:8080/"
    },
    "id": "UGnljK6QjDvv",
    "outputId": "c7d6713e-c1c2-4951-92e5-5153cbadfe91"
   },
   "outputs": [
    {
     "data": {
      "text/plain": [
       "1.0372373893698965"
      ]
     },
     "execution_count": 12,
     "metadata": {},
     "output_type": "execute_result"
    }
   ],
   "source": [
    "1920500/1851553 #percentage of data we will be using for threshold for unknown label :)"
   ]
  },
  {
   "cell_type": "code",
   "execution_count": 13,
   "metadata": {
    "id": "9cJC8-fwjM4I"
   },
   "outputs": [],
   "source": [
    "toremove = ['SSH-Patator','DoS slowloris','DoS Slowhttptest','Bot','Infiltration','Heartbleed']\n",
    "att = data.loc[(data['Label'].isin(toremove))]"
   ]
  },
  {
   "cell_type": "code",
   "execution_count": 14,
   "metadata": {
    "colab": {
     "base_uri": "https://localhost:8080/",
     "height": 609
    },
    "id": "194qzckfkcZZ",
    "outputId": "f0c15871-4f06-451e-ec7a-b9668be22953"
   },
   "outputs": [
    {
     "data": {
      "text/html": [
       "<div>\n",
       "<style scoped>\n",
       "    .dataframe tbody tr th:only-of-type {\n",
       "        vertical-align: middle;\n",
       "    }\n",
       "\n",
       "    .dataframe tbody tr th {\n",
       "        vertical-align: top;\n",
       "    }\n",
       "\n",
       "    .dataframe thead th {\n",
       "        text-align: right;\n",
       "    }\n",
       "</style>\n",
       "<table border=\"1\" class=\"dataframe\">\n",
       "  <thead>\n",
       "    <tr style=\"text-align: right;\">\n",
       "      <th></th>\n",
       "      <th>Flow ID</th>\n",
       "      <th>Source IP</th>\n",
       "      <th>Source Port</th>\n",
       "      <th>Destination IP</th>\n",
       "      <th>Destination Port</th>\n",
       "      <th>Protocol</th>\n",
       "      <th>Timestamp</th>\n",
       "      <th>Flow Duration</th>\n",
       "      <th>Total Fwd Packets</th>\n",
       "      <th>Total Backward Packets</th>\n",
       "      <th>...</th>\n",
       "      <th>min_seg_size_forward</th>\n",
       "      <th>Active Mean</th>\n",
       "      <th>Active Std</th>\n",
       "      <th>Active Max</th>\n",
       "      <th>Active Min</th>\n",
       "      <th>Idle Mean</th>\n",
       "      <th>Idle Std</th>\n",
       "      <th>Idle Max</th>\n",
       "      <th>Idle Min</th>\n",
       "      <th>Label</th>\n",
       "    </tr>\n",
       "  </thead>\n",
       "  <tbody>\n",
       "    <tr>\n",
       "      <th>1296087</th>\n",
       "      <td>177144</td>\n",
       "      <td>1546</td>\n",
       "      <td>53966</td>\n",
       "      <td>2293</td>\n",
       "      <td>444</td>\n",
       "      <td>6</td>\n",
       "      <td>79</td>\n",
       "      <td>42664070</td>\n",
       "      <td>5</td>\n",
       "      <td>6</td>\n",
       "      <td>...</td>\n",
       "      <td>20</td>\n",
       "      <td>0.0</td>\n",
       "      <td>0.0000</td>\n",
       "      <td>0.0</td>\n",
       "      <td>0.0</td>\n",
       "      <td>0.0</td>\n",
       "      <td>0.000</td>\n",
       "      <td>0.0</td>\n",
       "      <td>0.0</td>\n",
       "      <td>Infiltration</td>\n",
       "    </tr>\n",
       "    <tr>\n",
       "      <th>1296088</th>\n",
       "      <td>177144</td>\n",
       "      <td>1546</td>\n",
       "      <td>53966</td>\n",
       "      <td>2293</td>\n",
       "      <td>444</td>\n",
       "      <td>6</td>\n",
       "      <td>79</td>\n",
       "      <td>2030</td>\n",
       "      <td>2</td>\n",
       "      <td>0</td>\n",
       "      <td>...</td>\n",
       "      <td>20</td>\n",
       "      <td>0.0</td>\n",
       "      <td>0.0000</td>\n",
       "      <td>0.0</td>\n",
       "      <td>0.0</td>\n",
       "      <td>0.0</td>\n",
       "      <td>0.000</td>\n",
       "      <td>0.0</td>\n",
       "      <td>0.0</td>\n",
       "      <td>Infiltration</td>\n",
       "    </tr>\n",
       "    <tr>\n",
       "      <th>1296089</th>\n",
       "      <td>177145</td>\n",
       "      <td>1546</td>\n",
       "      <td>54119</td>\n",
       "      <td>2293</td>\n",
       "      <td>444</td>\n",
       "      <td>6</td>\n",
       "      <td>88</td>\n",
       "      <td>119991834</td>\n",
       "      <td>5523</td>\n",
       "      <td>5525</td>\n",
       "      <td>...</td>\n",
       "      <td>20</td>\n",
       "      <td>997842.0</td>\n",
       "      <td>831471.3076</td>\n",
       "      <td>1585781.0</td>\n",
       "      <td>409903.0</td>\n",
       "      <td>8143987.5</td>\n",
       "      <td>1821773.648</td>\n",
       "      <td>9432176.0</td>\n",
       "      <td>6855799.0</td>\n",
       "      <td>Infiltration</td>\n",
       "    </tr>\n",
       "    <tr>\n",
       "      <th>1296090</th>\n",
       "      <td>177146</td>\n",
       "      <td>1546</td>\n",
       "      <td>54122</td>\n",
       "      <td>2293</td>\n",
       "      <td>444</td>\n",
       "      <td>6</td>\n",
       "      <td>90</td>\n",
       "      <td>5005212</td>\n",
       "      <td>15</td>\n",
       "      <td>15</td>\n",
       "      <td>...</td>\n",
       "      <td>28</td>\n",
       "      <td>0.0</td>\n",
       "      <td>0.0000</td>\n",
       "      <td>0.0</td>\n",
       "      <td>0.0</td>\n",
       "      <td>0.0</td>\n",
       "      <td>0.000</td>\n",
       "      <td>0.0</td>\n",
       "      <td>0.0</td>\n",
       "      <td>Infiltration</td>\n",
       "    </tr>\n",
       "    <tr>\n",
       "      <th>1296091</th>\n",
       "      <td>177145</td>\n",
       "      <td>1546</td>\n",
       "      <td>54119</td>\n",
       "      <td>2293</td>\n",
       "      <td>444</td>\n",
       "      <td>6</td>\n",
       "      <td>90</td>\n",
       "      <td>119973135</td>\n",
       "      <td>4376</td>\n",
       "      <td>4374</td>\n",
       "      <td>...</td>\n",
       "      <td>20</td>\n",
       "      <td>0.0</td>\n",
       "      <td>0.0000</td>\n",
       "      <td>0.0</td>\n",
       "      <td>0.0</td>\n",
       "      <td>0.0</td>\n",
       "      <td>0.000</td>\n",
       "      <td>0.0</td>\n",
       "      <td>0.0</td>\n",
       "      <td>Infiltration</td>\n",
       "    </tr>\n",
       "    <tr>\n",
       "      <th>...</th>\n",
       "      <td>...</td>\n",
       "      <td>...</td>\n",
       "      <td>...</td>\n",
       "      <td>...</td>\n",
       "      <td>...</td>\n",
       "      <td>...</td>\n",
       "      <td>...</td>\n",
       "      <td>...</td>\n",
       "      <td>...</td>\n",
       "      <td>...</td>\n",
       "      <td>...</td>\n",
       "      <td>...</td>\n",
       "      <td>...</td>\n",
       "      <td>...</td>\n",
       "      <td>...</td>\n",
       "      <td>...</td>\n",
       "      <td>...</td>\n",
       "      <td>...</td>\n",
       "      <td>...</td>\n",
       "      <td>...</td>\n",
       "      <td>...</td>\n",
       "    </tr>\n",
       "    <tr>\n",
       "      <th>1851548</th>\n",
       "      <td>9072</td>\n",
       "      <td>1495</td>\n",
       "      <td>46280</td>\n",
       "      <td>2560</td>\n",
       "      <td>22</td>\n",
       "      <td>6</td>\n",
       "      <td>249</td>\n",
       "      <td>13609590</td>\n",
       "      <td>22</td>\n",
       "      <td>32</td>\n",
       "      <td>...</td>\n",
       "      <td>32</td>\n",
       "      <td>0.0</td>\n",
       "      <td>0.0000</td>\n",
       "      <td>0.0</td>\n",
       "      <td>0.0</td>\n",
       "      <td>0.0</td>\n",
       "      <td>0.000</td>\n",
       "      <td>0.0</td>\n",
       "      <td>0.0</td>\n",
       "      <td>SSH-Patator</td>\n",
       "    </tr>\n",
       "    <tr>\n",
       "      <th>1851549</th>\n",
       "      <td>9077</td>\n",
       "      <td>1495</td>\n",
       "      <td>46290</td>\n",
       "      <td>2560</td>\n",
       "      <td>22</td>\n",
       "      <td>6</td>\n",
       "      <td>249</td>\n",
       "      <td>13653780</td>\n",
       "      <td>22</td>\n",
       "      <td>33</td>\n",
       "      <td>...</td>\n",
       "      <td>32</td>\n",
       "      <td>0.0</td>\n",
       "      <td>0.0000</td>\n",
       "      <td>0.0</td>\n",
       "      <td>0.0</td>\n",
       "      <td>0.0</td>\n",
       "      <td>0.000</td>\n",
       "      <td>0.0</td>\n",
       "      <td>0.0</td>\n",
       "      <td>SSH-Patator</td>\n",
       "    </tr>\n",
       "    <tr>\n",
       "      <th>1851550</th>\n",
       "      <td>9075</td>\n",
       "      <td>1495</td>\n",
       "      <td>46286</td>\n",
       "      <td>2560</td>\n",
       "      <td>22</td>\n",
       "      <td>6</td>\n",
       "      <td>249</td>\n",
       "      <td>13681270</td>\n",
       "      <td>22</td>\n",
       "      <td>33</td>\n",
       "      <td>...</td>\n",
       "      <td>32</td>\n",
       "      <td>0.0</td>\n",
       "      <td>0.0000</td>\n",
       "      <td>0.0</td>\n",
       "      <td>0.0</td>\n",
       "      <td>0.0</td>\n",
       "      <td>0.000</td>\n",
       "      <td>0.0</td>\n",
       "      <td>0.0</td>\n",
       "      <td>SSH-Patator</td>\n",
       "    </tr>\n",
       "    <tr>\n",
       "      <th>1851551</th>\n",
       "      <td>9071</td>\n",
       "      <td>1495</td>\n",
       "      <td>46278</td>\n",
       "      <td>2560</td>\n",
       "      <td>22</td>\n",
       "      <td>6</td>\n",
       "      <td>249</td>\n",
       "      <td>13625617</td>\n",
       "      <td>22</td>\n",
       "      <td>33</td>\n",
       "      <td>...</td>\n",
       "      <td>32</td>\n",
       "      <td>0.0</td>\n",
       "      <td>0.0000</td>\n",
       "      <td>0.0</td>\n",
       "      <td>0.0</td>\n",
       "      <td>0.0</td>\n",
       "      <td>0.000</td>\n",
       "      <td>0.0</td>\n",
       "      <td>0.0</td>\n",
       "      <td>SSH-Patator</td>\n",
       "    </tr>\n",
       "    <tr>\n",
       "      <th>1851552</th>\n",
       "      <td>9074</td>\n",
       "      <td>1495</td>\n",
       "      <td>46284</td>\n",
       "      <td>2560</td>\n",
       "      <td>22</td>\n",
       "      <td>6</td>\n",
       "      <td>249</td>\n",
       "      <td>13652185</td>\n",
       "      <td>22</td>\n",
       "      <td>33</td>\n",
       "      <td>...</td>\n",
       "      <td>32</td>\n",
       "      <td>0.0</td>\n",
       "      <td>0.0000</td>\n",
       "      <td>0.0</td>\n",
       "      <td>0.0</td>\n",
       "      <td>0.0</td>\n",
       "      <td>0.000</td>\n",
       "      <td>0.0</td>\n",
       "      <td>0.0</td>\n",
       "      <td>SSH-Patator</td>\n",
       "    </tr>\n",
       "  </tbody>\n",
       "</table>\n",
       "<p>19205 rows × 84 columns</p>\n",
       "</div>"
      ],
      "text/plain": [
       "         Flow ID  Source IP  Source Port  Destination IP  Destination Port  \\\n",
       "1296087   177144       1546        53966            2293               444   \n",
       "1296088   177144       1546        53966            2293               444   \n",
       "1296089   177145       1546        54119            2293               444   \n",
       "1296090   177146       1546        54122            2293               444   \n",
       "1296091   177145       1546        54119            2293               444   \n",
       "...          ...        ...          ...             ...               ...   \n",
       "1851548     9072       1495        46280            2560                22   \n",
       "1851549     9077       1495        46290            2560                22   \n",
       "1851550     9075       1495        46286            2560                22   \n",
       "1851551     9071       1495        46278            2560                22   \n",
       "1851552     9074       1495        46284            2560                22   \n",
       "\n",
       "         Protocol  Timestamp  Flow Duration  Total Fwd Packets  \\\n",
       "1296087         6         79       42664070                  5   \n",
       "1296088         6         79           2030                  2   \n",
       "1296089         6         88      119991834               5523   \n",
       "1296090         6         90        5005212                 15   \n",
       "1296091         6         90      119973135               4376   \n",
       "...           ...        ...            ...                ...   \n",
       "1851548         6        249       13609590                 22   \n",
       "1851549         6        249       13653780                 22   \n",
       "1851550         6        249       13681270                 22   \n",
       "1851551         6        249       13625617                 22   \n",
       "1851552         6        249       13652185                 22   \n",
       "\n",
       "         Total Backward Packets  ...  min_seg_size_forward  Active Mean  \\\n",
       "1296087                       6  ...                    20          0.0   \n",
       "1296088                       0  ...                    20          0.0   \n",
       "1296089                    5525  ...                    20     997842.0   \n",
       "1296090                      15  ...                    28          0.0   \n",
       "1296091                    4374  ...                    20          0.0   \n",
       "...                         ...  ...                   ...          ...   \n",
       "1851548                      32  ...                    32          0.0   \n",
       "1851549                      33  ...                    32          0.0   \n",
       "1851550                      33  ...                    32          0.0   \n",
       "1851551                      33  ...                    32          0.0   \n",
       "1851552                      33  ...                    32          0.0   \n",
       "\n",
       "          Active Std  Active Max  Active Min  Idle Mean     Idle Std  \\\n",
       "1296087       0.0000         0.0         0.0        0.0        0.000   \n",
       "1296088       0.0000         0.0         0.0        0.0        0.000   \n",
       "1296089  831471.3076   1585781.0    409903.0  8143987.5  1821773.648   \n",
       "1296090       0.0000         0.0         0.0        0.0        0.000   \n",
       "1296091       0.0000         0.0         0.0        0.0        0.000   \n",
       "...              ...         ...         ...        ...          ...   \n",
       "1851548       0.0000         0.0         0.0        0.0        0.000   \n",
       "1851549       0.0000         0.0         0.0        0.0        0.000   \n",
       "1851550       0.0000         0.0         0.0        0.0        0.000   \n",
       "1851551       0.0000         0.0         0.0        0.0        0.000   \n",
       "1851552       0.0000         0.0         0.0        0.0        0.000   \n",
       "\n",
       "          Idle Max   Idle Min         Label  \n",
       "1296087        0.0        0.0  Infiltration  \n",
       "1296088        0.0        0.0  Infiltration  \n",
       "1296089  9432176.0  6855799.0  Infiltration  \n",
       "1296090        0.0        0.0  Infiltration  \n",
       "1296091        0.0        0.0  Infiltration  \n",
       "...            ...        ...           ...  \n",
       "1851548        0.0        0.0   SSH-Patator  \n",
       "1851549        0.0        0.0   SSH-Patator  \n",
       "1851550        0.0        0.0   SSH-Patator  \n",
       "1851551        0.0        0.0   SSH-Patator  \n",
       "1851552        0.0        0.0   SSH-Patator  \n",
       "\n",
       "[19205 rows x 84 columns]"
      ]
     },
     "execution_count": 14,
     "metadata": {},
     "output_type": "execute_result"
    }
   ],
   "source": [
    "att"
   ]
  },
  {
   "cell_type": "code",
   "execution_count": 15,
   "metadata": {
    "colab": {
     "base_uri": "https://localhost:8080/"
    },
    "id": "IX4xzTtokdK8",
    "outputId": "518a3352-98c8-4094-b4c4-2468a5019d34"
   },
   "outputs": [
    {
     "data": {
      "text/plain": [
       "array(['Infiltration', 'DoS slowloris', 'DoS Slowhttptest', 'Heartbleed',\n",
       "       'Bot', 'SSH-Patator'], dtype=object)"
      ]
     },
     "execution_count": 15,
     "metadata": {},
     "output_type": "execute_result"
    }
   ],
   "source": [
    "att.Label.unique()"
   ]
  },
  {
   "cell_type": "code",
   "execution_count": 16,
   "metadata": {
    "id": "TuqjByHElQR8"
   },
   "outputs": [],
   "source": [
    "data.drop(att.index,axis=0 , inplace=True, errors='ignore')"
   ]
  },
  {
   "cell_type": "code",
   "execution_count": 17,
   "metadata": {
    "colab": {
     "base_uri": "https://localhost:8080/"
    },
    "id": "t2gjQVM7mW51",
    "outputId": "f660f20d-ca8b-40fd-c534-f1d29926dad5"
   },
   "outputs": [
    {
     "data": {
      "text/plain": [
       "array(['BENIGN', 'DDoS', 'DoS Hulk', 'DoS GoldenEye', 'PortScan',\n",
       "       'FTP-Patator'], dtype=object)"
      ]
     },
     "execution_count": 17,
     "metadata": {},
     "output_type": "execute_result"
    }
   ],
   "source": [
    "data.Label.unique()"
   ]
  },
  {
   "cell_type": "code",
   "execution_count": 18,
   "metadata": {
    "colab": {
     "base_uri": "https://localhost:8080/"
    },
    "id": "FZIgMEcHmdGh",
    "outputId": "2026fc19-52d5-41eb-b34a-a65acfa974af"
   },
   "outputs": [
    {
     "data": {
      "text/plain": [
       "(1832348, 84)"
      ]
     },
     "execution_count": 18,
     "metadata": {},
     "output_type": "execute_result"
    }
   ],
   "source": [
    "data.shape"
   ]
  },
  {
   "cell_type": "markdown",
   "metadata": {
    "id": "mT9j4dfSnpLW"
   },
   "source": [
    "## Normalization On Data\n",
    "# **Data Normalization**"
   ]
  },
  {
   "cell_type": "code",
   "execution_count": 19,
   "metadata": {
    "id": "ej0g01p4n2cS"
   },
   "outputs": [],
   "source": [
    "# importing required libraries for normalizing data\n",
    "from sklearn import preprocessing\n",
    "from sklearn.preprocessing import MinMaxScaler"
   ]
  },
  {
   "cell_type": "code",
   "execution_count": 20,
   "metadata": {
    "id": "BWEmxOSBoOwC"
   },
   "outputs": [],
   "source": [
    "# selecting numeric attributes columns from data\n",
    "numeric_col = data.select_dtypes(include='number').columns"
   ]
  },
  {
   "cell_type": "code",
   "execution_count": 21,
   "metadata": {
    "id": "Iinx4nw2oP-Z"
   },
   "outputs": [],
   "source": [
    "# using standard scaler for normalizing\n",
    "std_scaler = MinMaxScaler()\n",
    "def normalization(df,col):\n",
    "  for i in col:\n",
    "    arr = df[i]\n",
    "    arr = np.array(arr)\n",
    "    df[i] = std_scaler.fit_transform(arr.reshape(len(arr),1))\n",
    "  return df\n",
    "# calling the normalization() function\n",
    "data = normalization(data.copy(),numeric_col)"
   ]
  },
  {
   "cell_type": "code",
   "execution_count": 22,
   "metadata": {
    "colab": {
     "base_uri": "https://localhost:8080/",
     "height": 421
    },
    "id": "NHmvEXJdoem_",
    "outputId": "82df7f31-b2b9-42a2-a219-eb8d84da9395"
   },
   "outputs": [
    {
     "data": {
      "text/html": [
       "<div>\n",
       "<style scoped>\n",
       "    .dataframe tbody tr th:only-of-type {\n",
       "        vertical-align: middle;\n",
       "    }\n",
       "\n",
       "    .dataframe tbody tr th {\n",
       "        vertical-align: top;\n",
       "    }\n",
       "\n",
       "    .dataframe thead th {\n",
       "        text-align: right;\n",
       "    }\n",
       "</style>\n",
       "<table border=\"1\" class=\"dataframe\">\n",
       "  <thead>\n",
       "    <tr style=\"text-align: right;\">\n",
       "      <th></th>\n",
       "      <th>Flow ID</th>\n",
       "      <th>Source IP</th>\n",
       "      <th>Source Port</th>\n",
       "      <th>Destination IP</th>\n",
       "      <th>Destination Port</th>\n",
       "      <th>Protocol</th>\n",
       "      <th>Timestamp</th>\n",
       "      <th>Flow Duration</th>\n",
       "      <th>Total Fwd Packets</th>\n",
       "      <th>Total Backward Packets</th>\n",
       "      <th>...</th>\n",
       "      <th>min_seg_size_forward</th>\n",
       "      <th>Active Mean</th>\n",
       "      <th>Active Std</th>\n",
       "      <th>Active Max</th>\n",
       "      <th>Active Min</th>\n",
       "      <th>Idle Mean</th>\n",
       "      <th>Idle Std</th>\n",
       "      <th>Idle Max</th>\n",
       "      <th>Idle Min</th>\n",
       "      <th>Label</th>\n",
       "    </tr>\n",
       "  </thead>\n",
       "  <tbody>\n",
       "    <tr>\n",
       "      <th>0</th>\n",
       "      <td>0.144170</td>\n",
       "      <td>0.254947</td>\n",
       "      <td>0.006760</td>\n",
       "      <td>0.282974</td>\n",
       "      <td>0.761669</td>\n",
       "      <td>0.352941</td>\n",
       "      <td>0.563685</td>\n",
       "      <td>6.416666e-07</td>\n",
       "      <td>0.000009</td>\n",
       "      <td>0.000003</td>\n",
       "      <td>...</td>\n",
       "      <td>1.0</td>\n",
       "      <td>0.0</td>\n",
       "      <td>0.0</td>\n",
       "      <td>0.0</td>\n",
       "      <td>0.0</td>\n",
       "      <td>0.0</td>\n",
       "      <td>0.0</td>\n",
       "      <td>0.0</td>\n",
       "      <td>0.0</td>\n",
       "      <td>BENIGN</td>\n",
       "    </tr>\n",
       "    <tr>\n",
       "      <th>1</th>\n",
       "      <td>0.782639</td>\n",
       "      <td>0.268302</td>\n",
       "      <td>0.803738</td>\n",
       "      <td>0.268949</td>\n",
       "      <td>0.000809</td>\n",
       "      <td>1.000000</td>\n",
       "      <td>0.006155</td>\n",
       "      <td>7.648083e-04</td>\n",
       "      <td>0.000005</td>\n",
       "      <td>0.000007</td>\n",
       "      <td>...</td>\n",
       "      <td>1.0</td>\n",
       "      <td>0.0</td>\n",
       "      <td>0.0</td>\n",
       "      <td>0.0</td>\n",
       "      <td>0.0</td>\n",
       "      <td>0.0</td>\n",
       "      <td>0.0</td>\n",
       "      <td>0.0</td>\n",
       "      <td>0.0</td>\n",
       "      <td>BENIGN</td>\n",
       "    </tr>\n",
       "    <tr>\n",
       "      <th>2</th>\n",
       "      <td>0.234535</td>\n",
       "      <td>0.162316</td>\n",
       "      <td>0.690394</td>\n",
       "      <td>0.164278</td>\n",
       "      <td>0.000809</td>\n",
       "      <td>1.000000</td>\n",
       "      <td>0.001039</td>\n",
       "      <td>2.558333e-06</td>\n",
       "      <td>0.000005</td>\n",
       "      <td>0.000007</td>\n",
       "      <td>...</td>\n",
       "      <td>1.0</td>\n",
       "      <td>0.0</td>\n",
       "      <td>0.0</td>\n",
       "      <td>0.0</td>\n",
       "      <td>0.0</td>\n",
       "      <td>0.0</td>\n",
       "      <td>0.0</td>\n",
       "      <td>0.0</td>\n",
       "      <td>0.0</td>\n",
       "      <td>BENIGN</td>\n",
       "    </tr>\n",
       "    <tr>\n",
       "      <th>3</th>\n",
       "      <td>0.280934</td>\n",
       "      <td>0.084497</td>\n",
       "      <td>0.888197</td>\n",
       "      <td>0.089203</td>\n",
       "      <td>0.000809</td>\n",
       "      <td>1.000000</td>\n",
       "      <td>0.003078</td>\n",
       "      <td>4.420500e-04</td>\n",
       "      <td>0.000014</td>\n",
       "      <td>0.000007</td>\n",
       "      <td>...</td>\n",
       "      <td>1.0</td>\n",
       "      <td>0.0</td>\n",
       "      <td>0.0</td>\n",
       "      <td>0.0</td>\n",
       "      <td>0.0</td>\n",
       "      <td>0.0</td>\n",
       "      <td>0.0</td>\n",
       "      <td>0.0</td>\n",
       "      <td>0.0</td>\n",
       "      <td>BENIGN</td>\n",
       "    </tr>\n",
       "    <tr>\n",
       "      <th>4</th>\n",
       "      <td>0.128076</td>\n",
       "      <td>0.337137</td>\n",
       "      <td>0.006760</td>\n",
       "      <td>0.163968</td>\n",
       "      <td>0.770672</td>\n",
       "      <td>0.352941</td>\n",
       "      <td>0.004578</td>\n",
       "      <td>6.916666e-07</td>\n",
       "      <td>0.000000</td>\n",
       "      <td>0.000003</td>\n",
       "      <td>...</td>\n",
       "      <td>1.0</td>\n",
       "      <td>0.0</td>\n",
       "      <td>0.0</td>\n",
       "      <td>0.0</td>\n",
       "      <td>0.0</td>\n",
       "      <td>0.0</td>\n",
       "      <td>0.0</td>\n",
       "      <td>0.0</td>\n",
       "      <td>0.0</td>\n",
       "      <td>BENIGN</td>\n",
       "    </tr>\n",
       "  </tbody>\n",
       "</table>\n",
       "<p>5 rows × 84 columns</p>\n",
       "</div>"
      ],
      "text/plain": [
       "    Flow ID  Source IP  Source Port  Destination IP  Destination Port  \\\n",
       "0  0.144170   0.254947     0.006760        0.282974          0.761669   \n",
       "1  0.782639   0.268302     0.803738        0.268949          0.000809   \n",
       "2  0.234535   0.162316     0.690394        0.164278          0.000809   \n",
       "3  0.280934   0.084497     0.888197        0.089203          0.000809   \n",
       "4  0.128076   0.337137     0.006760        0.163968          0.770672   \n",
       "\n",
       "   Protocol  Timestamp  Flow Duration  Total Fwd Packets  \\\n",
       "0  0.352941   0.563685   6.416666e-07           0.000009   \n",
       "1  1.000000   0.006155   7.648083e-04           0.000005   \n",
       "2  1.000000   0.001039   2.558333e-06           0.000005   \n",
       "3  1.000000   0.003078   4.420500e-04           0.000014   \n",
       "4  0.352941   0.004578   6.916666e-07           0.000000   \n",
       "\n",
       "   Total Backward Packets  ...  min_seg_size_forward  Active Mean  Active Std  \\\n",
       "0                0.000003  ...                   1.0          0.0         0.0   \n",
       "1                0.000007  ...                   1.0          0.0         0.0   \n",
       "2                0.000007  ...                   1.0          0.0         0.0   \n",
       "3                0.000007  ...                   1.0          0.0         0.0   \n",
       "4                0.000003  ...                   1.0          0.0         0.0   \n",
       "\n",
       "   Active Max  Active Min  Idle Mean  Idle Std  Idle Max  Idle Min   Label  \n",
       "0         0.0         0.0        0.0       0.0       0.0       0.0  BENIGN  \n",
       "1         0.0         0.0        0.0       0.0       0.0       0.0  BENIGN  \n",
       "2         0.0         0.0        0.0       0.0       0.0       0.0  BENIGN  \n",
       "3         0.0         0.0        0.0       0.0       0.0       0.0  BENIGN  \n",
       "4         0.0         0.0        0.0       0.0       0.0       0.0  BENIGN  \n",
       "\n",
       "[5 rows x 84 columns]"
      ]
     },
     "execution_count": 22,
     "metadata": {},
     "output_type": "execute_result"
    }
   ],
   "source": [
    "# data after normalization\n",
    "data.head()"
   ]
  },
  {
   "cell_type": "markdown",
   "metadata": {
    "id": "oCVqZBvao-8l"
   },
   "source": [
    "# **One-hot-encoding**"
   ]
  },
  {
   "cell_type": "code",
   "execution_count": 23,
   "metadata": {
    "id": "vDxWee2ZohCJ"
   },
   "outputs": [],
   "source": [
    "# selecting numeric attributes columns from data\n",
    "non_numeric_col = data.select_dtypes(exclude='number').columns"
   ]
  },
  {
   "cell_type": "code",
   "execution_count": 24,
   "metadata": {
    "colab": {
     "base_uri": "https://localhost:8080/",
     "height": 206
    },
    "id": "Uydfzg1dpDqT",
    "outputId": "f50b2922-5886-4b65-ae23-7f278b390d26"
   },
   "outputs": [
    {
     "data": {
      "text/html": [
       "<div>\n",
       "<style scoped>\n",
       "    .dataframe tbody tr th:only-of-type {\n",
       "        vertical-align: middle;\n",
       "    }\n",
       "\n",
       "    .dataframe tbody tr th {\n",
       "        vertical-align: top;\n",
       "    }\n",
       "\n",
       "    .dataframe thead th {\n",
       "        text-align: right;\n",
       "    }\n",
       "</style>\n",
       "<table border=\"1\" class=\"dataframe\">\n",
       "  <thead>\n",
       "    <tr style=\"text-align: right;\">\n",
       "      <th></th>\n",
       "      <th>Label</th>\n",
       "    </tr>\n",
       "  </thead>\n",
       "  <tbody>\n",
       "    <tr>\n",
       "      <th>0</th>\n",
       "      <td>BENIGN</td>\n",
       "    </tr>\n",
       "    <tr>\n",
       "      <th>1</th>\n",
       "      <td>BENIGN</td>\n",
       "    </tr>\n",
       "    <tr>\n",
       "      <th>2</th>\n",
       "      <td>BENIGN</td>\n",
       "    </tr>\n",
       "    <tr>\n",
       "      <th>3</th>\n",
       "      <td>BENIGN</td>\n",
       "    </tr>\n",
       "    <tr>\n",
       "      <th>4</th>\n",
       "      <td>BENIGN</td>\n",
       "    </tr>\n",
       "  </tbody>\n",
       "</table>\n",
       "</div>"
      ],
      "text/plain": [
       "    Label\n",
       "0  BENIGN\n",
       "1  BENIGN\n",
       "2  BENIGN\n",
       "3  BENIGN\n",
       "4  BENIGN"
      ]
     },
     "execution_count": 24,
     "metadata": {},
     "output_type": "execute_result"
    }
   ],
   "source": [
    "# creating a dataframe with only categorical attributes\n",
    "categorical = data[non_numeric_col]\n",
    "categorical.head()"
   ]
  },
  {
   "cell_type": "code",
   "execution_count": 25,
   "metadata": {
    "colab": {
     "base_uri": "https://localhost:8080/",
     "height": 206
    },
    "id": "CHyefgFnpF1p",
    "outputId": "b685994a-ef17-406f-b041-8d0c70435e86"
   },
   "outputs": [
    {
     "data": {
      "text/html": [
       "<div>\n",
       "<style scoped>\n",
       "    .dataframe tbody tr th:only-of-type {\n",
       "        vertical-align: middle;\n",
       "    }\n",
       "\n",
       "    .dataframe tbody tr th {\n",
       "        vertical-align: top;\n",
       "    }\n",
       "\n",
       "    .dataframe thead th {\n",
       "        text-align: right;\n",
       "    }\n",
       "</style>\n",
       "<table border=\"1\" class=\"dataframe\">\n",
       "  <thead>\n",
       "    <tr style=\"text-align: right;\">\n",
       "      <th></th>\n",
       "      <th>Label_BENIGN</th>\n",
       "      <th>Label_DDoS</th>\n",
       "      <th>Label_DoS GoldenEye</th>\n",
       "      <th>Label_DoS Hulk</th>\n",
       "      <th>Label_FTP-Patator</th>\n",
       "      <th>Label_PortScan</th>\n",
       "    </tr>\n",
       "  </thead>\n",
       "  <tbody>\n",
       "    <tr>\n",
       "      <th>0</th>\n",
       "      <td>1</td>\n",
       "      <td>0</td>\n",
       "      <td>0</td>\n",
       "      <td>0</td>\n",
       "      <td>0</td>\n",
       "      <td>0</td>\n",
       "    </tr>\n",
       "    <tr>\n",
       "      <th>1</th>\n",
       "      <td>1</td>\n",
       "      <td>0</td>\n",
       "      <td>0</td>\n",
       "      <td>0</td>\n",
       "      <td>0</td>\n",
       "      <td>0</td>\n",
       "    </tr>\n",
       "    <tr>\n",
       "      <th>2</th>\n",
       "      <td>1</td>\n",
       "      <td>0</td>\n",
       "      <td>0</td>\n",
       "      <td>0</td>\n",
       "      <td>0</td>\n",
       "      <td>0</td>\n",
       "    </tr>\n",
       "    <tr>\n",
       "      <th>3</th>\n",
       "      <td>1</td>\n",
       "      <td>0</td>\n",
       "      <td>0</td>\n",
       "      <td>0</td>\n",
       "      <td>0</td>\n",
       "      <td>0</td>\n",
       "    </tr>\n",
       "    <tr>\n",
       "      <th>4</th>\n",
       "      <td>1</td>\n",
       "      <td>0</td>\n",
       "      <td>0</td>\n",
       "      <td>0</td>\n",
       "      <td>0</td>\n",
       "      <td>0</td>\n",
       "    </tr>\n",
       "  </tbody>\n",
       "</table>\n",
       "</div>"
      ],
      "text/plain": [
       "   Label_BENIGN  Label_DDoS  Label_DoS GoldenEye  Label_DoS Hulk  \\\n",
       "0             1           0                    0               0   \n",
       "1             1           0                    0               0   \n",
       "2             1           0                    0               0   \n",
       "3             1           0                    0               0   \n",
       "4             1           0                    0               0   \n",
       "\n",
       "   Label_FTP-Patator  Label_PortScan  \n",
       "0                  0               0  \n",
       "1                  0               0  \n",
       "2                  0               0  \n",
       "3                  0               0  \n",
       "4                  0               0  "
      ]
     },
     "execution_count": 25,
     "metadata": {},
     "output_type": "execute_result"
    }
   ],
   "source": [
    "# one-hot-encoding categorical attributes using pandas.get_dummies() function\n",
    "categorical = pd.get_dummies(categorical,columns=non_numeric_col)\n",
    "categorical.head()"
   ]
  },
  {
   "cell_type": "code",
   "execution_count": 26,
   "metadata": {
    "id": "L9qKznJFpHfp"
   },
   "outputs": [],
   "source": [
    "X = data.drop('Label' , axis=1)"
   ]
  },
  {
   "cell_type": "code",
   "execution_count": 27,
   "metadata": {
    "colab": {
     "base_uri": "https://localhost:8080/",
     "height": 226
    },
    "id": "vSqATbQJpNXe",
    "outputId": "6f317b66-407e-449e-c5df-61f13b6a2d05"
   },
   "outputs": [
    {
     "data": {
      "text/html": [
       "<div>\n",
       "<style scoped>\n",
       "    .dataframe tbody tr th:only-of-type {\n",
       "        vertical-align: middle;\n",
       "    }\n",
       "\n",
       "    .dataframe tbody tr th {\n",
       "        vertical-align: top;\n",
       "    }\n",
       "\n",
       "    .dataframe thead th {\n",
       "        text-align: right;\n",
       "    }\n",
       "</style>\n",
       "<table border=\"1\" class=\"dataframe\">\n",
       "  <thead>\n",
       "    <tr style=\"text-align: right;\">\n",
       "      <th></th>\n",
       "      <th>Flow ID</th>\n",
       "      <th>Source IP</th>\n",
       "      <th>Source Port</th>\n",
       "      <th>Destination IP</th>\n",
       "      <th>Destination Port</th>\n",
       "      <th>Protocol</th>\n",
       "      <th>Timestamp</th>\n",
       "      <th>Flow Duration</th>\n",
       "      <th>Total Fwd Packets</th>\n",
       "      <th>Total Backward Packets</th>\n",
       "      <th>...</th>\n",
       "      <th>act_data_pkt_fwd</th>\n",
       "      <th>min_seg_size_forward</th>\n",
       "      <th>Active Mean</th>\n",
       "      <th>Active Std</th>\n",
       "      <th>Active Max</th>\n",
       "      <th>Active Min</th>\n",
       "      <th>Idle Mean</th>\n",
       "      <th>Idle Std</th>\n",
       "      <th>Idle Max</th>\n",
       "      <th>Idle Min</th>\n",
       "    </tr>\n",
       "  </thead>\n",
       "  <tbody>\n",
       "    <tr>\n",
       "      <th>0</th>\n",
       "      <td>0.14417</td>\n",
       "      <td>0.254947</td>\n",
       "      <td>0.00676</td>\n",
       "      <td>0.282974</td>\n",
       "      <td>0.761669</td>\n",
       "      <td>0.352941</td>\n",
       "      <td>0.563685</td>\n",
       "      <td>6.416666e-07</td>\n",
       "      <td>0.000009</td>\n",
       "      <td>0.000003</td>\n",
       "      <td>...</td>\n",
       "      <td>0.000009</td>\n",
       "      <td>1.0</td>\n",
       "      <td>0.0</td>\n",
       "      <td>0.0</td>\n",
       "      <td>0.0</td>\n",
       "      <td>0.0</td>\n",
       "      <td>0.0</td>\n",
       "      <td>0.0</td>\n",
       "      <td>0.0</td>\n",
       "      <td>0.0</td>\n",
       "    </tr>\n",
       "  </tbody>\n",
       "</table>\n",
       "<p>1 rows × 83 columns</p>\n",
       "</div>"
      ],
      "text/plain": [
       "   Flow ID  Source IP  Source Port  Destination IP  Destination Port  \\\n",
       "0  0.14417   0.254947      0.00676        0.282974          0.761669   \n",
       "\n",
       "   Protocol  Timestamp  Flow Duration  Total Fwd Packets  \\\n",
       "0  0.352941   0.563685   6.416666e-07           0.000009   \n",
       "\n",
       "   Total Backward Packets  ...  act_data_pkt_fwd  min_seg_size_forward  \\\n",
       "0                0.000003  ...          0.000009                   1.0   \n",
       "\n",
       "   Active Mean  Active Std  Active Max  Active Min  Idle Mean  Idle Std  \\\n",
       "0          0.0         0.0         0.0         0.0        0.0       0.0   \n",
       "\n",
       "   Idle Max  Idle Min  \n",
       "0       0.0       0.0  \n",
       "\n",
       "[1 rows x 83 columns]"
      ]
     },
     "execution_count": 27,
     "metadata": {},
     "output_type": "execute_result"
    }
   ],
   "source": [
    "X.head(1)"
   ]
  },
  {
   "cell_type": "code",
   "execution_count": 28,
   "metadata": {
    "id": "4bOdL7mvpQ76"
   },
   "outputs": [],
   "source": [
    "y = categorical"
   ]
  },
  {
   "cell_type": "code",
   "execution_count": 29,
   "metadata": {
    "colab": {
     "base_uri": "https://localhost:8080/",
     "height": 81
    },
    "id": "HVq-IURlpeMW",
    "outputId": "2b4b7eb2-2efa-4a09-9621-c50faff3168c"
   },
   "outputs": [
    {
     "data": {
      "text/html": [
       "<div>\n",
       "<style scoped>\n",
       "    .dataframe tbody tr th:only-of-type {\n",
       "        vertical-align: middle;\n",
       "    }\n",
       "\n",
       "    .dataframe tbody tr th {\n",
       "        vertical-align: top;\n",
       "    }\n",
       "\n",
       "    .dataframe thead th {\n",
       "        text-align: right;\n",
       "    }\n",
       "</style>\n",
       "<table border=\"1\" class=\"dataframe\">\n",
       "  <thead>\n",
       "    <tr style=\"text-align: right;\">\n",
       "      <th></th>\n",
       "      <th>Label_BENIGN</th>\n",
       "      <th>Label_DDoS</th>\n",
       "      <th>Label_DoS GoldenEye</th>\n",
       "      <th>Label_DoS Hulk</th>\n",
       "      <th>Label_FTP-Patator</th>\n",
       "      <th>Label_PortScan</th>\n",
       "    </tr>\n",
       "  </thead>\n",
       "  <tbody>\n",
       "    <tr>\n",
       "      <th>0</th>\n",
       "      <td>1</td>\n",
       "      <td>0</td>\n",
       "      <td>0</td>\n",
       "      <td>0</td>\n",
       "      <td>0</td>\n",
       "      <td>0</td>\n",
       "    </tr>\n",
       "  </tbody>\n",
       "</table>\n",
       "</div>"
      ],
      "text/plain": [
       "   Label_BENIGN  Label_DDoS  Label_DoS GoldenEye  Label_DoS Hulk  \\\n",
       "0             1           0                    0               0   \n",
       "\n",
       "   Label_FTP-Patator  Label_PortScan  \n",
       "0                  0               0  "
      ]
     },
     "execution_count": 29,
     "metadata": {},
     "output_type": "execute_result"
    }
   ],
   "source": [
    "y.head(1)"
   ]
  },
  {
   "cell_type": "markdown",
   "metadata": {
    "id": "ncWBvSDKqoJP"
   },
   "source": [
    "https://glassboxmedicine.com/2019/05/26/classification-sigmoid-vs-softmax/#:~:text=The%20probabilities%20produced%20by%20a%20softmax%20will%20always%20sum%20to,decrease%20by%20an%20equivalent%20amount."
   ]
  },
  {
   "cell_type": "code",
   "execution_count": 30,
   "metadata": {
    "id": "pXSyOCRmpfl6"
   },
   "outputs": [],
   "source": [
    "from sklearn.model_selection import train_test_split\n",
    "X_train, X_test, y_train, y_test = train_test_split(X, y, test_size=0.33, random_state=42)"
   ]
  },
  {
   "cell_type": "markdown",
   "metadata": {
    "id": "PEQZdfGLqyt0"
   },
   "source": [
    "#  Convolutional Neural Networks"
   ]
  },
  {
   "cell_type": "code",
   "execution_count": 31,
   "metadata": {
    "colab": {
     "base_uri": "https://localhost:8080/"
    },
    "id": "c4eYjOm_qvpf",
    "outputId": "eaceed23-93e2-4f99-863c-5258961a4e83"
   },
   "outputs": [
    {
     "data": {
      "text/plain": [
       "((1227673, 83), (1227673, 6), (604675, 83))"
      ]
     },
     "execution_count": 31,
     "metadata": {},
     "output_type": "execute_result"
    }
   ],
   "source": [
    "X_train.shape , y_train.shape , X_test.shape"
   ]
  },
  {
   "cell_type": "code",
   "execution_count": 32,
   "metadata": {
    "id": "71TTX-cgq0bl"
   },
   "outputs": [],
   "source": [
    "X_train = X_train.to_numpy().reshape(-1, 83,1)\n",
    "X_test = X_test.to_numpy().reshape(-1, 83,1)"
   ]
  },
  {
   "cell_type": "markdown",
   "metadata": {
    "id": "QtpJ7yF8rFbA"
   },
   "source": [
    "## Model Training"
   ]
  },
  {
   "cell_type": "code",
   "execution_count": 33,
   "metadata": {
    "id": "b-kNcXOerIMy"
   },
   "outputs": [],
   "source": [
    "import numpy as np\n",
    "import tensorflow as tf\n",
    "from tensorflow.keras.models import Sequential, load_model\n",
    "from tensorflow.keras.layers import Dense,Dropout,LSTM,Embedding,SimpleRNN, GRU,Activation,Flatten\n",
    "from tensorflow.keras.layers import Conv1D,MaxPool1D, Flatten\n",
    "from tensorflow.keras.utils import plot_model\n",
    "from tensorflow.keras.preprocessing import sequence\n",
    "from sklearn.metrics import (precision_score, recall_score,confusion_matrix,f1_score, accuracy_score,mean_squared_error,mean_absolute_error)\n",
    "import pandas as pd\n",
    "from tensorflow.keras import callbacks\n",
    "from tensorflow.keras.callbacks import ModelCheckpoint, EarlyStopping, ReduceLROnPlateau, CSVLogger\n",
    "import matplotlib.pyplot as plt"
   ]
  },
  {
   "cell_type": "code",
   "execution_count": 34,
   "metadata": {
    "id": "NeiAXEkvq5Ei"
   },
   "outputs": [],
   "source": [
    "model_cnn = Sequential()\n",
    "model_cnn.add(Conv1D(64, 3, padding=\"same\",activation=\"relu\",input_shape=(83, 1)))\n",
    "model_cnn.add(Conv1D(64, 3, padding=\"same\", activation=\"relu\"))\n",
    "model_cnn.add(MaxPool1D(pool_size=(2)))\n",
    "model_cnn.add(Conv1D(128, 3, padding=\"same\", activation=\"relu\"))\n",
    "model_cnn.add(Conv1D(128, 3, padding=\"same\", activation=\"relu\"))\n",
    "model_cnn.add(MaxPool1D(pool_size=(2)))\n",
    "model_cnn.add(Flatten())\n",
    "model_cnn.add(Dense(128, activation=\"relu\"))\n",
    "model_cnn.add(Dropout(0.5))\n",
    "model_cnn.add(Dense(6, activation=\"sigmoid\"))"
   ]
  },
  {
   "cell_type": "code",
   "execution_count": 35,
   "metadata": {
    "colab": {
     "base_uri": "https://localhost:8080/",
     "height": 863
    },
    "id": "Z336GaS9rCnf",
    "outputId": "2fb4c260-3611-4800-dcff-8bed404130fd"
   },
   "outputs": [
    {
     "name": "stdout",
     "output_type": "stream",
     "text": [
      "Epoch 1/1000\n",
      "38365/38365 [==============================] - 292s 7ms/step - loss: 0.0041 - accuracy: 0.9965 - val_loss: 0.0017 - val_accuracy: 0.9987\n",
      "Epoch 2/1000\n",
      "38365/38365 [==============================] - 253s 7ms/step - loss: 9.8722e-04 - accuracy: 0.9994 - val_loss: 3.8236e-04 - val_accuracy: 0.9998\n",
      "Epoch 3/1000\n",
      "38365/38365 [==============================] - 254s 7ms/step - loss: 7.3200e-04 - accuracy: 0.9996 - val_loss: 2.5611e-04 - val_accuracy: 0.9999\n",
      "Epoch 4/1000\n",
      "38365/38365 [==============================] - 254s 7ms/step - loss: 6.7646e-04 - accuracy: 0.9996 - val_loss: 0.0014 - val_accuracy: 0.9994\n",
      "Epoch 5/1000\n",
      "38365/38365 [==============================] - 252s 7ms/step - loss: 6.9236e-04 - accuracy: 0.9996 - val_loss: 3.6131e-04 - val_accuracy: 0.9998\n",
      "Epoch 6/1000\n",
      "38365/38365 [==============================] - 253s 7ms/step - loss: 7.6014e-04 - accuracy: 0.9996 - val_loss: 6.0793e-04 - val_accuracy: 0.9998\n",
      "Epoch 7/1000\n",
      "38365/38365 [==============================] - 638s 17ms/step - loss: 8.4343e-04 - accuracy: 0.9996 - val_loss: 5.1238e-04 - val_accuracy: 0.9998\n"
     ]
    }
   ],
   "source": [
    "model_cnn.compile(loss=\"binary_crossentropy\", optimizer=\"adam\",metrics=['accuracy'])\n",
    "es = EarlyStopping(monitor='val_accuracy', mode='max', min_delta=0.0001,patience=5) ## early stoppoing\n",
    "\n",
    "#FIT AND SAVE MODEL FOR FUTURE\n",
    "model_cnn.fit(X_train, y_train, epochs=1000,validation_data=(X_test, y_test),callbacks=[es])\n",
    "model_cnn.save(\"model_split_cnn_model.hdf5\")"
   ]
  },
  {
   "cell_type": "code",
   "execution_count": null,
   "metadata": {
    "id": "MAHJiKc_rMT6"
   },
   "outputs": [],
   "source": []
  }
 ],
 "metadata": {
  "accelerator": "GPU",
  "colab": {
   "provenance": []
  },
  "gpuClass": "standard",
  "kernelspec": {
   "display_name": "Python 3",
   "language": "python",
   "name": "python3"
  },
  "language_info": {
   "codemirror_mode": {
    "name": "ipython",
    "version": 3
   },
   "file_extension": ".py",
   "mimetype": "text/x-python",
   "name": "python",
   "nbconvert_exporter": "python",
   "pygments_lexer": "ipython3",
   "version": "3.9.2"
  }
 },
 "nbformat": 4,
 "nbformat_minor": 1
}
