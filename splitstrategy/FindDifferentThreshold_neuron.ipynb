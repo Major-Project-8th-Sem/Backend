{
 "cells": [
  {
   "cell_type": "code",
   "execution_count": 1,
   "metadata": {
    "id": "eQYWfQfvzYaN"
   },
   "outputs": [],
   "source": [
    "# All  import statements needed for the notebook\n",
    "import pandas as pd\n",
    "import numpy as np\n",
    "import matplotlib.pyplot as plt\n",
    "import seaborn as sns\n",
    "import sklearn\n",
    "from sklearn.metrics import *"
   ]
  },
  {
   "cell_type": "code",
   "execution_count": 2,
   "metadata": {
    "colab": {
     "base_uri": "https://localhost:8080/"
    },
    "id": "TtA_XtKo0MYw",
    "outputId": "ac47e592-deee-4c94-bbd6-d47d3595ec0b"
   },
   "outputs": [
    {
     "data": {
      "text/plain": [
       "[PhysicalDevice(name='/physical_device:GPU:0', device_type='GPU')]"
      ]
     },
     "execution_count": 2,
     "metadata": {},
     "output_type": "execute_result"
    }
   ],
   "source": [
    "import tensorflow as tf\n",
    "tf.config.list_physical_devices('GPU')"
   ]
  },
  {
   "cell_type": "code",
   "execution_count": 3,
   "metadata": {
    "colab": {
     "base_uri": "https://localhost:8080/"
    },
    "id": "2ovSjSe00Ri_",
    "outputId": "d1aaf6c1-0ccf-407e-fc8a-12edcb06fc49"
   },
   "outputs": [
    {
     "name": "stdout",
     "output_type": "stream",
     "text": [
      "Drive already mounted at /content/drive; to attempt to forcibly remount, call drive.mount(\"/content/drive\", force_remount=True).\n"
     ]
    }
   ],
   "source": [
    "from google.colab import drive\n",
    "drive.mount('/content/drive')"
   ]
  },
  {
   "cell_type": "code",
   "execution_count": 4,
   "metadata": {
    "id": "Zk1jSDcr0WLx"
   },
   "outputs": [],
   "source": [
    "data = pd.read_csv('/content/drive/MyDrive/balancedhalf_data.csv')\n",
    "\n",
    "data.drop(data.columns[0] , inplace=True , axis=1)\n",
    "\n",
    "unknown = ['SSH-Patator','DoS slowloris','DoS Slowhttptest','Bot','Infiltration','Heartbleed']\n",
    "att = data.loc[(data['Label'].isin(unknown))]\n",
    "\n",
    "data.drop(att.index,axis=0 , inplace=True, errors='ignore')"
   ]
  },
  {
   "cell_type": "code",
   "execution_count": 5,
   "metadata": {
    "id": "N_ykXFnb0bKH"
   },
   "outputs": [],
   "source": [
    "## PreProcessing\n",
    "\n",
    "# importing required libraries for normalizing data\n",
    "from sklearn import preprocessing\n",
    "from sklearn.preprocessing import MinMaxScaler\n",
    "# selecting numeric attributes columns from data\n",
    "numeric_col = data.select_dtypes(include='number').columns\n",
    "\n",
    "# using standard scaler for normalizing\n",
    "std_scaler = MinMaxScaler()\n",
    "def normalization(df,att,col):\n",
    "  for i in col:\n",
    "    arr = df[i]\n",
    "    arr = np.array(arr)\n",
    "    x = np.array(att[i])\n",
    "    df[i] = std_scaler.fit_transform(arr.reshape(len(arr),1))\n",
    "    #To use the same scaler which was used in preprocessing the train data \n",
    "    att[i] = std_scaler.transform(x.reshape(len(x),1))\n",
    "  return df,att\n",
    "# calling the normalization() function\n",
    "data , att = normalization(data.copy(),att.copy(),numeric_col)\n",
    "\n",
    "data.shape , att.shape\n",
    "\n",
    "att.Label = 'unknown'\n",
    "\n",
    "X = att.drop('Label' , axis=1)\n",
    "X = X.to_numpy().reshape(-1, 83,1)\n",
    "\n",
    "y = att.Label\n",
    "\n",
    "X_train = data.drop('Label' , axis=1)\n",
    "X_train = X_train.to_numpy().reshape(-1, 83,1)\n",
    "\n",
    "y_train = data.Label"
   ]
  },
  {
   "cell_type": "code",
   "execution_count": 6,
   "metadata": {
    "id": "R7qTGG830eZC"
   },
   "outputs": [],
   "source": [
    "# **Load Model and Predict**\n",
    "MODEL = '/content/drive/MyDrive/models/model_split_softmax_cnn_model.hdf5'\n",
    "from tensorflow import keras\n",
    "model = keras.models.load_model(MODEL)"
   ]
  },
  {
   "cell_type": "code",
   "execution_count": 7,
   "metadata": {
    "colab": {
     "base_uri": "https://localhost:8080/"
    },
    "id": "4qAPrKlx0A4J",
    "outputId": "c33c9b37-5d9b-4fae-e925-f2fc0805b562"
   },
   "outputs": [
    {
     "data": {
      "text/plain": [
       "BENIGN           555466\n",
       "DoS Hulk         231073\n",
       "PortScan         158930\n",
       "DDoS             128027\n",
       "DoS GoldenEye     10293\n",
       "FTP-Patator        7938\n",
       "Name: Label, dtype: int64"
      ]
     },
     "execution_count": 7,
     "metadata": {},
     "output_type": "execute_result"
    }
   ],
   "source": [
    "y_train.value_counts()"
   ]
  },
  {
   "cell_type": "code",
   "execution_count": 8,
   "metadata": {
    "colab": {
     "base_uri": "https://localhost:8080/"
    },
    "id": "skNMMvsW1HKj",
    "outputId": "1bcdc1d8-9caa-4a51-f099-78f03f607283"
   },
   "outputs": [
    {
     "name": "stdout",
     "output_type": "stream",
     "text": [
      "34117/34117 [==============================] - 82s 2ms/step\n"
     ]
    }
   ],
   "source": [
    "Y_train_predicted = model.predict(X_train)"
   ]
  },
  {
   "cell_type": "code",
   "execution_count": 9,
   "metadata": {
    "id": "DZj9D7or2dSQ"
   },
   "outputs": [],
   "source": [
    "LABELS = ['BENIGN','DDoS','DoS GoldenEye','DoS Hulk','FTP-Patator','PortScan']"
   ]
  },
  {
   "cell_type": "code",
   "execution_count": 10,
   "metadata": {
    "id": "V49DTHmm4EJC"
   },
   "outputs": [],
   "source": [
    "y_prediction_index = np.argmax(Y_train_predicted, axis = 1)"
   ]
  },
  {
   "cell_type": "code",
   "execution_count": 11,
   "metadata": {
    "id": "zEqNC1zJ3oRJ"
   },
   "outputs": [],
   "source": [
    "df = pd.DataFrame(data=Y_train_predicted,columns=LABELS)"
   ]
  },
  {
   "cell_type": "code",
   "execution_count": 12,
   "metadata": {
    "id": "H5yuypHk198w"
   },
   "outputs": [],
   "source": [
    "labeltoindex = {\n",
    "    'BENIGN':0,'DDoS':1,'DoS Hulk':3,'DoS GoldenEye':2,'PortScan':5,'FTP-Patator':4\n",
    "}"
   ]
  },
  {
   "cell_type": "code",
   "execution_count": 13,
   "metadata": {
    "colab": {
     "base_uri": "https://localhost:8080/"
    },
    "id": "oD27wmUu2gev",
    "outputId": "e450b20e-055a-4fd9-f647-ba64134de25e"
   },
   "outputs": [
    {
     "data": {
      "text/plain": [
       "array([0, 0, 0, ..., 4, 4, 4])"
      ]
     },
     "execution_count": 13,
     "metadata": {},
     "output_type": "execute_result"
    }
   ],
   "source": [
    "np.vectorize(labeltoindex.get)(y_train)"
   ]
  },
  {
   "cell_type": "code",
   "execution_count": 14,
   "metadata": {
    "id": "FsHOeakN42ny"
   },
   "outputs": [],
   "source": [
    "TRUELY_PREDICTED = np.vectorize(labeltoindex.get)(y_train) == y_prediction_index"
   ]
  },
  {
   "cell_type": "code",
   "execution_count": 15,
   "metadata": {
    "colab": {
     "base_uri": "https://localhost:8080/"
    },
    "id": "8iqChSs84CaM",
    "outputId": "65ac0b76-0336-4d2d-b83d-42b615382824"
   },
   "outputs": [
    {
     "data": {
      "text/plain": [
       "array([ True,  True,  True, ...,  True,  True,  True])"
      ]
     },
     "execution_count": 15,
     "metadata": {},
     "output_type": "execute_result"
    }
   ],
   "source": [
    "TRUELY_PREDICTED"
   ]
  },
  {
   "cell_type": "code",
   "execution_count": 16,
   "metadata": {
    "colab": {
     "base_uri": "https://localhost:8080/",
     "height": 206
    },
    "id": "0VyZb9gh5zyd",
    "outputId": "9bf48a80-efba-4593-b356-2f730757347f"
   },
   "outputs": [
    {
     "data": {
      "text/html": [
       "\n",
       "  <div id=\"df-71362abb-d3ce-4dd9-8cb3-4cab3d6db66b\">\n",
       "    <div class=\"colab-df-container\">\n",
       "      <div>\n",
       "<style scoped>\n",
       "    .dataframe tbody tr th:only-of-type {\n",
       "        vertical-align: middle;\n",
       "    }\n",
       "\n",
       "    .dataframe tbody tr th {\n",
       "        vertical-align: top;\n",
       "    }\n",
       "\n",
       "    .dataframe thead th {\n",
       "        text-align: right;\n",
       "    }\n",
       "</style>\n",
       "<table border=\"1\" class=\"dataframe\">\n",
       "  <thead>\n",
       "    <tr style=\"text-align: right;\">\n",
       "      <th></th>\n",
       "      <th>BENIGN</th>\n",
       "      <th>DDoS</th>\n",
       "      <th>DoS GoldenEye</th>\n",
       "      <th>DoS Hulk</th>\n",
       "      <th>FTP-Patator</th>\n",
       "      <th>PortScan</th>\n",
       "    </tr>\n",
       "  </thead>\n",
       "  <tbody>\n",
       "    <tr>\n",
       "      <th>0</th>\n",
       "      <td>1.0</td>\n",
       "      <td>0.0</td>\n",
       "      <td>0.0</td>\n",
       "      <td>0.0</td>\n",
       "      <td>0.0</td>\n",
       "      <td>0.0</td>\n",
       "    </tr>\n",
       "    <tr>\n",
       "      <th>1</th>\n",
       "      <td>1.0</td>\n",
       "      <td>0.0</td>\n",
       "      <td>0.0</td>\n",
       "      <td>0.0</td>\n",
       "      <td>0.0</td>\n",
       "      <td>0.0</td>\n",
       "    </tr>\n",
       "    <tr>\n",
       "      <th>2</th>\n",
       "      <td>1.0</td>\n",
       "      <td>0.0</td>\n",
       "      <td>0.0</td>\n",
       "      <td>0.0</td>\n",
       "      <td>0.0</td>\n",
       "      <td>0.0</td>\n",
       "    </tr>\n",
       "    <tr>\n",
       "      <th>3</th>\n",
       "      <td>1.0</td>\n",
       "      <td>0.0</td>\n",
       "      <td>0.0</td>\n",
       "      <td>0.0</td>\n",
       "      <td>0.0</td>\n",
       "      <td>0.0</td>\n",
       "    </tr>\n",
       "    <tr>\n",
       "      <th>4</th>\n",
       "      <td>1.0</td>\n",
       "      <td>0.0</td>\n",
       "      <td>0.0</td>\n",
       "      <td>0.0</td>\n",
       "      <td>0.0</td>\n",
       "      <td>0.0</td>\n",
       "    </tr>\n",
       "  </tbody>\n",
       "</table>\n",
       "</div>\n",
       "      <button class=\"colab-df-convert\" onclick=\"convertToInteractive('df-71362abb-d3ce-4dd9-8cb3-4cab3d6db66b')\"\n",
       "              title=\"Convert this dataframe to an interactive table.\"\n",
       "              style=\"display:none;\">\n",
       "        \n",
       "  <svg xmlns=\"http://www.w3.org/2000/svg\" height=\"24px\"viewBox=\"0 0 24 24\"\n",
       "       width=\"24px\">\n",
       "    <path d=\"M0 0h24v24H0V0z\" fill=\"none\"/>\n",
       "    <path d=\"M18.56 5.44l.94 2.06.94-2.06 2.06-.94-2.06-.94-.94-2.06-.94 2.06-2.06.94zm-11 1L8.5 8.5l.94-2.06 2.06-.94-2.06-.94L8.5 2.5l-.94 2.06-2.06.94zm10 10l.94 2.06.94-2.06 2.06-.94-2.06-.94-.94-2.06-.94 2.06-2.06.94z\"/><path d=\"M17.41 7.96l-1.37-1.37c-.4-.4-.92-.59-1.43-.59-.52 0-1.04.2-1.43.59L10.3 9.45l-7.72 7.72c-.78.78-.78 2.05 0 2.83L4 21.41c.39.39.9.59 1.41.59.51 0 1.02-.2 1.41-.59l7.78-7.78 2.81-2.81c.8-.78.8-2.07 0-2.86zM5.41 20L4 18.59l7.72-7.72 1.47 1.35L5.41 20z\"/>\n",
       "  </svg>\n",
       "      </button>\n",
       "      \n",
       "  <style>\n",
       "    .colab-df-container {\n",
       "      display:flex;\n",
       "      flex-wrap:wrap;\n",
       "      gap: 12px;\n",
       "    }\n",
       "\n",
       "    .colab-df-convert {\n",
       "      background-color: #E8F0FE;\n",
       "      border: none;\n",
       "      border-radius: 50%;\n",
       "      cursor: pointer;\n",
       "      display: none;\n",
       "      fill: #1967D2;\n",
       "      height: 32px;\n",
       "      padding: 0 0 0 0;\n",
       "      width: 32px;\n",
       "    }\n",
       "\n",
       "    .colab-df-convert:hover {\n",
       "      background-color: #E2EBFA;\n",
       "      box-shadow: 0px 1px 2px rgba(60, 64, 67, 0.3), 0px 1px 3px 1px rgba(60, 64, 67, 0.15);\n",
       "      fill: #174EA6;\n",
       "    }\n",
       "\n",
       "    [theme=dark] .colab-df-convert {\n",
       "      background-color: #3B4455;\n",
       "      fill: #D2E3FC;\n",
       "    }\n",
       "\n",
       "    [theme=dark] .colab-df-convert:hover {\n",
       "      background-color: #434B5C;\n",
       "      box-shadow: 0px 1px 3px 1px rgba(0, 0, 0, 0.15);\n",
       "      filter: drop-shadow(0px 1px 2px rgba(0, 0, 0, 0.3));\n",
       "      fill: #FFFFFF;\n",
       "    }\n",
       "  </style>\n",
       "\n",
       "      <script>\n",
       "        const buttonEl =\n",
       "          document.querySelector('#df-71362abb-d3ce-4dd9-8cb3-4cab3d6db66b button.colab-df-convert');\n",
       "        buttonEl.style.display =\n",
       "          google.colab.kernel.accessAllowed ? 'block' : 'none';\n",
       "\n",
       "        async function convertToInteractive(key) {\n",
       "          const element = document.querySelector('#df-71362abb-d3ce-4dd9-8cb3-4cab3d6db66b');\n",
       "          const dataTable =\n",
       "            await google.colab.kernel.invokeFunction('convertToInteractive',\n",
       "                                                     [key], {});\n",
       "          if (!dataTable) return;\n",
       "\n",
       "          const docLinkHtml = 'Like what you see? Visit the ' +\n",
       "            '<a target=\"_blank\" href=https://colab.research.google.com/notebooks/data_table.ipynb>data table notebook</a>'\n",
       "            + ' to learn more about interactive tables.';\n",
       "          element.innerHTML = '';\n",
       "          dataTable['output_type'] = 'display_data';\n",
       "          await google.colab.output.renderOutput(dataTable, element);\n",
       "          const docLink = document.createElement('div');\n",
       "          docLink.innerHTML = docLinkHtml;\n",
       "          element.appendChild(docLink);\n",
       "        }\n",
       "      </script>\n",
       "    </div>\n",
       "  </div>\n",
       "  "
      ],
      "text/plain": [
       "   BENIGN  DDoS  DoS GoldenEye  DoS Hulk  FTP-Patator  PortScan\n",
       "0     1.0   0.0            0.0       0.0          0.0       0.0\n",
       "1     1.0   0.0            0.0       0.0          0.0       0.0\n",
       "2     1.0   0.0            0.0       0.0          0.0       0.0\n",
       "3     1.0   0.0            0.0       0.0          0.0       0.0\n",
       "4     1.0   0.0            0.0       0.0          0.0       0.0"
      ]
     },
     "execution_count": 16,
     "metadata": {},
     "output_type": "execute_result"
    }
   ],
   "source": [
    "df.head()"
   ]
  },
  {
   "cell_type": "code",
   "execution_count": 17,
   "metadata": {
    "colab": {
     "base_uri": "https://localhost:8080/"
    },
    "id": "lbO0yKKcmjqG",
    "outputId": "c300dd8e-94e3-4f89-e718-7226d51d88c9"
   },
   "outputs": [
    {
     "data": {
      "text/plain": [
       "True     1091076\n",
       "False        651\n",
       "dtype: int64"
      ]
     },
     "execution_count": 17,
     "metadata": {},
     "output_type": "execute_result"
    }
   ],
   "source": [
    "pd.Series(TRUELY_PREDICTED).value_counts()"
   ]
  },
  {
   "cell_type": "code",
   "execution_count": 18,
   "metadata": {
    "id": "a1TqTCBk3ito"
   },
   "outputs": [],
   "source": [
    "df['INDEX_WIN'] = np.where( TRUELY_PREDICTED == True , y_prediction_index, '')"
   ]
  },
  {
   "cell_type": "code",
   "execution_count": 19,
   "metadata": {
    "colab": {
     "base_uri": "https://localhost:8080/"
    },
    "id": "tmZnMXRJ6Dis",
    "outputId": "419fc6b7-fd29-4319-f034-f5ed6c9c0237"
   },
   "outputs": [
    {
     "data": {
      "text/plain": [
       "(1091727, 7)"
      ]
     },
     "execution_count": 19,
     "metadata": {},
     "output_type": "execute_result"
    }
   ],
   "source": [
    "df.shape"
   ]
  },
  {
   "cell_type": "code",
   "execution_count": 20,
   "metadata": {
    "id": "WKryPw-Q4aML"
   },
   "outputs": [],
   "source": [
    "df = df[df['INDEX_WIN'] != '']"
   ]
  },
  {
   "cell_type": "code",
   "execution_count": 21,
   "metadata": {
    "colab": {
     "base_uri": "https://localhost:8080/"
    },
    "id": "33dfbqcRoOVO",
    "outputId": "3ea88140-644c-49c0-e120-4722f30ffc73"
   },
   "outputs": [
    {
     "data": {
      "text/plain": [
       "(1091076, 7)"
      ]
     },
     "execution_count": 21,
     "metadata": {},
     "output_type": "execute_result"
    }
   ],
   "source": [
    "df.shape"
   ]
  },
  {
   "cell_type": "code",
   "execution_count": 22,
   "metadata": {
    "colab": {
     "base_uri": "https://localhost:8080/"
    },
    "id": "kD-Ea3tp4zLI",
    "outputId": "4b03dd61-23ab-4683-d598-fd4944b277e7"
   },
   "outputs": [
    {
     "data": {
      "text/plain": [
       "0    554933\n",
       "3    231071\n",
       "5    158920\n",
       "1    128024\n",
       "2     10208\n",
       "4      7920\n",
       "Name: INDEX_WIN, dtype: int64"
      ]
     },
     "execution_count": 22,
     "metadata": {},
     "output_type": "execute_result"
    }
   ],
   "source": [
    "df['INDEX_WIN'].value_counts()"
   ]
  },
  {
   "cell_type": "code",
   "execution_count": 32,
   "metadata": {
    "colab": {
     "base_uri": "https://localhost:8080/"
    },
    "id": "2g5hb3_FsT0P",
    "outputId": "e35a5b18-a71b-4421-ae01-da500f4ed64e"
   },
   "outputs": [
    {
     "data": {
      "text/plain": [
       "BENIGN           float32\n",
       "DDoS             float32\n",
       "DoS GoldenEye    float32\n",
       "DoS Hulk         float32\n",
       "FTP-Patator      float32\n",
       "PortScan         float32\n",
       "INDEX_WIN         object\n",
       "dtype: object"
      ]
     },
     "execution_count": 32,
     "metadata": {},
     "output_type": "execute_result"
    }
   ],
   "source": [
    "df.dtypes"
   ]
  },
  {
   "cell_type": "code",
   "execution_count": 37,
   "metadata": {
    "id": "odZHtGQ5siUj"
   },
   "outputs": [],
   "source": [
    "df.INDEX_WIN = df.INDEX_WIN.astype('int')"
   ]
  },
  {
   "cell_type": "code",
   "execution_count": 38,
   "metadata": {
    "colab": {
     "base_uri": "https://localhost:8080/"
    },
    "id": "Zk-JYpM_sqsQ",
    "outputId": "3f40be52-c072-412e-ef41-fb323750301d"
   },
   "outputs": [
    {
     "data": {
      "text/plain": [
       "BENIGN           float32\n",
       "DDoS             float32\n",
       "DoS GoldenEye    float32\n",
       "DoS Hulk         float32\n",
       "FTP-Patator      float32\n",
       "PortScan         float32\n",
       "INDEX_WIN          int64\n",
       "dtype: object"
      ]
     },
     "execution_count": 38,
     "metadata": {},
     "output_type": "execute_result"
    }
   ],
   "source": [
    "df.dtypes"
   ]
  },
  {
   "cell_type": "code",
   "execution_count": 39,
   "metadata": {
    "id": "Nkur5SU-spEL"
   },
   "outputs": [],
   "source": [
    "threshold_values = {}\n",
    "def to_do(df):\n",
    "  ind = df['INDEX_WIN'].to_numpy()[0]\n",
    "  LABELS = ['BENIGN','DDoS','DoS GoldenEye','DoS Hulk','FTP-Patator','PortScan']  \n",
    "  label = LABELS[ind] \n",
    "  import numpy as np\n",
    "  threshold =  np.amin(df[label])\n",
    "  threshold_values[label] = threshold\n",
    "  return threshold"
   ]
  },
  {
   "cell_type": "code",
   "execution_count": 40,
   "metadata": {
    "colab": {
     "base_uri": "https://localhost:8080/"
    },
    "id": "LjsWeu365Tgq",
    "outputId": "7079c846-cc3d-43b0-ecb9-4c89d69a4042"
   },
   "outputs": [
    {
     "data": {
      "text/plain": [
       "INDEX_WIN\n",
       "0    0.349928\n",
       "1    1.000000\n",
       "2    0.974300\n",
       "3    0.700373\n",
       "4    1.000000\n",
       "5    0.910532\n",
       "dtype: float32"
      ]
     },
     "execution_count": 40,
     "metadata": {},
     "output_type": "execute_result"
    }
   ],
   "source": [
    "df.groupby(['INDEX_WIN'], group_keys=True).apply(to_do)"
   ]
  },
  {
   "cell_type": "code",
   "execution_count": 41,
   "metadata": {
    "colab": {
     "base_uri": "https://localhost:8080/"
    },
    "id": "sz38IR2lw5Gz",
    "outputId": "ca222437-8235-46e9-b40c-0dc143f10e1b"
   },
   "outputs": [
    {
     "data": {
      "text/plain": [
       "{'BENIGN': 0.3499285,\n",
       " 'DDoS': 1.0,\n",
       " 'DoS GoldenEye': 0.9743001,\n",
       " 'DoS Hulk': 0.7003728,\n",
       " 'FTP-Patator': 0.9999999,\n",
       " 'PortScan': 0.9105322}"
      ]
     },
     "execution_count": 41,
     "metadata": {},
     "output_type": "execute_result"
    }
   ],
   "source": [
    "threshold_values"
   ]
  },
  {
   "cell_type": "code",
   "execution_count": null,
   "metadata": {
    "id": "HVu_5OLkszrQ"
   },
   "outputs": [],
   "source": []
  }
 ],
 "metadata": {
  "accelerator": "GPU",
  "colab": {
   "provenance": []
  },
  "gpuClass": "standard",
  "kernelspec": {
   "display_name": "Python 3 (ipykernel)",
   "language": "python",
   "name": "python3"
  },
  "language_info": {
   "codemirror_mode": {
    "name": "ipython",
    "version": 3
   },
   "file_extension": ".py",
   "mimetype": "text/x-python",
   "name": "python",
   "nbconvert_exporter": "python",
   "pygments_lexer": "ipython3",
   "version": "3.10.10"
  }
 },
 "nbformat": 4,
 "nbformat_minor": 1
}
