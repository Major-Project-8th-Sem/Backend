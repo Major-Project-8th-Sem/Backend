{
  "nbformat": 4,
  "nbformat_minor": 0,
  "metadata": {
    "colab": {
      "provenance": []
    },
    "kernelspec": {
      "name": "python3",
      "display_name": "Python 3"
    },
    "language_info": {
      "name": "python"
    },
    "accelerator": "GPU",
    "gpuClass": "standard"
  },
  "cells": [
    {
      "cell_type": "code",
      "execution_count": 1,
      "metadata": {
        "id": "K77CEbncvHWN"
      },
      "outputs": [],
      "source": [
        "# All  import statements needed for the notebook\n",
        "import pandas as pd\n",
        "import numpy as np\n",
        "import matplotlib.pyplot as plt\n",
        "import seaborn as sns\n",
        "import sklearn\n",
        "from sklearn.metrics import *"
      ]
    },
    {
      "cell_type": "code",
      "source": [
        "import tensorflow as tf\n",
        "tf.config.list_physical_devices('GPU')"
      ],
      "metadata": {
        "colab": {
          "base_uri": "https://localhost:8080/"
        },
        "id": "XJ81APP6vRhV",
        "outputId": "3f1affca-e574-407f-83e3-56e859f93af8"
      },
      "execution_count": 2,
      "outputs": [
        {
          "output_type": "execute_result",
          "data": {
            "text/plain": [
              "[PhysicalDevice(name='/physical_device:GPU:0', device_type='GPU')]"
            ]
          },
          "metadata": {},
          "execution_count": 2
        }
      ]
    },
    {
      "cell_type": "code",
      "source": [
        "from google.colab import drive\n",
        "drive.mount('/content/drive')"
      ],
      "metadata": {
        "colab": {
          "base_uri": "https://localhost:8080/"
        },
        "id": "Ngbn4AoIvSls",
        "outputId": "4a0e2c4b-0b02-43dc-8009-461489d70ea4"
      },
      "execution_count": 3,
      "outputs": [
        {
          "output_type": "stream",
          "name": "stdout",
          "text": [
            "Mounted at /content/drive\n"
          ]
        }
      ]
    },
    {
      "cell_type": "code",
      "source": [
        "data = pd.read_csv('/content/drive/MyDrive/balanced_data.csv')"
      ],
      "metadata": {
        "id": "0jAV-bA0vToD"
      },
      "execution_count": 4,
      "outputs": []
    },
    {
      "cell_type": "code",
      "source": [
        "data.drop(data.columns[0] , inplace=True , axis=1)"
      ],
      "metadata": {
        "id": "JuWTW394vUxn"
      },
      "execution_count": 5,
      "outputs": []
    },
    {
      "cell_type": "code",
      "source": [
        "unknown = ['SSH-Patator','DoS slowloris','DoS Slowhttptest','Bot','Infiltration','Heartbleed']\n",
        "att = data.loc[(data['Label'].isin(unknown))]"
      ],
      "metadata": {
        "id": "tpsdbcOZvV53"
      },
      "execution_count": 6,
      "outputs": []
    },
    {
      "cell_type": "code",
      "source": [
        "data.drop(att.index,axis=0 , inplace=True, errors='ignore')"
      ],
      "metadata": {
        "id": "iYdCQK-2vXQQ"
      },
      "execution_count": 7,
      "outputs": []
    },
    {
      "cell_type": "code",
      "source": [
        "data.Label.unique()"
      ],
      "metadata": {
        "colab": {
          "base_uri": "https://localhost:8080/"
        },
        "id": "06Yx9IjHviRq",
        "outputId": "a8f6b48a-35c3-4509-ab59-3f19a486a448"
      },
      "execution_count": 8,
      "outputs": [
        {
          "output_type": "execute_result",
          "data": {
            "text/plain": [
              "array(['BENIGN', 'DDoS', 'DoS Hulk', 'DoS GoldenEye', 'PortScan',\n",
              "       'FTP-Patator'], dtype=object)"
            ]
          },
          "metadata": {},
          "execution_count": 8
        }
      ]
    },
    {
      "cell_type": "code",
      "source": [
        "att.Label.unique()"
      ],
      "metadata": {
        "colab": {
          "base_uri": "https://localhost:8080/"
        },
        "id": "awVmBqttvkFQ",
        "outputId": "11500bb9-665c-48b4-b31f-37702319a34d"
      },
      "execution_count": 9,
      "outputs": [
        {
          "output_type": "execute_result",
          "data": {
            "text/plain": [
              "array(['Infiltration', 'DoS slowloris', 'DoS Slowhttptest', 'Heartbleed',\n",
              "       'Bot', 'SSH-Patator'], dtype=object)"
            ]
          },
          "metadata": {},
          "execution_count": 9
        }
      ]
    },
    {
      "cell_type": "markdown",
      "source": [
        "## PreProcessing"
      ],
      "metadata": {
        "id": "RI0OnBADvrH8"
      }
    },
    {
      "cell_type": "code",
      "source": [
        "# importing required libraries for normalizing data\n",
        "from sklearn import preprocessing\n",
        "from sklearn.preprocessing import MinMaxScaler\n",
        "# selecting numeric attributes columns from data\n",
        "numeric_col = data.select_dtypes(include='number').columns"
      ],
      "metadata": {
        "id": "agHIuzuuvmGz"
      },
      "execution_count": 10,
      "outputs": []
    },
    {
      "cell_type": "code",
      "source": [
        "# using standard scaler for normalizing\n",
        "std_scaler = MinMaxScaler()\n",
        "def normalization(df,att,col):\n",
        "  for i in col:\n",
        "    arr = df[i]\n",
        "    arr = np.array(arr)\n",
        "    x = np.array(att[i])\n",
        "    df[i] = std_scaler.fit_transform(arr.reshape(len(arr),1))\n",
        "    #To use the same scaler which was used in preprocessing the train data \n",
        "    att[i] = std_scaler.transform(x.reshape(len(x),1))\n",
        "  return df,att\n",
        "# calling the normalization() function\n",
        "data , att = normalization(data.copy(),att.copy(),numeric_col)"
      ],
      "metadata": {
        "id": "83ZVAIXsvxBT"
      },
      "execution_count": 11,
      "outputs": []
    },
    {
      "cell_type": "code",
      "source": [
        "data.shape , att.shape"
      ],
      "metadata": {
        "colab": {
          "base_uri": "https://localhost:8080/"
        },
        "id": "HWClqCk-v5ZF",
        "outputId": "de5f9dce-8d78-4e75-8a5e-48a4906db746"
      },
      "execution_count": 12,
      "outputs": [
        {
          "output_type": "execute_result",
          "data": {
            "text/plain": [
              "((1832348, 84), (19205, 84))"
            ]
          },
          "metadata": {},
          "execution_count": 12
        }
      ]
    },
    {
      "cell_type": "code",
      "source": [
        "att.Label = 'unknown'"
      ],
      "metadata": {
        "id": "-5oNtoROv9OJ"
      },
      "execution_count": 13,
      "outputs": []
    },
    {
      "cell_type": "code",
      "source": [
        "X = att.drop('Label' , axis=1)\n",
        "X = X.to_numpy().reshape(-1, 83,1)\n",
        "\n",
        "y = att.Label"
      ],
      "metadata": {
        "id": "KI1UR6uAwAD0"
      },
      "execution_count": 14,
      "outputs": []
    },
    {
      "cell_type": "code",
      "source": [
        "X_train = data.drop('Label' , axis=1)\n",
        "X_train = X_train.to_numpy().reshape(-1, 83,1)\n",
        "\n",
        "y_train = data.Label"
      ],
      "metadata": {
        "id": "u3XQ64JrwEQU"
      },
      "execution_count": 15,
      "outputs": []
    },
    {
      "cell_type": "markdown",
      "source": [
        "# **Load Model and Predict**\n"
      ],
      "metadata": {
        "id": "Xyr3jIBhwa0U"
      }
    },
    {
      "cell_type": "code",
      "source": [
        "from tensorflow import keras\n",
        "model = keras.models.load_model('/content/drive/MyDrive/models/model_split_cnn_model.hdf5')"
      ],
      "metadata": {
        "id": "3Vgy2eniwUFs"
      },
      "execution_count": 16,
      "outputs": []
    },
    {
      "cell_type": "code",
      "source": [
        "predicted = model.predict(X)\n",
        "Y_train_predicted = model.predict(X_train)"
      ],
      "metadata": {
        "colab": {
          "base_uri": "https://localhost:8080/"
        },
        "id": "LdCALCX7wcps",
        "outputId": "a0b93f11-9b54-40e5-b2d1-ef0ee3ed3361"
      },
      "execution_count": 17,
      "outputs": [
        {
          "output_type": "stream",
          "name": "stdout",
          "text": [
            "601/601 [==============================] - 9s 2ms/step\n",
            "57261/57261 [==============================] - 137s 2ms/step\n"
          ]
        }
      ]
    },
    {
      "cell_type": "markdown",
      "source": [
        "# **Evaluation of the Model**"
      ],
      "metadata": {
        "id": "EezQlT6yw3Ec"
      }
    },
    {
      "cell_type": "code",
      "source": [
        "Threshold_values = [0.4 ,0.5 , 0.6 , 0.7 , 0.8 , 0.9 , 0.95]"
      ],
      "metadata": {
        "id": "CiPLUzbLwmJm"
      },
      "execution_count": 40,
      "outputs": []
    },
    {
      "cell_type": "code",
      "source": [
        "y_train"
      ],
      "metadata": {
        "colab": {
          "base_uri": "https://localhost:8080/"
        },
        "id": "Vf_jktZ-xKYN",
        "outputId": "b6881d48-07cb-42f4-c4c8-b2d2447d59aa"
      },
      "execution_count": 18,
      "outputs": [
        {
          "output_type": "execute_result",
          "data": {
            "text/plain": [
              "0               BENIGN\n",
              "1               BENIGN\n",
              "2               BENIGN\n",
              "3               BENIGN\n",
              "4               BENIGN\n",
              "              ...     \n",
              "1845651    FTP-Patator\n",
              "1845652    FTP-Patator\n",
              "1845653    FTP-Patator\n",
              "1845654    FTP-Patator\n",
              "1845655    FTP-Patator\n",
              "Name: Label, Length: 1832348, dtype: object"
            ]
          },
          "metadata": {},
          "execution_count": 18
        }
      ]
    },
    {
      "cell_type": "code",
      "source": [
        "mapping = y_train.unique().tolist()"
      ],
      "metadata": {
        "id": "essPVN_7yPwD"
      },
      "execution_count": 21,
      "outputs": []
    },
    {
      "cell_type": "code",
      "source": [
        "mapping"
      ],
      "metadata": {
        "colab": {
          "base_uri": "https://localhost:8080/"
        },
        "id": "Sxi2Qxfox-1I",
        "outputId": "1cd57850-b489-4359-f46d-57352dc12f7c"
      },
      "execution_count": 22,
      "outputs": [
        {
          "output_type": "execute_result",
          "data": {
            "text/plain": [
              "['BENIGN', 'DDoS', 'DoS Hulk', 'DoS GoldenEye', 'PortScan', 'FTP-Patator']"
            ]
          },
          "metadata": {},
          "execution_count": 22
        }
      ]
    },
    {
      "cell_type": "code",
      "source": [
        "my_dict = {\n",
        "    0 : 'BENIGN',\n",
        "    1 : 'DDoS',\n",
        "    2 : 'DoS Hulk',\n",
        "    3 : 'DoS GoldenEye',\n",
        "    4 : 'PortScan',\n",
        "    5 : 'FTP-Patator'\n",
        "}"
      ],
      "metadata": {
        "id": "o8G0-6yXzgGf"
      },
      "execution_count": 26,
      "outputs": []
    },
    {
      "cell_type": "code",
      "source": [
        "max_probability = np.amax(predicted, axis = 1)\n",
        "max_probability_train = np.amax(Y_train_predicted, axis = 1)"
      ],
      "metadata": {
        "id": "5_vSlRvRyp8z"
      },
      "execution_count": 23,
      "outputs": []
    },
    {
      "cell_type": "code",
      "source": [
        "y_prediction_index = np.argmax(Y_train_predicted, axis = 1)"
      ],
      "metadata": {
        "id": "Gbw-eZyDy2az"
      },
      "execution_count": 24,
      "outputs": []
    },
    {
      "cell_type": "code",
      "source": [
        "y_prediction_index[:100]"
      ],
      "metadata": {
        "colab": {
          "base_uri": "https://localhost:8080/"
        },
        "id": "KfgYk69NzHN8",
        "outputId": "86e62965-3c5f-4c60-a45e-90948b945d51"
      },
      "execution_count": 25,
      "outputs": [
        {
          "output_type": "execute_result",
          "data": {
            "text/plain": [
              "array([0, 0, 0, 0, 0, 0, 0, 0, 0, 0, 0, 0, 0, 0, 0, 0, 0, 0, 0, 0, 0, 0,\n",
              "       0, 0, 0, 0, 0, 0, 0, 0, 0, 0, 0, 0, 0, 0, 0, 0, 0, 0, 0, 0, 0, 0,\n",
              "       0, 0, 0, 0, 0, 0, 0, 0, 0, 0, 0, 0, 0, 0, 0, 0, 0, 0, 0, 0, 0, 0,\n",
              "       0, 0, 0, 0, 0, 0, 0, 0, 0, 0, 0, 0, 0, 0, 0, 0, 0, 0, 0, 0, 0, 0,\n",
              "       0, 0, 0, 0, 0, 0, 0, 0, 0, 0, 0, 0])"
            ]
          },
          "metadata": {},
          "execution_count": 25
        }
      ]
    },
    {
      "cell_type": "code",
      "source": [
        "y_prediction_test_label = np.vectorize(my_dict.get)(y_prediction_index)"
      ],
      "metadata": {
        "id": "jcL_43JizJX8"
      },
      "execution_count": 28,
      "outputs": []
    },
    {
      "cell_type": "code",
      "source": [
        "y_prediction_test_label.shape , y_train.shape"
      ],
      "metadata": {
        "colab": {
          "base_uri": "https://localhost:8080/"
        },
        "id": "Evr_RbXZ1BOQ",
        "outputId": "7daa2e37-20d7-41d1-be46-064a1e6e23f2"
      },
      "execution_count": 31,
      "outputs": [
        {
          "output_type": "execute_result",
          "data": {
            "text/plain": [
              "((1832348,), (1832348,))"
            ]
          },
          "metadata": {},
          "execution_count": 31
        }
      ]
    },
    {
      "cell_type": "code",
      "source": [
        "type(y_prediction_test_label) , type(y_train)"
      ],
      "metadata": {
        "colab": {
          "base_uri": "https://localhost:8080/"
        },
        "id": "0hh5Z3GB1HVg",
        "outputId": "c3a653bc-97e4-466d-8597-4a49c129b5e7"
      },
      "execution_count": 32,
      "outputs": [
        {
          "output_type": "execute_result",
          "data": {
            "text/plain": [
              "(numpy.ndarray, pandas.core.series.Series)"
            ]
          },
          "metadata": {},
          "execution_count": 32
        }
      ]
    },
    {
      "cell_type": "code",
      "source": [
        "y_train = y_train.to_numpy()"
      ],
      "metadata": {
        "id": "RyUZ3dnO1MWJ"
      },
      "execution_count": 33,
      "outputs": []
    },
    {
      "cell_type": "code",
      "source": [
        "y_train[:10] == y_prediction_test_label[:10]"
      ],
      "metadata": {
        "colab": {
          "base_uri": "https://localhost:8080/"
        },
        "id": "r2K6Yu6J1Rcp",
        "outputId": "0dd44682-6095-4868-8a8d-5be1bb786372"
      },
      "execution_count": 35,
      "outputs": [
        {
          "output_type": "execute_result",
          "data": {
            "text/plain": [
              "array([ True,  True,  True,  True,  True,  True,  True,  True,  True,\n",
              "        True])"
            ]
          },
          "metadata": {},
          "execution_count": 35
        }
      ]
    },
    {
      "cell_type": "code",
      "source": [
        "RIGHT_BOOLEAN = y_train == y_prediction_test_label"
      ],
      "metadata": {
        "id": "tymq_fZB1eqP"
      },
      "execution_count": 36,
      "outputs": []
    },
    {
      "cell_type": "code",
      "source": [
        "RIGHT_BOOLEAN.shape"
      ],
      "metadata": {
        "colab": {
          "base_uri": "https://localhost:8080/"
        },
        "id": "nnCoIPDI1pVH",
        "outputId": "aabf84ed-eaab-4be3-c200-87aa9f418b55"
      },
      "execution_count": 37,
      "outputs": [
        {
          "output_type": "execute_result",
          "data": {
            "text/plain": [
              "(1832348,)"
            ]
          },
          "metadata": {},
          "execution_count": 37
        }
      ]
    },
    {
      "cell_type": "code",
      "source": [
        "TOTAL = data.shape[0]+att.shape[0]"
      ],
      "metadata": {
        "id": "JRSpLNTJ0H5Q"
      },
      "execution_count": 30,
      "outputs": []
    },
    {
      "cell_type": "code",
      "source": [
        "for threshold in Threshold_values:\n",
        "  truepredicted = 0\n",
        "  #for each threshold value we will check out the accuracy of the model\n",
        "  print('USING THRESHOLD VALUE ',threshold)\n",
        "  ## Checking in UNKNOWN SET\n",
        "  for prob in max_probability:\n",
        "    if prob<threshold:\n",
        "      ##add unknown count\n",
        "      truepredicted += 1\n",
        "  \n",
        "  ## Checking in train data now...\n",
        "  for index in range(data.shape[0]):\n",
        "    max_prob = max_probability_train[index]\n",
        "    label = y_prediction_test_label[index]\n",
        "    if max_prob > threshold and RIGHT_BOOLEAN[index]:\n",
        "      truepredicted += 1\n",
        "\n",
        "  Accuracy = truepredicted/TOTAL\n",
        "  print('Accuracy is ',Accuracy)"
      ],
      "metadata": {
        "colab": {
          "base_uri": "https://localhost:8080/"
        },
        "id": "hGV1aDGMz2-2",
        "outputId": "817314ee-ad5c-4b77-f548-be30c75290a8"
      },
      "execution_count": 41,
      "outputs": [
        {
          "output_type": "stream",
          "name": "stdout",
          "text": [
            "USING THRESHOLD VALUE  0.4\n",
            "Accuracy is  0.7702890492467674\n",
            "USING THRESHOLD VALUE  0.5\n",
            "Accuracy is  0.7702647453246004\n",
            "USING THRESHOLD VALUE  0.6\n",
            "Accuracy is  0.7704246111237432\n",
            "USING THRESHOLD VALUE  0.7\n",
            "Accuracy is  0.7716176636585612\n",
            "USING THRESHOLD VALUE  0.8\n",
            "Accuracy is  0.7723375998418625\n",
            "USING THRESHOLD VALUE  0.9\n",
            "Accuracy is  0.772613044293088\n",
            "USING THRESHOLD VALUE  0.95\n",
            "Accuracy is  0.7729430375473993\n"
          ]
        }
      ]
    },
    {
      "cell_type": "code",
      "source": [],
      "metadata": {
        "id": "GXp140XO109t"
      },
      "execution_count": null,
      "outputs": []
    }
  ]
}