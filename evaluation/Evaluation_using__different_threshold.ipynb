{
 "cells": [
  {
   "cell_type": "code",
   "execution_count": 1,
   "metadata": {
    "id": "SRkHjHiC6V7w"
   },
   "outputs": [],
   "source": [
    "# All  import statements needed for the notebook\n",
    "import pandas as pd\n",
    "import numpy as np\n",
    "import matplotlib.pyplot as plt\n",
    "import seaborn as sns\n",
    "import sklearn\n",
    "from sklearn.metrics import *"
   ]
  },
  {
   "cell_type": "code",
   "execution_count": 2,
   "metadata": {
    "colab": {
     "base_uri": "https://localhost:8080/"
    },
    "id": "eSa17Vuj-OCz",
    "outputId": "0ab32306-058e-4a11-c3b7-883215163961"
   },
   "outputs": [
    {
     "data": {
      "text/plain": [
       "[PhysicalDevice(name='/physical_device:GPU:0', device_type='GPU')]"
      ]
     },
     "execution_count": 2,
     "metadata": {},
     "output_type": "execute_result"
    }
   ],
   "source": [
    "import tensorflow as tf\n",
    "tf.config.list_physical_devices('GPU')"
   ]
  },
  {
   "cell_type": "code",
   "execution_count": 3,
   "metadata": {
    "colab": {
     "base_uri": "https://localhost:8080/"
    },
    "id": "HpRiUpQs7dX7",
    "outputId": "31d23bfe-a367-4615-8e36-32993fd070be"
   },
   "outputs": [
    {
     "name": "stdout",
     "output_type": "stream",
     "text": [
      "Mounted at /content/drive\n"
     ]
    }
   ],
   "source": [
    "from google.colab import drive\n",
    "drive.mount('/content/drive')"
   ]
  },
  {
   "cell_type": "code",
   "execution_count": 4,
   "metadata": {
    "id": "572ln0_U7e2m"
   },
   "outputs": [],
   "source": [
    "from tensorflow import keras\n",
    "model = keras.models.load_model('/content/drive/MyDrive/models/model_split_softmax_cnn_model.hdf5')"
   ]
  },
  {
   "cell_type": "code",
   "execution_count": 5,
   "metadata": {
    "id": "BERUpRMD9oxY"
   },
   "outputs": [],
   "source": [
    "data = pd.read_csv('/content/drive/MyDrive/balancedhalf_data.csv')\n",
    "data.drop(data.columns[0] , inplace=True , axis=1)\n",
    "unknown = ['SSH-Patator','DoS slowloris','DoS Slowhttptest','Bot','Infiltration','Heartbleed']\n",
    "att = data.loc[(data['Label'].isin(unknown))]\n",
    "data.drop(att.index,axis=0 , inplace=True, errors='ignore')\n",
    "# importing required libraries for normalizing data\n",
    "from sklearn import preprocessing\n",
    "from sklearn.preprocessing import MinMaxScaler\n",
    "# selecting numeric attributes columns from data\n",
    "numeric_col = data.select_dtypes(include='number').columns\n",
    "# using standard scaler for normalizing\n",
    "std_scaler = MinMaxScaler()\n",
    "def normalization(df,att,col):\n",
    "  for i in col:\n",
    "    arr = df[i]\n",
    "    arr = np.array(arr)\n",
    "    x = np.array(att[i])\n",
    "    df[i] = std_scaler.fit_transform(arr.reshape(len(arr),1))\n",
    "    #To use the same scaler which was used in preprocessing the train data \n",
    "    att[i] = std_scaler.transform(x.reshape(len(x),1))\n",
    "  return df,att\n",
    "# calling the normalization() function\n",
    "data , att = normalization(data.copy(),att.copy(),numeric_col)\n",
    "att.Label = 'unknown'\n",
    "X = att.drop('Label' , axis=1)\n",
    "X = X.to_numpy().reshape(-1, 83,1)\n",
    "\n",
    "y = att.Label\n",
    "X_train = data.drop('Label' , axis=1)\n",
    "X_train = X_train.to_numpy().reshape(-1, 83,1)\n",
    "\n",
    "y_train = data.Label"
   ]
  },
  {
   "cell_type": "code",
   "execution_count": 6,
   "metadata": {
    "colab": {
     "base_uri": "https://localhost:8080/"
    },
    "id": "jLe2i4l--a_V",
    "outputId": "af749a03-cb14-45e8-f827-5a42880784b0"
   },
   "outputs": [
    {
     "name": "stdout",
     "output_type": "stream",
     "text": [
      "601/601 [==============================] - 9s 3ms/step\n",
      "34117/34117 [==============================] - 85s 2ms/step\n"
     ]
    }
   ],
   "source": [
    "predicted = model.predict(X)\n",
    "Y_train_predicted = model.predict(X_train)"
   ]
  },
  {
   "cell_type": "code",
   "execution_count": 7,
   "metadata": {
    "id": "EaCPgKmi-jWu"
   },
   "outputs": [],
   "source": [
    "my_dict = {\n",
    "    0 : 'BENIGN',\n",
    "    1 : 'DDoS',\n",
    "    2 : 'DoS Hulk',\n",
    "    3 : 'DoS GoldenEye',\n",
    "    4 : 'PortScan',\n",
    "    5 : 'FTP-Patator'\n",
    "}\n",
    "max_probability = np.amax(predicted, axis = 1)\n",
    "unknown_index = np.argmax(predicted, axis = 1)\n",
    "unknown_index_label = np.vectorize(my_dict.get)(unknown_index)\n",
    "max_probability_train = np.amax(Y_train_predicted, axis = 1)\n",
    "y_prediction_index = np.argmax(Y_train_predicted, axis = 1)\n",
    "y_prediction_test_label = np.vectorize(my_dict.get)(y_prediction_index)\n",
    "RIGHT_BOOLEAN = y_train == y_prediction_test_label"
   ]
  },
  {
   "cell_type": "code",
   "execution_count": 8,
   "metadata": {
    "id": "1qyix5Dg-lQ2"
   },
   "outputs": [],
   "source": [
    "threshold_values = {\n",
    "  'BENIGN': 0.0062042023,\n",
    "  'DDoS' : 0.9999981,\n",
    "  'DoS Hulk' : 0.01076733,\n",
    "  'DoS GoldenEye' : 0.18624467,\n",
    "  'PortScan' : 0.52982694,\n",
    "  'FTP-Patator' : 0.31414485\n",
    "}\n",
    "RIGHT_BOOLEAN = RIGHT_BOOLEAN.to_numpy()"
   ]
  },
  {
   "cell_type": "code",
   "execution_count": 9,
   "metadata": {
    "colab": {
     "base_uri": "https://localhost:8080/"
    },
    "id": "HMNFmPP0E5Hq",
    "outputId": "0452b970-817c-4138-c18f-b19f49eff871"
   },
   "outputs": [
    {
     "name": "stdout",
     "output_type": "stream",
     "text": [
      "THE THRESHOLDS ARE :  {'BENIGN': 0.0062042023, 'DDoS': 0.9999981, 'DoS Hulk': 0.01076733, 'DoS GoldenEye': 0.18624467, 'PortScan': 0.52982694, 'FTP-Patator': 0.31414485}\n"
     ]
    }
   ],
   "source": [
    "print('THE THRESHOLDS ARE : ',threshold_values)"
   ]
  },
  {
   "cell_type": "code",
   "execution_count": 10,
   "metadata": {
    "colab": {
     "base_uri": "https://localhost:8080/"
    },
    "id": "LK66KmrDBKHz",
    "outputId": "5ef2eb1a-c5d1-4541-bf8c-5837b7635d9a"
   },
   "outputs": [
    {
     "name": "stdout",
     "output_type": "stream",
     "text": [
      "Accuracy is  0.6148387120003744\n"
     ]
    }
   ],
   "source": [
    "TOTAL = data.shape[0]+att.shape[0]\n",
    "## WITH BOTH TRAIN TEST && UNKNOWN SET\n",
    "truepredicted = 0\n",
    "# 1.0 TRAIN SET:\n",
    "for i in range(len(y_prediction_test_label)):\n",
    "  threshold = threshold_values[y_prediction_test_label[i]]\n",
    "  prob = max_probability_train[i]\n",
    "  ##check max_prob > threshold and prediction is correct\n",
    "  if prob > threshold and RIGHT_BOOLEAN[i] :\n",
    "    truepredicted += 1\n",
    "\n",
    "# 2.0 UNKNOWN SET:\n",
    "for i in range(len(unknown_index_label)):\n",
    "  threshold = threshold_values[unknown_index_label[i]]\n",
    "  prob = max_probability[i]\n",
    "  ## check if prob<threshold, then right prediction\n",
    "  if prob < threshold:\n",
    "    truepredicted += 1\n",
    "\n",
    "## ACCURACY PREDICTION:\n",
    "Accuracy = truepredicted/TOTAL\n",
    "print('Accuracy is ',Accuracy)"
   ]
  },
  {
   "cell_type": "code",
   "execution_count": 11,
   "metadata": {
    "colab": {
     "base_uri": "https://localhost:8080/"
    },
    "id": "gWN3XsNPGthW",
    "outputId": "cf1ec6cc-962f-4ee3-cedc-2f5272de2422"
   },
   "outputs": [
    {
     "data": {
      "text/plain": [
       "683044"
      ]
     },
     "execution_count": 11,
     "metadata": {},
     "output_type": "execute_result"
    }
   ],
   "source": [
    "truepredicted"
   ]
  },
  {
   "cell_type": "code",
   "execution_count": 12,
   "metadata": {
    "colab": {
     "base_uri": "https://localhost:8080/"
    },
    "id": "Ur52n-CnGvEX",
    "outputId": "3532c891-ebea-437c-9ad4-86e2b66d91c5"
   },
   "outputs": [
    {
     "data": {
      "text/plain": [
       "1110932"
      ]
     },
     "execution_count": 12,
     "metadata": {},
     "output_type": "execute_result"
    }
   ],
   "source": [
    "TOTAL"
   ]
  },
  {
   "cell_type": "code",
   "execution_count": 16,
   "metadata": {
    "colab": {
     "base_uri": "https://localhost:8080/"
    },
    "id": "HZOiBcO-Gwst",
    "outputId": "e065f223-8f43-4a3b-8648-c40f80539160"
   },
   "outputs": [
    {
     "name": "stdout",
     "output_type": "stream",
     "text": [
      "Accuracy is  0.6256545821437044\n"
     ]
    }
   ],
   "source": [
    "TOTAL = data.shape[0]\n",
    "## WITH TRAIN TEST\n",
    "truepredicted = 0\n",
    "# 1.0 TRAIN SET:\n",
    "for i in range(len(y_prediction_test_label)):\n",
    "  threshold = threshold_values[y_prediction_test_label[i]]\n",
    "  prob = max_probability_train[i]\n",
    "  ##check max_prob > threshold and prediction is correct\n",
    "  if prob > threshold and RIGHT_BOOLEAN[i] :\n",
    "    truepredicted += 1\n",
    "\n",
    "\n",
    "## ACCURACY PREDICTION:\n",
    "Accuracy = truepredicted/TOTAL\n",
    "print('Accuracy is ',Accuracy)"
   ]
  },
  {
   "cell_type": "code",
   "execution_count": 17,
   "metadata": {
    "colab": {
     "base_uri": "https://localhost:8080/"
    },
    "id": "99PCfeULICoV",
    "outputId": "e31877d5-6430-48f3-ed58-406905a4960b"
   },
   "outputs": [
    {
     "name": "stdout",
     "output_type": "stream",
     "text": [
      "Accuracy is  0.0\n"
     ]
    }
   ],
   "source": [
    "TOTAL = att.shape[0]\n",
    "## WITH UNKNOWN SET\n",
    "truepredicted = 0\n",
    "\n",
    "# 2.0 UNKNOWN SET:\n",
    "for i in range(len(unknown_index_label)):\n",
    "  threshold = threshold_values[unknown_index_label[i]]\n",
    "  prob = max_probability[i]\n",
    "  ## check if prob<threshold, then right prediction\n",
    "  if prob < threshold:\n",
    "    truepredicted += 1\n",
    "\n",
    "## ACCURACY PREDICTION:\n",
    "Accuracy = truepredicted/TOTAL\n",
    "print('Accuracy is ',Accuracy)"
   ]
  },
  {
   "cell_type": "code",
   "execution_count": 13,
   "metadata": {
    "colab": {
     "base_uri": "https://localhost:8080/"
    },
    "id": "euSnrG-cG23f",
    "outputId": "7a28f7e9-b782-4dd8-997a-63055ffbdaca"
   },
   "outputs": [
    {
     "data": {
      "text/plain": [
       "(1091727, 84)"
      ]
     },
     "execution_count": 13,
     "metadata": {},
     "output_type": "execute_result"
    }
   ],
   "source": [
    "data.shape"
   ]
  },
  {
   "cell_type": "code",
   "execution_count": 14,
   "metadata": {
    "colab": {
     "base_uri": "https://localhost:8080/"
    },
    "id": "NPLDt5cTG3wp",
    "outputId": "6e6eb0d5-f1ae-4109-bef2-412a7d0dbb5e"
   },
   "outputs": [
    {
     "data": {
      "text/plain": [
       "(19205, 84)"
      ]
     },
     "execution_count": 14,
     "metadata": {},
     "output_type": "execute_result"
    }
   ],
   "source": [
    "att.shape"
   ]
  },
  {
   "cell_type": "code",
   "execution_count": null,
   "metadata": {
    "id": "niDZ5xz7G45g"
   },
   "outputs": [],
   "source": []
  }
 ],
 "metadata": {
  "accelerator": "GPU",
  "colab": {
   "provenance": []
  },
  "gpuClass": "standard",
  "kernelspec": {
   "display_name": "Python 3",
   "language": "python",
   "name": "python3"
  },
  "language_info": {
   "codemirror_mode": {
    "name": "ipython",
    "version": 3
   },
   "file_extension": ".py",
   "mimetype": "text/x-python",
   "name": "python",
   "nbconvert_exporter": "python",
   "pygments_lexer": "ipython3",
   "version": "3.9.2"
  }
 },
 "nbformat": 4,
 "nbformat_minor": 1
}
