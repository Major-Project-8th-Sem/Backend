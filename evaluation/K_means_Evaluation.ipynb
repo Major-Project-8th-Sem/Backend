{
  "nbformat": 4,
  "nbformat_minor": 0,
  "metadata": {
    "colab": {
      "provenance": []
    },
    "kernelspec": {
      "name": "python3",
      "display_name": "Python 3"
    },
    "language_info": {
      "name": "python"
    },
    "accelerator": "GPU",
    "gpuClass": "standard"
  },
  "cells": [
    {
      "cell_type": "code",
      "execution_count": 1,
      "metadata": {
        "id": "bx9pQXAJXUOB"
      },
      "outputs": [],
      "source": [
        "# Importing the libraries\n",
        "\n",
        "import numpy as np\n",
        "import matplotlib.pyplot as plt\n",
        "import pandas as pd\n",
        "from sklearn.cluster import KMeans"
      ]
    },
    {
      "cell_type": "code",
      "source": [
        "import tensorflow as tf\n",
        "tf.config.list_physical_devices('GPU')"
      ],
      "metadata": {
        "colab": {
          "base_uri": "https://localhost:8080/"
        },
        "id": "p52jsq_WXkcW",
        "outputId": "67280612-de78-45eb-a323-867f6e121acb"
      },
      "execution_count": 2,
      "outputs": [
        {
          "output_type": "execute_result",
          "data": {
            "text/plain": [
              "[PhysicalDevice(name='/physical_device:GPU:0', device_type='GPU')]"
            ]
          },
          "metadata": {},
          "execution_count": 2
        }
      ]
    },
    {
      "cell_type": "code",
      "source": [
        "from google.colab import drive\n",
        "drive.mount('/content/drive')"
      ],
      "metadata": {
        "colab": {
          "base_uri": "https://localhost:8080/"
        },
        "id": "mHIQbfsWXljI",
        "outputId": "3d34fa4f-2614-4872-9c61-88b6f8fd6e9b"
      },
      "execution_count": 3,
      "outputs": [
        {
          "output_type": "stream",
          "name": "stdout",
          "text": [
            "Mounted at /content/drive\n"
          ]
        }
      ]
    },
    {
      "cell_type": "code",
      "source": [
        "data = pd.read_csv('/content/drive/MyDrive/balanced_data.csv')\n",
        "data.drop(data.columns[0] , inplace=True , axis=1)"
      ],
      "metadata": {
        "id": "KVWwwWcyXmoT"
      },
      "execution_count": 4,
      "outputs": []
    },
    {
      "cell_type": "code",
      "source": [
        "# importing required libraries for normalizing data\n",
        "from sklearn import preprocessing\n",
        "from sklearn.preprocessing import StandardScaler\n",
        "# selecting numeric attributes columns from data\n",
        "numeric_col = data.select_dtypes(include='number').columns\n",
        "# using standard scaler for normalizing\n",
        "std_scaler = StandardScaler()\n",
        "def normalization(df,col):\n",
        "  for i in col:\n",
        "    arr = df[i]\n",
        "    arr = np.array(arr)\n",
        "    df[i] = std_scaler.fit_transform(arr.reshape(len(arr),1))\n",
        "  return df\n",
        "# calling the normalization() function\n",
        "data = normalization(data.copy(),numeric_col)\n",
        "data.drop(['Label'],axis=1 , inplace=True)"
      ],
      "metadata": {
        "id": "vJbthv7GXntY"
      },
      "execution_count": 5,
      "outputs": []
    },
    {
      "cell_type": "code",
      "source": [
        "data.head()"
      ],
      "metadata": {
        "colab": {
          "base_uri": "https://localhost:8080/",
          "height": 334
        },
        "id": "CkmRSzLKhTS2",
        "outputId": "7735237a-e89d-488c-c5bd-ae8ee802c35e"
      },
      "execution_count": 6,
      "outputs": [
        {
          "output_type": "execute_result",
          "data": {
            "text/plain": [
              "    Flow ID  Source IP  Source Port  Destination IP  Destination Port  \\\n",
              "0 -0.646799   0.324411    -1.948333        0.204423          2.428566   \n",
              "1  1.783219   0.430907     0.508829        0.114303         -0.421518   \n",
              "2 -0.302869  -0.414284     0.159378       -0.558287         -0.421518   \n",
              "3 -0.126277  -1.034865     0.769223       -1.040696         -0.421518   \n",
              "4 -0.708056   0.979845    -1.948333       -0.560275          2.462290   \n",
              "\n",
              "   Protocol  Timestamp  Flow Duration  Total Fwd Packets  \\\n",
              "0 -0.662668   2.051947      -0.472445          -0.008076   \n",
              "1  1.505849  -0.394452      -0.469837          -0.009562   \n",
              "2  1.505849  -0.416902      -0.472439          -0.009562   \n",
              "3  1.505849  -0.407956      -0.470938          -0.006590   \n",
              "4 -0.662668  -0.401372      -0.472445          -0.011049   \n",
              "\n",
              "   Total Backward Packets  ...  act_data_pkt_fwd  min_seg_size_forward  \\\n",
              "0               -0.009102  ...         -0.004708              0.002719   \n",
              "1               -0.007983  ...         -0.006451              0.002719   \n",
              "2               -0.007983  ...         -0.006451              0.002735   \n",
              "3               -0.007983  ...         -0.002965              0.002729   \n",
              "4               -0.009102  ...         -0.008194              0.002729   \n",
              "\n",
              "   Active Mean  Active Std  Active Max  Active Min  Idle Mean  Idle Std  \\\n",
              "0    -0.128601   -0.097503   -0.146881   -0.106173   -0.39466 -0.121018   \n",
              "1    -0.128601   -0.097503   -0.146881   -0.106173   -0.39466 -0.121018   \n",
              "2    -0.128601   -0.097503   -0.146881   -0.106173   -0.39466 -0.121018   \n",
              "3    -0.128601   -0.097503   -0.146881   -0.106173   -0.39466 -0.121018   \n",
              "4    -0.128601   -0.097503   -0.146881   -0.106173   -0.39466 -0.121018   \n",
              "\n",
              "   Idle Max  Idle Min  \n",
              "0  -0.40072  -0.38032  \n",
              "1  -0.40072  -0.38032  \n",
              "2  -0.40072  -0.38032  \n",
              "3  -0.40072  -0.38032  \n",
              "4  -0.40072  -0.38032  \n",
              "\n",
              "[5 rows x 83 columns]"
            ],
            "text/html": [
              "\n",
              "  <div id=\"df-a322add7-7f02-4382-ae68-77911fc2c70d\">\n",
              "    <div class=\"colab-df-container\">\n",
              "      <div>\n",
              "<style scoped>\n",
              "    .dataframe tbody tr th:only-of-type {\n",
              "        vertical-align: middle;\n",
              "    }\n",
              "\n",
              "    .dataframe tbody tr th {\n",
              "        vertical-align: top;\n",
              "    }\n",
              "\n",
              "    .dataframe thead th {\n",
              "        text-align: right;\n",
              "    }\n",
              "</style>\n",
              "<table border=\"1\" class=\"dataframe\">\n",
              "  <thead>\n",
              "    <tr style=\"text-align: right;\">\n",
              "      <th></th>\n",
              "      <th>Flow ID</th>\n",
              "      <th>Source IP</th>\n",
              "      <th>Source Port</th>\n",
              "      <th>Destination IP</th>\n",
              "      <th>Destination Port</th>\n",
              "      <th>Protocol</th>\n",
              "      <th>Timestamp</th>\n",
              "      <th>Flow Duration</th>\n",
              "      <th>Total Fwd Packets</th>\n",
              "      <th>Total Backward Packets</th>\n",
              "      <th>...</th>\n",
              "      <th>act_data_pkt_fwd</th>\n",
              "      <th>min_seg_size_forward</th>\n",
              "      <th>Active Mean</th>\n",
              "      <th>Active Std</th>\n",
              "      <th>Active Max</th>\n",
              "      <th>Active Min</th>\n",
              "      <th>Idle Mean</th>\n",
              "      <th>Idle Std</th>\n",
              "      <th>Idle Max</th>\n",
              "      <th>Idle Min</th>\n",
              "    </tr>\n",
              "  </thead>\n",
              "  <tbody>\n",
              "    <tr>\n",
              "      <th>0</th>\n",
              "      <td>-0.646799</td>\n",
              "      <td>0.324411</td>\n",
              "      <td>-1.948333</td>\n",
              "      <td>0.204423</td>\n",
              "      <td>2.428566</td>\n",
              "      <td>-0.662668</td>\n",
              "      <td>2.051947</td>\n",
              "      <td>-0.472445</td>\n",
              "      <td>-0.008076</td>\n",
              "      <td>-0.009102</td>\n",
              "      <td>...</td>\n",
              "      <td>-0.004708</td>\n",
              "      <td>0.002719</td>\n",
              "      <td>-0.128601</td>\n",
              "      <td>-0.097503</td>\n",
              "      <td>-0.146881</td>\n",
              "      <td>-0.106173</td>\n",
              "      <td>-0.39466</td>\n",
              "      <td>-0.121018</td>\n",
              "      <td>-0.40072</td>\n",
              "      <td>-0.38032</td>\n",
              "    </tr>\n",
              "    <tr>\n",
              "      <th>1</th>\n",
              "      <td>1.783219</td>\n",
              "      <td>0.430907</td>\n",
              "      <td>0.508829</td>\n",
              "      <td>0.114303</td>\n",
              "      <td>-0.421518</td>\n",
              "      <td>1.505849</td>\n",
              "      <td>-0.394452</td>\n",
              "      <td>-0.469837</td>\n",
              "      <td>-0.009562</td>\n",
              "      <td>-0.007983</td>\n",
              "      <td>...</td>\n",
              "      <td>-0.006451</td>\n",
              "      <td>0.002719</td>\n",
              "      <td>-0.128601</td>\n",
              "      <td>-0.097503</td>\n",
              "      <td>-0.146881</td>\n",
              "      <td>-0.106173</td>\n",
              "      <td>-0.39466</td>\n",
              "      <td>-0.121018</td>\n",
              "      <td>-0.40072</td>\n",
              "      <td>-0.38032</td>\n",
              "    </tr>\n",
              "    <tr>\n",
              "      <th>2</th>\n",
              "      <td>-0.302869</td>\n",
              "      <td>-0.414284</td>\n",
              "      <td>0.159378</td>\n",
              "      <td>-0.558287</td>\n",
              "      <td>-0.421518</td>\n",
              "      <td>1.505849</td>\n",
              "      <td>-0.416902</td>\n",
              "      <td>-0.472439</td>\n",
              "      <td>-0.009562</td>\n",
              "      <td>-0.007983</td>\n",
              "      <td>...</td>\n",
              "      <td>-0.006451</td>\n",
              "      <td>0.002735</td>\n",
              "      <td>-0.128601</td>\n",
              "      <td>-0.097503</td>\n",
              "      <td>-0.146881</td>\n",
              "      <td>-0.106173</td>\n",
              "      <td>-0.39466</td>\n",
              "      <td>-0.121018</td>\n",
              "      <td>-0.40072</td>\n",
              "      <td>-0.38032</td>\n",
              "    </tr>\n",
              "    <tr>\n",
              "      <th>3</th>\n",
              "      <td>-0.126277</td>\n",
              "      <td>-1.034865</td>\n",
              "      <td>0.769223</td>\n",
              "      <td>-1.040696</td>\n",
              "      <td>-0.421518</td>\n",
              "      <td>1.505849</td>\n",
              "      <td>-0.407956</td>\n",
              "      <td>-0.470938</td>\n",
              "      <td>-0.006590</td>\n",
              "      <td>-0.007983</td>\n",
              "      <td>...</td>\n",
              "      <td>-0.002965</td>\n",
              "      <td>0.002729</td>\n",
              "      <td>-0.128601</td>\n",
              "      <td>-0.097503</td>\n",
              "      <td>-0.146881</td>\n",
              "      <td>-0.106173</td>\n",
              "      <td>-0.39466</td>\n",
              "      <td>-0.121018</td>\n",
              "      <td>-0.40072</td>\n",
              "      <td>-0.38032</td>\n",
              "    </tr>\n",
              "    <tr>\n",
              "      <th>4</th>\n",
              "      <td>-0.708056</td>\n",
              "      <td>0.979845</td>\n",
              "      <td>-1.948333</td>\n",
              "      <td>-0.560275</td>\n",
              "      <td>2.462290</td>\n",
              "      <td>-0.662668</td>\n",
              "      <td>-0.401372</td>\n",
              "      <td>-0.472445</td>\n",
              "      <td>-0.011049</td>\n",
              "      <td>-0.009102</td>\n",
              "      <td>...</td>\n",
              "      <td>-0.008194</td>\n",
              "      <td>0.002729</td>\n",
              "      <td>-0.128601</td>\n",
              "      <td>-0.097503</td>\n",
              "      <td>-0.146881</td>\n",
              "      <td>-0.106173</td>\n",
              "      <td>-0.39466</td>\n",
              "      <td>-0.121018</td>\n",
              "      <td>-0.40072</td>\n",
              "      <td>-0.38032</td>\n",
              "    </tr>\n",
              "  </tbody>\n",
              "</table>\n",
              "<p>5 rows × 83 columns</p>\n",
              "</div>\n",
              "      <button class=\"colab-df-convert\" onclick=\"convertToInteractive('df-a322add7-7f02-4382-ae68-77911fc2c70d')\"\n",
              "              title=\"Convert this dataframe to an interactive table.\"\n",
              "              style=\"display:none;\">\n",
              "        \n",
              "  <svg xmlns=\"http://www.w3.org/2000/svg\" height=\"24px\"viewBox=\"0 0 24 24\"\n",
              "       width=\"24px\">\n",
              "    <path d=\"M0 0h24v24H0V0z\" fill=\"none\"/>\n",
              "    <path d=\"M18.56 5.44l.94 2.06.94-2.06 2.06-.94-2.06-.94-.94-2.06-.94 2.06-2.06.94zm-11 1L8.5 8.5l.94-2.06 2.06-.94-2.06-.94L8.5 2.5l-.94 2.06-2.06.94zm10 10l.94 2.06.94-2.06 2.06-.94-2.06-.94-.94-2.06-.94 2.06-2.06.94z\"/><path d=\"M17.41 7.96l-1.37-1.37c-.4-.4-.92-.59-1.43-.59-.52 0-1.04.2-1.43.59L10.3 9.45l-7.72 7.72c-.78.78-.78 2.05 0 2.83L4 21.41c.39.39.9.59 1.41.59.51 0 1.02-.2 1.41-.59l7.78-7.78 2.81-2.81c.8-.78.8-2.07 0-2.86zM5.41 20L4 18.59l7.72-7.72 1.47 1.35L5.41 20z\"/>\n",
              "  </svg>\n",
              "      </button>\n",
              "      \n",
              "  <style>\n",
              "    .colab-df-container {\n",
              "      display:flex;\n",
              "      flex-wrap:wrap;\n",
              "      gap: 12px;\n",
              "    }\n",
              "\n",
              "    .colab-df-convert {\n",
              "      background-color: #E8F0FE;\n",
              "      border: none;\n",
              "      border-radius: 50%;\n",
              "      cursor: pointer;\n",
              "      display: none;\n",
              "      fill: #1967D2;\n",
              "      height: 32px;\n",
              "      padding: 0 0 0 0;\n",
              "      width: 32px;\n",
              "    }\n",
              "\n",
              "    .colab-df-convert:hover {\n",
              "      background-color: #E2EBFA;\n",
              "      box-shadow: 0px 1px 2px rgba(60, 64, 67, 0.3), 0px 1px 3px 1px rgba(60, 64, 67, 0.15);\n",
              "      fill: #174EA6;\n",
              "    }\n",
              "\n",
              "    [theme=dark] .colab-df-convert {\n",
              "      background-color: #3B4455;\n",
              "      fill: #D2E3FC;\n",
              "    }\n",
              "\n",
              "    [theme=dark] .colab-df-convert:hover {\n",
              "      background-color: #434B5C;\n",
              "      box-shadow: 0px 1px 3px 1px rgba(0, 0, 0, 0.15);\n",
              "      filter: drop-shadow(0px 1px 2px rgba(0, 0, 0, 0.3));\n",
              "      fill: #FFFFFF;\n",
              "    }\n",
              "  </style>\n",
              "\n",
              "      <script>\n",
              "        const buttonEl =\n",
              "          document.querySelector('#df-a322add7-7f02-4382-ae68-77911fc2c70d button.colab-df-convert');\n",
              "        buttonEl.style.display =\n",
              "          google.colab.kernel.accessAllowed ? 'block' : 'none';\n",
              "\n",
              "        async function convertToInteractive(key) {\n",
              "          const element = document.querySelector('#df-a322add7-7f02-4382-ae68-77911fc2c70d');\n",
              "          const dataTable =\n",
              "            await google.colab.kernel.invokeFunction('convertToInteractive',\n",
              "                                                     [key], {});\n",
              "          if (!dataTable) return;\n",
              "\n",
              "          const docLinkHtml = 'Like what you see? Visit the ' +\n",
              "            '<a target=\"_blank\" href=https://colab.research.google.com/notebooks/data_table.ipynb>data table notebook</a>'\n",
              "            + ' to learn more about interactive tables.';\n",
              "          element.innerHTML = '';\n",
              "          dataTable['output_type'] = 'display_data';\n",
              "          await google.colab.output.renderOutput(dataTable, element);\n",
              "          const docLink = document.createElement('div');\n",
              "          docLink.innerHTML = docLinkHtml;\n",
              "          element.appendChild(docLink);\n",
              "        }\n",
              "      </script>\n",
              "    </div>\n",
              "  </div>\n",
              "  "
            ]
          },
          "metadata": {},
          "execution_count": 6
        }
      ]
    },
    {
      "cell_type": "markdown",
      "source": [
        "# **Clustering Performance Evaluation Metrics**\n",
        "*Clustering is the most common form of unsupervised learning. You don’t have any labels in clustering, just a set of features for observation and your goal is to create clusters that have similar observations clubbed together and dissimilar observations kept as far as possible. Evaluating the performance of a clustering algorithm is not as trivial as counting the number of errors or the precision and recall like in the case of supervised learning algorithms.*\n",
        "\n",
        "*Here clusters are evaluated based on some similarity or dissimilarity measure such as the distance between cluster points. If the clustering algorithm separates dissimilar observations apart and similar observations together, then it has performed well. The two most popular metrics evaluation metrics for clustering algorithms are the Silhouette coefficient and Dunn’s Index which you will explore next.*"
      ],
      "metadata": {
        "id": "c8Tle-xWZIvp"
      }
    },
    {
      "cell_type": "code",
      "source": [
        "# Load Model\n",
        "import pickle\n",
        "# load the model from disk\n",
        "model = pickle.load(open('/content/drive/MyDrive/models/modelkmeans.pkl', 'rb'))"
      ],
      "metadata": {
        "id": "rE6btneDaQOp"
      },
      "execution_count": 7,
      "outputs": []
    },
    {
      "cell_type": "markdown",
      "source": [
        "#**Silhouette Coefficient**\n",
        "\n",
        "The Silhouette Coefficient is defined for each sample and is composed of two scores:\n",
        "\n",
        "a: The mean distance between a sample and all other points in the same cluster.\n",
        "\n",
        "b: The mean distance between a sample and all other points in the next nearest cluster.\n",
        "\n",
        "![image.png](data:image/png;base64,iVBORw0KGgoAAAANSUhEUgAAAG0AAAAqCAYAAAC5pdWCAAAD6UlEQVR4Ae2a0Y3cMAxEWUbqSBUpI0Wki9SQGlJCSkgFKSDf+cxHgnfwAAOu1tJ6V/LZFgFDXpkSxRmSkn0XcW75FhGfzu3iebyDqF8R8e88Ll3Dk88Lcdfw9iRefo8IrikHQuB3RJBtUw6CwIdlP/sSEVwcSGhHCfa4vi52CaApFQQgiEPIR9P7GxGQ2Vs4AEGW5GdEcE2pIPCjsJ9BWu9yCVk5qyDMSaws/bqP/ySCVC5L72x6PSBDahclb00IjEwQfZ7xa+Mv+0wEeSlUuewJCsTkkkxAQNqUCgKAl4Eig3of/yEov8yTmdhGepfmxcxxG8qjBLDyPqNnr24JFmU4LXYVLLlsvtr24eeDKMDScX+UQ24X22Q9BxEyTmSOWsu0MxGYCEwEJgITgcMhwObJKUfXfCl85xTq5KNl8imo9gVAurPdCQGOyBAlaTmioq8PorVW7yuaf7YvQEBv9LzV8xbP75GC3Xm1YXDDC/saWZM/Bd0ozo59ESCzIMulhbRZHh2xwfeQ5nsYpdH3t8HLmeZaEODkqGO+2pZxV9EhoMFltOxhc7SP3exRdbwSvdoQr1algx82Z8XbgDaAUol6CESxNeW/w7ktffDwvnlfQaD33+IICIhbk95rWLN9uGcjopyPDrUPD2T73N8aw4cM6P39lSyqlV+V0cZlj1UjmogqLp3Y6ONlH8foU9TRV9q8WbHmYCzZksuLMogIZ179Zk4nqfauWrNTQw9/2M+wz8V8tCWpraU0pnsfDgAgoOGIlwMc4f8+vI/70l5An+tBBJdENviNLcAQUNx7IKwBVbMje2stdvE1BwpYZFk7rGTdYb8BExFBy8+3BhL8n3XoJEucDPrQy1mFjpMogtDH5j1iADLbfFtMox3prrUc5/N+xnqEhY9lLSUyXWe3+5IjAJ+dy5HOgnHYCVKfR7I7ViJez9dIe9SO5swtRDhBKpee7RrzrkkrRVruk3NOBve51OA8Y+8JWZlJli42SmO32NGc3soHWonKpX57W1qLP9/tXoD4Akp9XgYVqRCU6z4bu/Y96Wlugcb8kqxTAupRO5o7t9jN87PWXFE0Luuqf/fWydBi6BPw6qOEQgiilnscU+TSkkkCgXkgRc7z20mGDCeQ+bCb+1rsoMM4yrrWQ18W3zNZW96Ppc/aMgZ6tnsLwIDpUurDCfU7KDhOP2WGS8BBLHqMg3CecU8r/ZxlrIG15PXQX7ODDvMTFKXx8s/n8eDTc7U8Y61TGhCA6Gcj/BVg38vABheuqUImkjVb5VnSyMa1bN26rtOPo6RuEQD38v3oHIzdavtRW6fTB7wt0f5slmHzhvT/kJtdZFiJ/7sAAAAASUVORK5CYII=)\n",
        "\n",
        "\n",
        "\n",
        "*The Silhouette Coefficient for a set of samples is given as the mean of the Silhouette Coefficient for each sample. The score is bounded between -1 for incorrect clustering and +1 for highly dense clustering. Scores around zero indicate overlapping clusters. The score is higher when clusters are dense and well separated, which relates to a standard concept of a cluster.*"
      ],
      "metadata": {
        "id": "-zgReLYZZa9f"
      }
    },
    {
      "cell_type": "code",
      "source": [
        "model.labels_"
      ],
      "metadata": {
        "colab": {
          "base_uri": "https://localhost:8080/"
        },
        "id": "phHS0hpmhbe0",
        "outputId": "afc5234a-fc9f-4c77-e079-ababb79410e4"
      },
      "execution_count": 8,
      "outputs": [
        {
          "output_type": "execute_result",
          "data": {
            "text/plain": [
              "array([10,  0,  0, ...,  6,  6,  6], dtype=int32)"
            ]
          },
          "metadata": {},
          "execution_count": 8
        }
      ]
    },
    {
      "cell_type": "code",
      "source": [
        "from sklearn.cluster import KMeans\n",
        "from sklearn.metrics import silhouette_score\n",
        "\n",
        "score = silhouette_score(data, model.labels_, metric='euclidean')"
      ],
      "metadata": {
        "id": "RhrXuAnvYYKL"
      },
      "execution_count": null,
      "outputs": []
    },
    {
      "cell_type": "code",
      "source": [
        "print('Silhouetter Score: %.3f' % score)"
      ],
      "metadata": {
        "id": "QQbjUZHaa_kQ"
      },
      "execution_count": null,
      "outputs": []
    },
    {
      "cell_type": "code",
      "source": [
        "% pip install yellowbrick"
      ],
      "metadata": {
        "id": "s3ZJ9U2abZpR"
      },
      "execution_count": null,
      "outputs": []
    },
    {
      "cell_type": "code",
      "source": [
        "from yellowbrick.cluster import SilhouetteVisualizer\n",
        "\n",
        "fig, ax = plt.subplots(2, 2, figsize=(15,8))\n",
        "for i in [2, 3, 4, 5]:\n",
        "    '''\n",
        "    Create KMeans instance for different number of clusters\n",
        "    '''\n",
        "    km = KMeans(n_clusters=i, init='k-means++', n_init=10, max_iter=100, random_state=42)\n",
        "    q, mod = divmod(i, 2)\n",
        "    '''\n",
        "    Create SilhouetteVisualizer instance with KMeans instance\n",
        "    Fit the visualizer\n",
        "    '''\n",
        "    visualizer = SilhouetteVisualizer(km, colors='yellowbrick', ax=ax[q-1][mod])\n",
        "    visualizer.fit(data)"
      ],
      "metadata": {
        "id": "iGkgM9H-bCBy"
      },
      "execution_count": null,
      "outputs": []
    },
    {
      "cell_type": "markdown",
      "source": [
        "# **Dunn’s Index**\n",
        "*Dunn’s Index (DI) is another metric for evaluating a clustering algorithm. Dunn’s Index is equal to the minimum inter-cluster distance divided by the maximum cluster size. Note that large inter-cluster distances (better separation) and smaller cluster sizes (more compact clusters) lead to a higher DI value. A higher DI implies better clustering. It assumes that better clustering means that clusters are compact and well-separated from other clusters.*"
      ],
      "metadata": {
        "id": "dU_37gWubrUC"
      }
    },
    {
      "cell_type": "markdown",
      "source": [
        "![image.png](data:image/png;base64,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)\n",
        "\n",
        "where, \n",
        "\n",
        "![image.png](data:image/png;base64,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)"
      ],
      "metadata": {
        "id": "ZEnNlqCxb99a"
      }
    },
    {
      "cell_type": "markdown",
      "source": [
        "**A higher value is better.**"
      ],
      "metadata": {
        "id": "7JnEPGrZcwFb"
      }
    },
    {
      "cell_type": "code",
      "source": [
        "from sklearn.metrics import davies_bouldin_score\n",
        "print(davies_bouldin_score(data, model.labels_))\n"
      ],
      "metadata": {
        "id": "xcj99sQzbwDC"
      },
      "execution_count": null,
      "outputs": []
    }
  ]
}