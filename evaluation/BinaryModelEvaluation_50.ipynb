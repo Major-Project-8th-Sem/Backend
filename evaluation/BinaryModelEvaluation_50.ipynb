{
  "cells": [
    {
      "cell_type": "code",
      "execution_count": 1,
      "metadata": {
        "id": "AQ82TOHO3QaN"
      },
      "outputs": [],
      "source": [
        "# All  import statements needed for the notebook\n",
        "import pandas as pd\n",
        "import numpy as np\n",
        "import matplotlib.pyplot as plt\n",
        "import seaborn as sns\n",
        "import sklearn\n",
        "from sklearn.metrics import *"
      ]
    },
    {
      "cell_type": "code",
      "execution_count": 2,
      "metadata": {
        "colab": {
          "base_uri": "https://localhost:8080/"
        },
        "id": "Tr-0WgSJ3a2p",
        "outputId": "b438b144-5363-4493-b10f-6f3dee2d3b6b"
      },
      "outputs": [
        {
          "output_type": "stream",
          "name": "stdout",
          "text": [
            "Drive already mounted at /content/drive; to attempt to forcibly remount, call drive.mount(\"/content/drive\", force_remount=True).\n"
          ]
        }
      ],
      "source": [
        "from google.colab import drive\n",
        "drive.mount('/content/drive')"
      ]
    },
    {
      "cell_type": "code",
      "execution_count": 3,
      "metadata": {
        "id": "gmM6a14V3cEc"
      },
      "outputs": [],
      "source": [
        "from tensorflow import keras\n",
        "model = keras.models.load_model('/content/drive/MyDrive/models/binary_model_50.hdf5')"
      ]
    },
    {
      "cell_type": "code",
      "execution_count": 4,
      "metadata": {
        "id": "-weoM2vy3v-G"
      },
      "outputs": [],
      "source": [
        "df = pd.read_csv('/content/drive/MyDrive/balanced_data.csv')"
      ]
    },
    {
      "cell_type": "code",
      "execution_count": 5,
      "metadata": {
        "id": "jWJ_1xaK3z7x"
      },
      "outputs": [],
      "source": [
        "df.drop(df.columns[0] , inplace=True , axis=1)\n",
        "x = df.Label.unique().tolist()\n",
        "value = ['attack']*12\n",
        "value[0] = 'nonattack'\n",
        "df.Label.replace(to_replace=x , value=value, inplace=True)"
      ]
    },
    {
      "cell_type": "markdown",
      "metadata": {
        "id": "6sUjpHlo4tl1"
      },
      "source": [
        "# **Data Normalization && One Hot Encoding**"
      ]
    },
    {
      "cell_type": "code",
      "execution_count": 6,
      "metadata": {
        "id": "Qbmt43ns4Mz8"
      },
      "outputs": [],
      "source": [
        "# importing required libraries for normalizing data\n",
        "from sklearn import preprocessing\n",
        "from sklearn.preprocessing import MinMaxScaler\n",
        "# selecting numeric attributes columns from data\n",
        "numeric_col = df.select_dtypes(include='number').columns\n",
        "# using standard scaler for normalizing\n",
        "std_scaler = MinMaxScaler()\n",
        "def normalization(df,col):\n",
        "  for i in col:\n",
        "    arr = df[i]\n",
        "    arr = np.array(arr)\n",
        "    df[i] = std_scaler.fit_transform(arr.reshape(len(arr),1))\n",
        "  return df\n",
        "# calling the normalization() function\n",
        "data = normalization(df.copy(),numeric_col)\n",
        "# selecting numeric attributes columns from data\n",
        "non_numeric_col = data.select_dtypes(exclude='number').columns\n",
        "# creating a dataframe with only categorical attributes\n",
        "categorical = data[non_numeric_col]"
      ]
    },
    {
      "cell_type": "code",
      "execution_count": 7,
      "metadata": {
        "id": "B_U2YHXf49qe"
      },
      "outputs": [],
      "source": [
        "# one-hot-encoding categorical attributes using pandas.get_dummies() function\n",
        "categorical = pd.get_dummies(categorical,columns=non_numeric_col)\n",
        "X = data.drop('Label' , axis=1)"
      ]
    },
    {
      "cell_type": "markdown",
      "metadata": {
        "id": "S-WwUb_I5C2J"
      },
      "source": [
        "## Assigning X and Y "
      ]
    },
    {
      "cell_type": "code",
      "execution_count": 8,
      "metadata": {
        "id": "33fdA7Iv5CXR"
      },
      "outputs": [],
      "source": [
        "y = categorical"
      ]
    },
    {
      "cell_type": "code",
      "execution_count": 9,
      "metadata": {
        "id": "u52uYsmZ5JvS"
      },
      "outputs": [],
      "source": [
        "X = X.to_numpy().reshape(-1, 83,1)"
      ]
    },
    {
      "cell_type": "code",
      "execution_count": 10,
      "metadata": {
        "colab": {
          "base_uri": "https://localhost:8080/"
        },
        "id": "C1DWSiYO5Olu",
        "outputId": "09bf51c7-a164-464c-a6e7-54cc3942b4c9"
      },
      "outputs": [
        {
          "output_type": "execute_result",
          "data": {
            "text/plain": [
              "keras.engine.sequential.Sequential"
            ]
          },
          "metadata": {},
          "execution_count": 10
        }
      ],
      "source": [
        "type(model)"
      ]
    },
    {
      "cell_type": "markdown",
      "metadata": {
        "id": "4ElDwwCz5XyK"
      },
      "source": [
        "## Predictions & evaluation"
      ]
    },
    {
      "cell_type": "code",
      "execution_count": 11,
      "metadata": {
        "colab": {
          "base_uri": "https://localhost:8080/"
        },
        "id": "MXSUI71x5WKZ",
        "outputId": "d906616e-cb69-498b-f846-2d02cde83c8c"
      },
      "outputs": [
        {
          "output_type": "stream",
          "name": "stdout",
          "text": [
            "57862/57862 [==============================] - 155s 3ms/step\n"
          ]
        }
      ],
      "source": [
        "predicted = model.predict(X)"
      ]
    },
    {
      "cell_type": "code",
      "execution_count": 12,
      "metadata": {
        "id": "0lGPpbbS5VfU"
      },
      "outputs": [],
      "source": [
        "cols = y.columns\n",
        "y = y.to_numpy()"
      ]
    },
    {
      "cell_type": "code",
      "execution_count": 13,
      "metadata": {
        "colab": {
          "base_uri": "https://localhost:8080/"
        },
        "id": "s1tcrKfD5g6u",
        "outputId": "7ca07acd-6d36-47bf-d2cb-f9a0ea5d33e3"
      },
      "outputs": [
        {
          "output_type": "stream",
          "name": "stdout",
          "text": [
            "57862/57862 [==============================] - 207s 4ms/step - loss: 0.0028 - accuracy: 0.9994\n",
            "Accuracy on test data: 0.999370276927948% \n",
            " Error on test data: 0.000629723072052002\n"
          ]
        }
      ],
      "source": [
        "#pred_test= model.predict(X)\n",
        "scores2 = model.evaluate(X, y, verbose=1)\n",
        "print('Accuracy on test data: {}% \\n Error on test data: {}'.format(scores2[1], 1 - scores2[1]))    "
      ]
    },
    {
      "cell_type": "code",
      "execution_count": 14,
      "metadata": {
        "colab": {
          "base_uri": "https://localhost:8080/"
        },
        "id": "D4Ip7AnZ5kGz",
        "outputId": "018eafe6-ec06-4284-8d38-79d2f425dffd"
      },
      "outputs": [
        {
          "output_type": "execute_result",
          "data": {
            "text/plain": [
              "{'loss': <tf.Tensor: shape=(), dtype=float32, numpy=0.0028431974>,\n",
              " 'accuracy': <tf.Tensor: shape=(), dtype=float32, numpy=0.9993703>}"
            ]
          },
          "metadata": {},
          "execution_count": 14
        }
      ],
      "source": [
        "model.get_metrics_result()"
      ]
    },
    {
      "cell_type": "code",
      "execution_count": 15,
      "metadata": {
        "id": "2TiP6G_W5lUa"
      },
      "outputs": [],
      "source": [
        "y_prediction = np.argmax (predicted, axis = 1)\n",
        "y_test=np.argmax(y , axis=1)"
      ]
    },
    {
      "cell_type": "markdown",
      "metadata": {
        "id": "9vRpvVVC5sjH"
      },
      "source": [
        "## Accuracies with different methods ... "
      ]
    },
    {
      "cell_type": "code",
      "execution_count": 16,
      "metadata": {
        "colab": {
          "base_uri": "https://localhost:8080/"
        },
        "id": "28bpe7ly5rCO",
        "outputId": "0c885e2f-e3a2-49d5-d913-710b8c0f0ae4"
      },
      "outputs": [
        {
          "output_type": "stream",
          "name": "stdout",
          "text": [
            "Accuracy of the classifier is: 0.9993702583722961\n"
          ]
        }
      ],
      "source": [
        "# Importing all necessary libraries\n",
        "from sklearn.metrics import accuracy_score\n",
        "# Calculating the accuracy of classifier\n",
        "print(f\"Accuracy of the classifier is: {accuracy_score(y_test, y_prediction)}\")"
      ]
    },
    {
      "cell_type": "code",
      "execution_count": 17,
      "metadata": {
        "colab": {
          "base_uri": "https://localhost:8080/"
        },
        "id": "6w7lbOLW5ycR",
        "outputId": "a5c24626-ef4b-49b9-eadc-70e8b26bc163"
      },
      "outputs": [
        {
          "output_type": "stream",
          "name": "stderr",
          "text": [
            "/usr/local/lib/python3.8/dist-packages/sklearn/metrics/_classification.py:1370: UserWarning: Note that pos_label (set to 'positive') is ignored when average != 'binary' (got 'micro'). You may use labels=[pos_label] to specify a single positive class.\n",
            "  warnings.warn(\n"
          ]
        },
        {
          "output_type": "stream",
          "name": "stdout",
          "text": [
            "Precision Score of the classifier is: 0.9993702583722961\n"
          ]
        }
      ],
      "source": [
        "# Importing all necessary libraries\n",
        "from sklearn.metrics import precision_score\n",
        "\n",
        "# Calculating the precision score of classifier\n",
        "print(f\"Precision Score of the classifier is: {precision_score(y_test, y_prediction,pos_label='positive',average='micro')}\")"
      ]
    },
    {
      "cell_type": "code",
      "execution_count": 18,
      "metadata": {
        "colab": {
          "base_uri": "https://localhost:8080/"
        },
        "id": "FGLuilRb5zph",
        "outputId": "0a7a16cb-62c5-41e4-d32e-b6a86277f7bc"
      },
      "outputs": [
        {
          "output_type": "stream",
          "name": "stderr",
          "text": [
            "/usr/local/lib/python3.8/dist-packages/sklearn/metrics/_classification.py:1370: UserWarning: Note that pos_label (set to 'positive') is ignored when average != 'binary' (got 'micro'). You may use labels=[pos_label] to specify a single positive class.\n",
            "  warnings.warn(\n"
          ]
        },
        {
          "output_type": "stream",
          "name": "stdout",
          "text": [
            "Recall Score of the classifier is: 0.9993702583722961\n"
          ]
        }
      ],
      "source": [
        "# Importing all necessary libraries\n",
        "from sklearn.metrics import recall_score\n",
        "\n",
        "# Calculating the recall score of classifier\n",
        "print(f\"Recall Score of the classifier is: {recall_score(y_test, y_prediction,pos_label='positive',average='micro')}\")"
      ]
    },
    {
      "cell_type": "code",
      "execution_count": 19,
      "metadata": {
        "colab": {
          "base_uri": "https://localhost:8080/"
        },
        "id": "Lq_7r3de51j_",
        "outputId": "22acead0-85b0-4718-fd74-b7f785e71561"
      },
      "outputs": [
        {
          "output_type": "stream",
          "name": "stderr",
          "text": [
            "/usr/local/lib/python3.8/dist-packages/sklearn/metrics/_classification.py:1370: UserWarning: Note that pos_label (set to 'positive') is ignored when average != 'binary' (got 'micro'). You may use labels=[pos_label] to specify a single positive class.\n",
            "  warnings.warn(\n"
          ]
        },
        {
          "output_type": "stream",
          "name": "stdout",
          "text": [
            "F1 Score of the classifier is: 0.9993702583722961\n"
          ]
        }
      ],
      "source": [
        "# Importing all necessary libraries\n",
        "from sklearn.metrics import f1_score\n",
        "\n",
        "# Calculating the F1 score of classifier\n",
        "print(f\"F1 Score of the classifier is: {f1_score(y_test, y_prediction,pos_label='positive',average='micro')}\")"
      ]
    },
    {
      "cell_type": "code",
      "execution_count": 20,
      "metadata": {
        "colab": {
          "base_uri": "https://localhost:8080/",
          "height": 313
        },
        "id": "CHpPp41u53F7",
        "outputId": "4e3cec44-67b0-4ad6-c19f-463c236dd555"
      },
      "outputs": [
        {
          "output_type": "stream",
          "name": "stdout",
          "text": [
            "AUC for our classifier is: 0.9995188080365255\n"
          ]
        },
        {
          "output_type": "display_data",
          "data": {
            "text/plain": [
              "<Figure size 432x288 with 1 Axes>"
            ],
            "image/png": "[encoded data removed]"
          },
          "metadata": {
            "needs_background": "light"
          }
        }
      ],
      "source": [
        "# Importing all necessary libraries\n",
        "from sklearn.metrics import roc_curve, auc\n",
        "\n",
        "fpr, tpr, threshold = roc_curve(y_test, y_prediction, pos_label=1)\n",
        "roc_auc = auc(fpr, tpr)\n",
        "\n",
        "# Printing AUC\n",
        "print(f\"AUC for our classifier is: {roc_auc}\")\n",
        "\n",
        "# Plotting the ROC\n",
        "plt.title('Receiver Operating Characteristic')\n",
        "plt.plot(fpr, tpr, 'b', label = 'AUC = %0.2f' % roc_auc)\n",
        "plt.legend(loc = 'lower right')\n",
        "plt.plot([0, 1], [0, 1],'r--')\n",
        "plt.xlim([0, 1])\n",
        "plt.ylim([0, 1])\n",
        "plt.ylabel('True Positive Rate')\n",
        "plt.xlabel('False Positive Rate')\n",
        "plt.show()\n",
        "\n",
        "### ROC _ CURVE IS NOT SUPPORTED FOR MULTICLASS LABELS :_("
      ]
    },
    {
      "cell_type": "code",
      "execution_count": 21,
      "metadata": {
        "id": "e8GHQzaj56yU"
      },
      "outputs": [],
      "source": [
        "#generating a report to extract the measure of interest using built-in sklearn function\n",
        "report = classification_report(y_test, y_prediction,digits=3,output_dict = True)"
      ]
    },
    {
      "cell_type": "code",
      "execution_count": 22,
      "metadata": {
        "colab": {
          "base_uri": "https://localhost:8080/"
        },
        "id": "0zSRegCk58il",
        "outputId": "fb628185-bb69-48ed-d11b-8ab843de7a83"
      },
      "outputs": [
        {
          "output_type": "execute_result",
          "data": {
            "text/plain": [
              "{'0': {'precision': 0.9980144112414872,\n",
              "  'recall': 0.9998901822973864,\n",
              "  'f1-score': 0.9989514162176163,\n",
              "  'support': 555466},\n",
              " '1': {'precision': 0.999952897316923,\n",
              "  'recall': 0.9991474337756647,\n",
              "  'f1-score': 0.999550003280422,\n",
              "  'support': 1296087},\n",
              " 'accuracy': 0.9993702583722961,\n",
              " 'macro avg': {'precision': 0.9989836542792051,\n",
              "  'recall': 0.9995188080365256,\n",
              "  'f1-score': 0.9992507097490191,\n",
              "  'support': 1851553},\n",
              " 'weighted avg': {'precision': 0.999371351389597,\n",
              "  'recall': 0.9993702583722961,\n",
              "  'f1-score': 0.9993704271292514,\n",
              "  'support': 1851553}}"
            ]
          },
          "metadata": {},
          "execution_count": 22
        }
      ],
      "source": [
        "report"
      ]
    },
    {
      "cell_type": "code",
      "execution_count": 23,
      "metadata": {
        "colab": {
          "base_uri": "https://localhost:8080/",
          "height": 360
        },
        "id": "wFCdngQz59nb",
        "outputId": "dadd3501-a691-4d19-9343-adf8805595c8"
      },
      "outputs": [
        {
          "output_type": "display_data",
          "data": {
            "text/plain": [
              "<Figure size 360x360 with 1 Axes>"
            ],
            "image/png": "[encoded data removed]"
          },
          "metadata": {
            "needs_background": "light"
          }
        }
      ],
      "source": [
        "import sklearn\n",
        "cm_logis = sklearn.metrics.confusion_matrix(y_test, y_prediction)\n",
        "#put it into a dataframe\n",
        "cm_logis_df = pd.DataFrame(cm_logis)\n",
        "\n",
        "#plot CM\n",
        "fig, ax = plt.subplots(figsize = (5,5))\n",
        "sns.heatmap(pd.DataFrame(cm_logis_df.T), annot=True, annot_kws={\"size\": 15}, cmap=\"Purples\", vmin=0, vmax=500, fmt='.0f', linewidths=1, linecolor=\"white\", cbar=False,\n",
        "           xticklabels=cols, yticklabels=cols)\n",
        "plt.ylabel(\"Predicted\", fontsize=15)\n",
        "plt.xlabel(\"Actual\", fontsize=15)\n",
        "ax.set_xticklabels(cols, fontsize=13)\n",
        "ax.set_yticklabels(cols, fontsize=13)\n",
        "plt.title(\"Confusion Matrix for Logistic Classifier (Threshold = 0.5) - Counts\", fontsize=15)\n",
        "plt.show()"
      ]
    },
    {
      "cell_type": "code",
      "execution_count": 23,
      "metadata": {
        "id": "kfBNgF5l6A5X"
      },
      "outputs": [],
      "source": []
    }
  ],
  "metadata": {
    "accelerator": "GPU",
    "colab": {
      "provenance": []
    },
    "gpuClass": "standard",
    "kernelspec": {
      "display_name": "Python 3",
      "language": "python",
      "name": "python3"
    },
    "language_info": {
      "codemirror_mode": {
        "name": "ipython",
        "version": 3
      },
      "file_extension": ".py",
      "mimetype": "text/x-python",
      "name": "python",
      "nbconvert_exporter": "python",
      "pygments_lexer": "ipython3",
      "version": "3.9.2"
    }
  },
  "nbformat": 4,
  "nbformat_minor": 0
}