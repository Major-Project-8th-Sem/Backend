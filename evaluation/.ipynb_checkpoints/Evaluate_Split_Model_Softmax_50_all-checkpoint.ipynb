{
 "cells": [
  {
   "cell_type": "code",
   "execution_count": 1,
   "metadata": {
    "id": "K77CEbncvHWN"
   },
   "outputs": [],
   "source": [
    "# All  import statements needed for the notebook\n",
    "import pandas as pd\n",
    "import numpy as np\n",
    "import matplotlib.pyplot as plt\n",
    "import seaborn as sns\n",
    "import sklearn\n",
    "from sklearn.metrics import *"
   ]
  },
  {
   "cell_type": "code",
   "execution_count": 2,
   "metadata": {
    "colab": {
     "base_uri": "https://localhost:8080/"
    },
    "id": "XJ81APP6vRhV",
    "outputId": "a0372a45-b7c9-4c19-93fd-9c138ecaee38"
   },
   "outputs": [
    {
     "data": {
      "text/plain": [
       "[PhysicalDevice(name='/physical_device:GPU:0', device_type='GPU')]"
      ]
     },
     "execution_count": 2,
     "metadata": {},
     "output_type": "execute_result"
    }
   ],
   "source": [
    "import tensorflow as tf\n",
    "tf.config.list_physical_devices('GPU')"
   ]
  },
  {
   "cell_type": "code",
   "execution_count": 3,
   "metadata": {
    "colab": {
     "base_uri": "https://localhost:8080/"
    },
    "id": "Ngbn4AoIvSls",
    "outputId": "8bd303b4-3803-4d04-c389-768139ec9f82"
   },
   "outputs": [
    {
     "name": "stdout",
     "output_type": "stream",
     "text": [
      "Mounted at /content/drive\n"
     ]
    }
   ],
   "source": [
    "from google.colab import drive\n",
    "drive.mount('/content/drive')"
   ]
  },
  {
   "cell_type": "code",
   "execution_count": 4,
   "metadata": {
    "id": "0jAV-bA0vToD"
   },
   "outputs": [],
   "source": [
    "data = pd.read_csv('/content/drive/MyDrive/balancedhalf_data.csv')"
   ]
  },
  {
   "cell_type": "code",
   "execution_count": 5,
   "metadata": {
    "id": "JuWTW394vUxn"
   },
   "outputs": [],
   "source": [
    "data.drop(data.columns[0] , inplace=True , axis=1)"
   ]
  },
  {
   "cell_type": "code",
   "execution_count": 6,
   "metadata": {
    "id": "tpsdbcOZvV53"
   },
   "outputs": [],
   "source": [
    "unknown = ['SSH-Patator','DoS slowloris','DoS Slowhttptest','Bot','Infiltration','Heartbleed']\n",
    "att = data.loc[(data['Label'].isin(unknown))]"
   ]
  },
  {
   "cell_type": "code",
   "execution_count": 7,
   "metadata": {
    "id": "iYdCQK-2vXQQ"
   },
   "outputs": [],
   "source": [
    "data.drop(att.index,axis=0 , inplace=True, errors='ignore')"
   ]
  },
  {
   "cell_type": "code",
   "execution_count": 8,
   "metadata": {
    "colab": {
     "base_uri": "https://localhost:8080/"
    },
    "id": "06Yx9IjHviRq",
    "outputId": "03f3594a-587f-4f68-9969-8dde468c5579"
   },
   "outputs": [
    {
     "data": {
      "text/plain": [
       "array(['BENIGN', 'DDoS', 'DoS Hulk', 'DoS GoldenEye', 'PortScan',\n",
       "       'FTP-Patator'], dtype=object)"
      ]
     },
     "execution_count": 8,
     "metadata": {},
     "output_type": "execute_result"
    }
   ],
   "source": [
    "data.Label.unique()"
   ]
  },
  {
   "cell_type": "code",
   "execution_count": 9,
   "metadata": {
    "colab": {
     "base_uri": "https://localhost:8080/"
    },
    "id": "awVmBqttvkFQ",
    "outputId": "ba74706e-6761-42b8-c5c4-20695d393551"
   },
   "outputs": [
    {
     "data": {
      "text/plain": [
       "array(['Infiltration', 'DoS slowloris', 'DoS Slowhttptest', 'Heartbleed',\n",
       "       'Bot', 'SSH-Patator'], dtype=object)"
      ]
     },
     "execution_count": 9,
     "metadata": {},
     "output_type": "execute_result"
    }
   ],
   "source": [
    "att.Label.unique()"
   ]
  },
  {
   "cell_type": "markdown",
   "metadata": {
    "id": "RI0OnBADvrH8"
   },
   "source": [
    "## PreProcessing"
   ]
  },
  {
   "cell_type": "code",
   "execution_count": 10,
   "metadata": {
    "id": "agHIuzuuvmGz"
   },
   "outputs": [],
   "source": [
    "# importing required libraries for normalizing data\n",
    "from sklearn import preprocessing\n",
    "from sklearn.preprocessing import MinMaxScaler\n",
    "# selecting numeric attributes columns from data\n",
    "numeric_col = data.select_dtypes(include='number').columns"
   ]
  },
  {
   "cell_type": "code",
   "execution_count": 11,
   "metadata": {
    "id": "83ZVAIXsvxBT"
   },
   "outputs": [],
   "source": [
    "# using standard scaler for normalizing\n",
    "std_scaler = MinMaxScaler()\n",
    "def normalization(df,att,col):\n",
    "  for i in col:\n",
    "    arr = df[i]\n",
    "    arr = np.array(arr)\n",
    "    x = np.array(att[i])\n",
    "    df[i] = std_scaler.fit_transform(arr.reshape(len(arr),1))\n",
    "    #To use the same scaler which was used in preprocessing the train data \n",
    "    att[i] = std_scaler.transform(x.reshape(len(x),1))\n",
    "  return df,att\n",
    "# calling the normalization() function\n",
    "data , att = normalization(data.copy(),att.copy(),numeric_col)"
   ]
  },
  {
   "cell_type": "code",
   "execution_count": 12,
   "metadata": {
    "colab": {
     "base_uri": "https://localhost:8080/"
    },
    "id": "HWClqCk-v5ZF",
    "outputId": "8edd42f1-96c4-4383-8ff1-1f4292bdef2d"
   },
   "outputs": [
    {
     "data": {
      "text/plain": [
       "((1091727, 84), (19205, 84))"
      ]
     },
     "execution_count": 12,
     "metadata": {},
     "output_type": "execute_result"
    }
   ],
   "source": [
    "data.shape , att.shape"
   ]
  },
  {
   "cell_type": "code",
   "execution_count": 13,
   "metadata": {
    "id": "-5oNtoROv9OJ"
   },
   "outputs": [],
   "source": [
    "att.Label = 'unknown'"
   ]
  },
  {
   "cell_type": "code",
   "execution_count": 14,
   "metadata": {
    "id": "KI1UR6uAwAD0"
   },
   "outputs": [],
   "source": [
    "X = att.drop('Label' , axis=1)\n",
    "X = X.to_numpy().reshape(-1, 83,1)\n",
    "\n",
    "y = att.Label"
   ]
  },
  {
   "cell_type": "code",
   "execution_count": 15,
   "metadata": {
    "id": "u3XQ64JrwEQU"
   },
   "outputs": [],
   "source": [
    "X_train = data.drop('Label' , axis=1)\n",
    "X_train = X_train.to_numpy().reshape(-1, 83,1)\n",
    "\n",
    "y_train = data.Label"
   ]
  },
  {
   "cell_type": "markdown",
   "metadata": {
    "id": "Xyr3jIBhwa0U"
   },
   "source": [
    "# **Load Model and Predict**\n"
   ]
  },
  {
   "cell_type": "code",
   "execution_count": 16,
   "metadata": {
    "id": "3Vgy2eniwUFs"
   },
   "outputs": [],
   "source": [
    "from tensorflow import keras\n",
    "model = keras.models.load_model('/content/drive/MyDrive/models/model_split_softmax_cnn_model.hdf5')"
   ]
  },
  {
   "cell_type": "code",
   "execution_count": 17,
   "metadata": {
    "colab": {
     "base_uri": "https://localhost:8080/"
    },
    "id": "LdCALCX7wcps",
    "outputId": "dfe81413-a782-41ce-e794-4c2685127f51"
   },
   "outputs": [
    {
     "name": "stdout",
     "output_type": "stream",
     "text": [
      "601/601 [==============================] - 9s 2ms/step\n",
      "34117/34117 [==============================] - 80s 2ms/step\n"
     ]
    }
   ],
   "source": [
    "predicted = model.predict(X)\n",
    "Y_train_predicted = model.predict(X_train)"
   ]
  },
  {
   "cell_type": "markdown",
   "metadata": {
    "id": "EezQlT6yw3Ec"
   },
   "source": [
    "# **Evaluation of the Model**"
   ]
  },
  {
   "cell_type": "code",
   "execution_count": 18,
   "metadata": {
    "id": "CiPLUzbLwmJm"
   },
   "outputs": [],
   "source": [
    "Threshold_values = [0.4 ,0.5 , 0.6 , 0.7 , 0.8 , 0.9 , 0.95]"
   ]
  },
  {
   "cell_type": "code",
   "execution_count": 19,
   "metadata": {
    "colab": {
     "base_uri": "https://localhost:8080/"
    },
    "id": "Vf_jktZ-xKYN",
    "outputId": "8f7e20e6-f351-4e6c-d547-b252a87dda17"
   },
   "outputs": [
    {
     "data": {
      "text/plain": [
       "0               BENIGN\n",
       "1               BENIGN\n",
       "2               BENIGN\n",
       "3               BENIGN\n",
       "4               BENIGN\n",
       "              ...     \n",
       "1105030    FTP-Patator\n",
       "1105031    FTP-Patator\n",
       "1105032    FTP-Patator\n",
       "1105033    FTP-Patator\n",
       "1105034    FTP-Patator\n",
       "Name: Label, Length: 1091727, dtype: object"
      ]
     },
     "execution_count": 19,
     "metadata": {},
     "output_type": "execute_result"
    }
   ],
   "source": [
    "y_train"
   ]
  },
  {
   "cell_type": "code",
   "execution_count": 20,
   "metadata": {
    "id": "essPVN_7yPwD"
   },
   "outputs": [],
   "source": [
    "mapping = y_train.unique().tolist()"
   ]
  },
  {
   "cell_type": "code",
   "execution_count": 21,
   "metadata": {
    "colab": {
     "base_uri": "https://localhost:8080/"
    },
    "id": "Sxi2Qxfox-1I",
    "outputId": "d7d6235f-dde9-4dbc-8273-a35f843f6405"
   },
   "outputs": [
    {
     "data": {
      "text/plain": [
       "['BENIGN', 'DDoS', 'DoS Hulk', 'DoS GoldenEye', 'PortScan', 'FTP-Patator']"
      ]
     },
     "execution_count": 21,
     "metadata": {},
     "output_type": "execute_result"
    }
   ],
   "source": [
    "mapping"
   ]
  },
  {
   "cell_type": "code",
   "execution_count": 22,
   "metadata": {
    "id": "o8G0-6yXzgGf"
   },
   "outputs": [],
   "source": [
    "my_dict = {\n",
    "    0 : 'BENIGN',\n",
    "    1 : 'DDoS',\n",
    "    2 : 'DoS Hulk',\n",
    "    3 : 'DoS GoldenEye',\n",
    "    4 : 'PortScan',\n",
    "    5 : 'FTP-Patator'\n",
    "}"
   ]
  },
  {
   "cell_type": "code",
   "execution_count": 23,
   "metadata": {
    "id": "5_vSlRvRyp8z"
   },
   "outputs": [],
   "source": [
    "max_probability = np.amax(predicted, axis = 1)\n",
    "max_probability_train = np.amax(Y_train_predicted, axis = 1)"
   ]
  },
  {
   "cell_type": "code",
   "execution_count": 24,
   "metadata": {
    "id": "Gbw-eZyDy2az"
   },
   "outputs": [],
   "source": [
    "y_prediction_index = np.argmax(Y_train_predicted, axis = 1)"
   ]
  },
  {
   "cell_type": "code",
   "execution_count": 25,
   "metadata": {
    "colab": {
     "base_uri": "https://localhost:8080/"
    },
    "id": "KfgYk69NzHN8",
    "outputId": "155e29c3-81db-4259-ec98-d229140d096e"
   },
   "outputs": [
    {
     "data": {
      "text/plain": [
       "array([0, 0, 0, 0, 0, 0, 0, 0, 0, 0, 0, 0, 0, 0, 0, 0, 0, 0, 0, 0, 0, 0,\n",
       "       0, 0, 0, 0, 3, 0, 0, 0, 0, 0, 0, 0, 0, 0, 0, 0, 0, 0, 0, 0, 0, 0,\n",
       "       0, 0, 0, 0, 0, 0, 0, 0, 0, 0, 0, 0, 0, 0, 0, 0, 0, 0, 0, 0, 0, 0,\n",
       "       0, 0, 0, 0, 0, 0, 0, 0, 0, 0, 0, 0, 0, 0, 0, 0, 0, 0, 0, 0, 0, 0,\n",
       "       0, 0, 0, 0, 0, 0, 0, 0, 0, 0, 0, 0])"
      ]
     },
     "execution_count": 25,
     "metadata": {},
     "output_type": "execute_result"
    }
   ],
   "source": [
    "y_prediction_index[:100]"
   ]
  },
  {
   "cell_type": "code",
   "execution_count": 26,
   "metadata": {
    "id": "jcL_43JizJX8"
   },
   "outputs": [],
   "source": [
    "y_prediction_test_label = np.vectorize(my_dict.get)(y_prediction_index)"
   ]
  },
  {
   "cell_type": "code",
   "execution_count": 27,
   "metadata": {
    "colab": {
     "base_uri": "https://localhost:8080/"
    },
    "id": "Evr_RbXZ1BOQ",
    "outputId": "e8375ca7-d393-4afb-cdd4-d62cdb80a1b6"
   },
   "outputs": [
    {
     "data": {
      "text/plain": [
       "((1091727,), (1091727,))"
      ]
     },
     "execution_count": 27,
     "metadata": {},
     "output_type": "execute_result"
    }
   ],
   "source": [
    "y_prediction_test_label.shape , y_train.shape"
   ]
  },
  {
   "cell_type": "code",
   "execution_count": 28,
   "metadata": {
    "colab": {
     "base_uri": "https://localhost:8080/"
    },
    "id": "0hh5Z3GB1HVg",
    "outputId": "37df22cc-9fe8-46e2-f63d-2edc22d82163"
   },
   "outputs": [
    {
     "data": {
      "text/plain": [
       "(numpy.ndarray, pandas.core.series.Series)"
      ]
     },
     "execution_count": 28,
     "metadata": {},
     "output_type": "execute_result"
    }
   ],
   "source": [
    "type(y_prediction_test_label) , type(y_train)"
   ]
  },
  {
   "cell_type": "code",
   "execution_count": 29,
   "metadata": {
    "id": "RyUZ3dnO1MWJ"
   },
   "outputs": [],
   "source": [
    "y_train = y_train.to_numpy()"
   ]
  },
  {
   "cell_type": "code",
   "execution_count": 30,
   "metadata": {
    "colab": {
     "base_uri": "https://localhost:8080/"
    },
    "id": "r2K6Yu6J1Rcp",
    "outputId": "2f11ce48-8d56-40d6-fe85-189945be3261"
   },
   "outputs": [
    {
     "data": {
      "text/plain": [
       "array([ True,  True,  True,  True,  True,  True,  True,  True,  True,\n",
       "        True])"
      ]
     },
     "execution_count": 30,
     "metadata": {},
     "output_type": "execute_result"
    }
   ],
   "source": [
    "y_train[:10] == y_prediction_test_label[:10]"
   ]
  },
  {
   "cell_type": "code",
   "execution_count": 31,
   "metadata": {
    "id": "tymq_fZB1eqP"
   },
   "outputs": [],
   "source": [
    "RIGHT_BOOLEAN = y_train == y_prediction_test_label"
   ]
  },
  {
   "cell_type": "code",
   "execution_count": 32,
   "metadata": {
    "colab": {
     "base_uri": "https://localhost:8080/"
    },
    "id": "nnCoIPDI1pVH",
    "outputId": "41e16f5a-a5c2-449f-9a59-b48b44217547"
   },
   "outputs": [
    {
     "data": {
      "text/plain": [
       "(1091727,)"
      ]
     },
     "execution_count": 32,
     "metadata": {},
     "output_type": "execute_result"
    }
   ],
   "source": [
    "RIGHT_BOOLEAN.shape"
   ]
  },
  {
   "cell_type": "code",
   "execution_count": 33,
   "metadata": {
    "id": "JRSpLNTJ0H5Q"
   },
   "outputs": [],
   "source": [
    "TOTAL = data.shape[0]+att.shape[0]"
   ]
  },
  {
   "cell_type": "code",
   "execution_count": 34,
   "metadata": {
    "colab": {
     "base_uri": "https://localhost:8080/"
    },
    "id": "hGV1aDGMz2-2",
    "outputId": "64b427ea-aa2f-464f-a3df-c24d161d3cfe"
   },
   "outputs": [
    {
     "name": "stdout",
     "output_type": "stream",
     "text": [
      "USING THRESHOLD VALUE  0.4\n",
      "Accuracy is  0.6155615285183972\n",
      "USING THRESHOLD VALUE  0.5\n",
      "Accuracy is  0.6162627415539385\n",
      "USING THRESHOLD VALUE  0.6\n",
      "Accuracy is  0.6164301685431691\n",
      "USING THRESHOLD VALUE  0.7\n",
      "Accuracy is  0.6165246837790251\n",
      "USING THRESHOLD VALUE  0.8\n",
      "Accuracy is  0.6192008151714057\n",
      "USING THRESHOLD VALUE  0.9\n",
      "Accuracy is  0.6191981147360954\n",
      "USING THRESHOLD VALUE  0.95\n",
      "Accuracy is  0.6192080163322328\n"
     ]
    }
   ],
   "source": [
    "for threshold in Threshold_values:\n",
    "  truepredicted = 0\n",
    "  #for each threshold value we will check out the accuracy of the model\n",
    "  print('USING THRESHOLD VALUE ',threshold)\n",
    "  ## Checking in UNKNOWN SET\n",
    "  for prob in max_probability:\n",
    "    if prob<threshold:\n",
    "      ##add unknown count\n",
    "      truepredicted += 1\n",
    "  \n",
    "  ## Checking in train data now...\n",
    "  for index in range(data.shape[0]):\n",
    "    max_prob = max_probability_train[index]\n",
    "    label = y_prediction_test_label[index]\n",
    "    if max_prob > threshold and RIGHT_BOOLEAN[index]:\n",
    "      truepredicted += 1\n",
    "\n",
    "  Accuracy = truepredicted/TOTAL\n",
    "  print('Accuracy is ',Accuracy)"
   ]
  },
  {
   "cell_type": "code",
   "execution_count": 36,
   "metadata": {
    "colab": {
     "base_uri": "https://localhost:8080/"
    },
    "id": "GXp140XO109t",
    "outputId": "1cc02a4c-a256-4187-e32d-f958da1b6ad9"
   },
   "outputs": [
    {
     "data": {
      "text/plain": [
       "array([[1.00000000e+00, 0.00000000e+00, 0.00000000e+00, 0.00000000e+00,\n",
       "        0.00000000e+00, 0.00000000e+00],\n",
       "       [1.00000000e+00, 0.00000000e+00, 0.00000000e+00, 0.00000000e+00,\n",
       "        0.00000000e+00, 0.00000000e+00],\n",
       "       [1.00000000e+00, 0.00000000e+00, 0.00000000e+00, 0.00000000e+00,\n",
       "        0.00000000e+00, 0.00000000e+00],\n",
       "       [1.00000000e+00, 0.00000000e+00, 0.00000000e+00, 0.00000000e+00,\n",
       "        0.00000000e+00, 0.00000000e+00],\n",
       "       [1.00000000e+00, 0.00000000e+00, 0.00000000e+00, 0.00000000e+00,\n",
       "        0.00000000e+00, 0.00000000e+00],\n",
       "       [1.00000000e+00, 0.00000000e+00, 0.00000000e+00, 0.00000000e+00,\n",
       "        0.00000000e+00, 0.00000000e+00],\n",
       "       [1.00000000e+00, 0.00000000e+00, 0.00000000e+00, 0.00000000e+00,\n",
       "        0.00000000e+00, 0.00000000e+00],\n",
       "       [1.00000000e+00, 0.00000000e+00, 0.00000000e+00, 0.00000000e+00,\n",
       "        0.00000000e+00, 0.00000000e+00],\n",
       "       [1.00000000e+00, 0.00000000e+00, 0.00000000e+00, 0.00000000e+00,\n",
       "        0.00000000e+00, 0.00000000e+00],\n",
       "       [1.00000000e+00, 0.00000000e+00, 0.00000000e+00, 0.00000000e+00,\n",
       "        0.00000000e+00, 0.00000000e+00],\n",
       "       [1.00000000e+00, 0.00000000e+00, 0.00000000e+00, 0.00000000e+00,\n",
       "        0.00000000e+00, 0.00000000e+00],\n",
       "       [1.00000000e+00, 0.00000000e+00, 0.00000000e+00, 0.00000000e+00,\n",
       "        0.00000000e+00, 0.00000000e+00],\n",
       "       [1.00000000e+00, 0.00000000e+00, 0.00000000e+00, 0.00000000e+00,\n",
       "        0.00000000e+00, 0.00000000e+00],\n",
       "       [1.00000000e+00, 0.00000000e+00, 0.00000000e+00, 0.00000000e+00,\n",
       "        0.00000000e+00, 0.00000000e+00],\n",
       "       [1.00000000e+00, 0.00000000e+00, 0.00000000e+00, 0.00000000e+00,\n",
       "        0.00000000e+00, 0.00000000e+00],\n",
       "       [1.00000000e+00, 0.00000000e+00, 0.00000000e+00, 0.00000000e+00,\n",
       "        0.00000000e+00, 0.00000000e+00],\n",
       "       [1.00000000e+00, 0.00000000e+00, 0.00000000e+00, 0.00000000e+00,\n",
       "        0.00000000e+00, 0.00000000e+00],\n",
       "       [1.00000000e+00, 0.00000000e+00, 0.00000000e+00, 0.00000000e+00,\n",
       "        0.00000000e+00, 0.00000000e+00],\n",
       "       [1.00000000e+00, 0.00000000e+00, 0.00000000e+00, 0.00000000e+00,\n",
       "        0.00000000e+00, 0.00000000e+00],\n",
       "       [1.00000000e+00, 0.00000000e+00, 0.00000000e+00, 0.00000000e+00,\n",
       "        0.00000000e+00, 0.00000000e+00],\n",
       "       [1.00000000e+00, 0.00000000e+00, 0.00000000e+00, 0.00000000e+00,\n",
       "        0.00000000e+00, 0.00000000e+00],\n",
       "       [1.00000000e+00, 0.00000000e+00, 0.00000000e+00, 0.00000000e+00,\n",
       "        0.00000000e+00, 0.00000000e+00],\n",
       "       [1.00000000e+00, 0.00000000e+00, 0.00000000e+00, 0.00000000e+00,\n",
       "        0.00000000e+00, 0.00000000e+00],\n",
       "       [1.00000000e+00, 0.00000000e+00, 0.00000000e+00, 0.00000000e+00,\n",
       "        0.00000000e+00, 0.00000000e+00],\n",
       "       [1.00000000e+00, 0.00000000e+00, 0.00000000e+00, 0.00000000e+00,\n",
       "        0.00000000e+00, 0.00000000e+00],\n",
       "       [1.00000000e+00, 0.00000000e+00, 0.00000000e+00, 0.00000000e+00,\n",
       "        0.00000000e+00, 0.00000000e+00],\n",
       "       [1.00000000e+00, 0.00000000e+00, 0.00000000e+00, 0.00000000e+00,\n",
       "        0.00000000e+00, 0.00000000e+00],\n",
       "       [1.00000000e+00, 0.00000000e+00, 0.00000000e+00, 0.00000000e+00,\n",
       "        0.00000000e+00, 0.00000000e+00],\n",
       "       [1.00000000e+00, 0.00000000e+00, 0.00000000e+00, 0.00000000e+00,\n",
       "        0.00000000e+00, 0.00000000e+00],\n",
       "       [1.00000000e+00, 0.00000000e+00, 0.00000000e+00, 0.00000000e+00,\n",
       "        0.00000000e+00, 0.00000000e+00],\n",
       "       [1.00000000e+00, 0.00000000e+00, 0.00000000e+00, 0.00000000e+00,\n",
       "        0.00000000e+00, 0.00000000e+00],\n",
       "       [1.00000000e+00, 0.00000000e+00, 0.00000000e+00, 0.00000000e+00,\n",
       "        0.00000000e+00, 0.00000000e+00],\n",
       "       [1.00000000e+00, 0.00000000e+00, 0.00000000e+00, 0.00000000e+00,\n",
       "        0.00000000e+00, 0.00000000e+00],\n",
       "       [1.00000000e+00, 0.00000000e+00, 0.00000000e+00, 0.00000000e+00,\n",
       "        0.00000000e+00, 0.00000000e+00],\n",
       "       [1.00000000e+00, 0.00000000e+00, 0.00000000e+00, 0.00000000e+00,\n",
       "        0.00000000e+00, 0.00000000e+00],\n",
       "       [1.00000000e+00, 0.00000000e+00, 0.00000000e+00, 0.00000000e+00,\n",
       "        0.00000000e+00, 0.00000000e+00],\n",
       "       [9.99701440e-01, 1.36980458e-18, 2.98515777e-04, 1.60693859e-13,\n",
       "        5.59807253e-23, 4.73760499e-18],\n",
       "       [5.42493183e-07, 3.46001249e-21, 5.67773206e-09, 9.99999404e-01,\n",
       "        4.46224237e-21, 3.10732133e-24],\n",
       "       [9.99995112e-01, 1.01747292e-14, 3.66286612e-10, 4.89083868e-06,\n",
       "        1.29686236e-11, 5.84501544e-12],\n",
       "       [1.00000000e+00, 3.22268927e-29, 4.92313667e-20, 8.79529612e-23,\n",
       "        7.58257397e-29, 1.82651190e-25],\n",
       "       [5.54216285e-07, 3.75413175e-21, 5.84386761e-09, 9.99999404e-01,\n",
       "        4.75568914e-21, 3.39744919e-24],\n",
       "       [1.32247105e-01, 1.03318210e-09, 2.32825661e-03, 8.65424514e-01,\n",
       "        8.19283272e-08, 3.41641937e-09],\n",
       "       [8.73295605e-01, 8.77858896e-04, 7.77312443e-02, 4.20445614e-02,\n",
       "        7.64084631e-04, 5.28672757e-03],\n",
       "       [8.73284817e-01, 8.77708662e-04, 7.77426213e-02, 4.20455895e-02,\n",
       "        7.63886492e-04, 5.28535899e-03],\n",
       "       [8.73273551e-01, 8.77699349e-04, 7.77513757e-02, 4.20485325e-02,\n",
       "        7.63852964e-04, 5.28501021e-03],\n",
       "       [8.73267174e-01, 8.77536484e-04, 7.77601898e-02, 4.20477837e-02,\n",
       "        7.63641670e-04, 5.28361928e-03],\n",
       "       [1.75161704e-01, 1.72938220e-02, 1.17830552e-01, 5.81687748e-01,\n",
       "        3.22592519e-02, 7.57669657e-02],\n",
       "       [1.75145760e-01, 1.72926169e-02, 1.17827579e-01, 5.81717134e-01,\n",
       "        3.22566964e-02, 7.57602602e-02],\n",
       "       [1.75129622e-01, 1.72913894e-02, 1.17824547e-01, 5.81746817e-01,\n",
       "        3.22541296e-02, 7.57534504e-02],\n",
       "       [1.75143510e-01, 1.72924437e-02, 1.17827155e-01, 5.81721246e-01,\n",
       "        3.22563425e-02, 7.57592991e-02],\n",
       "       [1.75104156e-01, 1.72894616e-02, 1.17819786e-01, 5.81793785e-01,\n",
       "        3.22500542e-02, 7.57427365e-02],\n",
       "       [1.75101936e-01, 1.72892921e-02, 1.17819361e-01, 5.81797898e-01,\n",
       "        3.22497115e-02, 7.57417902e-02],\n",
       "       [1.75114334e-01, 1.72902308e-02, 1.17821686e-01, 5.81775010e-01,\n",
       "        3.22516859e-02, 7.57470131e-02],\n",
       "       [1.75095960e-01, 1.72888394e-02, 1.17818251e-01, 5.81808925e-01,\n",
       "        3.22487503e-02, 7.57392645e-02],\n",
       "       [1.75076053e-01, 1.72873326e-02, 1.17814533e-01, 5.81845582e-01,\n",
       "        3.22455801e-02, 7.57308975e-02],\n",
       "       [1.75063461e-01, 1.72863733e-02, 1.17812179e-01, 5.81868768e-01,\n",
       "        3.22435759e-02, 7.57255927e-02],\n",
       "       [1.75068751e-01, 1.72867775e-02, 1.17813170e-01, 5.81859112e-01,\n",
       "        3.22444104e-02, 7.57278204e-02],\n",
       "       [1.75030634e-01, 1.72838885e-02, 1.17806040e-01, 5.81929445e-01,\n",
       "        3.22383381e-02, 7.57117718e-02],\n",
       "       [1.75054744e-01, 1.72857158e-02, 1.17810540e-01, 5.81884921e-01,\n",
       "        3.22421789e-02, 7.57219121e-02],\n",
       "       [1.75023958e-01, 1.72833800e-02, 1.17804781e-01, 5.81941605e-01,\n",
       "        3.22372690e-02, 7.57089555e-02],\n",
       "       [1.75008327e-01, 1.72821917e-02, 1.17801860e-01, 5.81970513e-01,\n",
       "        3.22347730e-02, 7.57023618e-02],\n",
       "       [1.75017625e-01, 1.72829032e-02, 1.17803618e-01, 5.81953406e-01,\n",
       "        3.22362557e-02, 7.57062882e-02],\n",
       "       [1.74993739e-01, 1.72810834e-02, 1.17799118e-01, 5.81997335e-01,\n",
       "        3.22324485e-02, 7.56962150e-02],\n",
       "       [1.74983785e-01, 1.72803309e-02, 1.17797270e-01, 5.82015753e-01,\n",
       "        3.22308578e-02, 7.56920278e-02],\n",
       "       [1.74977630e-01, 1.72798634e-02, 1.17796108e-01, 5.82027137e-01,\n",
       "        3.22298706e-02, 7.56894201e-02],\n",
       "       [1.74953505e-01, 1.72780361e-02, 1.17791601e-01, 5.82071602e-01,\n",
       "        3.22260261e-02, 7.56792724e-02],\n",
       "       [1.74945027e-01, 1.72773916e-02, 1.17790006e-01, 5.82087159e-01,\n",
       "        3.22246738e-02, 7.56757110e-02],\n",
       "       [1.74968436e-01, 1.72791667e-02, 1.17794394e-01, 5.82044065e-01,\n",
       "        3.22284102e-02, 7.56855682e-02],\n",
       "       [1.74938142e-01, 1.72768719e-02, 1.17788725e-01, 5.82099974e-01,\n",
       "        3.22235785e-02, 7.56727979e-02],\n",
       "       [1.74928635e-01, 1.72761511e-02, 1.17786936e-01, 5.82117379e-01,\n",
       "        3.22220586e-02, 7.56688118e-02],\n",
       "       [1.74911752e-01, 1.72748715e-02, 1.17783770e-01, 5.82148552e-01,\n",
       "        3.22193690e-02, 7.56616741e-02],\n",
       "       [1.74906090e-01, 1.72744375e-02, 1.17782719e-01, 5.82158923e-01,\n",
       "        3.22184674e-02, 7.56593123e-02],\n",
       "       [1.74897715e-01, 1.72738023e-02, 1.17781147e-01, 5.82174420e-01,\n",
       "        3.22171301e-02, 7.56557733e-02],\n",
       "       [1.74856037e-01, 1.72706451e-02, 1.17773332e-01, 5.82251251e-01,\n",
       "        3.22104804e-02, 7.56382272e-02],\n",
       "       [1.75032362e-01, 1.72840171e-02, 1.17806345e-01, 5.81926227e-01,\n",
       "        3.22386064e-02, 7.57124871e-02],\n",
       "       [1.74840823e-01, 1.72694866e-02, 1.17770478e-01, 5.82279384e-01,\n",
       "        3.22080441e-02, 7.56317973e-02],\n",
       "       [1.74801588e-01, 1.72665119e-02, 1.17763117e-01, 5.82351685e-01,\n",
       "        3.22017930e-02, 7.56152943e-02],\n",
       "       [1.74823210e-01, 1.72681529e-02, 1.17767178e-01, 5.82311869e-01,\n",
       "        3.22052389e-02, 7.56243840e-02],\n",
       "       [1.74830392e-01, 1.72686987e-02, 1.17768526e-01, 5.82298636e-01,\n",
       "        3.22063826e-02, 7.56274238e-02],\n",
       "       [1.74820065e-01, 1.72679108e-02, 1.17766589e-01, 5.82317650e-01,\n",
       "        3.22047397e-02, 7.56230801e-02],\n",
       "       [1.74808711e-01, 1.72670521e-02, 1.17764458e-01, 5.82338631e-01,\n",
       "        3.22029255e-02, 7.56182820e-02],\n",
       "       [1.74781144e-01, 1.72649566e-02, 1.17759287e-01, 5.82389414e-01,\n",
       "        3.21985222e-02, 7.56066591e-02],\n",
       "       [1.74770534e-01, 1.72641557e-02, 1.17757283e-01, 5.82408905e-01,\n",
       "        3.21968310e-02, 7.56022185e-02],\n",
       "       [1.74791753e-01, 1.72657650e-02, 1.17761277e-01, 5.82369924e-01,\n",
       "        3.22002210e-02, 7.56111592e-02],\n",
       "       [1.74770132e-01, 1.72641240e-02, 1.17757194e-01, 5.82409739e-01,\n",
       "        3.21967676e-02, 7.56020322e-02],\n",
       "       [1.74758032e-01, 1.72632076e-02, 1.17754936e-01, 5.82432032e-01,\n",
       "        3.21948342e-02, 7.55969435e-02],\n",
       "       [1.74743831e-01, 1.72621254e-02, 1.17752269e-01, 5.82458317e-01,\n",
       "        3.21925655e-02, 7.55909383e-02],\n",
       "       [1.74740180e-01, 1.72618497e-02, 1.17751606e-01, 5.82464993e-01,\n",
       "        3.21919955e-02, 7.55894259e-02],\n",
       "       [1.74698576e-01, 1.72586963e-02, 1.17743783e-01, 5.82541704e-01,\n",
       "        3.21853533e-02, 7.55719021e-02],\n",
       "       [1.74709618e-01, 1.72595326e-02, 1.17745847e-01, 5.82521319e-01,\n",
       "        3.21871080e-02, 7.55765438e-02],\n",
       "       [1.74728841e-01, 1.72609892e-02, 1.17749467e-01, 5.82485914e-01,\n",
       "        3.21901739e-02, 7.55846500e-02],\n",
       "       [1.74719006e-01, 1.72602404e-02, 1.17747605e-01, 5.82503974e-01,\n",
       "        3.21886130e-02, 7.55805075e-02],\n",
       "       [1.74680322e-01, 1.72573086e-02, 1.17740355e-01, 5.82575440e-01,\n",
       "        3.21824364e-02, 7.55642131e-02],\n",
       "       [1.74671113e-01, 1.72566082e-02, 1.17738619e-01, 5.82592368e-01,\n",
       "        3.21809649e-02, 7.55603313e-02],\n",
       "       [1.74660653e-01, 1.72558185e-02, 1.17736652e-01, 5.82611620e-01,\n",
       "        3.21793035e-02, 7.55559281e-02],\n",
       "       [1.74649656e-01, 1.72549840e-02, 1.17734604e-01, 5.82631946e-01,\n",
       "        3.21775414e-02, 7.55513087e-02],\n",
       "       [1.74638540e-01, 1.72541384e-02, 1.17732510e-01, 5.82652509e-01,\n",
       "        3.21757682e-02, 7.55466223e-02],\n",
       "       [1.74628824e-01, 1.72533989e-02, 1.17730655e-01, 5.82670391e-01,\n",
       "        3.21742147e-02, 7.55425096e-02],\n",
       "       [1.74617246e-01, 1.72525216e-02, 1.17728502e-01, 5.82691789e-01,\n",
       "        3.21723670e-02, 7.55376518e-02],\n",
       "       [1.74606293e-01, 1.72516908e-02, 1.17726438e-01, 5.82711875e-01,\n",
       "        3.21706273e-02, 7.55330324e-02]], dtype=float32)"
      ]
     },
     "execution_count": 36,
     "metadata": {},
     "output_type": "execute_result"
    }
   ],
   "source": [
    "predicted[:100]"
   ]
  },
  {
   "cell_type": "code",
   "execution_count": null,
   "metadata": {
    "id": "iRWh2bQJK8NQ"
   },
   "outputs": [],
   "source": []
  }
 ],
 "metadata": {
  "accelerator": "GPU",
  "colab": {
   "provenance": []
  },
  "gpuClass": "standard",
  "kernelspec": {
   "display_name": "Python 3",
   "language": "python",
   "name": "python3"
  },
  "language_info": {
   "codemirror_mode": {
    "name": "ipython",
    "version": 3
   },
   "file_extension": ".py",
   "mimetype": "text/x-python",
   "name": "python",
   "nbconvert_exporter": "python",
   "pygments_lexer": "ipython3",
   "version": "3.9.2"
  }
 },
 "nbformat": 4,
 "nbformat_minor": 1
}
