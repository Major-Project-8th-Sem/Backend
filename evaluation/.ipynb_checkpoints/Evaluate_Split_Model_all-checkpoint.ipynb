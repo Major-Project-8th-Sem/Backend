{
 "cells": [
  {
   "cell_type": "code",
   "execution_count": 1,
   "metadata": {
    "id": "K77CEbncvHWN"
   },
   "outputs": [],
   "source": [
    "# All  import statements needed for the notebook\n",
    "import pandas as pd\n",
    "import numpy as np\n",
    "import matplotlib.pyplot as plt\n",
    "import seaborn as sns\n",
    "import sklearn\n",
    "from sklearn.metrics import *"
   ]
  },
  {
   "cell_type": "code",
   "execution_count": 2,
   "metadata": {
    "colab": {
     "base_uri": "https://localhost:8080/"
    },
    "id": "XJ81APP6vRhV",
    "outputId": "3f1affca-e574-407f-83e3-56e859f93af8"
   },
   "outputs": [
    {
     "data": {
      "text/plain": [
       "[PhysicalDevice(name='/physical_device:GPU:0', device_type='GPU')]"
      ]
     },
     "execution_count": 2,
     "metadata": {},
     "output_type": "execute_result"
    }
   ],
   "source": [
    "import tensorflow as tf\n",
    "tf.config.list_physical_devices('GPU')"
   ]
  },
  {
   "cell_type": "code",
   "execution_count": 3,
   "metadata": {
    "colab": {
     "base_uri": "https://localhost:8080/"
    },
    "id": "Ngbn4AoIvSls",
    "outputId": "4a0e2c4b-0b02-43dc-8009-461489d70ea4"
   },
   "outputs": [
    {
     "name": "stdout",
     "output_type": "stream",
     "text": [
      "Mounted at /content/drive\n"
     ]
    }
   ],
   "source": [
    "from google.colab import drive\n",
    "drive.mount('/content/drive')"
   ]
  },
  {
   "cell_type": "code",
   "execution_count": 4,
   "metadata": {
    "id": "0jAV-bA0vToD"
   },
   "outputs": [],
   "source": [
    "data = pd.read_csv('/content/drive/MyDrive/balanced_data.csv')"
   ]
  },
  {
   "cell_type": "code",
   "execution_count": 5,
   "metadata": {
    "id": "JuWTW394vUxn"
   },
   "outputs": [],
   "source": [
    "data.drop(data.columns[0] , inplace=True , axis=1)"
   ]
  },
  {
   "cell_type": "code",
   "execution_count": 6,
   "metadata": {
    "id": "tpsdbcOZvV53"
   },
   "outputs": [],
   "source": [
    "unknown = ['SSH-Patator','DoS slowloris','DoS Slowhttptest','Bot','Infiltration','Heartbleed']\n",
    "att = data.loc[(data['Label'].isin(unknown))]"
   ]
  },
  {
   "cell_type": "code",
   "execution_count": 7,
   "metadata": {
    "id": "iYdCQK-2vXQQ"
   },
   "outputs": [],
   "source": [
    "data.drop(att.index,axis=0 , inplace=True, errors='ignore')"
   ]
  },
  {
   "cell_type": "code",
   "execution_count": 8,
   "metadata": {
    "colab": {
     "base_uri": "https://localhost:8080/"
    },
    "id": "06Yx9IjHviRq",
    "outputId": "a8f6b48a-35c3-4509-ab59-3f19a486a448"
   },
   "outputs": [
    {
     "data": {
      "text/plain": [
       "array(['BENIGN', 'DDoS', 'DoS Hulk', 'DoS GoldenEye', 'PortScan',\n",
       "       'FTP-Patator'], dtype=object)"
      ]
     },
     "execution_count": 8,
     "metadata": {},
     "output_type": "execute_result"
    }
   ],
   "source": [
    "data.Label.unique()"
   ]
  },
  {
   "cell_type": "code",
   "execution_count": 9,
   "metadata": {
    "colab": {
     "base_uri": "https://localhost:8080/"
    },
    "id": "awVmBqttvkFQ",
    "outputId": "11500bb9-665c-48b4-b31f-37702319a34d"
   },
   "outputs": [
    {
     "data": {
      "text/plain": [
       "array(['Infiltration', 'DoS slowloris', 'DoS Slowhttptest', 'Heartbleed',\n",
       "       'Bot', 'SSH-Patator'], dtype=object)"
      ]
     },
     "execution_count": 9,
     "metadata": {},
     "output_type": "execute_result"
    }
   ],
   "source": [
    "att.Label.unique()"
   ]
  },
  {
   "cell_type": "markdown",
   "metadata": {
    "id": "RI0OnBADvrH8"
   },
   "source": [
    "## PreProcessing"
   ]
  },
  {
   "cell_type": "code",
   "execution_count": 10,
   "metadata": {
    "id": "agHIuzuuvmGz"
   },
   "outputs": [],
   "source": [
    "# importing required libraries for normalizing data\n",
    "from sklearn import preprocessing\n",
    "from sklearn.preprocessing import MinMaxScaler\n",
    "# selecting numeric attributes columns from data\n",
    "numeric_col = data.select_dtypes(include='number').columns"
   ]
  },
  {
   "cell_type": "code",
   "execution_count": 11,
   "metadata": {
    "id": "83ZVAIXsvxBT"
   },
   "outputs": [],
   "source": [
    "# using standard scaler for normalizing\n",
    "std_scaler = MinMaxScaler()\n",
    "def normalization(df,att,col):\n",
    "  for i in col:\n",
    "    arr = df[i]\n",
    "    arr = np.array(arr)\n",
    "    x = np.array(att[i])\n",
    "    df[i] = std_scaler.fit_transform(arr.reshape(len(arr),1))\n",
    "    #To use the same scaler which was used in preprocessing the train data \n",
    "    att[i] = std_scaler.transform(x.reshape(len(x),1))\n",
    "  return df,att\n",
    "# calling the normalization() function\n",
    "data , att = normalization(data.copy(),att.copy(),numeric_col)"
   ]
  },
  {
   "cell_type": "code",
   "execution_count": 12,
   "metadata": {
    "colab": {
     "base_uri": "https://localhost:8080/"
    },
    "id": "HWClqCk-v5ZF",
    "outputId": "de5f9dce-8d78-4e75-8a5e-48a4906db746"
   },
   "outputs": [
    {
     "data": {
      "text/plain": [
       "((1832348, 84), (19205, 84))"
      ]
     },
     "execution_count": 12,
     "metadata": {},
     "output_type": "execute_result"
    }
   ],
   "source": [
    "data.shape , att.shape"
   ]
  },
  {
   "cell_type": "code",
   "execution_count": 13,
   "metadata": {
    "id": "-5oNtoROv9OJ"
   },
   "outputs": [],
   "source": [
    "att.Label = 'unknown'"
   ]
  },
  {
   "cell_type": "code",
   "execution_count": 14,
   "metadata": {
    "id": "KI1UR6uAwAD0"
   },
   "outputs": [],
   "source": [
    "X = att.drop('Label' , axis=1)\n",
    "X = X.to_numpy().reshape(-1, 83,1)\n",
    "\n",
    "y = att.Label"
   ]
  },
  {
   "cell_type": "code",
   "execution_count": 15,
   "metadata": {
    "id": "u3XQ64JrwEQU"
   },
   "outputs": [],
   "source": [
    "X_train = data.drop('Label' , axis=1)\n",
    "X_train = X_train.to_numpy().reshape(-1, 83,1)\n",
    "\n",
    "y_train = data.Label"
   ]
  },
  {
   "cell_type": "markdown",
   "metadata": {
    "id": "Xyr3jIBhwa0U"
   },
   "source": [
    "# **Load Model and Predict**\n"
   ]
  },
  {
   "cell_type": "code",
   "execution_count": 16,
   "metadata": {
    "id": "3Vgy2eniwUFs"
   },
   "outputs": [],
   "source": [
    "from tensorflow import keras\n",
    "model = keras.models.load_model('/content/drive/MyDrive/models/model_split_cnn_model.hdf5')"
   ]
  },
  {
   "cell_type": "code",
   "execution_count": 17,
   "metadata": {
    "colab": {
     "base_uri": "https://localhost:8080/"
    },
    "id": "LdCALCX7wcps",
    "outputId": "a0b93f11-9b54-40e5-b2d1-ef0ee3ed3361"
   },
   "outputs": [
    {
     "name": "stdout",
     "output_type": "stream",
     "text": [
      "601/601 [==============================] - 9s 2ms/step\n",
      "57261/57261 [==============================] - 137s 2ms/step\n"
     ]
    }
   ],
   "source": [
    "predicted = model.predict(X)\n",
    "Y_train_predicted = model.predict(X_train)"
   ]
  },
  {
   "cell_type": "markdown",
   "metadata": {
    "id": "EezQlT6yw3Ec"
   },
   "source": [
    "# **Evaluation of the Model**"
   ]
  },
  {
   "cell_type": "code",
   "execution_count": 40,
   "metadata": {
    "id": "CiPLUzbLwmJm"
   },
   "outputs": [],
   "source": [
    "Threshold_values = [0.4 ,0.5 , 0.6 , 0.7 , 0.8 , 0.9 , 0.95]"
   ]
  },
  {
   "cell_type": "code",
   "execution_count": 18,
   "metadata": {
    "colab": {
     "base_uri": "https://localhost:8080/"
    },
    "id": "Vf_jktZ-xKYN",
    "outputId": "b6881d48-07cb-42f4-c4c8-b2d2447d59aa"
   },
   "outputs": [
    {
     "data": {
      "text/plain": [
       "0               BENIGN\n",
       "1               BENIGN\n",
       "2               BENIGN\n",
       "3               BENIGN\n",
       "4               BENIGN\n",
       "              ...     \n",
       "1845651    FTP-Patator\n",
       "1845652    FTP-Patator\n",
       "1845653    FTP-Patator\n",
       "1845654    FTP-Patator\n",
       "1845655    FTP-Patator\n",
       "Name: Label, Length: 1832348, dtype: object"
      ]
     },
     "execution_count": 18,
     "metadata": {},
     "output_type": "execute_result"
    }
   ],
   "source": [
    "y_train"
   ]
  },
  {
   "cell_type": "code",
   "execution_count": 21,
   "metadata": {
    "id": "essPVN_7yPwD"
   },
   "outputs": [],
   "source": [
    "mapping = y_train.unique().tolist()"
   ]
  },
  {
   "cell_type": "code",
   "execution_count": 22,
   "metadata": {
    "colab": {
     "base_uri": "https://localhost:8080/"
    },
    "id": "Sxi2Qxfox-1I",
    "outputId": "1cd57850-b489-4359-f46d-57352dc12f7c"
   },
   "outputs": [
    {
     "data": {
      "text/plain": [
       "['BENIGN', 'DDoS', 'DoS Hulk', 'DoS GoldenEye', 'PortScan', 'FTP-Patator']"
      ]
     },
     "execution_count": 22,
     "metadata": {},
     "output_type": "execute_result"
    }
   ],
   "source": [
    "mapping"
   ]
  },
  {
   "cell_type": "code",
   "execution_count": 26,
   "metadata": {
    "id": "o8G0-6yXzgGf"
   },
   "outputs": [],
   "source": [
    "my_dict = {\n",
    "    0 : 'BENIGN',\n",
    "    1 : 'DDoS',\n",
    "    2 : 'DoS Hulk',\n",
    "    3 : 'DoS GoldenEye',\n",
    "    4 : 'PortScan',\n",
    "    5 : 'FTP-Patator'\n",
    "}"
   ]
  },
  {
   "cell_type": "code",
   "execution_count": 23,
   "metadata": {
    "id": "5_vSlRvRyp8z"
   },
   "outputs": [],
   "source": [
    "max_probability = np.amax(predicted, axis = 1)\n",
    "max_probability_train = np.amax(Y_train_predicted, axis = 1)"
   ]
  },
  {
   "cell_type": "code",
   "execution_count": 24,
   "metadata": {
    "id": "Gbw-eZyDy2az"
   },
   "outputs": [],
   "source": [
    "y_prediction_index = np.argmax(Y_train_predicted, axis = 1)"
   ]
  },
  {
   "cell_type": "code",
   "execution_count": 25,
   "metadata": {
    "colab": {
     "base_uri": "https://localhost:8080/"
    },
    "id": "KfgYk69NzHN8",
    "outputId": "86e62965-3c5f-4c60-a45e-90948b945d51"
   },
   "outputs": [
    {
     "data": {
      "text/plain": [
       "array([0, 0, 0, 0, 0, 0, 0, 0, 0, 0, 0, 0, 0, 0, 0, 0, 0, 0, 0, 0, 0, 0,\n",
       "       0, 0, 0, 0, 0, 0, 0, 0, 0, 0, 0, 0, 0, 0, 0, 0, 0, 0, 0, 0, 0, 0,\n",
       "       0, 0, 0, 0, 0, 0, 0, 0, 0, 0, 0, 0, 0, 0, 0, 0, 0, 0, 0, 0, 0, 0,\n",
       "       0, 0, 0, 0, 0, 0, 0, 0, 0, 0, 0, 0, 0, 0, 0, 0, 0, 0, 0, 0, 0, 0,\n",
       "       0, 0, 0, 0, 0, 0, 0, 0, 0, 0, 0, 0])"
      ]
     },
     "execution_count": 25,
     "metadata": {},
     "output_type": "execute_result"
    }
   ],
   "source": [
    "y_prediction_index[:100]"
   ]
  },
  {
   "cell_type": "code",
   "execution_count": 28,
   "metadata": {
    "id": "jcL_43JizJX8"
   },
   "outputs": [],
   "source": [
    "y_prediction_test_label = np.vectorize(my_dict.get)(y_prediction_index)"
   ]
  },
  {
   "cell_type": "code",
   "execution_count": 31,
   "metadata": {
    "colab": {
     "base_uri": "https://localhost:8080/"
    },
    "id": "Evr_RbXZ1BOQ",
    "outputId": "7daa2e37-20d7-41d1-be46-064a1e6e23f2"
   },
   "outputs": [
    {
     "data": {
      "text/plain": [
       "((1832348,), (1832348,))"
      ]
     },
     "execution_count": 31,
     "metadata": {},
     "output_type": "execute_result"
    }
   ],
   "source": [
    "y_prediction_test_label.shape , y_train.shape"
   ]
  },
  {
   "cell_type": "code",
   "execution_count": 32,
   "metadata": {
    "colab": {
     "base_uri": "https://localhost:8080/"
    },
    "id": "0hh5Z3GB1HVg",
    "outputId": "c3a653bc-97e4-466d-8597-4a49c129b5e7"
   },
   "outputs": [
    {
     "data": {
      "text/plain": [
       "(numpy.ndarray, pandas.core.series.Series)"
      ]
     },
     "execution_count": 32,
     "metadata": {},
     "output_type": "execute_result"
    }
   ],
   "source": [
    "type(y_prediction_test_label) , type(y_train)"
   ]
  },
  {
   "cell_type": "code",
   "execution_count": 33,
   "metadata": {
    "id": "RyUZ3dnO1MWJ"
   },
   "outputs": [],
   "source": [
    "y_train = y_train.to_numpy()"
   ]
  },
  {
   "cell_type": "code",
   "execution_count": 35,
   "metadata": {
    "colab": {
     "base_uri": "https://localhost:8080/"
    },
    "id": "r2K6Yu6J1Rcp",
    "outputId": "0dd44682-6095-4868-8a8d-5be1bb786372"
   },
   "outputs": [
    {
     "data": {
      "text/plain": [
       "array([ True,  True,  True,  True,  True,  True,  True,  True,  True,\n",
       "        True])"
      ]
     },
     "execution_count": 35,
     "metadata": {},
     "output_type": "execute_result"
    }
   ],
   "source": [
    "y_train[:10] == y_prediction_test_label[:10]"
   ]
  },
  {
   "cell_type": "code",
   "execution_count": 36,
   "metadata": {
    "id": "tymq_fZB1eqP"
   },
   "outputs": [],
   "source": [
    "RIGHT_BOOLEAN = y_train == y_prediction_test_label"
   ]
  },
  {
   "cell_type": "code",
   "execution_count": 37,
   "metadata": {
    "colab": {
     "base_uri": "https://localhost:8080/"
    },
    "id": "nnCoIPDI1pVH",
    "outputId": "aabf84ed-eaab-4be3-c200-87aa9f418b55"
   },
   "outputs": [
    {
     "data": {
      "text/plain": [
       "(1832348,)"
      ]
     },
     "execution_count": 37,
     "metadata": {},
     "output_type": "execute_result"
    }
   ],
   "source": [
    "RIGHT_BOOLEAN.shape"
   ]
  },
  {
   "cell_type": "code",
   "execution_count": 30,
   "metadata": {
    "id": "JRSpLNTJ0H5Q"
   },
   "outputs": [],
   "source": [
    "TOTAL = data.shape[0]+att.shape[0]"
   ]
  },
  {
   "cell_type": "code",
   "execution_count": 41,
   "metadata": {
    "colab": {
     "base_uri": "https://localhost:8080/"
    },
    "id": "hGV1aDGMz2-2",
    "outputId": "817314ee-ad5c-4b77-f548-be30c75290a8"
   },
   "outputs": [
    {
     "name": "stdout",
     "output_type": "stream",
     "text": [
      "USING THRESHOLD VALUE  0.4\n",
      "Accuracy is  0.7702890492467674\n",
      "USING THRESHOLD VALUE  0.5\n",
      "Accuracy is  0.7702647453246004\n",
      "USING THRESHOLD VALUE  0.6\n",
      "Accuracy is  0.7704246111237432\n",
      "USING THRESHOLD VALUE  0.7\n",
      "Accuracy is  0.7716176636585612\n",
      "USING THRESHOLD VALUE  0.8\n",
      "Accuracy is  0.7723375998418625\n",
      "USING THRESHOLD VALUE  0.9\n",
      "Accuracy is  0.772613044293088\n",
      "USING THRESHOLD VALUE  0.95\n",
      "Accuracy is  0.7729430375473993\n"
     ]
    }
   ],
   "source": [
    "for threshold in Threshold_values:\n",
    "  #for each threshold value we will check out the accuracy of the model\n",
    "  print('USING THRESHOLD VALUE ',threshold)\n",
    "  ## Checking in UNKNOWN SET\n",
    "  truepredicted = (max_probability < threshold).sum()\n",
    "  \n",
    "  ## Checking in train data now...\n",
    "  truepredicted += np.logical_and(max_probability_train > threshold , RIGHT_BOOLEAN).sum()\n",
    "\n",
    "\n",
    "  Accuracy = truepredicted/TOTAL\n",
    "  print('Accuracy is ',Accuracy)"
   ]
  },
  {
   "cell_type": "code",
   "execution_count": null,
   "metadata": {
    "id": "GXp140XO109t"
   },
   "outputs": [],
   "source": []
  }
 ],
 "metadata": {
  "accelerator": "GPU",
  "colab": {
   "provenance": []
  },
  "gpuClass": "standard",
  "kernelspec": {
   "display_name": "Python 3",
   "language": "python",
   "name": "python3"
  },
  "language_info": {
   "codemirror_mode": {
    "name": "ipython",
    "version": 3
   },
   "file_extension": ".py",
   "mimetype": "text/x-python",
   "name": "python",
   "nbconvert_exporter": "python",
   "pygments_lexer": "ipython3",
   "version": "3.9.2"
  }
 },
 "nbformat": 4,
 "nbformat_minor": 1
}
