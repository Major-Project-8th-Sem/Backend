{
 "cells": [
  {
   "cell_type": "code",
   "execution_count": 4,
   "metadata": {
    "id": "CJngdbtMbe1j"
   },
   "outputs": [],
   "source": [
    "# All  import statements needed for the notebook\n",
    "import pandas as pd\n",
    "import numpy as np\n",
    "import matplotlib.pyplot as plt\n",
    "import seaborn as sns\n",
    "import sklearn\n",
    "from sklearn.metrics import *"
   ]
  },
  {
   "cell_type": "code",
   "execution_count": 5,
   "metadata": {
    "colab": {
     "base_uri": "https://localhost:8080/"
    },
    "id": "wxfkZ5mhcNwp",
    "outputId": "f1c13e37-c3b9-4b25-b6ef-0e37a2780a74"
   },
   "outputs": [
    {
     "data": {
      "text/plain": [
       "[PhysicalDevice(name='/physical_device:GPU:0', device_type='GPU')]"
      ]
     },
     "execution_count": 5,
     "metadata": {},
     "output_type": "execute_result"
    }
   ],
   "source": [
    "import tensorflow as tf\n",
    "tf.config.list_physical_devices('GPU')"
   ]
  },
  {
   "cell_type": "code",
   "execution_count": 6,
   "metadata": {
    "colab": {
     "base_uri": "https://localhost:8080/"
    },
    "id": "gBhZZZBrcPHe",
    "outputId": "60925d6d-2534-44d0-b91e-cf5567549d91"
   },
   "outputs": [
    {
     "name": "stdout",
     "output_type": "stream",
     "text": [
      "Mounted at /content/drive\n"
     ]
    }
   ],
   "source": [
    "from google.colab import drive\n",
    "drive.mount('/content/drive')"
   ]
  },
  {
   "cell_type": "code",
   "execution_count": 7,
   "metadata": {
    "id": "ooPrLvdxcQTX"
   },
   "outputs": [],
   "source": [
    "data = pd.read_csv('/content/drive/MyDrive/balanced_data.csv')"
   ]
  },
  {
   "cell_type": "code",
   "execution_count": 8,
   "metadata": {
    "id": "c17H6hOUcTYa"
   },
   "outputs": [],
   "source": [
    "data.drop(data.columns[0] , inplace=True , axis=1)"
   ]
  },
  {
   "cell_type": "code",
   "execution_count": 9,
   "metadata": {
    "id": "E_xtxLV_cUv1"
   },
   "outputs": [],
   "source": [
    "unknown = ['SSH-Patator','DoS slowloris','DoS Slowhttptest','Bot','Infiltration','Heartbleed']\n",
    "att = data.loc[(data['Label'].isin(unknown))]"
   ]
  },
  {
   "cell_type": "code",
   "execution_count": 10,
   "metadata": {
    "id": "91btTB1NcYzy"
   },
   "outputs": [],
   "source": [
    "data.drop(att.index,axis=0 , inplace=True, errors='ignore')"
   ]
  },
  {
   "cell_type": "code",
   "execution_count": 11,
   "metadata": {
    "id": "uBQx-alxcZ7a"
   },
   "outputs": [],
   "source": [
    "# importing required libraries for normalizing data\n",
    "from sklearn import preprocessing\n",
    "from sklearn.preprocessing import MinMaxScaler\n",
    "# selecting numeric attributes columns from data\n",
    "numeric_col = data.select_dtypes(include='number').columns\n",
    "# using standard scaler for normalizing\n",
    "std_scaler = MinMaxScaler()\n",
    "def normalization(df,att,col):\n",
    "  for i in col:\n",
    "    arr = df[i]\n",
    "    arr = np.array(arr)\n",
    "    x = np.array(att[i])\n",
    "    df[i] = std_scaler.fit_transform(arr.reshape(len(arr),1))\n",
    "    #To use the same scaler which was used in preprocessing the train data \n",
    "    att[i] = std_scaler.transform(x.reshape(len(x),1))\n",
    "  return df,att\n",
    "# calling the normalization() function\n",
    "data , att = normalization(data.copy(),att.copy(),numeric_col)"
   ]
  },
  {
   "cell_type": "code",
   "execution_count": 12,
   "metadata": {
    "id": "F31mm0NbceL0"
   },
   "outputs": [],
   "source": [
    "att.Label = 'unknown'\n",
    "X = att.drop('Label' , axis=1)\n",
    "X = X.to_numpy().reshape(-1, 83,1)\n",
    "\n",
    "y = att.Label\n",
    "X_train = data.drop('Label' , axis=1)\n",
    "X_train = X_train.to_numpy().reshape(-1, 83,1)\n",
    "\n",
    "y_train = data.Label"
   ]
  },
  {
   "cell_type": "code",
   "execution_count": 13,
   "metadata": {
    "id": "XQ_u4WqYcoBc"
   },
   "outputs": [],
   "source": [
    "from tensorflow import keras\n",
    "model = keras.models.load_model('/content/drive/MyDrive/models/model_split_softmax_cnn_model.hdf5')"
   ]
  },
  {
   "cell_type": "code",
   "execution_count": 14,
   "metadata": {
    "colab": {
     "base_uri": "https://localhost:8080/"
    },
    "id": "k9nNuyy1cp47",
    "outputId": "26500e80-b03c-477f-eac5-5b421fdc1ce6"
   },
   "outputs": [
    {
     "name": "stdout",
     "output_type": "stream",
     "text": [
      "601/601 [==============================] - 8s 2ms/step\n",
      "57261/57261 [==============================] - 134s 2ms/step\n"
     ]
    }
   ],
   "source": [
    "predicted = model.predict(X)\n",
    "Y_train_predicted = model.predict(X_train)"
   ]
  },
  {
   "cell_type": "code",
   "execution_count": 15,
   "metadata": {
    "id": "O9T9hqskcts8"
   },
   "outputs": [],
   "source": [
    "Threshold_values = [0.4 ,0.5 , 0.6 , 0.7 , 0.8 , 0.9 , 0.95]"
   ]
  },
  {
   "cell_type": "code",
   "execution_count": 16,
   "metadata": {
    "id": "rzd9F5ZmcvKs"
   },
   "outputs": [],
   "source": [
    "my_dict = {\n",
    "    0 : 'BENIGN',\n",
    "    1 : 'DDoS',\n",
    "    2 : 'DoS Hulk',\n",
    "    3 : 'DoS GoldenEye',\n",
    "    4 : 'PortScan',\n",
    "    5 : 'FTP-Patator'\n",
    "}\n",
    "max_probability = np.amax(predicted, axis = 1)\n",
    "max_probability_train = np.amax(Y_train_predicted, axis = 1)\n",
    "y_prediction_index = np.argmax(Y_train_predicted, axis = 1)\n",
    "y_prediction_test_label = np.vectorize(my_dict.get)(y_prediction_index)"
   ]
  },
  {
   "cell_type": "code",
   "execution_count": 40,
   "metadata": {
    "id": "UPffs27Zc_Qa"
   },
   "outputs": [],
   "source": [
    "RIGHT_BOOLEAN = y_train == y_prediction_test_label"
   ]
  },
  {
   "cell_type": "code",
   "execution_count": 19,
   "metadata": {
    "colab": {
     "base_uri": "https://localhost:8080/"
    },
    "id": "yqzW_TDGelbD",
    "outputId": "28d0f9cb-9682-4d2c-80c2-a680cda956ee"
   },
   "outputs": [
    {
     "data": {
      "text/plain": [
       "(1832348,)"
      ]
     },
     "execution_count": 19,
     "metadata": {},
     "output_type": "execute_result"
    }
   ],
   "source": [
    "RIGHT_BOOLEAN.shape"
   ]
  },
  {
   "cell_type": "code",
   "execution_count": 20,
   "metadata": {
    "colab": {
     "base_uri": "https://localhost:8080/"
    },
    "id": "tMr_9Eu9ep4p",
    "outputId": "61e84854-bdcc-4ce8-f7f5-457fab1c1f40"
   },
   "outputs": [
    {
     "data": {
      "text/plain": [
       "(1832348, 84)"
      ]
     },
     "execution_count": 20,
     "metadata": {},
     "output_type": "execute_result"
    }
   ],
   "source": [
    "data.shape"
   ]
  },
  {
   "cell_type": "code",
   "execution_count": 21,
   "metadata": {
    "colab": {
     "base_uri": "https://localhost:8080/"
    },
    "id": "gfXNpx6KgYyi",
    "outputId": "e1fa3dfd-4d52-4fe5-c88c-b13ad8379de9"
   },
   "outputs": [
    {
     "data": {
      "text/plain": [
       "(1832348,)"
      ]
     },
     "execution_count": 21,
     "metadata": {},
     "output_type": "execute_result"
    }
   ],
   "source": [
    "max_probability_train.shape"
   ]
  },
  {
   "cell_type": "code",
   "execution_count": 22,
   "metadata": {
    "colab": {
     "base_uri": "https://localhost:8080/"
    },
    "id": "avguNBn9gaq6",
    "outputId": "193be09f-3ff2-4ceb-a6ac-fe08b1cb2235"
   },
   "outputs": [
    {
     "data": {
      "text/plain": [
       "numpy.ndarray"
      ]
     },
     "execution_count": 22,
     "metadata": {},
     "output_type": "execute_result"
    }
   ],
   "source": [
    "type(max_probability_train)"
   ]
  },
  {
   "cell_type": "code",
   "execution_count": null,
   "metadata": {
    "id": "sOA1yznmi-28"
   },
   "outputs": [],
   "source": [
    "def f(x,t):\n",
    "  pass"
   ]
  },
  {
   "cell_type": "code",
   "execution_count": 42,
   "metadata": {
    "colab": {
     "base_uri": "https://localhost:8080/"
    },
    "id": "Wh5vLS1JdQVu",
    "outputId": "71901ff1-4c5a-450e-dbef-381688096f94"
   },
   "outputs": [
    {
     "name": "stdout",
     "output_type": "stream",
     "text": [
      "USING THRESHOLD VALUE  0.4\n",
      "Accuracy is  0.7765244374976805\n",
      "USING THRESHOLD VALUE  0.5\n",
      "Accuracy is  0.7764982416003947\n",
      "USING THRESHOLD VALUE  0.6\n",
      "Accuracy is  0.7764480327972634\n",
      "USING THRESHOLD VALUE  0.7\n",
      "Accuracy is  0.7763519811738818\n",
      "USING THRESHOLD VALUE  0.8\n",
      "Accuracy is  0.7762832169435063\n",
      "USING THRESHOLD VALUE  0.9\n",
      "Accuracy is  0.7760660092951776\n",
      "USING THRESHOLD VALUE  0.95\n",
      "Accuracy is  0.7759328468173077\n"
     ]
    }
   ],
   "source": [
    "TOTAL = data.shape[0]\n",
    "## ONLY TRAIN TEST WITHOUT UNKNOWN\n",
    "for threshold in Threshold_values:\n",
    "  #for each threshold value we will check out the accuracy of the model\n",
    "  print('USING THRESHOLD VALUE ',threshold)\n",
    "  ## Checking in train data now...\n",
    "  truepredicted = np.logical_and(max_probability_train > threshold , RIGHT_BOOLEAN).sum()\n",
    "\n",
    "  Accuracy = truepredicted/TOTAL\n",
    "  print('Accuracy is ',Accuracy)"
   ]
  },
  {
   "cell_type": "code",
   "execution_count": 41,
   "metadata": {
    "colab": {
     "base_uri": "https://localhost:8080/"
    },
    "id": "8OA9tTO4locU",
    "outputId": "c90c7510-acfd-46c4-84dd-24ad84cf09dc"
   },
   "outputs": [
    {
     "name": "stdout",
     "output_type": "stream",
     "text": [
      "USING THRESHOLD VALUE  0.4\n",
      "Accuracy is  0.7688988648988174\n",
      "USING THRESHOLD VALUE  0.5\n",
      "Accuracy is  0.7693071707912222\n",
      "USING THRESHOLD VALUE  0.6\n",
      "Accuracy is  0.7693071707912222\n",
      "USING THRESHOLD VALUE  0.7\n",
      "Accuracy is  0.7693001496581519\n",
      "USING THRESHOLD VALUE  0.8\n",
      "Accuracy is  0.7707708069928325\n",
      "USING THRESHOLD VALUE  0.9\n",
      "Accuracy is  0.7708258958830776\n",
      "USING THRESHOLD VALUE  0.95\n",
      "Accuracy is  0.7707659462083991\n"
     ]
    }
   ],
   "source": [
    "TOTAL = data.shape[0]+att.shape[0]\n",
    "## WITH BOTH TRAIN TEST && UNKNOWN SET\n",
    "for threshold in Threshold_values:\n",
    "  #for each threshold value we will check out the accuracy of the model\n",
    "  print('USING THRESHOLD VALUE ',threshold)\n",
    "  ## Checking in UNKNOWN SET\n",
    "  truepredicted = (max_probability < threshold).sum()\n",
    "  \n",
    "  ## Checking in train data now...\n",
    "  truepredicted += np.logical_and(max_probability_train > threshold , RIGHT_BOOLEAN).sum()\n",
    "\n",
    "\n",
    "  Accuracy = truepredicted/TOTAL\n",
    "  print('Accuracy is ',Accuracy)"
   ]
  },
  {
   "cell_type": "code",
   "execution_count": 45,
   "metadata": {
    "colab": {
     "base_uri": "https://localhost:8080/"
    },
    "id": "nmsONSaMl8p8",
    "outputId": "17e51c7e-097c-4a81-ae91-1d82a8805d53"
   },
   "outputs": [
    {
     "name": "stdout",
     "output_type": "stream",
     "text": [
      "USING THRESHOLD VALUE  0.4\n",
      "Accuracy is  0.04134340015620932\n",
      "USING THRESHOLD VALUE  0.5\n",
      "Accuracy is  0.08320749804738349\n",
      "USING THRESHOLD VALUE  0.6\n",
      "Accuracy is  0.08799791720906014\n",
      "USING THRESHOLD VALUE  0.7\n",
      "Accuracy is  0.09648529028898724\n",
      "USING THRESHOLD VALUE  0.8\n",
      "Accuracy is  0.24483207498047382\n",
      "USING THRESHOLD VALUE  0.9\n",
      "Accuracy is  0.2708669617287165\n",
      "USING THRESHOLD VALUE  0.95\n",
      "Accuracy is  0.27779224160374905\n"
     ]
    }
   ],
   "source": [
    "TOTAL = att.shape[0]\n",
    "## WITH UNKNOWN SET ONLY\n",
    "for threshold in Threshold_values:\n",
    "  #for each threshold value we will check out the accuracy of the model\n",
    "  print('USING THRESHOLD VALUE ',threshold)\n",
    "  ## Checking in UNKNOWN SET\n",
    "  truepredicted = (max_probability < threshold).sum()\n",
    "  \n",
    "  ## Checking in train data now...\n",
    "  #truepredicted = np.logical_and(max_probability_train > threshold , RIGHT_BOOLEAN).sum()\n",
    "\n",
    "\n",
    "  Accuracy = truepredicted/TOTAL\n",
    "  print('Accuracy is ',Accuracy)"
   ]
  },
  {
   "cell_type": "code",
   "execution_count": null,
   "metadata": {
    "id": "Bo2jOk3rmj6m"
   },
   "outputs": [],
   "source": []
  }
 ],
 "metadata": {
  "accelerator": "GPU",
  "colab": {
   "provenance": []
  },
  "gpuClass": "standard",
  "kernelspec": {
   "display_name": "Python 3",
   "language": "python",
   "name": "python3"
  },
  "language_info": {
   "codemirror_mode": {
    "name": "ipython",
    "version": 3
   },
   "file_extension": ".py",
   "mimetype": "text/x-python",
   "name": "python",
   "nbconvert_exporter": "python",
   "pygments_lexer": "ipython3",
   "version": "3.9.2"
  }
 },
 "nbformat": 4,
 "nbformat_minor": 1
}
