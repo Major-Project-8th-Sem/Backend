{
  "nbformat": 4,
  "nbformat_minor": 0,
  "metadata": {
    "colab": {
      "provenance": []
    },
    "kernelspec": {
      "name": "python3",
      "display_name": "Python 3"
    },
    "language_info": {
      "name": "python"
    },
    "accelerator": "GPU",
    "gpuClass": "standard"
  },
  "cells": [
    {
      "cell_type": "code",
      "execution_count": 1,
      "metadata": {
        "id": "tK47d9E8UgnP"
      },
      "outputs": [],
      "source": [
        "# All  import statements needed for the notebook\n",
        "import pandas as pd\n",
        "import numpy as np\n",
        "import matplotlib.pyplot as plt\n",
        "import seaborn as sns\n",
        "import sklearn\n",
        "from sklearn.metrics import *"
      ]
    },
    {
      "cell_type": "code",
      "source": [
        "from google.colab import drive\n",
        "drive.mount('/content/drive')"
      ],
      "metadata": {
        "colab": {
          "base_uri": "https://localhost:8080/"
        },
        "id": "kxWTL3lxUsmD",
        "outputId": "89ddacf4-2f51-4483-ff35-a45f4528e5ad"
      },
      "execution_count": 2,
      "outputs": [
        {
          "output_type": "stream",
          "name": "stdout",
          "text": [
            "Mounted at /content/drive\n"
          ]
        }
      ]
    },
    {
      "cell_type": "code",
      "source": [
        "df = pd.read_csv('/content/drive/MyDrive/unknown_labelled_data.csv')"
      ],
      "metadata": {
        "id": "yDtKfDatYDEN"
      },
      "execution_count": 3,
      "outputs": []
    },
    {
      "cell_type": "code",
      "source": [
        "df.drop(df.columns[0] , inplace=True , axis=1)"
      ],
      "metadata": {
        "id": "37JpTAX0YGd2"
      },
      "execution_count": 4,
      "outputs": []
    },
    {
      "cell_type": "code",
      "source": [
        "LabelColumns = ['Label_BENIGN', 'Label_DDoS','Label_DoS Hulk', 'Label_PortScan', 'Label_Unknown']\n",
        "y = df[LabelColumns]"
      ],
      "metadata": {
        "id": "si1V55N9Y1o5"
      },
      "execution_count": 5,
      "outputs": []
    },
    {
      "cell_type": "code",
      "source": [
        "X = df.drop(LabelColumns , axis=1)"
      ],
      "metadata": {
        "id": "v1foMewzY5lQ"
      },
      "execution_count": 6,
      "outputs": []
    },
    {
      "cell_type": "code",
      "source": [
        "X = X.to_numpy().reshape(-1, 83,1)"
      ],
      "metadata": {
        "id": "2XG3eZObY-FC"
      },
      "execution_count": 7,
      "outputs": []
    },
    {
      "cell_type": "code",
      "source": [
        "X.shape , y.shape"
      ],
      "metadata": {
        "colab": {
          "base_uri": "https://localhost:8080/"
        },
        "id": "seIcxIdtZUkP",
        "outputId": "fb288e2b-52fb-425c-fb43-ffd1d14c81f0"
      },
      "execution_count": 8,
      "outputs": [
        {
          "output_type": "execute_result",
          "data": {
            "text/plain": [
              "((1851553, 83, 1), (1851553, 5))"
            ]
          },
          "metadata": {},
          "execution_count": 8
        }
      ]
    },
    {
      "cell_type": "code",
      "source": [
        "from tensorflow import keras\n",
        "model = keras.models.load_model('/content/drive/MyDrive/models/unknown_labelled_cnn.hdf5')"
      ],
      "metadata": {
        "id": "zYWpaUa2ZVJH"
      },
      "execution_count": 9,
      "outputs": []
    },
    {
      "cell_type": "code",
      "source": [
        "type(model)"
      ],
      "metadata": {
        "colab": {
          "base_uri": "https://localhost:8080/"
        },
        "id": "FPdI9lz5Zh5X",
        "outputId": "629d594a-3f4c-45b0-a7b6-f0cd88cbdbf7"
      },
      "execution_count": 10,
      "outputs": [
        {
          "output_type": "execute_result",
          "data": {
            "text/plain": [
              "keras.engine.sequential.Sequential"
            ]
          },
          "metadata": {},
          "execution_count": 10
        }
      ]
    },
    {
      "cell_type": "code",
      "source": [
        "predicted = model.predict(X)\n",
        "predicted"
      ],
      "metadata": {
        "colab": {
          "base_uri": "https://localhost:8080/"
        },
        "id": "jJL1DJtrZoYJ",
        "outputId": "f7a9d811-9594-4f26-d97f-88dbfbdb8dc8"
      },
      "execution_count": 11,
      "outputs": [
        {
          "output_type": "stream",
          "name": "stdout",
          "text": [
            "57862/57862 [==============================] - 165s 3ms/step\n"
          ]
        },
        {
          "output_type": "execute_result",
          "data": {
            "text/plain": [
              "array([[1.0000000e+00, 0.0000000e+00, 0.0000000e+00, 0.0000000e+00,\n",
              "        0.0000000e+00],\n",
              "       [1.0000000e+00, 0.0000000e+00, 0.0000000e+00, 0.0000000e+00,\n",
              "        0.0000000e+00],\n",
              "       [1.0000000e+00, 0.0000000e+00, 0.0000000e+00, 0.0000000e+00,\n",
              "        0.0000000e+00],\n",
              "       ...,\n",
              "       [1.5570162e-16, 0.0000000e+00, 0.0000000e+00, 0.0000000e+00,\n",
              "        1.0000000e+00],\n",
              "       [7.5957640e-17, 0.0000000e+00, 0.0000000e+00, 0.0000000e+00,\n",
              "        1.0000000e+00],\n",
              "       [1.4564677e-16, 0.0000000e+00, 0.0000000e+00, 0.0000000e+00,\n",
              "        1.0000000e+00]], dtype=float32)"
            ]
          },
          "metadata": {},
          "execution_count": 11
        }
      ]
    },
    {
      "cell_type": "code",
      "source": [
        "predicted.shape , y.shape"
      ],
      "metadata": {
        "colab": {
          "base_uri": "https://localhost:8080/"
        },
        "id": "FRPU6w3XZp92",
        "outputId": "fd761406-4fb4-438f-ba93-92e62ac2db1a"
      },
      "execution_count": 12,
      "outputs": [
        {
          "output_type": "execute_result",
          "data": {
            "text/plain": [
              "((1851553, 5), (1851553, 5))"
            ]
          },
          "metadata": {},
          "execution_count": 12
        }
      ]
    },
    {
      "cell_type": "code",
      "source": [
        "cols = y.columns"
      ],
      "metadata": {
        "id": "t6bMN_qYZ9j-"
      },
      "execution_count": 13,
      "outputs": []
    },
    {
      "cell_type": "code",
      "source": [
        "type(y) , type(predicted)"
      ],
      "metadata": {
        "colab": {
          "base_uri": "https://localhost:8080/"
        },
        "id": "IuJ1JJbzZ0uM",
        "outputId": "787c42ff-c21d-4513-9f25-1f17b5686c6c"
      },
      "execution_count": 17,
      "outputs": [
        {
          "output_type": "execute_result",
          "data": {
            "text/plain": [
              "(numpy.ndarray, numpy.ndarray)"
            ]
          },
          "metadata": {},
          "execution_count": 17
        }
      ]
    },
    {
      "cell_type": "code",
      "source": [
        "cols"
      ],
      "metadata": {
        "colab": {
          "base_uri": "https://localhost:8080/"
        },
        "id": "PtN-NofdawJe",
        "outputId": "e8e1b954-9e80-4210-e10d-bae8d6d1ae13"
      },
      "execution_count": 15,
      "outputs": [
        {
          "output_type": "execute_result",
          "data": {
            "text/plain": [
              "Index(['Label_BENIGN', 'Label_DDoS', 'Label_DoS Hulk', 'Label_PortScan',\n",
              "       'Label_Unknown'],\n",
              "      dtype='object')"
            ]
          },
          "metadata": {},
          "execution_count": 15
        }
      ]
    },
    {
      "cell_type": "code",
      "source": [
        "y = y.to_numpy()"
      ],
      "metadata": {
        "id": "iguCL4iVaFs-"
      },
      "execution_count": 16,
      "outputs": []
    },
    {
      "cell_type": "markdown",
      "source": [
        "## **Metrics of the Model**"
      ],
      "metadata": {
        "id": "R4t4Yv2iaJWI"
      }
    },
    {
      "cell_type": "code",
      "source": [
        "#pred_test= model.predict(X)\n",
        "scores2 = model.evaluate(X, y, verbose=1)\n",
        "print('Accuracy on test data: {}% \\n Error on test data: {}'.format(scores2[1], 1 - scores2[1]))    "
      ],
      "metadata": {
        "colab": {
          "base_uri": "https://localhost:8080/"
        },
        "id": "O1oz7-z5aGS_",
        "outputId": "e86b6ca6-012e-42f7-c322-34a82372e1cc"
      },
      "execution_count": 18,
      "outputs": [
        {
          "output_type": "stream",
          "name": "stdout",
          "text": [
            "57862/57862 [==============================] - 224s 4ms/step - loss: 0.0017 - accuracy: 0.9995\n",
            "Accuracy on test data: 0.9995204210281372% \n",
            " Error on test data: 0.00047957897186279297\n"
          ]
        }
      ]
    },
    {
      "cell_type": "code",
      "source": [
        "model.get_metrics_result()"
      ],
      "metadata": {
        "colab": {
          "base_uri": "https://localhost:8080/"
        },
        "id": "we_vLjF8aTeW",
        "outputId": "2cac2d85-a389-42f9-87a9-000b3af98a5a"
      },
      "execution_count": 19,
      "outputs": [
        {
          "output_type": "execute_result",
          "data": {
            "text/plain": [
              "{'loss': <tf.Tensor: shape=(), dtype=float32, numpy=0.0017256795>,\n",
              " 'accuracy': <tf.Tensor: shape=(), dtype=float32, numpy=0.9995204>}"
            ]
          },
          "metadata": {},
          "execution_count": 19
        }
      ]
    },
    {
      "cell_type": "code",
      "source": [
        "predicted[0]"
      ],
      "metadata": {
        "colab": {
          "base_uri": "https://localhost:8080/"
        },
        "id": "wzUitWjUaVCQ",
        "outputId": "13fde03e-552b-418d-8998-8aa3320bcf3b"
      },
      "execution_count": 20,
      "outputs": [
        {
          "output_type": "execute_result",
          "data": {
            "text/plain": [
              "array([1., 0., 0., 0., 0.], dtype=float32)"
            ]
          },
          "metadata": {},
          "execution_count": 20
        }
      ]
    },
    {
      "cell_type": "code",
      "source": [
        "y_prediction = np.argmax (predicted, axis = 1)"
      ],
      "metadata": {
        "id": "J2l8lTkpa-vG"
      },
      "execution_count": 21,
      "outputs": []
    },
    {
      "cell_type": "code",
      "source": [
        "y_test=np.argmax(y , axis=1)"
      ],
      "metadata": {
        "id": "Q616WMWVbAXe"
      },
      "execution_count": 22,
      "outputs": []
    },
    {
      "cell_type": "code",
      "source": [
        "# Importing all necessary libraries\n",
        "from sklearn.metrics import accuracy_score\n",
        "# Calculating the accuracy of classifier\n",
        "print(f\"Accuracy of the classifier is: {accuracy_score(y_test, y_prediction)}\")"
      ],
      "metadata": {
        "colab": {
          "base_uri": "https://localhost:8080/"
        },
        "id": "mpvxGz7obB53",
        "outputId": "9376a151-2ecc-4a59-9f74-b4198ac41e62"
      },
      "execution_count": 23,
      "outputs": [
        {
          "output_type": "stream",
          "name": "stdout",
          "text": [
            "Accuracy of the classifier is: 0.999520402602572\n"
          ]
        }
      ]
    },
    {
      "cell_type": "code",
      "source": [
        "# Importing all necessary libraries\n",
        "from sklearn.metrics import precision_score\n",
        "\n",
        "# Calculating the precision score of classifier\n",
        "print(f\"Precision Score of the classifier is: {precision_score(y_test, y_prediction,pos_label='positive',average='micro')}\")"
      ],
      "metadata": {
        "colab": {
          "base_uri": "https://localhost:8080/"
        },
        "id": "WYdg4cUlbDqr",
        "outputId": "445818b7-585c-4a29-9438-7a881c651888"
      },
      "execution_count": 24,
      "outputs": [
        {
          "output_type": "stream",
          "name": "stderr",
          "text": [
            "/usr/local/lib/python3.8/dist-packages/sklearn/metrics/_classification.py:1370: UserWarning: Note that pos_label (set to 'positive') is ignored when average != 'binary' (got 'micro'). You may use labels=[pos_label] to specify a single positive class.\n",
            "  warnings.warn(\n"
          ]
        },
        {
          "output_type": "stream",
          "name": "stdout",
          "text": [
            "Precision Score of the classifier is: 0.999520402602572\n"
          ]
        }
      ]
    },
    {
      "cell_type": "code",
      "source": [
        "# Importing all necessary libraries\n",
        "from sklearn.metrics import recall_score\n",
        "\n",
        "# Calculating the recall score of classifier\n",
        "print(f\"Recall Score of the classifier is: {recall_score(y_test, y_prediction,pos_label='positive',average='micro')}\")"
      ],
      "metadata": {
        "colab": {
          "base_uri": "https://localhost:8080/"
        },
        "id": "0Teroxm7bE-p",
        "outputId": "984032f9-a7f1-4ce9-dd52-dd688d41ec0f"
      },
      "execution_count": 25,
      "outputs": [
        {
          "output_type": "stream",
          "name": "stderr",
          "text": [
            "/usr/local/lib/python3.8/dist-packages/sklearn/metrics/_classification.py:1370: UserWarning: Note that pos_label (set to 'positive') is ignored when average != 'binary' (got 'micro'). You may use labels=[pos_label] to specify a single positive class.\n",
            "  warnings.warn(\n"
          ]
        },
        {
          "output_type": "stream",
          "name": "stdout",
          "text": [
            "Recall Score of the classifier is: 0.999520402602572\n"
          ]
        }
      ]
    },
    {
      "cell_type": "code",
      "source": [
        "# Importing all necessary libraries\n",
        "from sklearn.metrics import f1_score\n",
        "\n",
        "# Calculating the F1 score of classifier\n",
        "print(f\"F1 Score of the classifier is: {f1_score(y_test, y_prediction,pos_label='positive',average='micro')}\")"
      ],
      "metadata": {
        "colab": {
          "base_uri": "https://localhost:8080/"
        },
        "id": "875zwXm2bGhl",
        "outputId": "4596d41a-5646-4459-ae82-9b8f26e74602"
      },
      "execution_count": 26,
      "outputs": [
        {
          "output_type": "stream",
          "name": "stderr",
          "text": [
            "/usr/local/lib/python3.8/dist-packages/sklearn/metrics/_classification.py:1370: UserWarning: Note that pos_label (set to 'positive') is ignored when average != 'binary' (got 'micro'). You may use labels=[pos_label] to specify a single positive class.\n",
            "  warnings.warn(\n"
          ]
        },
        {
          "output_type": "stream",
          "name": "stdout",
          "text": [
            "F1 Score of the classifier is: 0.999520402602572\n"
          ]
        }
      ]
    },
    {
      "cell_type": "code",
      "source": [
        "# Importing all necessary libraries\n",
        "from sklearn.metrics import roc_curve, auc\n",
        "\n",
        "fpr, tpr, threshold = roc_curve(y_test, y_prediction, pos_label=1)\n",
        "roc_auc = auc(fpr, tpr)\n",
        "\n",
        "# Printing AUC\n",
        "print(f\"AUC for our classifier is: {roc_auc}\")\n",
        "\n",
        "# Plotting the ROC\n",
        "plt.title('Receiver Operating Characteristic')\n",
        "plt.plot(fpr, tpr, 'b', label = 'AUC = %0.2f' % roc_auc)\n",
        "plt.legend(loc = 'lower right')\n",
        "plt.plot([0, 1], [0, 1],'r--')\n",
        "plt.xlim([0, 1])\n",
        "plt.ylim([0, 1])\n",
        "plt.ylabel('True Positive Rate')\n",
        "plt.xlabel('False Positive Rate')\n",
        "plt.show()\n",
        "\n",
        "### ROC _ CURVE IS NOT SUPPORTED FOR MULTICLASS LABELS :_("
      ],
      "metadata": {
        "colab": {
          "base_uri": "https://localhost:8080/",
          "height": 313
        },
        "id": "VxeaMN_ubH9f",
        "outputId": "a3bba913-ca19-4108-e7f5-03b30195ae0c"
      },
      "execution_count": 27,
      "outputs": [
        {
          "output_type": "stream",
          "name": "stdout",
          "text": [
            "AUC for our classifier is: 0.7518345126052881\n"
          ]
        },
        {
          "output_type": "display_data",
          "data": {
            "text/plain": [
              "<Figure size 432x288 with 1 Axes>"
            ],
            "image/png": "[encoded data removed]"
          },
          "metadata": {
            "needs_background": "light"
          }
        }
      ]
    },
    {
      "cell_type": "code",
      "source": [
        "#generating a report to extract the measure of interest using built-in sklearn function\n",
        "report = classification_report(y_test, y_prediction,digits=3,output_dict = True)\n",
        "report"
      ],
      "metadata": {
        "colab": {
          "base_uri": "https://localhost:8080/"
        },
        "id": "ukcTmvoabJle",
        "outputId": "18ede741-0952-410e-cba0-6fc5ca02035d"
      },
      "execution_count": 28,
      "outputs": [
        {
          "output_type": "execute_result",
          "data": {
            "text/plain": [
              "{'0': {'precision': 0.9997978196937508,\n",
              "  'recall': 0.9996327407033633,\n",
              "  'f1-score': 0.9997152733838485,\n",
              "  'support': 1296087},\n",
              " '1': {'precision': 1.0,\n",
              "  'recall': 0.9999140806236184,\n",
              "  'f1-score': 0.9999570384661951,\n",
              "  'support': 128027},\n",
              " '2': {'precision': 0.998047414984794,\n",
              "  'recall': 0.9998398774413281,\n",
              "  'f1-score': 0.9989428421332538,\n",
              "  'support': 231073},\n",
              " '3': {'precision': 0.999955941591138,\n",
              "  'recall': 0.9996413515384132,\n",
              "  'f1-score': 0.9997986218180674,\n",
              "  'support': 158930},\n",
              " '4': {'precision': 0.995522308022308,\n",
              "  'recall': 0.9917993375360615,\n",
              "  'f1-score': 0.9936573355456833,\n",
              "  'support': 37436},\n",
              " 'accuracy': 0.999520402602572,\n",
              " 'macro avg': {'precision': 0.9986646968583981,\n",
              "  'recall': 0.9981654775685568,\n",
              "  'f1-score': 0.9984142222694097,\n",
              "  'support': 1851553},\n",
              " 'weighted avg': {'precision': 0.9995204771218531,\n",
              "  'recall': 0.999520402602572,\n",
              "  'f1-score': 0.9995202619839965,\n",
              "  'support': 1851553}}"
            ]
          },
          "metadata": {},
          "execution_count": 28
        }
      ]
    },
    {
      "cell_type": "code",
      "source": [
        "import sklearn\n",
        "cm_logis = sklearn.metrics.confusion_matrix(y_test, y_prediction)\n",
        "#put it into a dataframe\n",
        "cm_logis_df = pd.DataFrame(cm_logis)\n",
        "\n",
        "#plot CM\n",
        "fig, ax = plt.subplots(figsize = (9,9))\n",
        "sns.heatmap(pd.DataFrame(cm_logis_df.T), annot=True, annot_kws={\"size\": 15}, cmap=\"Purples\", vmin=0, vmax=500, fmt='.0f', linewidths=1, linecolor=\"white\", cbar=False,\n",
        "           xticklabels=cols, yticklabels=cols)\n",
        "plt.ylabel(\"Predicted\", fontsize=15)\n",
        "plt.xlabel(\"Actual\", fontsize=15)\n",
        "ax.set_xticklabels(cols, fontsize=13)\n",
        "ax.set_yticklabels(cols, fontsize=13)\n",
        "plt.title(\"Confusion Matrix for Logistic Classifier (Threshold = 0.5) - Counts\", fontsize=15)\n",
        "plt.show()"
      ],
      "metadata": {
        "colab": {
          "base_uri": "https://localhost:8080/",
          "height": 577
        },
        "id": "kD21BcE0bNR2",
        "outputId": "1790c4ed-bb0b-4266-d724-037c2fc1cfda"
      },
      "execution_count": 29,
      "outputs": [
        {
          "output_type": "display_data",
          "data": {
            "text/plain": [
              "<Figure size 648x648 with 1 Axes>"
            ],
            "image/png": "[encoded data removed]"
          },
          "metadata": {
            "needs_background": "light"
          }
        }
      ]
    },
    {
      "cell_type": "code",
      "source": [],
      "metadata": {
        "id": "2htirYu-bTBr"
      },
      "execution_count": null,
      "outputs": []
    }
  ]
}