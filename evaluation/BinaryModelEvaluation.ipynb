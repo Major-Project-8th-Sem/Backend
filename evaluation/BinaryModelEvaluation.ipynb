{
  "nbformat": 4,
  "nbformat_minor": 0,
  "metadata": {
    "colab": {
      "provenance": []
    },
    "kernelspec": {
      "name": "python3",
      "display_name": "Python 3"
    },
    "language_info": {
      "name": "python"
    },
    "accelerator": "GPU",
    "gpuClass": "standard"
  },
  "cells": [
    {
      "cell_type": "code",
      "execution_count": 1,
      "metadata": {
        "id": "AQ82TOHO3QaN"
      },
      "outputs": [],
      "source": [
        "# All  import statements needed for the notebook\n",
        "import pandas as pd\n",
        "import numpy as np\n",
        "import matplotlib.pyplot as plt\n",
        "import seaborn as sns\n",
        "import sklearn\n",
        "from sklearn.metrics import *"
      ]
    },
    {
      "cell_type": "code",
      "source": [
        "from google.colab import drive\n",
        "drive.mount('/content/drive')"
      ],
      "metadata": {
        "colab": {
          "base_uri": "https://localhost:8080/"
        },
        "id": "Tr-0WgSJ3a2p",
        "outputId": "a5aebdb5-74ee-4a2b-bac1-603bad9fcc7c"
      },
      "execution_count": 2,
      "outputs": [
        {
          "output_type": "stream",
          "name": "stdout",
          "text": [
            "Mounted at /content/drive\n"
          ]
        }
      ]
    },
    {
      "cell_type": "code",
      "source": [
        "from tensorflow import keras\n",
        "model = keras.models.load_model('/content/drive/MyDrive/models/binary_model.hdf5')"
      ],
      "metadata": {
        "id": "gmM6a14V3cEc"
      },
      "execution_count": 3,
      "outputs": []
    },
    {
      "cell_type": "code",
      "source": [
        "df = pd.read_csv('/content/drive/MyDrive/balanced_data.csv')"
      ],
      "metadata": {
        "id": "-weoM2vy3v-G"
      },
      "execution_count": 4,
      "outputs": []
    },
    {
      "cell_type": "code",
      "source": [
        "df.drop(df.columns[0] , inplace=True , axis=1)\n",
        "x = df.Label.unique().tolist()\n",
        "value = ['attack']*12\n",
        "value[0] = 'nonattack'\n",
        "df.Label.replace(to_replace=x , value=value, inplace=True)"
      ],
      "metadata": {
        "id": "jWJ_1xaK3z7x"
      },
      "execution_count": 5,
      "outputs": []
    },
    {
      "cell_type": "markdown",
      "source": [
        "# **Data Normalization && One Hot Encoding**"
      ],
      "metadata": {
        "id": "6sUjpHlo4tl1"
      }
    },
    {
      "cell_type": "code",
      "source": [
        "# importing required libraries for normalizing data\n",
        "from sklearn import preprocessing\n",
        "from sklearn.preprocessing import MinMaxScaler\n",
        "# selecting numeric attributes columns from data\n",
        "numeric_col = df.select_dtypes(include='number').columns\n",
        "# using standard scaler for normalizing\n",
        "std_scaler = MinMaxScaler()\n",
        "def normalization(df,col):\n",
        "  for i in col:\n",
        "    arr = df[i]\n",
        "    arr = np.array(arr)\n",
        "    df[i] = std_scaler.fit_transform(arr.reshape(len(arr),1))\n",
        "  return df\n",
        "# calling the normalization() function\n",
        "data = normalization(df.copy(),numeric_col)\n",
        "# selecting numeric attributes columns from data\n",
        "non_numeric_col = data.select_dtypes(exclude='number').columns\n",
        "# creating a dataframe with only categorical attributes\n",
        "categorical = data[non_numeric_col]"
      ],
      "metadata": {
        "id": "Qbmt43ns4Mz8"
      },
      "execution_count": 6,
      "outputs": []
    },
    {
      "cell_type": "code",
      "source": [
        "# one-hot-encoding categorical attributes using pandas.get_dummies() function\n",
        "categorical = pd.get_dummies(categorical,columns=non_numeric_col)\n",
        "X = data.drop('Label' , axis=1)"
      ],
      "metadata": {
        "id": "B_U2YHXf49qe"
      },
      "execution_count": 7,
      "outputs": []
    },
    {
      "cell_type": "markdown",
      "source": [
        "## Assigning X and Y "
      ],
      "metadata": {
        "id": "S-WwUb_I5C2J"
      }
    },
    {
      "cell_type": "code",
      "source": [
        "y = categorical"
      ],
      "metadata": {
        "id": "33fdA7Iv5CXR"
      },
      "execution_count": 8,
      "outputs": []
    },
    {
      "cell_type": "code",
      "source": [
        "X = X.to_numpy().reshape(-1, 83,1)"
      ],
      "metadata": {
        "id": "u52uYsmZ5JvS"
      },
      "execution_count": 9,
      "outputs": []
    },
    {
      "cell_type": "code",
      "source": [
        "type(model)"
      ],
      "metadata": {
        "colab": {
          "base_uri": "https://localhost:8080/"
        },
        "id": "C1DWSiYO5Olu",
        "outputId": "a8c6e9c4-49b7-40fd-909e-0a733d9e46fb"
      },
      "execution_count": 10,
      "outputs": [
        {
          "output_type": "execute_result",
          "data": {
            "text/plain": [
              "keras.engine.sequential.Sequential"
            ]
          },
          "metadata": {},
          "execution_count": 10
        }
      ]
    },
    {
      "cell_type": "markdown",
      "source": [
        "## Predictions & evaluation"
      ],
      "metadata": {
        "id": "4ElDwwCz5XyK"
      }
    },
    {
      "cell_type": "code",
      "source": [
        "predicted = model.predict(X)"
      ],
      "metadata": {
        "colab": {
          "base_uri": "https://localhost:8080/"
        },
        "id": "MXSUI71x5WKZ",
        "outputId": "28bb5977-3f43-4628-e850-b9090d819cad"
      },
      "execution_count": 11,
      "outputs": [
        {
          "output_type": "stream",
          "name": "stdout",
          "text": [
            "57862/57862 [==============================] - 157s 3ms/step\n"
          ]
        }
      ]
    },
    {
      "cell_type": "code",
      "source": [
        "cols = y.columns\n",
        "y = y.to_numpy()"
      ],
      "metadata": {
        "id": "0lGPpbbS5VfU"
      },
      "execution_count": 12,
      "outputs": []
    },
    {
      "cell_type": "code",
      "source": [
        "#pred_test= model.predict(X)\n",
        "scores2 = model.evaluate(X, y, verbose=1)\n",
        "print('Accuracy on test data: {}% \\n Error on test data: {}'.format(scores2[1], 1 - scores2[1]))    "
      ],
      "metadata": {
        "colab": {
          "base_uri": "https://localhost:8080/"
        },
        "id": "s1tcrKfD5g6u",
        "outputId": "8314b41f-3e96-4136-e414-6f55eceedb9a"
      },
      "execution_count": 13,
      "outputs": [
        {
          "output_type": "stream",
          "name": "stdout",
          "text": [
            "57862/57862 [==============================] - 206s 4ms/step - loss: 0.0026 - accuracy: 0.9998\n",
            "Accuracy on test data: 0.9998034238815308% \n",
            " Error on test data: 0.00019657611846923828\n"
          ]
        }
      ]
    },
    {
      "cell_type": "code",
      "source": [
        "model.get_metrics_result()"
      ],
      "metadata": {
        "colab": {
          "base_uri": "https://localhost:8080/"
        },
        "id": "D4Ip7AnZ5kGz",
        "outputId": "ae49726f-6487-4318-c215-70181bb2c182"
      },
      "execution_count": 14,
      "outputs": [
        {
          "output_type": "execute_result",
          "data": {
            "text/plain": [
              "{'loss': <tf.Tensor: shape=(), dtype=float32, numpy=0.0025822918>,\n",
              " 'accuracy': <tf.Tensor: shape=(), dtype=float32, numpy=0.9998034>}"
            ]
          },
          "metadata": {},
          "execution_count": 14
        }
      ]
    },
    {
      "cell_type": "code",
      "source": [
        "y_prediction = np.argmax (predicted, axis = 1)\n",
        "y_test=np.argmax(y , axis=1)"
      ],
      "metadata": {
        "id": "2TiP6G_W5lUa"
      },
      "execution_count": 15,
      "outputs": []
    },
    {
      "cell_type": "markdown",
      "source": [
        "## Accuracies with different methods ... "
      ],
      "metadata": {
        "id": "9vRpvVVC5sjH"
      }
    },
    {
      "cell_type": "code",
      "source": [
        "# Importing all necessary libraries\n",
        "from sklearn.metrics import accuracy_score\n",
        "# Calculating the accuracy of classifier\n",
        "print(f\"Accuracy of the classifier is: {accuracy_score(y_test, y_prediction)}\")"
      ],
      "metadata": {
        "colab": {
          "base_uri": "https://localhost:8080/"
        },
        "id": "28bpe7ly5rCO",
        "outputId": "3e1fadc3-6387-4629-d1fa-3fca1b2eae45"
      },
      "execution_count": 16,
      "outputs": [
        {
          "output_type": "stream",
          "name": "stdout",
          "text": [
            "Accuracy of the classifier is: 0.9998034082740272\n"
          ]
        }
      ]
    },
    {
      "cell_type": "code",
      "source": [
        "# Importing all necessary libraries\n",
        "from sklearn.metrics import precision_score\n",
        "\n",
        "# Calculating the precision score of classifier\n",
        "print(f\"Precision Score of the classifier is: {precision_score(y_test, y_prediction,pos_label='positive',average='micro')}\")"
      ],
      "metadata": {
        "colab": {
          "base_uri": "https://localhost:8080/"
        },
        "id": "6w7lbOLW5ycR",
        "outputId": "92cf2e36-d903-4938-d789-4da2871ac335"
      },
      "execution_count": 17,
      "outputs": [
        {
          "output_type": "stream",
          "name": "stderr",
          "text": [
            "/usr/local/lib/python3.8/dist-packages/sklearn/metrics/_classification.py:1370: UserWarning: Note that pos_label (set to 'positive') is ignored when average != 'binary' (got 'micro'). You may use labels=[pos_label] to specify a single positive class.\n",
            "  warnings.warn(\n"
          ]
        },
        {
          "output_type": "stream",
          "name": "stdout",
          "text": [
            "Precision Score of the classifier is: 0.9998034082740272\n"
          ]
        }
      ]
    },
    {
      "cell_type": "code",
      "source": [
        "# Importing all necessary libraries\n",
        "from sklearn.metrics import recall_score\n",
        "\n",
        "# Calculating the recall score of classifier\n",
        "print(f\"Recall Score of the classifier is: {recall_score(y_test, y_prediction,pos_label='positive',average='micro')}\")"
      ],
      "metadata": {
        "colab": {
          "base_uri": "https://localhost:8080/"
        },
        "id": "FGLuilRb5zph",
        "outputId": "8dcbed41-f2ae-40a9-b1ed-a800f6224679"
      },
      "execution_count": 18,
      "outputs": [
        {
          "output_type": "stream",
          "name": "stderr",
          "text": [
            "/usr/local/lib/python3.8/dist-packages/sklearn/metrics/_classification.py:1370: UserWarning: Note that pos_label (set to 'positive') is ignored when average != 'binary' (got 'micro'). You may use labels=[pos_label] to specify a single positive class.\n",
            "  warnings.warn(\n"
          ]
        },
        {
          "output_type": "stream",
          "name": "stdout",
          "text": [
            "Recall Score of the classifier is: 0.9998034082740272\n"
          ]
        }
      ]
    },
    {
      "cell_type": "code",
      "source": [
        "# Importing all necessary libraries\n",
        "from sklearn.metrics import f1_score\n",
        "\n",
        "# Calculating the F1 score of classifier\n",
        "print(f\"F1 Score of the classifier is: {f1_score(y_test, y_prediction,pos_label='positive',average='micro')}\")"
      ],
      "metadata": {
        "colab": {
          "base_uri": "https://localhost:8080/"
        },
        "id": "Lq_7r3de51j_",
        "outputId": "9c17371b-ecaa-4cb1-e251-fa8a51a81ecf"
      },
      "execution_count": 19,
      "outputs": [
        {
          "output_type": "stream",
          "name": "stderr",
          "text": [
            "/usr/local/lib/python3.8/dist-packages/sklearn/metrics/_classification.py:1370: UserWarning: Note that pos_label (set to 'positive') is ignored when average != 'binary' (got 'micro'). You may use labels=[pos_label] to specify a single positive class.\n",
            "  warnings.warn(\n"
          ]
        },
        {
          "output_type": "stream",
          "name": "stdout",
          "text": [
            "F1 Score of the classifier is: 0.9998034082740272\n"
          ]
        }
      ]
    },
    {
      "cell_type": "code",
      "source": [
        "# Importing all necessary libraries\n",
        "from sklearn.metrics import roc_curve, auc\n",
        "\n",
        "fpr, tpr, threshold = roc_curve(y_test, y_prediction, pos_label=1)\n",
        "roc_auc = auc(fpr, tpr)\n",
        "\n",
        "# Printing AUC\n",
        "print(f\"AUC for our classifier is: {roc_auc}\")\n",
        "\n",
        "# Plotting the ROC\n",
        "plt.title('Receiver Operating Characteristic')\n",
        "plt.plot(fpr, tpr, 'b', label = 'AUC = %0.2f' % roc_auc)\n",
        "plt.legend(loc = 'lower right')\n",
        "plt.plot([0, 1], [0, 1],'r--')\n",
        "plt.xlim([0, 1])\n",
        "plt.ylim([0, 1])\n",
        "plt.ylabel('True Positive Rate')\n",
        "plt.xlabel('False Positive Rate')\n",
        "plt.show()\n",
        "\n",
        "### ROC _ CURVE IS NOT SUPPORTED FOR MULTICLASS LABELS :_("
      ],
      "metadata": {
        "colab": {
          "base_uri": "https://localhost:8080/",
          "height": 313
        },
        "id": "CHpPp41u53F7",
        "outputId": "0f78e91c-da7b-4a06-dab1-c675f323bb4f"
      },
      "execution_count": 20,
      "outputs": [
        {
          "output_type": "stream",
          "name": "stdout",
          "text": [
            "AUC for our classifier is: 0.9998199709508471\n"
          ]
        },
        {
          "output_type": "display_data",
          "data": {
            "text/plain": [
              "<Figure size 432x288 with 1 Axes>"
            ],
            "image/png": "[encoded data removed]"
          },
          "metadata": {
            "needs_background": "light"
          }
        }
      ]
    },
    {
      "cell_type": "code",
      "source": [
        "#generating a report to extract the measure of interest using built-in sklearn function\n",
        "report = classification_report(y_test, y_prediction,digits=3,output_dict = True)"
      ],
      "metadata": {
        "id": "e8GHQzaj56yU"
      },
      "execution_count": 21,
      "outputs": []
    },
    {
      "cell_type": "code",
      "source": [
        "report"
      ],
      "metadata": {
        "colab": {
          "base_uri": "https://localhost:8080/"
        },
        "id": "0zSRegCk58il",
        "outputId": "007c68b1-a6c7-4bbd-f5ff-34bc065ca2ac"
      },
      "execution_count": 22,
      "outputs": [
        {
          "output_type": "execute_result",
          "data": {
            "text/plain": [
              "{'0': {'precision': 0.9994835119746039,\n",
              "  'recall': 0.9998613776540778,\n",
              "  'f1-score': 0.9996724091070269,\n",
              "  'support': 555466},\n",
              " '1': {'precision': 0.999940580780429,\n",
              "  'recall': 0.9997785642476161,\n",
              "  'f1-score': 0.9998595659507618,\n",
              "  'support': 1296087},\n",
              " 'accuracy': 0.9998034082740272,\n",
              " 'macro avg': {'precision': 0.9997120463775164,\n",
              "  'recall': 0.999819970950847,\n",
              "  'f1-score': 0.9997659875288943,\n",
              "  'support': 1851553},\n",
              " 'weighted avg': {'precision': 0.9998034601139958,\n",
              "  'recall': 0.9998034082740272,\n",
              "  'f1-score': 0.9998034188875332,\n",
              "  'support': 1851553}}"
            ]
          },
          "metadata": {},
          "execution_count": 22
        }
      ]
    },
    {
      "cell_type": "code",
      "source": [
        "import sklearn\n",
        "cm_logis = sklearn.metrics.confusion_matrix(y_test, y_prediction)\n",
        "#put it into a dataframe\n",
        "cm_logis_df = pd.DataFrame(cm_logis)\n",
        "\n",
        "#plot CM\n",
        "fig, ax = plt.subplots(figsize = (5,5))\n",
        "sns.heatmap(pd.DataFrame(cm_logis_df.T), annot=True, annot_kws={\"size\": 15}, cmap=\"Purples\", vmin=0, vmax=500, fmt='.0f', linewidths=1, linecolor=\"white\", cbar=False,\n",
        "           xticklabels=cols, yticklabels=cols)\n",
        "plt.ylabel(\"Predicted\", fontsize=15)\n",
        "plt.xlabel(\"Actual\", fontsize=15)\n",
        "ax.set_xticklabels(cols, fontsize=13)\n",
        "ax.set_yticklabels(cols, fontsize=13)\n",
        "plt.title(\"Confusion Matrix for Logistic Classifier (Threshold = 0.5) - Counts\", fontsize=15)\n",
        "plt.show()"
      ],
      "metadata": {
        "colab": {
          "base_uri": "https://localhost:8080/",
          "height": 360
        },
        "id": "wFCdngQz59nb",
        "outputId": "875637a2-268b-46ba-d397-3325c2bc104b"
      },
      "execution_count": 23,
      "outputs": [
        {
          "output_type": "display_data",
          "data": {
            "text/plain": [
              "<Figure size 360x360 with 1 Axes>"
            ],
            "image/png": "[encoded data removed]"
          },
          "metadata": {
            "needs_background": "light"
          }
        }
      ]
    },
    {
      "cell_type": "code",
      "source": [],
      "metadata": {
        "id": "kfBNgF5l6A5X"
      },
      "execution_count": 23,
      "outputs": []
    }
  ]
}