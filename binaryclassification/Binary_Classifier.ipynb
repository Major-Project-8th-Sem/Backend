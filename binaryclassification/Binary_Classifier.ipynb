{
 "cells": [
  {
   "cell_type": "code",
   "execution_count": 1,
   "metadata": {
    "id": "BPzvJVP6heUO"
   },
   "outputs": [],
   "source": [
    "# importing required libraries\n",
    "import numpy as np\n",
    "import pandas as pd"
   ]
  },
  {
   "cell_type": "code",
   "execution_count": 2,
   "metadata": {
    "colab": {
     "base_uri": "https://localhost:8080/"
    },
    "id": "4_dSW38SiD8p",
    "outputId": "1b8fcb6f-3bac-4800-bdb4-0ab44cc030ad"
   },
   "outputs": [
    {
     "data": {
      "text/plain": [
       "[PhysicalDevice(name='/physical_device:GPU:0', device_type='GPU')]"
      ]
     },
     "execution_count": 2,
     "metadata": {},
     "output_type": "execute_result"
    }
   ],
   "source": [
    "import tensorflow as tf\n",
    "tf.config.list_physical_devices('GPU')"
   ]
  },
  {
   "cell_type": "code",
   "execution_count": 3,
   "metadata": {
    "id": "At5PZ81frTMk"
   },
   "outputs": [],
   "source": [
    "#FOLDER = '/content/drive/MyDrive/'"
   ]
  },
  {
   "cell_type": "code",
   "execution_count": 4,
   "metadata": {
    "colab": {
     "base_uri": "https://localhost:8080/"
    },
    "id": "Tr2Jb_rCiFkS",
    "outputId": "de96e51f-8809-433c-f964-099ffd331362"
   },
   "outputs": [],
   "source": [
    "#from google.colab import drive\n",
    "#drive.mount('/content/drive')"
   ]
  },
  {
   "cell_type": "code",
   "execution_count": 5,
   "metadata": {
    "id": "D836mZDFiGuC"
   },
   "outputs": [],
   "source": [
    "data = pd.read_csv(r\"C:\\Users\\Admin\\Downloads\\balanced_data.csv\")"
   ]
  },
  {
   "cell_type": "code",
   "execution_count": 6,
   "metadata": {
    "id": "Knng9RRPiILm"
   },
   "outputs": [],
   "source": [
    "data.drop(data.columns[0] , inplace=True , axis=1)"
   ]
  },
  {
   "cell_type": "markdown",
   "metadata": {
    "id": "P5siauZAAWX_"
   },
   "source": [
    "Make Benign = NonAttack and others as attack"
   ]
  },
  {
   "cell_type": "code",
   "execution_count": 7,
   "metadata": {
    "colab": {
     "base_uri": "https://localhost:8080/"
    },
    "id": "KwrZTR2cBS2z",
    "outputId": "49014f3b-3cbd-4645-f300-64dfdde2b69f"
   },
   "outputs": [
    {
     "data": {
      "text/plain": [
       "['BENIGN',\n",
       " 'Infiltration',\n",
       " 'DDoS',\n",
       " 'DoS slowloris',\n",
       " 'DoS Slowhttptest',\n",
       " 'DoS Hulk',\n",
       " 'DoS GoldenEye',\n",
       " 'Heartbleed',\n",
       " 'PortScan',\n",
       " 'Bot',\n",
       " 'FTP-Patator',\n",
       " 'SSH-Patator']"
      ]
     },
     "execution_count": 7,
     "metadata": {},
     "output_type": "execute_result"
    }
   ],
   "source": [
    "x = data.Label.unique().tolist()\n",
    "x"
   ]
  },
  {
   "cell_type": "code",
   "execution_count": 8,
   "metadata": {
    "colab": {
     "base_uri": "https://localhost:8080/"
    },
    "id": "YDMDd-7CB9bM",
    "outputId": "5dd0741d-4988-4405-ede2-a9024c89f293"
   },
   "outputs": [
    {
     "data": {
      "text/plain": [
       "['nonattack',\n",
       " 'attack',\n",
       " 'attack',\n",
       " 'attack',\n",
       " 'attack',\n",
       " 'attack',\n",
       " 'attack',\n",
       " 'attack',\n",
       " 'attack',\n",
       " 'attack',\n",
       " 'attack',\n",
       " 'attack']"
      ]
     },
     "execution_count": 8,
     "metadata": {},
     "output_type": "execute_result"
    }
   ],
   "source": [
    "value = ['attack']*12\n",
    "value[0] = 'nonattack'\n",
    "value"
   ]
  },
  {
   "cell_type": "code",
   "execution_count": 9,
   "metadata": {
    "id": "7HMbhBxAAVH8"
   },
   "outputs": [],
   "source": [
    "data.Label.replace(to_replace=x , value=value, inplace=True)"
   ]
  },
  {
   "cell_type": "markdown",
   "metadata": {
    "id": "mT9j4dfSnpLW"
   },
   "source": [
    "## Normalization On Data\n",
    "# **Data Normalization**"
   ]
  },
  {
   "cell_type": "code",
   "execution_count": 10,
   "metadata": {
    "id": "ej0g01p4n2cS"
   },
   "outputs": [],
   "source": [
    "# importing required libraries for normalizing data\n",
    "from sklearn import preprocessing\n",
    "from sklearn.preprocessing import MinMaxScaler"
   ]
  },
  {
   "cell_type": "code",
   "execution_count": 11,
   "metadata": {
    "id": "BWEmxOSBoOwC"
   },
   "outputs": [],
   "source": [
    "# selecting numeric attributes columns from data\n",
    "numeric_col = data.select_dtypes(include='number').columns"
   ]
  },
  {
   "cell_type": "code",
   "execution_count": 12,
   "metadata": {
    "id": "Iinx4nw2oP-Z"
   },
   "outputs": [],
   "source": [
    "# using standard scaler for normalizing\n",
    "std_scaler = MinMaxScaler()\n",
    "def normalization(df,col):\n",
    "  for i in col:\n",
    "    arr = df[i]\n",
    "    arr = np.array(arr)\n",
    "    df[i] = std_scaler.fit_transform(arr.reshape(len(arr),1))\n",
    "  return df\n",
    "# calling the normalization() function\n",
    "data = normalization(data.copy(),numeric_col)"
   ]
  },
  {
   "cell_type": "code",
   "execution_count": 13,
   "metadata": {
    "colab": {
     "base_uri": "https://localhost:8080/",
     "height": 421
    },
    "id": "NHmvEXJdoem_",
    "outputId": "39e1b0e6-3512-4349-db30-a30aeaae955d"
   },
   "outputs": [
    {
     "data": {
      "text/html": [
       "<div>\n",
       "<style scoped>\n",
       "    .dataframe tbody tr th:only-of-type {\n",
       "        vertical-align: middle;\n",
       "    }\n",
       "\n",
       "    .dataframe tbody tr th {\n",
       "        vertical-align: top;\n",
       "    }\n",
       "\n",
       "    .dataframe thead th {\n",
       "        text-align: right;\n",
       "    }\n",
       "</style>\n",
       "<table border=\"1\" class=\"dataframe\">\n",
       "  <thead>\n",
       "    <tr style=\"text-align: right;\">\n",
       "      <th></th>\n",
       "      <th>Flow ID</th>\n",
       "      <th>Source IP</th>\n",
       "      <th>Source Port</th>\n",
       "      <th>Destination IP</th>\n",
       "      <th>Destination Port</th>\n",
       "      <th>Protocol</th>\n",
       "      <th>Timestamp</th>\n",
       "      <th>Flow Duration</th>\n",
       "      <th>Total Fwd Packets</th>\n",
       "      <th>Total Backward Packets</th>\n",
       "      <th>...</th>\n",
       "      <th>min_seg_size_forward</th>\n",
       "      <th>Active Mean</th>\n",
       "      <th>Active Std</th>\n",
       "      <th>Active Max</th>\n",
       "      <th>Active Min</th>\n",
       "      <th>Idle Mean</th>\n",
       "      <th>Idle Std</th>\n",
       "      <th>Idle Max</th>\n",
       "      <th>Idle Min</th>\n",
       "      <th>Label</th>\n",
       "    </tr>\n",
       "  </thead>\n",
       "  <tbody>\n",
       "    <tr>\n",
       "      <th>0</th>\n",
       "      <td>0.144170</td>\n",
       "      <td>0.254947</td>\n",
       "      <td>0.006760</td>\n",
       "      <td>0.282974</td>\n",
       "      <td>0.761669</td>\n",
       "      <td>0.352941</td>\n",
       "      <td>0.563685</td>\n",
       "      <td>6.416666e-07</td>\n",
       "      <td>0.000009</td>\n",
       "      <td>0.000003</td>\n",
       "      <td>...</td>\n",
       "      <td>1.0</td>\n",
       "      <td>0.0</td>\n",
       "      <td>0.0</td>\n",
       "      <td>0.0</td>\n",
       "      <td>0.0</td>\n",
       "      <td>0.0</td>\n",
       "      <td>0.0</td>\n",
       "      <td>0.0</td>\n",
       "      <td>0.0</td>\n",
       "      <td>nonattack</td>\n",
       "    </tr>\n",
       "    <tr>\n",
       "      <th>1</th>\n",
       "      <td>0.782639</td>\n",
       "      <td>0.268302</td>\n",
       "      <td>0.803738</td>\n",
       "      <td>0.268949</td>\n",
       "      <td>0.000809</td>\n",
       "      <td>1.000000</td>\n",
       "      <td>0.006155</td>\n",
       "      <td>7.648083e-04</td>\n",
       "      <td>0.000005</td>\n",
       "      <td>0.000007</td>\n",
       "      <td>...</td>\n",
       "      <td>1.0</td>\n",
       "      <td>0.0</td>\n",
       "      <td>0.0</td>\n",
       "      <td>0.0</td>\n",
       "      <td>0.0</td>\n",
       "      <td>0.0</td>\n",
       "      <td>0.0</td>\n",
       "      <td>0.0</td>\n",
       "      <td>0.0</td>\n",
       "      <td>nonattack</td>\n",
       "    </tr>\n",
       "    <tr>\n",
       "      <th>2</th>\n",
       "      <td>0.234535</td>\n",
       "      <td>0.162316</td>\n",
       "      <td>0.690394</td>\n",
       "      <td>0.164278</td>\n",
       "      <td>0.000809</td>\n",
       "      <td>1.000000</td>\n",
       "      <td>0.001039</td>\n",
       "      <td>2.558333e-06</td>\n",
       "      <td>0.000005</td>\n",
       "      <td>0.000007</td>\n",
       "      <td>...</td>\n",
       "      <td>1.0</td>\n",
       "      <td>0.0</td>\n",
       "      <td>0.0</td>\n",
       "      <td>0.0</td>\n",
       "      <td>0.0</td>\n",
       "      <td>0.0</td>\n",
       "      <td>0.0</td>\n",
       "      <td>0.0</td>\n",
       "      <td>0.0</td>\n",
       "      <td>nonattack</td>\n",
       "    </tr>\n",
       "    <tr>\n",
       "      <th>3</th>\n",
       "      <td>0.280934</td>\n",
       "      <td>0.084497</td>\n",
       "      <td>0.888197</td>\n",
       "      <td>0.089203</td>\n",
       "      <td>0.000809</td>\n",
       "      <td>1.000000</td>\n",
       "      <td>0.003078</td>\n",
       "      <td>4.420500e-04</td>\n",
       "      <td>0.000014</td>\n",
       "      <td>0.000007</td>\n",
       "      <td>...</td>\n",
       "      <td>1.0</td>\n",
       "      <td>0.0</td>\n",
       "      <td>0.0</td>\n",
       "      <td>0.0</td>\n",
       "      <td>0.0</td>\n",
       "      <td>0.0</td>\n",
       "      <td>0.0</td>\n",
       "      <td>0.0</td>\n",
       "      <td>0.0</td>\n",
       "      <td>nonattack</td>\n",
       "    </tr>\n",
       "    <tr>\n",
       "      <th>4</th>\n",
       "      <td>0.128076</td>\n",
       "      <td>0.337137</td>\n",
       "      <td>0.006760</td>\n",
       "      <td>0.163968</td>\n",
       "      <td>0.770672</td>\n",
       "      <td>0.352941</td>\n",
       "      <td>0.004578</td>\n",
       "      <td>6.916666e-07</td>\n",
       "      <td>0.000000</td>\n",
       "      <td>0.000003</td>\n",
       "      <td>...</td>\n",
       "      <td>1.0</td>\n",
       "      <td>0.0</td>\n",
       "      <td>0.0</td>\n",
       "      <td>0.0</td>\n",
       "      <td>0.0</td>\n",
       "      <td>0.0</td>\n",
       "      <td>0.0</td>\n",
       "      <td>0.0</td>\n",
       "      <td>0.0</td>\n",
       "      <td>nonattack</td>\n",
       "    </tr>\n",
       "  </tbody>\n",
       "</table>\n",
       "<p>5 rows × 84 columns</p>\n",
       "</div>"
      ],
      "text/plain": [
       "    Flow ID  Source IP  Source Port  Destination IP  Destination Port  \\\n",
       "0  0.144170   0.254947     0.006760        0.282974          0.761669   \n",
       "1  0.782639   0.268302     0.803738        0.268949          0.000809   \n",
       "2  0.234535   0.162316     0.690394        0.164278          0.000809   \n",
       "3  0.280934   0.084497     0.888197        0.089203          0.000809   \n",
       "4  0.128076   0.337137     0.006760        0.163968          0.770672   \n",
       "\n",
       "   Protocol  Timestamp  Flow Duration  Total Fwd Packets  \\\n",
       "0  0.352941   0.563685   6.416666e-07           0.000009   \n",
       "1  1.000000   0.006155   7.648083e-04           0.000005   \n",
       "2  1.000000   0.001039   2.558333e-06           0.000005   \n",
       "3  1.000000   0.003078   4.420500e-04           0.000014   \n",
       "4  0.352941   0.004578   6.916666e-07           0.000000   \n",
       "\n",
       "   Total Backward Packets  ...  min_seg_size_forward  Active Mean  Active Std  \\\n",
       "0                0.000003  ...                   1.0          0.0         0.0   \n",
       "1                0.000007  ...                   1.0          0.0         0.0   \n",
       "2                0.000007  ...                   1.0          0.0         0.0   \n",
       "3                0.000007  ...                   1.0          0.0         0.0   \n",
       "4                0.000003  ...                   1.0          0.0         0.0   \n",
       "\n",
       "   Active Max  Active Min  Idle Mean  Idle Std  Idle Max  Idle Min      Label  \n",
       "0         0.0         0.0        0.0       0.0       0.0       0.0  nonattack  \n",
       "1         0.0         0.0        0.0       0.0       0.0       0.0  nonattack  \n",
       "2         0.0         0.0        0.0       0.0       0.0       0.0  nonattack  \n",
       "3         0.0         0.0        0.0       0.0       0.0       0.0  nonattack  \n",
       "4         0.0         0.0        0.0       0.0       0.0       0.0  nonattack  \n",
       "\n",
       "[5 rows x 84 columns]"
      ]
     },
     "execution_count": 13,
     "metadata": {},
     "output_type": "execute_result"
    }
   ],
   "source": [
    "# data after normalization\n",
    "data.head()"
   ]
  },
  {
   "cell_type": "markdown",
   "metadata": {
    "id": "oCVqZBvao-8l"
   },
   "source": [
    "# **One-hot-encoding**"
   ]
  },
  {
   "cell_type": "code",
   "execution_count": 14,
   "metadata": {
    "id": "vDxWee2ZohCJ"
   },
   "outputs": [],
   "source": [
    "# selecting numeric attributes columns from data\n",
    "non_numeric_col = data.select_dtypes(exclude='number').columns"
   ]
  },
  {
   "cell_type": "code",
   "execution_count": 15,
   "metadata": {
    "colab": {
     "base_uri": "https://localhost:8080/",
     "height": 206
    },
    "id": "Uydfzg1dpDqT",
    "outputId": "0712827b-f15c-4499-89ef-e5c922253061"
   },
   "outputs": [
    {
     "data": {
      "text/html": [
       "<div>\n",
       "<style scoped>\n",
       "    .dataframe tbody tr th:only-of-type {\n",
       "        vertical-align: middle;\n",
       "    }\n",
       "\n",
       "    .dataframe tbody tr th {\n",
       "        vertical-align: top;\n",
       "    }\n",
       "\n",
       "    .dataframe thead th {\n",
       "        text-align: right;\n",
       "    }\n",
       "</style>\n",
       "<table border=\"1\" class=\"dataframe\">\n",
       "  <thead>\n",
       "    <tr style=\"text-align: right;\">\n",
       "      <th></th>\n",
       "      <th>Label</th>\n",
       "    </tr>\n",
       "  </thead>\n",
       "  <tbody>\n",
       "    <tr>\n",
       "      <th>0</th>\n",
       "      <td>nonattack</td>\n",
       "    </tr>\n",
       "    <tr>\n",
       "      <th>1</th>\n",
       "      <td>nonattack</td>\n",
       "    </tr>\n",
       "    <tr>\n",
       "      <th>2</th>\n",
       "      <td>nonattack</td>\n",
       "    </tr>\n",
       "    <tr>\n",
       "      <th>3</th>\n",
       "      <td>nonattack</td>\n",
       "    </tr>\n",
       "    <tr>\n",
       "      <th>4</th>\n",
       "      <td>nonattack</td>\n",
       "    </tr>\n",
       "  </tbody>\n",
       "</table>\n",
       "</div>"
      ],
      "text/plain": [
       "       Label\n",
       "0  nonattack\n",
       "1  nonattack\n",
       "2  nonattack\n",
       "3  nonattack\n",
       "4  nonattack"
      ]
     },
     "execution_count": 15,
     "metadata": {},
     "output_type": "execute_result"
    }
   ],
   "source": [
    "# creating a dataframe with only categorical attributes\n",
    "categorical = data[non_numeric_col]\n",
    "categorical.head()"
   ]
  },
  {
   "cell_type": "code",
   "execution_count": 16,
   "metadata": {
    "colab": {
     "base_uri": "https://localhost:8080/",
     "height": 206
    },
    "id": "CHyefgFnpF1p",
    "outputId": "00ba3431-2fc7-4e6d-e967-583b3e8d19ae"
   },
   "outputs": [
    {
     "data": {
      "text/html": [
       "<div>\n",
       "<style scoped>\n",
       "    .dataframe tbody tr th:only-of-type {\n",
       "        vertical-align: middle;\n",
       "    }\n",
       "\n",
       "    .dataframe tbody tr th {\n",
       "        vertical-align: top;\n",
       "    }\n",
       "\n",
       "    .dataframe thead th {\n",
       "        text-align: right;\n",
       "    }\n",
       "</style>\n",
       "<table border=\"1\" class=\"dataframe\">\n",
       "  <thead>\n",
       "    <tr style=\"text-align: right;\">\n",
       "      <th></th>\n",
       "      <th>Label_attack</th>\n",
       "      <th>Label_nonattack</th>\n",
       "    </tr>\n",
       "  </thead>\n",
       "  <tbody>\n",
       "    <tr>\n",
       "      <th>0</th>\n",
       "      <td>0</td>\n",
       "      <td>1</td>\n",
       "    </tr>\n",
       "    <tr>\n",
       "      <th>1</th>\n",
       "      <td>0</td>\n",
       "      <td>1</td>\n",
       "    </tr>\n",
       "    <tr>\n",
       "      <th>2</th>\n",
       "      <td>0</td>\n",
       "      <td>1</td>\n",
       "    </tr>\n",
       "    <tr>\n",
       "      <th>3</th>\n",
       "      <td>0</td>\n",
       "      <td>1</td>\n",
       "    </tr>\n",
       "    <tr>\n",
       "      <th>4</th>\n",
       "      <td>0</td>\n",
       "      <td>1</td>\n",
       "    </tr>\n",
       "  </tbody>\n",
       "</table>\n",
       "</div>"
      ],
      "text/plain": [
       "   Label_attack  Label_nonattack\n",
       "0             0                1\n",
       "1             0                1\n",
       "2             0                1\n",
       "3             0                1\n",
       "4             0                1"
      ]
     },
     "execution_count": 16,
     "metadata": {},
     "output_type": "execute_result"
    }
   ],
   "source": [
    "# one-hot-encoding categorical attributes using pandas.get_dummies() function\n",
    "categorical = pd.get_dummies(categorical,columns=non_numeric_col)\n",
    "categorical.head()"
   ]
  },
  {
   "cell_type": "code",
   "execution_count": 17,
   "metadata": {
    "id": "L9qKznJFpHfp"
   },
   "outputs": [],
   "source": [
    "X = data.drop('Label' , axis=1)"
   ]
  },
  {
   "cell_type": "code",
   "execution_count": 18,
   "metadata": {
    "colab": {
     "base_uri": "https://localhost:8080/",
     "height": 226
    },
    "id": "vSqATbQJpNXe",
    "outputId": "42c3cded-1f6d-408c-cd5e-2beab19a5196"
   },
   "outputs": [
    {
     "data": {
      "text/html": [
       "<div>\n",
       "<style scoped>\n",
       "    .dataframe tbody tr th:only-of-type {\n",
       "        vertical-align: middle;\n",
       "    }\n",
       "\n",
       "    .dataframe tbody tr th {\n",
       "        vertical-align: top;\n",
       "    }\n",
       "\n",
       "    .dataframe thead th {\n",
       "        text-align: right;\n",
       "    }\n",
       "</style>\n",
       "<table border=\"1\" class=\"dataframe\">\n",
       "  <thead>\n",
       "    <tr style=\"text-align: right;\">\n",
       "      <th></th>\n",
       "      <th>Flow ID</th>\n",
       "      <th>Source IP</th>\n",
       "      <th>Source Port</th>\n",
       "      <th>Destination IP</th>\n",
       "      <th>Destination Port</th>\n",
       "      <th>Protocol</th>\n",
       "      <th>Timestamp</th>\n",
       "      <th>Flow Duration</th>\n",
       "      <th>Total Fwd Packets</th>\n",
       "      <th>Total Backward Packets</th>\n",
       "      <th>...</th>\n",
       "      <th>act_data_pkt_fwd</th>\n",
       "      <th>min_seg_size_forward</th>\n",
       "      <th>Active Mean</th>\n",
       "      <th>Active Std</th>\n",
       "      <th>Active Max</th>\n",
       "      <th>Active Min</th>\n",
       "      <th>Idle Mean</th>\n",
       "      <th>Idle Std</th>\n",
       "      <th>Idle Max</th>\n",
       "      <th>Idle Min</th>\n",
       "    </tr>\n",
       "  </thead>\n",
       "  <tbody>\n",
       "    <tr>\n",
       "      <th>0</th>\n",
       "      <td>0.14417</td>\n",
       "      <td>0.254947</td>\n",
       "      <td>0.00676</td>\n",
       "      <td>0.282974</td>\n",
       "      <td>0.761669</td>\n",
       "      <td>0.352941</td>\n",
       "      <td>0.563685</td>\n",
       "      <td>6.416666e-07</td>\n",
       "      <td>0.000009</td>\n",
       "      <td>0.000003</td>\n",
       "      <td>...</td>\n",
       "      <td>0.000009</td>\n",
       "      <td>1.0</td>\n",
       "      <td>0.0</td>\n",
       "      <td>0.0</td>\n",
       "      <td>0.0</td>\n",
       "      <td>0.0</td>\n",
       "      <td>0.0</td>\n",
       "      <td>0.0</td>\n",
       "      <td>0.0</td>\n",
       "      <td>0.0</td>\n",
       "    </tr>\n",
       "  </tbody>\n",
       "</table>\n",
       "<p>1 rows × 83 columns</p>\n",
       "</div>"
      ],
      "text/plain": [
       "   Flow ID  Source IP  Source Port  Destination IP  Destination Port  \\\n",
       "0  0.14417   0.254947      0.00676        0.282974          0.761669   \n",
       "\n",
       "   Protocol  Timestamp  Flow Duration  Total Fwd Packets  \\\n",
       "0  0.352941   0.563685   6.416666e-07           0.000009   \n",
       "\n",
       "   Total Backward Packets  ...  act_data_pkt_fwd  min_seg_size_forward  \\\n",
       "0                0.000003  ...          0.000009                   1.0   \n",
       "\n",
       "   Active Mean  Active Std  Active Max  Active Min  Idle Mean  Idle Std  \\\n",
       "0          0.0         0.0         0.0         0.0        0.0       0.0   \n",
       "\n",
       "   Idle Max  Idle Min  \n",
       "0       0.0       0.0  \n",
       "\n",
       "[1 rows x 83 columns]"
      ]
     },
     "execution_count": 18,
     "metadata": {},
     "output_type": "execute_result"
    }
   ],
   "source": [
    "X.head(1)"
   ]
  },
  {
   "cell_type": "code",
   "execution_count": 19,
   "metadata": {
    "id": "4bOdL7mvpQ76"
   },
   "outputs": [],
   "source": [
    "y = categorical"
   ]
  },
  {
   "cell_type": "code",
   "execution_count": 20,
   "metadata": {
    "colab": {
     "base_uri": "https://localhost:8080/",
     "height": 81
    },
    "id": "HVq-IURlpeMW",
    "outputId": "0cae2d7e-f306-481f-afae-7fb9665b0ebc"
   },
   "outputs": [
    {
     "data": {
      "text/html": [
       "<div>\n",
       "<style scoped>\n",
       "    .dataframe tbody tr th:only-of-type {\n",
       "        vertical-align: middle;\n",
       "    }\n",
       "\n",
       "    .dataframe tbody tr th {\n",
       "        vertical-align: top;\n",
       "    }\n",
       "\n",
       "    .dataframe thead th {\n",
       "        text-align: right;\n",
       "    }\n",
       "</style>\n",
       "<table border=\"1\" class=\"dataframe\">\n",
       "  <thead>\n",
       "    <tr style=\"text-align: right;\">\n",
       "      <th></th>\n",
       "      <th>Label_attack</th>\n",
       "      <th>Label_nonattack</th>\n",
       "    </tr>\n",
       "  </thead>\n",
       "  <tbody>\n",
       "    <tr>\n",
       "      <th>0</th>\n",
       "      <td>0</td>\n",
       "      <td>1</td>\n",
       "    </tr>\n",
       "  </tbody>\n",
       "</table>\n",
       "</div>"
      ],
      "text/plain": [
       "   Label_attack  Label_nonattack\n",
       "0             0                1"
      ]
     },
     "execution_count": 20,
     "metadata": {},
     "output_type": "execute_result"
    }
   ],
   "source": [
    "y.head(1)"
   ]
  },
  {
   "cell_type": "markdown",
   "metadata": {
    "id": "ncWBvSDKqoJP"
   },
   "source": [
    "https://glassboxmedicine.com/2019/05/26/classification-sigmoid-vs-softmax/#:~:text=The%20probabilities%20produced%20by%20a%20softmax%20will%20always%20sum%20to,decrease%20by%20an%20equivalent%20amount."
   ]
  },
  {
   "cell_type": "code",
   "execution_count": 21,
   "metadata": {
    "id": "pXSyOCRmpfl6"
   },
   "outputs": [],
   "source": [
    "from sklearn.model_selection import train_test_split\n",
    "X_train, X_test, y_train, y_test = train_test_split(X, y, test_size=0.33, random_state=42)"
   ]
  },
  {
   "cell_type": "markdown",
   "metadata": {
    "id": "PEQZdfGLqyt0"
   },
   "source": [
    "#  Convolutional Neural Networks"
   ]
  },
  {
   "cell_type": "code",
   "execution_count": 22,
   "metadata": {
    "colab": {
     "base_uri": "https://localhost:8080/"
    },
    "id": "c4eYjOm_qvpf",
    "outputId": "1065ad64-46fe-4648-dea1-33a6b1c6dcb1"
   },
   "outputs": [
    {
     "data": {
      "text/plain": [
       "((1240540, 83), (1240540, 2), (611013, 83))"
      ]
     },
     "execution_count": 22,
     "metadata": {},
     "output_type": "execute_result"
    }
   ],
   "source": [
    "X_train.shape , y_train.shape , X_test.shape"
   ]
  },
  {
   "cell_type": "code",
   "execution_count": 23,
   "metadata": {
    "id": "71TTX-cgq0bl"
   },
   "outputs": [],
   "source": [
    "X_train = X_train.to_numpy().reshape(-1, 83,1)\n",
    "X_test = X_test.to_numpy().reshape(-1, 83,1)"
   ]
  },
  {
   "cell_type": "markdown",
   "metadata": {
    "id": "QtpJ7yF8rFbA"
   },
   "source": [
    "## Model Training"
   ]
  },
  {
   "cell_type": "code",
   "execution_count": 24,
   "metadata": {
    "id": "b-kNcXOerIMy"
   },
   "outputs": [],
   "source": [
    "import numpy as np\n",
    "import tensorflow as tf\n",
    "from tensorflow.keras.models import Sequential, load_model\n",
    "from tensorflow.keras.layers import Dense,Dropout,LSTM,Embedding,SimpleRNN, GRU,Activation,Flatten\n",
    "from tensorflow.keras.layers import Conv1D,MaxPool1D, Flatten\n",
    "from tensorflow.keras.utils import plot_model\n",
    "from tensorflow.keras.preprocessing import sequence\n",
    "from sklearn.metrics import (precision_score, recall_score,confusion_matrix,f1_score, accuracy_score,mean_squared_error,mean_absolute_error)\n",
    "import pandas as pd\n",
    "from tensorflow.keras import callbacks\n",
    "from tensorflow.keras.callbacks import ModelCheckpoint, EarlyStopping, ReduceLROnPlateau, CSVLogger\n",
    "import matplotlib.pyplot as plt"
   ]
  },
  {
   "cell_type": "code",
   "execution_count": 25,
   "metadata": {
    "id": "NeiAXEkvq5Ei"
   },
   "outputs": [],
   "source": [
    "model_cnn = Sequential()\n",
    "model_cnn.add(Conv1D(64, 3, padding=\"same\",activation=\"relu\",input_shape=(83, 1)))\n",
    "model_cnn.add(Conv1D(64, 3, padding=\"same\", activation=\"relu\"))\n",
    "model_cnn.add(MaxPool1D(pool_size=(2)))\n",
    "model_cnn.add(Conv1D(128, 3, padding=\"same\", activation=\"relu\"))\n",
    "model_cnn.add(Conv1D(128, 3, padding=\"same\", activation=\"relu\"))\n",
    "model_cnn.add(MaxPool1D(pool_size=(2)))\n",
    "model_cnn.add(Flatten())\n",
    "model_cnn.add(Dense(128, activation=\"relu\"))\n",
    "model_cnn.add(Dropout(0.5))\n",
    "model_cnn.add(Dense(2, activation=\"sigmoid\"))"
   ]
  },
  {
   "cell_type": "code",
   "execution_count": 26,
   "metadata": {
    "colab": {
     "base_uri": "https://localhost:8080/",
     "height": 436
    },
    "id": "Z336GaS9rCnf",
    "outputId": "75604555-a5a8-4645-ae2b-bb30fdda435a"
   },
   "outputs": [
    {
     "name": "stdout",
     "output_type": "stream",
     "text": [
      "Epoch 1/1000\n",
      "38767/38767 [==============================] - 614s 15ms/step - loss: 0.0102 - accuracy: 0.9969 - val_loss: 0.0013 - val_accuracy: 0.9997\n",
      "Epoch 2/1000\n",
      "38767/38767 [==============================] - 231s 6ms/step - loss: 0.0028 - accuracy: 0.9993 - val_loss: 0.0018 - val_accuracy: 0.9996\n",
      "Epoch 3/1000\n",
      "38767/38767 [==============================] - 256s 7ms/step - loss: 0.0024 - accuracy: 0.9995 - val_loss: 9.4464e-04 - val_accuracy: 0.9998\n",
      "Epoch 4/1000\n",
      "38767/38767 [==============================] - 253s 7ms/step - loss: 0.0024 - accuracy: 0.9995 - val_loss: 0.0017 - val_accuracy: 0.9997\n",
      "Epoch 5/1000\n",
      "38767/38767 [==============================] - 255s 7ms/step - loss: 0.0024 - accuracy: 0.9996 - val_loss: 0.0015 - val_accuracy: 0.9998\n",
      "Epoch 6/1000\n",
      "38767/38767 [==============================] - 255s 7ms/step - loss: 0.0025 - accuracy: 0.9995 - val_loss: 0.0010 - val_accuracy: 0.9998\n",
      "Epoch 7/1000\n",
      "38767/38767 [==============================] - 254s 7ms/step - loss: 0.0027 - accuracy: 0.9995 - val_loss: 0.0021 - val_accuracy: 0.9998\n",
      "Epoch 8/1000\n",
      "38767/38767 [==============================] - 255s 7ms/step - loss: 0.0028 - accuracy: 0.9995 - val_loss: 0.0029 - val_accuracy: 0.9998\n"
     ]
    },
    {
     "ename": "NameError",
     "evalue": "name 'FOLDER' is not defined",
     "output_type": "error",
     "traceback": [
      "\u001b[1;31m---------------------------------------------------------------------------\u001b[0m",
      "\u001b[1;31mNameError\u001b[0m                                 Traceback (most recent call last)",
      "\u001b[1;32m<ipython-input-26-1f3e23afc147>\u001b[0m in \u001b[0;36m<module>\u001b[1;34m\u001b[0m\n\u001b[0;32m      4\u001b[0m \u001b[1;31m#FIT AND SAVE MODEL FOR FUTURE\u001b[0m\u001b[1;33m\u001b[0m\u001b[1;33m\u001b[0m\u001b[1;33m\u001b[0m\u001b[0m\n\u001b[0;32m      5\u001b[0m \u001b[0mmodel_cnn\u001b[0m\u001b[1;33m.\u001b[0m\u001b[0mfit\u001b[0m\u001b[1;33m(\u001b[0m\u001b[0mX_train\u001b[0m\u001b[1;33m,\u001b[0m \u001b[0my_train\u001b[0m\u001b[1;33m,\u001b[0m \u001b[0mepochs\u001b[0m\u001b[1;33m=\u001b[0m\u001b[1;36m1000\u001b[0m\u001b[1;33m,\u001b[0m\u001b[0mvalidation_data\u001b[0m\u001b[1;33m=\u001b[0m\u001b[1;33m(\u001b[0m\u001b[0mX_test\u001b[0m\u001b[1;33m,\u001b[0m \u001b[0my_test\u001b[0m\u001b[1;33m)\u001b[0m\u001b[1;33m,\u001b[0m\u001b[0mcallbacks\u001b[0m\u001b[1;33m=\u001b[0m\u001b[1;33m[\u001b[0m\u001b[0mes\u001b[0m\u001b[1;33m]\u001b[0m\u001b[1;33m)\u001b[0m\u001b[1;33m\u001b[0m\u001b[1;33m\u001b[0m\u001b[0m\n\u001b[1;32m----> 6\u001b[1;33m \u001b[0mmodel_cnn\u001b[0m\u001b[1;33m.\u001b[0m\u001b[0msave\u001b[0m\u001b[1;33m(\u001b[0m\u001b[0mFOLDER\u001b[0m\u001b[1;33m+\u001b[0m\u001b[1;34m\"binary_model.hdf5\"\u001b[0m\u001b[1;33m)\u001b[0m\u001b[1;33m\u001b[0m\u001b[1;33m\u001b[0m\u001b[0m\n\u001b[0m",
      "\u001b[1;31mNameError\u001b[0m: name 'FOLDER' is not defined"
     ]
    }
   ],
   "source": [
    "model_cnn.compile(loss=\"binary_crossentropy\", optimizer=\"adam\",metrics=['accuracy'])\n",
    "es = EarlyStopping(monitor='val_accuracy', mode='max', min_delta=0.0001,patience=5) ## early stoppoing\n",
    "\n",
    "#FIT AND SAVE MODEL FOR FUTURE\n",
    "model_cnn.fit(X_train, y_train, epochs=1000,validation_data=(X_test, y_test),callbacks=[es])\n",
    "model_cnn.save(FOLDER+\"binary_model.hdf5\")"
   ]
  },
  {
   "cell_type": "code",
   "execution_count": 27,
   "metadata": {},
   "outputs": [],
   "source": [
    "model_cnn.save(\"binary_model.hdf5\")"
   ]
  },
  {
   "cell_type": "code",
   "execution_count": null,
   "metadata": {},
   "outputs": [],
   "source": []
  }
 ],
 "metadata": {
  "accelerator": "GPU",
  "colab": {
   "provenance": []
  },
  "gpuClass": "standard",
  "kernelspec": {
   "display_name": "Python 3",
   "language": "python",
   "name": "python3"
  },
  "language_info": {
   "codemirror_mode": {
    "name": "ipython",
    "version": 3
   },
   "file_extension": ".py",
   "mimetype": "text/x-python",
   "name": "python",
   "nbconvert_exporter": "python",
   "pygments_lexer": "ipython3",
   "version": "3.8.8"
  }
 },
 "nbformat": 4,
 "nbformat_minor": 1
}
